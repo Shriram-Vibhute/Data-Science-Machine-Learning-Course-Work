{
 "cells": [
  {
   "cell_type": "markdown",
   "id": "569f41e4",
   "metadata": {
    "papermill": {
     "duration": 0.015672,
     "end_time": "2024-07-07T16:10:40.583426",
     "exception": false,
     "start_time": "2024-07-07T16:10:40.567754",
     "status": "completed"
    },
    "tags": []
   },
   "source": [
    "# **Polynomial Linear Regression**\n",
    "- Polynomial Regression is a form of regression analysis where the relationship between the independent variable 𝑋 and the dependent variable 𝑌 is 𝑛-th degree polynomial in 𝑋\n",
    "\n",
    "## Why Use Polynomial Regression?\n",
    "- Capturing Non-Linearity: Linear models may not adequately capture complex relationships in the data. Polynomial regression can model curves and bends in the data more accurately.\n",
    "\n",
    "- Flexibility: By increasing the degree of the polynomial, you can fit the model more closely to the data. However, higher degrees also risk overfitting (fitting noise in the data), so it's essential to balance model complexity."
   ]
  },
  {
   "cell_type": "markdown",
   "id": "4ac24025",
   "metadata": {
    "papermill": {
     "duration": 0.01456,
     "end_time": "2024-07-07T16:10:40.613263",
     "exception": false,
     "start_time": "2024-07-07T16:10:40.598703",
     "status": "completed"
    },
    "tags": []
   },
   "source": [
    "## Importing Required Libraries"
   ]
  },
  {
   "cell_type": "code",
   "execution_count": 2,
   "id": "759d865a",
   "metadata": {
    "execution": {
     "iopub.execute_input": "2024-07-07T16:10:40.646093Z",
     "iopub.status.busy": "2024-07-07T16:10:40.645678Z",
     "iopub.status.idle": "2024-07-07T16:10:44.418539Z",
     "shell.execute_reply": "2024-07-07T16:10:44.416949Z"
    },
    "papermill": {
     "duration": 3.792857,
     "end_time": "2024-07-07T16:10:44.421532",
     "exception": false,
     "start_time": "2024-07-07T16:10:40.628675",
     "status": "completed"
    },
    "tags": []
   },
   "outputs": [],
   "source": [
    "import numpy as np\n",
    "\n",
    "import matplotlib.pyplot as plt\n",
    "import plotly.express as px\n",
    "import plotly.graph_objects as go\n",
    "\n",
    "from sklearn.model_selection import train_test_split\n",
    "\n",
    "from sklearn.preprocessing import PolynomialFeatures # Dimentionality Increase\n",
    "\n",
    "from sklearn.linear_model import LinearRegression\n",
    "from sklearn.metrics import r2_score"
   ]
  },
  {
   "cell_type": "markdown",
   "id": "dd0758b2",
   "metadata": {
    "papermill": {
     "duration": 0.014675,
     "end_time": "2024-07-07T16:10:44.451372",
     "exception": false,
     "start_time": "2024-07-07T16:10:44.436697",
     "status": "completed"
    },
    "tags": []
   },
   "source": [
    "# **Simple Linear Regression**"
   ]
  },
  {
   "cell_type": "markdown",
   "id": "d55f105f",
   "metadata": {
    "papermill": {
     "duration": 0.018173,
     "end_time": "2024-07-07T16:10:44.484991",
     "exception": false,
     "start_time": "2024-07-07T16:10:44.466818",
     "status": "completed"
    },
    "tags": []
   },
   "source": [
    "## Generating Polynomial data"
   ]
  },
  {
   "cell_type": "code",
   "execution_count": 40,
   "id": "4896b5dc",
   "metadata": {
    "execution": {
     "iopub.execute_input": "2024-07-07T16:10:44.522834Z",
     "iopub.status.busy": "2024-07-07T16:10:44.522110Z",
     "iopub.status.idle": "2024-07-07T16:10:44.533302Z",
     "shell.execute_reply": "2024-07-07T16:10:44.531427Z"
    },
    "papermill": {
     "duration": 0.034209,
     "end_time": "2024-07-07T16:10:44.536924",
     "exception": false,
     "start_time": "2024-07-07T16:10:44.502715",
     "status": "completed"
    },
    "tags": []
   },
   "outputs": [],
   "source": [
    "# y = 0.6x^2 + 0.1x + 2.3 + Some Noise\n",
    "np.random.seed(2)\n",
    "X = 6 * np.random.randn(200) + 3\n",
    "y = (0.6*X**2) - (0.1*X) + 2.3 + np.random.randint(-50, 50, size = 200)"
   ]
  },
  {
   "cell_type": "markdown",
   "id": "ba65d7bb",
   "metadata": {
    "papermill": {
     "duration": 0.015706,
     "end_time": "2024-07-07T16:10:44.568128",
     "exception": false,
     "start_time": "2024-07-07T16:10:44.552422",
     "status": "completed"
    },
    "tags": []
   },
   "source": [
    "## Train Test Split"
   ]
  },
  {
   "cell_type": "code",
   "execution_count": 41,
   "id": "d1de6a4b",
   "metadata": {
    "execution": {
     "iopub.execute_input": "2024-07-07T16:10:44.600362Z",
     "iopub.status.busy": "2024-07-07T16:10:44.599803Z",
     "iopub.status.idle": "2024-07-07T16:10:44.610267Z",
     "shell.execute_reply": "2024-07-07T16:10:44.608925Z"
    },
    "papermill": {
     "duration": 0.029885,
     "end_time": "2024-07-07T16:10:44.613203",
     "exception": false,
     "start_time": "2024-07-07T16:10:44.583318",
     "status": "completed"
    },
    "tags": []
   },
   "outputs": [],
   "source": [
    "X_train, X_test, y_train, y_test = train_test_split(X, y, test_size = 0.2, random_state = 42)"
   ]
  },
  {
   "cell_type": "code",
   "execution_count": 5,
   "id": "98b14744",
   "metadata": {
    "execution": {
     "iopub.execute_input": "2024-07-07T16:10:44.645834Z",
     "iopub.status.busy": "2024-07-07T16:10:44.645442Z",
     "iopub.status.idle": "2024-07-07T16:10:44.650867Z",
     "shell.execute_reply": "2024-07-07T16:10:44.649628Z"
    },
    "papermill": {
     "duration": 0.024911,
     "end_time": "2024-07-07T16:10:44.653499",
     "exception": false,
     "start_time": "2024-07-07T16:10:44.628588",
     "status": "completed"
    },
    "tags": []
   },
   "outputs": [],
   "source": [
    "lr = LinearRegression()"
   ]
  },
  {
   "cell_type": "code",
   "execution_count": 6,
   "id": "bf9efe93",
   "metadata": {
    "execution": {
     "iopub.execute_input": "2024-07-07T16:10:44.685977Z",
     "iopub.status.busy": "2024-07-07T16:10:44.685516Z",
     "iopub.status.idle": "2024-07-07T16:10:44.713519Z",
     "shell.execute_reply": "2024-07-07T16:10:44.712315Z"
    },
    "papermill": {
     "duration": 0.047756,
     "end_time": "2024-07-07T16:10:44.716402",
     "exception": false,
     "start_time": "2024-07-07T16:10:44.668646",
     "status": "completed"
    },
    "tags": []
   },
   "outputs": [
    {
     "data": {
      "text/html": [
       "<style>#sk-container-id-1 {\n",
       "  /* Definition of color scheme common for light and dark mode */\n",
       "  --sklearn-color-text: black;\n",
       "  --sklearn-color-line: gray;\n",
       "  /* Definition of color scheme for unfitted estimators */\n",
       "  --sklearn-color-unfitted-level-0: #fff5e6;\n",
       "  --sklearn-color-unfitted-level-1: #f6e4d2;\n",
       "  --sklearn-color-unfitted-level-2: #ffe0b3;\n",
       "  --sklearn-color-unfitted-level-3: chocolate;\n",
       "  /* Definition of color scheme for fitted estimators */\n",
       "  --sklearn-color-fitted-level-0: #f0f8ff;\n",
       "  --sklearn-color-fitted-level-1: #d4ebff;\n",
       "  --sklearn-color-fitted-level-2: #b3dbfd;\n",
       "  --sklearn-color-fitted-level-3: cornflowerblue;\n",
       "\n",
       "  /* Specific color for light theme */\n",
       "  --sklearn-color-text-on-default-background: var(--sg-text-color, var(--theme-code-foreground, var(--jp-content-font-color1, black)));\n",
       "  --sklearn-color-background: var(--sg-background-color, var(--theme-background, var(--jp-layout-color0, white)));\n",
       "  --sklearn-color-border-box: var(--sg-text-color, var(--theme-code-foreground, var(--jp-content-font-color1, black)));\n",
       "  --sklearn-color-icon: #696969;\n",
       "\n",
       "  @media (prefers-color-scheme: dark) {\n",
       "    /* Redefinition of color scheme for dark theme */\n",
       "    --sklearn-color-text-on-default-background: var(--sg-text-color, var(--theme-code-foreground, var(--jp-content-font-color1, white)));\n",
       "    --sklearn-color-background: var(--sg-background-color, var(--theme-background, var(--jp-layout-color0, #111)));\n",
       "    --sklearn-color-border-box: var(--sg-text-color, var(--theme-code-foreground, var(--jp-content-font-color1, white)));\n",
       "    --sklearn-color-icon: #878787;\n",
       "  }\n",
       "}\n",
       "\n",
       "#sk-container-id-1 {\n",
       "  color: var(--sklearn-color-text);\n",
       "}\n",
       "\n",
       "#sk-container-id-1 pre {\n",
       "  padding: 0;\n",
       "}\n",
       "\n",
       "#sk-container-id-1 input.sk-hidden--visually {\n",
       "  border: 0;\n",
       "  clip: rect(1px 1px 1px 1px);\n",
       "  clip: rect(1px, 1px, 1px, 1px);\n",
       "  height: 1px;\n",
       "  margin: -1px;\n",
       "  overflow: hidden;\n",
       "  padding: 0;\n",
       "  position: absolute;\n",
       "  width: 1px;\n",
       "}\n",
       "\n",
       "#sk-container-id-1 div.sk-dashed-wrapped {\n",
       "  border: 1px dashed var(--sklearn-color-line);\n",
       "  margin: 0 0.4em 0.5em 0.4em;\n",
       "  box-sizing: border-box;\n",
       "  padding-bottom: 0.4em;\n",
       "  background-color: var(--sklearn-color-background);\n",
       "}\n",
       "\n",
       "#sk-container-id-1 div.sk-container {\n",
       "  /* jupyter's `normalize.less` sets `[hidden] { display: none; }`\n",
       "     but bootstrap.min.css set `[hidden] { display: none !important; }`\n",
       "     so we also need the `!important` here to be able to override the\n",
       "     default hidden behavior on the sphinx rendered scikit-learn.org.\n",
       "     See: https://github.com/scikit-learn/scikit-learn/issues/21755 */\n",
       "  display: inline-block !important;\n",
       "  position: relative;\n",
       "}\n",
       "\n",
       "#sk-container-id-1 div.sk-text-repr-fallback {\n",
       "  display: none;\n",
       "}\n",
       "\n",
       "div.sk-parallel-item,\n",
       "div.sk-serial,\n",
       "div.sk-item {\n",
       "  /* draw centered vertical line to link estimators */\n",
       "  background-image: linear-gradient(var(--sklearn-color-text-on-default-background), var(--sklearn-color-text-on-default-background));\n",
       "  background-size: 2px 100%;\n",
       "  background-repeat: no-repeat;\n",
       "  background-position: center center;\n",
       "}\n",
       "\n",
       "/* Parallel-specific style estimator block */\n",
       "\n",
       "#sk-container-id-1 div.sk-parallel-item::after {\n",
       "  content: \"\";\n",
       "  width: 100%;\n",
       "  border-bottom: 2px solid var(--sklearn-color-text-on-default-background);\n",
       "  flex-grow: 1;\n",
       "}\n",
       "\n",
       "#sk-container-id-1 div.sk-parallel {\n",
       "  display: flex;\n",
       "  align-items: stretch;\n",
       "  justify-content: center;\n",
       "  background-color: var(--sklearn-color-background);\n",
       "  position: relative;\n",
       "}\n",
       "\n",
       "#sk-container-id-1 div.sk-parallel-item {\n",
       "  display: flex;\n",
       "  flex-direction: column;\n",
       "}\n",
       "\n",
       "#sk-container-id-1 div.sk-parallel-item:first-child::after {\n",
       "  align-self: flex-end;\n",
       "  width: 50%;\n",
       "}\n",
       "\n",
       "#sk-container-id-1 div.sk-parallel-item:last-child::after {\n",
       "  align-self: flex-start;\n",
       "  width: 50%;\n",
       "}\n",
       "\n",
       "#sk-container-id-1 div.sk-parallel-item:only-child::after {\n",
       "  width: 0;\n",
       "}\n",
       "\n",
       "/* Serial-specific style estimator block */\n",
       "\n",
       "#sk-container-id-1 div.sk-serial {\n",
       "  display: flex;\n",
       "  flex-direction: column;\n",
       "  align-items: center;\n",
       "  background-color: var(--sklearn-color-background);\n",
       "  padding-right: 1em;\n",
       "  padding-left: 1em;\n",
       "}\n",
       "\n",
       "\n",
       "/* Toggleable style: style used for estimator/Pipeline/ColumnTransformer box that is\n",
       "clickable and can be expanded/collapsed.\n",
       "- Pipeline and ColumnTransformer use this feature and define the default style\n",
       "- Estimators will overwrite some part of the style using the `sk-estimator` class\n",
       "*/\n",
       "\n",
       "/* Pipeline and ColumnTransformer style (default) */\n",
       "\n",
       "#sk-container-id-1 div.sk-toggleable {\n",
       "  /* Default theme specific background. It is overwritten whether we have a\n",
       "  specific estimator or a Pipeline/ColumnTransformer */\n",
       "  background-color: var(--sklearn-color-background);\n",
       "}\n",
       "\n",
       "/* Toggleable label */\n",
       "#sk-container-id-1 label.sk-toggleable__label {\n",
       "  cursor: pointer;\n",
       "  display: block;\n",
       "  width: 100%;\n",
       "  margin-bottom: 0;\n",
       "  padding: 0.5em;\n",
       "  box-sizing: border-box;\n",
       "  text-align: center;\n",
       "}\n",
       "\n",
       "#sk-container-id-1 label.sk-toggleable__label-arrow:before {\n",
       "  /* Arrow on the left of the label */\n",
       "  content: \"▸\";\n",
       "  float: left;\n",
       "  margin-right: 0.25em;\n",
       "  color: var(--sklearn-color-icon);\n",
       "}\n",
       "\n",
       "#sk-container-id-1 label.sk-toggleable__label-arrow:hover:before {\n",
       "  color: var(--sklearn-color-text);\n",
       "}\n",
       "\n",
       "/* Toggleable content - dropdown */\n",
       "\n",
       "#sk-container-id-1 div.sk-toggleable__content {\n",
       "  max-height: 0;\n",
       "  max-width: 0;\n",
       "  overflow: hidden;\n",
       "  text-align: left;\n",
       "  /* unfitted */\n",
       "  background-color: var(--sklearn-color-unfitted-level-0);\n",
       "}\n",
       "\n",
       "#sk-container-id-1 div.sk-toggleable__content.fitted {\n",
       "  /* fitted */\n",
       "  background-color: var(--sklearn-color-fitted-level-0);\n",
       "}\n",
       "\n",
       "#sk-container-id-1 div.sk-toggleable__content pre {\n",
       "  margin: 0.2em;\n",
       "  border-radius: 0.25em;\n",
       "  color: var(--sklearn-color-text);\n",
       "  /* unfitted */\n",
       "  background-color: var(--sklearn-color-unfitted-level-0);\n",
       "}\n",
       "\n",
       "#sk-container-id-1 div.sk-toggleable__content.fitted pre {\n",
       "  /* unfitted */\n",
       "  background-color: var(--sklearn-color-fitted-level-0);\n",
       "}\n",
       "\n",
       "#sk-container-id-1 input.sk-toggleable__control:checked~div.sk-toggleable__content {\n",
       "  /* Expand drop-down */\n",
       "  max-height: 200px;\n",
       "  max-width: 100%;\n",
       "  overflow: auto;\n",
       "}\n",
       "\n",
       "#sk-container-id-1 input.sk-toggleable__control:checked~label.sk-toggleable__label-arrow:before {\n",
       "  content: \"▾\";\n",
       "}\n",
       "\n",
       "/* Pipeline/ColumnTransformer-specific style */\n",
       "\n",
       "#sk-container-id-1 div.sk-label input.sk-toggleable__control:checked~label.sk-toggleable__label {\n",
       "  color: var(--sklearn-color-text);\n",
       "  background-color: var(--sklearn-color-unfitted-level-2);\n",
       "}\n",
       "\n",
       "#sk-container-id-1 div.sk-label.fitted input.sk-toggleable__control:checked~label.sk-toggleable__label {\n",
       "  background-color: var(--sklearn-color-fitted-level-2);\n",
       "}\n",
       "\n",
       "/* Estimator-specific style */\n",
       "\n",
       "/* Colorize estimator box */\n",
       "#sk-container-id-1 div.sk-estimator input.sk-toggleable__control:checked~label.sk-toggleable__label {\n",
       "  /* unfitted */\n",
       "  background-color: var(--sklearn-color-unfitted-level-2);\n",
       "}\n",
       "\n",
       "#sk-container-id-1 div.sk-estimator.fitted input.sk-toggleable__control:checked~label.sk-toggleable__label {\n",
       "  /* fitted */\n",
       "  background-color: var(--sklearn-color-fitted-level-2);\n",
       "}\n",
       "\n",
       "#sk-container-id-1 div.sk-label label.sk-toggleable__label,\n",
       "#sk-container-id-1 div.sk-label label {\n",
       "  /* The background is the default theme color */\n",
       "  color: var(--sklearn-color-text-on-default-background);\n",
       "}\n",
       "\n",
       "/* On hover, darken the color of the background */\n",
       "#sk-container-id-1 div.sk-label:hover label.sk-toggleable__label {\n",
       "  color: var(--sklearn-color-text);\n",
       "  background-color: var(--sklearn-color-unfitted-level-2);\n",
       "}\n",
       "\n",
       "/* Label box, darken color on hover, fitted */\n",
       "#sk-container-id-1 div.sk-label.fitted:hover label.sk-toggleable__label.fitted {\n",
       "  color: var(--sklearn-color-text);\n",
       "  background-color: var(--sklearn-color-fitted-level-2);\n",
       "}\n",
       "\n",
       "/* Estimator label */\n",
       "\n",
       "#sk-container-id-1 div.sk-label label {\n",
       "  font-family: monospace;\n",
       "  font-weight: bold;\n",
       "  display: inline-block;\n",
       "  line-height: 1.2em;\n",
       "}\n",
       "\n",
       "#sk-container-id-1 div.sk-label-container {\n",
       "  text-align: center;\n",
       "}\n",
       "\n",
       "/* Estimator-specific */\n",
       "#sk-container-id-1 div.sk-estimator {\n",
       "  font-family: monospace;\n",
       "  border: 1px dotted var(--sklearn-color-border-box);\n",
       "  border-radius: 0.25em;\n",
       "  box-sizing: border-box;\n",
       "  margin-bottom: 0.5em;\n",
       "  /* unfitted */\n",
       "  background-color: var(--sklearn-color-unfitted-level-0);\n",
       "}\n",
       "\n",
       "#sk-container-id-1 div.sk-estimator.fitted {\n",
       "  /* fitted */\n",
       "  background-color: var(--sklearn-color-fitted-level-0);\n",
       "}\n",
       "\n",
       "/* on hover */\n",
       "#sk-container-id-1 div.sk-estimator:hover {\n",
       "  /* unfitted */\n",
       "  background-color: var(--sklearn-color-unfitted-level-2);\n",
       "}\n",
       "\n",
       "#sk-container-id-1 div.sk-estimator.fitted:hover {\n",
       "  /* fitted */\n",
       "  background-color: var(--sklearn-color-fitted-level-2);\n",
       "}\n",
       "\n",
       "/* Specification for estimator info (e.g. \"i\" and \"?\") */\n",
       "\n",
       "/* Common style for \"i\" and \"?\" */\n",
       "\n",
       ".sk-estimator-doc-link,\n",
       "a:link.sk-estimator-doc-link,\n",
       "a:visited.sk-estimator-doc-link {\n",
       "  float: right;\n",
       "  font-size: smaller;\n",
       "  line-height: 1em;\n",
       "  font-family: monospace;\n",
       "  background-color: var(--sklearn-color-background);\n",
       "  border-radius: 1em;\n",
       "  height: 1em;\n",
       "  width: 1em;\n",
       "  text-decoration: none !important;\n",
       "  margin-left: 1ex;\n",
       "  /* unfitted */\n",
       "  border: var(--sklearn-color-unfitted-level-1) 1pt solid;\n",
       "  color: var(--sklearn-color-unfitted-level-1);\n",
       "}\n",
       "\n",
       ".sk-estimator-doc-link.fitted,\n",
       "a:link.sk-estimator-doc-link.fitted,\n",
       "a:visited.sk-estimator-doc-link.fitted {\n",
       "  /* fitted */\n",
       "  border: var(--sklearn-color-fitted-level-1) 1pt solid;\n",
       "  color: var(--sklearn-color-fitted-level-1);\n",
       "}\n",
       "\n",
       "/* On hover */\n",
       "div.sk-estimator:hover .sk-estimator-doc-link:hover,\n",
       ".sk-estimator-doc-link:hover,\n",
       "div.sk-label-container:hover .sk-estimator-doc-link:hover,\n",
       ".sk-estimator-doc-link:hover {\n",
       "  /* unfitted */\n",
       "  background-color: var(--sklearn-color-unfitted-level-3);\n",
       "  color: var(--sklearn-color-background);\n",
       "  text-decoration: none;\n",
       "}\n",
       "\n",
       "div.sk-estimator.fitted:hover .sk-estimator-doc-link.fitted:hover,\n",
       ".sk-estimator-doc-link.fitted:hover,\n",
       "div.sk-label-container:hover .sk-estimator-doc-link.fitted:hover,\n",
       ".sk-estimator-doc-link.fitted:hover {\n",
       "  /* fitted */\n",
       "  background-color: var(--sklearn-color-fitted-level-3);\n",
       "  color: var(--sklearn-color-background);\n",
       "  text-decoration: none;\n",
       "}\n",
       "\n",
       "/* Span, style for the box shown on hovering the info icon */\n",
       ".sk-estimator-doc-link span {\n",
       "  display: none;\n",
       "  z-index: 9999;\n",
       "  position: relative;\n",
       "  font-weight: normal;\n",
       "  right: .2ex;\n",
       "  padding: .5ex;\n",
       "  margin: .5ex;\n",
       "  width: min-content;\n",
       "  min-width: 20ex;\n",
       "  max-width: 50ex;\n",
       "  color: var(--sklearn-color-text);\n",
       "  box-shadow: 2pt 2pt 4pt #999;\n",
       "  /* unfitted */\n",
       "  background: var(--sklearn-color-unfitted-level-0);\n",
       "  border: .5pt solid var(--sklearn-color-unfitted-level-3);\n",
       "}\n",
       "\n",
       ".sk-estimator-doc-link.fitted span {\n",
       "  /* fitted */\n",
       "  background: var(--sklearn-color-fitted-level-0);\n",
       "  border: var(--sklearn-color-fitted-level-3);\n",
       "}\n",
       "\n",
       ".sk-estimator-doc-link:hover span {\n",
       "  display: block;\n",
       "}\n",
       "\n",
       "/* \"?\"-specific style due to the `<a>` HTML tag */\n",
       "\n",
       "#sk-container-id-1 a.estimator_doc_link {\n",
       "  float: right;\n",
       "  font-size: 1rem;\n",
       "  line-height: 1em;\n",
       "  font-family: monospace;\n",
       "  background-color: var(--sklearn-color-background);\n",
       "  border-radius: 1rem;\n",
       "  height: 1rem;\n",
       "  width: 1rem;\n",
       "  text-decoration: none;\n",
       "  /* unfitted */\n",
       "  color: var(--sklearn-color-unfitted-level-1);\n",
       "  border: var(--sklearn-color-unfitted-level-1) 1pt solid;\n",
       "}\n",
       "\n",
       "#sk-container-id-1 a.estimator_doc_link.fitted {\n",
       "  /* fitted */\n",
       "  border: var(--sklearn-color-fitted-level-1) 1pt solid;\n",
       "  color: var(--sklearn-color-fitted-level-1);\n",
       "}\n",
       "\n",
       "/* On hover */\n",
       "#sk-container-id-1 a.estimator_doc_link:hover {\n",
       "  /* unfitted */\n",
       "  background-color: var(--sklearn-color-unfitted-level-3);\n",
       "  color: var(--sklearn-color-background);\n",
       "  text-decoration: none;\n",
       "}\n",
       "\n",
       "#sk-container-id-1 a.estimator_doc_link.fitted:hover {\n",
       "  /* fitted */\n",
       "  background-color: var(--sklearn-color-fitted-level-3);\n",
       "}\n",
       "</style><div id=\"sk-container-id-1\" class=\"sk-top-container\"><div class=\"sk-text-repr-fallback\"><pre>LinearRegression()</pre><b>In a Jupyter environment, please rerun this cell to show the HTML representation or trust the notebook. <br />On GitHub, the HTML representation is unable to render, please try loading this page with nbviewer.org.</b></div><div class=\"sk-container\" hidden><div class=\"sk-item\"><div class=\"sk-estimator fitted sk-toggleable\"><input class=\"sk-toggleable__control sk-hidden--visually\" id=\"sk-estimator-id-1\" type=\"checkbox\" checked><label for=\"sk-estimator-id-1\" class=\"sk-toggleable__label fitted sk-toggleable__label-arrow fitted\">&nbsp;&nbsp;LinearRegression<a class=\"sk-estimator-doc-link fitted\" rel=\"noreferrer\" target=\"_blank\" href=\"https://scikit-learn.org/1.4/modules/generated/sklearn.linear_model.LinearRegression.html\">?<span>Documentation for LinearRegression</span></a><span class=\"sk-estimator-doc-link fitted\">i<span>Fitted</span></span></label><div class=\"sk-toggleable__content fitted\"><pre>LinearRegression()</pre></div> </div></div></div></div>"
      ],
      "text/plain": [
       "LinearRegression()"
      ]
     },
     "execution_count": 6,
     "metadata": {},
     "output_type": "execute_result"
    }
   ],
   "source": [
    "lr.fit(X_train.reshape(-1, 1), y_train)"
   ]
  },
  {
   "cell_type": "markdown",
   "id": "21b48bb0",
   "metadata": {
    "papermill": {
     "duration": 0.016335,
     "end_time": "2024-07-07T16:10:44.748488",
     "exception": false,
     "start_time": "2024-07-07T16:10:44.732153",
     "status": "completed"
    },
    "tags": []
   },
   "source": [
    "## Slope and Intercept"
   ]
  },
  {
   "cell_type": "code",
   "execution_count": 7,
   "id": "eacaa15a",
   "metadata": {
    "execution": {
     "iopub.execute_input": "2024-07-07T16:10:44.782162Z",
     "iopub.status.busy": "2024-07-07T16:10:44.781697Z",
     "iopub.status.idle": "2024-07-07T16:10:44.789206Z",
     "shell.execute_reply": "2024-07-07T16:10:44.787621Z"
    },
    "papermill": {
     "duration": 0.028902,
     "end_time": "2024-07-07T16:10:44.793271",
     "exception": false,
     "start_time": "2024-07-07T16:10:44.764369",
     "status": "completed"
    },
    "tags": []
   },
   "outputs": [
    {
     "name": "stdout",
     "output_type": "stream",
     "text": [
      "[4.75979249] 19.658276932076884\n"
     ]
    }
   ],
   "source": [
    "print(lr.coef_, lr.intercept_)"
   ]
  },
  {
   "cell_type": "markdown",
   "id": "695d3c78",
   "metadata": {
    "papermill": {
     "duration": 0.015667,
     "end_time": "2024-07-07T16:10:44.826071",
     "exception": false,
     "start_time": "2024-07-07T16:10:44.810404",
     "status": "completed"
    },
    "tags": []
   },
   "source": [
    "## Plotting Scatter Plot"
   ]
  },
  {
   "cell_type": "code",
   "execution_count": 8,
   "id": "4d49fe8f",
   "metadata": {
    "execution": {
     "iopub.execute_input": "2024-07-07T16:10:44.860486Z",
     "iopub.status.busy": "2024-07-07T16:10:44.860029Z",
     "iopub.status.idle": "2024-07-07T16:10:45.304281Z",
     "shell.execute_reply": "2024-07-07T16:10:45.302296Z"
    },
    "papermill": {
     "duration": 0.466326,
     "end_time": "2024-07-07T16:10:45.307770",
     "exception": false,
     "start_time": "2024-07-07T16:10:44.841444",
     "status": "completed"
    },
    "tags": []
   },
   "outputs": [
    {
     "data": {
      "image/png": "[encoded data removed]",
      "text/plain": [
       "<Figure size 640x480 with 1 Axes>"
      ]
     },
     "metadata": {},
     "output_type": "display_data"
    }
   ],
   "source": [
    "plt.scatter(X_train, y_train, alpha = 0.6)\n",
    "plt.scatter(X_test, y_test, alpha = 0.6)\n",
    "plt.xlabel('x')\n",
    "plt.ylabel('y')\n",
    "plt.legend(['Training data', 'Testing data'])\n",
    "plt.show()"
   ]
  },
  {
   "cell_type": "markdown",
   "id": "71e9a456",
   "metadata": {
    "papermill": {
     "duration": 0.0241,
     "end_time": "2024-07-07T16:10:45.357654",
     "exception": false,
     "start_time": "2024-07-07T16:10:45.333554",
     "status": "completed"
    },
    "tags": []
   },
   "source": [
    "## Model Prediction and r2_score"
   ]
  },
  {
   "cell_type": "code",
   "execution_count": 9,
   "id": "4a45ff02",
   "metadata": {
    "execution": {
     "iopub.execute_input": "2024-07-07T16:10:45.394820Z",
     "iopub.status.busy": "2024-07-07T16:10:45.394408Z",
     "iopub.status.idle": "2024-07-07T16:10:45.400812Z",
     "shell.execute_reply": "2024-07-07T16:10:45.399521Z"
    },
    "papermill": {
     "duration": 0.028769,
     "end_time": "2024-07-07T16:10:45.403736",
     "exception": false,
     "start_time": "2024-07-07T16:10:45.374967",
     "status": "completed"
    },
    "tags": []
   },
   "outputs": [],
   "source": [
    "y_pred = lr.predict(X_test.reshape(-1, 1))"
   ]
  },
  {
   "cell_type": "code",
   "execution_count": 10,
   "id": "6e94b1c5",
   "metadata": {
    "execution": {
     "iopub.execute_input": "2024-07-07T16:10:45.447130Z",
     "iopub.status.busy": "2024-07-07T16:10:45.446690Z",
     "iopub.status.idle": "2024-07-07T16:10:45.455450Z",
     "shell.execute_reply": "2024-07-07T16:10:45.454176Z"
    },
    "papermill": {
     "duration": 0.036885,
     "end_time": "2024-07-07T16:10:45.458140",
     "exception": false,
     "start_time": "2024-07-07T16:10:45.421255",
     "status": "completed"
    },
    "tags": []
   },
   "outputs": [
    {
     "data": {
      "text/plain": [
       "0.2577903973559794"
      ]
     },
     "execution_count": 10,
     "metadata": {},
     "output_type": "execute_result"
    }
   ],
   "source": [
    "r2_score(y_test, y_pred)"
   ]
  },
  {
   "cell_type": "markdown",
   "id": "0037460c",
   "metadata": {
    "papermill": {
     "duration": 0.017905,
     "end_time": "2024-07-07T16:10:45.492719",
     "exception": false,
     "start_time": "2024-07-07T16:10:45.474814",
     "status": "completed"
    },
    "tags": []
   },
   "source": [
    "## Plotting Best Fit Line"
   ]
  },
  {
   "cell_type": "code",
   "execution_count": 11,
   "id": "20b8b471",
   "metadata": {
    "execution": {
     "iopub.execute_input": "2024-07-07T16:10:45.532389Z",
     "iopub.status.busy": "2024-07-07T16:10:45.531114Z",
     "iopub.status.idle": "2024-07-07T16:10:45.887294Z",
     "shell.execute_reply": "2024-07-07T16:10:45.885620Z"
    },
    "papermill": {
     "duration": 0.377439,
     "end_time": "2024-07-07T16:10:45.890168",
     "exception": false,
     "start_time": "2024-07-07T16:10:45.512729",
     "status": "completed"
    },
    "tags": []
   },
   "outputs": [
    {
     "data": {
      "image/png": "[encoded data removed]",
      "text/plain": [
       "<Figure size 640x480 with 1 Axes>"
      ]
     },
     "metadata": {},
     "output_type": "display_data"
    }
   ],
   "source": [
    "plt.scatter(X_train, y_train, alpha = 0.5)\n",
    "plt.scatter(X_test, y_test, alpha = 0.6)\n",
    "plt.plot(X, lr.predict(X.reshape(-1, 1)), color = 'red')\n",
    "plt.xlabel('x')\n",
    "plt.ylabel('y')\n",
    "plt.legend(['Training data', 'Testing data' , 'Best Fit Line'])\n",
    "plt.show()"
   ]
  },
  {
   "cell_type": "markdown",
   "id": "5dd66eb9",
   "metadata": {
    "papermill": {
     "duration": 0.019176,
     "end_time": "2024-07-07T16:10:45.926933",
     "exception": false,
     "start_time": "2024-07-07T16:10:45.907757",
     "status": "completed"
    },
    "tags": []
   },
   "source": [
    "As you observe the behavour of best fit line only following the linear relationship, since there are no any higher degree variables"
   ]
  },
  {
   "cell_type": "markdown",
   "id": "654ccab6",
   "metadata": {
    "papermill": {
     "duration": 0.017284,
     "end_time": "2024-07-07T16:10:45.962593",
     "exception": false,
     "start_time": "2024-07-07T16:10:45.945309",
     "status": "completed"
    },
    "tags": []
   },
   "source": [
    "# **Simple Polynomial Linear Regression**\n",
    "## Feature Transformation\n",
    "- PolynomialFeatures() used to transforma the data into its degrees (x^0, x^2, x^2...)"
   ]
  },
  {
   "cell_type": "code",
   "execution_count": 12,
   "id": "654bb1a6",
   "metadata": {
    "execution": {
     "iopub.execute_input": "2024-07-07T16:10:46.001508Z",
     "iopub.status.busy": "2024-07-07T16:10:46.000154Z",
     "iopub.status.idle": "2024-07-07T16:10:46.007925Z",
     "shell.execute_reply": "2024-07-07T16:10:46.006677Z"
    },
    "papermill": {
     "duration": 0.030081,
     "end_time": "2024-07-07T16:10:46.010949",
     "exception": false,
     "start_time": "2024-07-07T16:10:45.980868",
     "status": "completed"
    },
    "tags": []
   },
   "outputs": [],
   "source": [
    "poly = PolynomialFeatures(degree = 4)\n",
    "x_train_trans = poly.fit_transform(X_train.reshape(-1, 1))\n",
    "x_test_trans = poly.transform(X_test.reshape(-1, 1))"
   ]
  },
  {
   "cell_type": "code",
   "execution_count": 13,
   "id": "139326a2",
   "metadata": {
    "execution": {
     "iopub.execute_input": "2024-07-07T16:10:46.047442Z",
     "iopub.status.busy": "2024-07-07T16:10:46.046998Z",
     "iopub.status.idle": "2024-07-07T16:10:46.056707Z",
     "shell.execute_reply": "2024-07-07T16:10:46.054846Z"
    },
    "papermill": {
     "duration": 0.032195,
     "end_time": "2024-07-07T16:10:46.060373",
     "exception": false,
     "start_time": "2024-07-07T16:10:46.028178",
     "status": "completed"
    },
    "tags": []
   },
   "outputs": [
    {
     "data": {
      "text/plain": [
       "array([[ 1.00000000e+00, -9.20079928e+00,  8.46547073e+01,\n",
       "        -7.78890970e+02,  7.16641947e+03],\n",
       "       [ 1.00000000e+00,  6.31898564e+00,  3.99295796e+01,\n",
       "         2.52314440e+02,  1.59437133e+03],\n",
       "       [ 1.00000000e+00,  3.00005857e+00,  9.00035142e+00,\n",
       "         2.70015814e+01,  8.10063256e+01],\n",
       "       [ 1.00000000e+00,  9.67068204e-01,  9.35220911e-01,\n",
       "         9.04422406e-01,  8.74638152e-01],\n",
       "       [ 1.00000000e+00,  1.05851958e+00,  1.12046370e+00,\n",
       "         1.18603276e+00,  1.25543890e+00]])"
      ]
     },
     "execution_count": 13,
     "metadata": {},
     "output_type": "execute_result"
    }
   ],
   "source": [
    "x_train_trans[:5]\n",
    "# 1st column : x^0\n",
    "# 2nd column : x^1\n",
    "# 3nd column : x^2"
   ]
  },
  {
   "cell_type": "code",
   "execution_count": 14,
   "id": "096fac1b",
   "metadata": {
    "execution": {
     "iopub.execute_input": "2024-07-07T16:10:46.169733Z",
     "iopub.status.busy": "2024-07-07T16:10:46.168749Z",
     "iopub.status.idle": "2024-07-07T16:10:46.174255Z",
     "shell.execute_reply": "2024-07-07T16:10:46.172971Z"
    },
    "papermill": {
     "duration": 0.027288,
     "end_time": "2024-07-07T16:10:46.176787",
     "exception": false,
     "start_time": "2024-07-07T16:10:46.149499",
     "status": "completed"
    },
    "tags": []
   },
   "outputs": [],
   "source": [
    "poly_lr = LinearRegression()"
   ]
  },
  {
   "cell_type": "code",
   "execution_count": 15,
   "id": "6eb112f1",
   "metadata": {
    "execution": {
     "iopub.execute_input": "2024-07-07T16:10:46.213869Z",
     "iopub.status.busy": "2024-07-07T16:10:46.213417Z",
     "iopub.status.idle": "2024-07-07T16:10:46.233816Z",
     "shell.execute_reply": "2024-07-07T16:10:46.232440Z"
    },
    "papermill": {
     "duration": 0.042347,
     "end_time": "2024-07-07T16:10:46.236650",
     "exception": false,
     "start_time": "2024-07-07T16:10:46.194303",
     "status": "completed"
    },
    "tags": []
   },
   "outputs": [
    {
     "data": {
      "text/html": [
       "<style>#sk-container-id-2 {\n",
       "  /* Definition of color scheme common for light and dark mode */\n",
       "  --sklearn-color-text: black;\n",
       "  --sklearn-color-line: gray;\n",
       "  /* Definition of color scheme for unfitted estimators */\n",
       "  --sklearn-color-unfitted-level-0: #fff5e6;\n",
       "  --sklearn-color-unfitted-level-1: #f6e4d2;\n",
       "  --sklearn-color-unfitted-level-2: #ffe0b3;\n",
       "  --sklearn-color-unfitted-level-3: chocolate;\n",
       "  /* Definition of color scheme for fitted estimators */\n",
       "  --sklearn-color-fitted-level-0: #f0f8ff;\n",
       "  --sklearn-color-fitted-level-1: #d4ebff;\n",
       "  --sklearn-color-fitted-level-2: #b3dbfd;\n",
       "  --sklearn-color-fitted-level-3: cornflowerblue;\n",
       "\n",
       "  /* Specific color for light theme */\n",
       "  --sklearn-color-text-on-default-background: var(--sg-text-color, var(--theme-code-foreground, var(--jp-content-font-color1, black)));\n",
       "  --sklearn-color-background: var(--sg-background-color, var(--theme-background, var(--jp-layout-color0, white)));\n",
       "  --sklearn-color-border-box: var(--sg-text-color, var(--theme-code-foreground, var(--jp-content-font-color1, black)));\n",
       "  --sklearn-color-icon: #696969;\n",
       "\n",
       "  @media (prefers-color-scheme: dark) {\n",
       "    /* Redefinition of color scheme for dark theme */\n",
       "    --sklearn-color-text-on-default-background: var(--sg-text-color, var(--theme-code-foreground, var(--jp-content-font-color1, white)));\n",
       "    --sklearn-color-background: var(--sg-background-color, var(--theme-background, var(--jp-layout-color0, #111)));\n",
       "    --sklearn-color-border-box: var(--sg-text-color, var(--theme-code-foreground, var(--jp-content-font-color1, white)));\n",
       "    --sklearn-color-icon: #878787;\n",
       "  }\n",
       "}\n",
       "\n",
       "#sk-container-id-2 {\n",
       "  color: var(--sklearn-color-text);\n",
       "}\n",
       "\n",
       "#sk-container-id-2 pre {\n",
       "  padding: 0;\n",
       "}\n",
       "\n",
       "#sk-container-id-2 input.sk-hidden--visually {\n",
       "  border: 0;\n",
       "  clip: rect(1px 1px 1px 1px);\n",
       "  clip: rect(1px, 1px, 1px, 1px);\n",
       "  height: 1px;\n",
       "  margin: -1px;\n",
       "  overflow: hidden;\n",
       "  padding: 0;\n",
       "  position: absolute;\n",
       "  width: 1px;\n",
       "}\n",
       "\n",
       "#sk-container-id-2 div.sk-dashed-wrapped {\n",
       "  border: 1px dashed var(--sklearn-color-line);\n",
       "  margin: 0 0.4em 0.5em 0.4em;\n",
       "  box-sizing: border-box;\n",
       "  padding-bottom: 0.4em;\n",
       "  background-color: var(--sklearn-color-background);\n",
       "}\n",
       "\n",
       "#sk-container-id-2 div.sk-container {\n",
       "  /* jupyter's `normalize.less` sets `[hidden] { display: none; }`\n",
       "     but bootstrap.min.css set `[hidden] { display: none !important; }`\n",
       "     so we also need the `!important` here to be able to override the\n",
       "     default hidden behavior on the sphinx rendered scikit-learn.org.\n",
       "     See: https://github.com/scikit-learn/scikit-learn/issues/21755 */\n",
       "  display: inline-block !important;\n",
       "  position: relative;\n",
       "}\n",
       "\n",
       "#sk-container-id-2 div.sk-text-repr-fallback {\n",
       "  display: none;\n",
       "}\n",
       "\n",
       "div.sk-parallel-item,\n",
       "div.sk-serial,\n",
       "div.sk-item {\n",
       "  /* draw centered vertical line to link estimators */\n",
       "  background-image: linear-gradient(var(--sklearn-color-text-on-default-background), var(--sklearn-color-text-on-default-background));\n",
       "  background-size: 2px 100%;\n",
       "  background-repeat: no-repeat;\n",
       "  background-position: center center;\n",
       "}\n",
       "\n",
       "/* Parallel-specific style estimator block */\n",
       "\n",
       "#sk-container-id-2 div.sk-parallel-item::after {\n",
       "  content: \"\";\n",
       "  width: 100%;\n",
       "  border-bottom: 2px solid var(--sklearn-color-text-on-default-background);\n",
       "  flex-grow: 1;\n",
       "}\n",
       "\n",
       "#sk-container-id-2 div.sk-parallel {\n",
       "  display: flex;\n",
       "  align-items: stretch;\n",
       "  justify-content: center;\n",
       "  background-color: var(--sklearn-color-background);\n",
       "  position: relative;\n",
       "}\n",
       "\n",
       "#sk-container-id-2 div.sk-parallel-item {\n",
       "  display: flex;\n",
       "  flex-direction: column;\n",
       "}\n",
       "\n",
       "#sk-container-id-2 div.sk-parallel-item:first-child::after {\n",
       "  align-self: flex-end;\n",
       "  width: 50%;\n",
       "}\n",
       "\n",
       "#sk-container-id-2 div.sk-parallel-item:last-child::after {\n",
       "  align-self: flex-start;\n",
       "  width: 50%;\n",
       "}\n",
       "\n",
       "#sk-container-id-2 div.sk-parallel-item:only-child::after {\n",
       "  width: 0;\n",
       "}\n",
       "\n",
       "/* Serial-specific style estimator block */\n",
       "\n",
       "#sk-container-id-2 div.sk-serial {\n",
       "  display: flex;\n",
       "  flex-direction: column;\n",
       "  align-items: center;\n",
       "  background-color: var(--sklearn-color-background);\n",
       "  padding-right: 1em;\n",
       "  padding-left: 1em;\n",
       "}\n",
       "\n",
       "\n",
       "/* Toggleable style: style used for estimator/Pipeline/ColumnTransformer box that is\n",
       "clickable and can be expanded/collapsed.\n",
       "- Pipeline and ColumnTransformer use this feature and define the default style\n",
       "- Estimators will overwrite some part of the style using the `sk-estimator` class\n",
       "*/\n",
       "\n",
       "/* Pipeline and ColumnTransformer style (default) */\n",
       "\n",
       "#sk-container-id-2 div.sk-toggleable {\n",
       "  /* Default theme specific background. It is overwritten whether we have a\n",
       "  specific estimator or a Pipeline/ColumnTransformer */\n",
       "  background-color: var(--sklearn-color-background);\n",
       "}\n",
       "\n",
       "/* Toggleable label */\n",
       "#sk-container-id-2 label.sk-toggleable__label {\n",
       "  cursor: pointer;\n",
       "  display: block;\n",
       "  width: 100%;\n",
       "  margin-bottom: 0;\n",
       "  padding: 0.5em;\n",
       "  box-sizing: border-box;\n",
       "  text-align: center;\n",
       "}\n",
       "\n",
       "#sk-container-id-2 label.sk-toggleable__label-arrow:before {\n",
       "  /* Arrow on the left of the label */\n",
       "  content: \"▸\";\n",
       "  float: left;\n",
       "  margin-right: 0.25em;\n",
       "  color: var(--sklearn-color-icon);\n",
       "}\n",
       "\n",
       "#sk-container-id-2 label.sk-toggleable__label-arrow:hover:before {\n",
       "  color: var(--sklearn-color-text);\n",
       "}\n",
       "\n",
       "/* Toggleable content - dropdown */\n",
       "\n",
       "#sk-container-id-2 div.sk-toggleable__content {\n",
       "  max-height: 0;\n",
       "  max-width: 0;\n",
       "  overflow: hidden;\n",
       "  text-align: left;\n",
       "  /* unfitted */\n",
       "  background-color: var(--sklearn-color-unfitted-level-0);\n",
       "}\n",
       "\n",
       "#sk-container-id-2 div.sk-toggleable__content.fitted {\n",
       "  /* fitted */\n",
       "  background-color: var(--sklearn-color-fitted-level-0);\n",
       "}\n",
       "\n",
       "#sk-container-id-2 div.sk-toggleable__content pre {\n",
       "  margin: 0.2em;\n",
       "  border-radius: 0.25em;\n",
       "  color: var(--sklearn-color-text);\n",
       "  /* unfitted */\n",
       "  background-color: var(--sklearn-color-unfitted-level-0);\n",
       "}\n",
       "\n",
       "#sk-container-id-2 div.sk-toggleable__content.fitted pre {\n",
       "  /* unfitted */\n",
       "  background-color: var(--sklearn-color-fitted-level-0);\n",
       "}\n",
       "\n",
       "#sk-container-id-2 input.sk-toggleable__control:checked~div.sk-toggleable__content {\n",
       "  /* Expand drop-down */\n",
       "  max-height: 200px;\n",
       "  max-width: 100%;\n",
       "  overflow: auto;\n",
       "}\n",
       "\n",
       "#sk-container-id-2 input.sk-toggleable__control:checked~label.sk-toggleable__label-arrow:before {\n",
       "  content: \"▾\";\n",
       "}\n",
       "\n",
       "/* Pipeline/ColumnTransformer-specific style */\n",
       "\n",
       "#sk-container-id-2 div.sk-label input.sk-toggleable__control:checked~label.sk-toggleable__label {\n",
       "  color: var(--sklearn-color-text);\n",
       "  background-color: var(--sklearn-color-unfitted-level-2);\n",
       "}\n",
       "\n",
       "#sk-container-id-2 div.sk-label.fitted input.sk-toggleable__control:checked~label.sk-toggleable__label {\n",
       "  background-color: var(--sklearn-color-fitted-level-2);\n",
       "}\n",
       "\n",
       "/* Estimator-specific style */\n",
       "\n",
       "/* Colorize estimator box */\n",
       "#sk-container-id-2 div.sk-estimator input.sk-toggleable__control:checked~label.sk-toggleable__label {\n",
       "  /* unfitted */\n",
       "  background-color: var(--sklearn-color-unfitted-level-2);\n",
       "}\n",
       "\n",
       "#sk-container-id-2 div.sk-estimator.fitted input.sk-toggleable__control:checked~label.sk-toggleable__label {\n",
       "  /* fitted */\n",
       "  background-color: var(--sklearn-color-fitted-level-2);\n",
       "}\n",
       "\n",
       "#sk-container-id-2 div.sk-label label.sk-toggleable__label,\n",
       "#sk-container-id-2 div.sk-label label {\n",
       "  /* The background is the default theme color */\n",
       "  color: var(--sklearn-color-text-on-default-background);\n",
       "}\n",
       "\n",
       "/* On hover, darken the color of the background */\n",
       "#sk-container-id-2 div.sk-label:hover label.sk-toggleable__label {\n",
       "  color: var(--sklearn-color-text);\n",
       "  background-color: var(--sklearn-color-unfitted-level-2);\n",
       "}\n",
       "\n",
       "/* Label box, darken color on hover, fitted */\n",
       "#sk-container-id-2 div.sk-label.fitted:hover label.sk-toggleable__label.fitted {\n",
       "  color: var(--sklearn-color-text);\n",
       "  background-color: var(--sklearn-color-fitted-level-2);\n",
       "}\n",
       "\n",
       "/* Estimator label */\n",
       "\n",
       "#sk-container-id-2 div.sk-label label {\n",
       "  font-family: monospace;\n",
       "  font-weight: bold;\n",
       "  display: inline-block;\n",
       "  line-height: 1.2em;\n",
       "}\n",
       "\n",
       "#sk-container-id-2 div.sk-label-container {\n",
       "  text-align: center;\n",
       "}\n",
       "\n",
       "/* Estimator-specific */\n",
       "#sk-container-id-2 div.sk-estimator {\n",
       "  font-family: monospace;\n",
       "  border: 1px dotted var(--sklearn-color-border-box);\n",
       "  border-radius: 0.25em;\n",
       "  box-sizing: border-box;\n",
       "  margin-bottom: 0.5em;\n",
       "  /* unfitted */\n",
       "  background-color: var(--sklearn-color-unfitted-level-0);\n",
       "}\n",
       "\n",
       "#sk-container-id-2 div.sk-estimator.fitted {\n",
       "  /* fitted */\n",
       "  background-color: var(--sklearn-color-fitted-level-0);\n",
       "}\n",
       "\n",
       "/* on hover */\n",
       "#sk-container-id-2 div.sk-estimator:hover {\n",
       "  /* unfitted */\n",
       "  background-color: var(--sklearn-color-unfitted-level-2);\n",
       "}\n",
       "\n",
       "#sk-container-id-2 div.sk-estimator.fitted:hover {\n",
       "  /* fitted */\n",
       "  background-color: var(--sklearn-color-fitted-level-2);\n",
       "}\n",
       "\n",
       "/* Specification for estimator info (e.g. \"i\" and \"?\") */\n",
       "\n",
       "/* Common style for \"i\" and \"?\" */\n",
       "\n",
       ".sk-estimator-doc-link,\n",
       "a:link.sk-estimator-doc-link,\n",
       "a:visited.sk-estimator-doc-link {\n",
       "  float: right;\n",
       "  font-size: smaller;\n",
       "  line-height: 1em;\n",
       "  font-family: monospace;\n",
       "  background-color: var(--sklearn-color-background);\n",
       "  border-radius: 1em;\n",
       "  height: 1em;\n",
       "  width: 1em;\n",
       "  text-decoration: none !important;\n",
       "  margin-left: 1ex;\n",
       "  /* unfitted */\n",
       "  border: var(--sklearn-color-unfitted-level-1) 1pt solid;\n",
       "  color: var(--sklearn-color-unfitted-level-1);\n",
       "}\n",
       "\n",
       ".sk-estimator-doc-link.fitted,\n",
       "a:link.sk-estimator-doc-link.fitted,\n",
       "a:visited.sk-estimator-doc-link.fitted {\n",
       "  /* fitted */\n",
       "  border: var(--sklearn-color-fitted-level-1) 1pt solid;\n",
       "  color: var(--sklearn-color-fitted-level-1);\n",
       "}\n",
       "\n",
       "/* On hover */\n",
       "div.sk-estimator:hover .sk-estimator-doc-link:hover,\n",
       ".sk-estimator-doc-link:hover,\n",
       "div.sk-label-container:hover .sk-estimator-doc-link:hover,\n",
       ".sk-estimator-doc-link:hover {\n",
       "  /* unfitted */\n",
       "  background-color: var(--sklearn-color-unfitted-level-3);\n",
       "  color: var(--sklearn-color-background);\n",
       "  text-decoration: none;\n",
       "}\n",
       "\n",
       "div.sk-estimator.fitted:hover .sk-estimator-doc-link.fitted:hover,\n",
       ".sk-estimator-doc-link.fitted:hover,\n",
       "div.sk-label-container:hover .sk-estimator-doc-link.fitted:hover,\n",
       ".sk-estimator-doc-link.fitted:hover {\n",
       "  /* fitted */\n",
       "  background-color: var(--sklearn-color-fitted-level-3);\n",
       "  color: var(--sklearn-color-background);\n",
       "  text-decoration: none;\n",
       "}\n",
       "\n",
       "/* Span, style for the box shown on hovering the info icon */\n",
       ".sk-estimator-doc-link span {\n",
       "  display: none;\n",
       "  z-index: 9999;\n",
       "  position: relative;\n",
       "  font-weight: normal;\n",
       "  right: .2ex;\n",
       "  padding: .5ex;\n",
       "  margin: .5ex;\n",
       "  width: min-content;\n",
       "  min-width: 20ex;\n",
       "  max-width: 50ex;\n",
       "  color: var(--sklearn-color-text);\n",
       "  box-shadow: 2pt 2pt 4pt #999;\n",
       "  /* unfitted */\n",
       "  background: var(--sklearn-color-unfitted-level-0);\n",
       "  border: .5pt solid var(--sklearn-color-unfitted-level-3);\n",
       "}\n",
       "\n",
       ".sk-estimator-doc-link.fitted span {\n",
       "  /* fitted */\n",
       "  background: var(--sklearn-color-fitted-level-0);\n",
       "  border: var(--sklearn-color-fitted-level-3);\n",
       "}\n",
       "\n",
       ".sk-estimator-doc-link:hover span {\n",
       "  display: block;\n",
       "}\n",
       "\n",
       "/* \"?\"-specific style due to the `<a>` HTML tag */\n",
       "\n",
       "#sk-container-id-2 a.estimator_doc_link {\n",
       "  float: right;\n",
       "  font-size: 1rem;\n",
       "  line-height: 1em;\n",
       "  font-family: monospace;\n",
       "  background-color: var(--sklearn-color-background);\n",
       "  border-radius: 1rem;\n",
       "  height: 1rem;\n",
       "  width: 1rem;\n",
       "  text-decoration: none;\n",
       "  /* unfitted */\n",
       "  color: var(--sklearn-color-unfitted-level-1);\n",
       "  border: var(--sklearn-color-unfitted-level-1) 1pt solid;\n",
       "}\n",
       "\n",
       "#sk-container-id-2 a.estimator_doc_link.fitted {\n",
       "  /* fitted */\n",
       "  border: var(--sklearn-color-fitted-level-1) 1pt solid;\n",
       "  color: var(--sklearn-color-fitted-level-1);\n",
       "}\n",
       "\n",
       "/* On hover */\n",
       "#sk-container-id-2 a.estimator_doc_link:hover {\n",
       "  /* unfitted */\n",
       "  background-color: var(--sklearn-color-unfitted-level-3);\n",
       "  color: var(--sklearn-color-background);\n",
       "  text-decoration: none;\n",
       "}\n",
       "\n",
       "#sk-container-id-2 a.estimator_doc_link.fitted:hover {\n",
       "  /* fitted */\n",
       "  background-color: var(--sklearn-color-fitted-level-3);\n",
       "}\n",
       "</style><div id=\"sk-container-id-2\" class=\"sk-top-container\"><div class=\"sk-text-repr-fallback\"><pre>LinearRegression()</pre><b>In a Jupyter environment, please rerun this cell to show the HTML representation or trust the notebook. <br />On GitHub, the HTML representation is unable to render, please try loading this page with nbviewer.org.</b></div><div class=\"sk-container\" hidden><div class=\"sk-item\"><div class=\"sk-estimator fitted sk-toggleable\"><input class=\"sk-toggleable__control sk-hidden--visually\" id=\"sk-estimator-id-2\" type=\"checkbox\" checked><label for=\"sk-estimator-id-2\" class=\"sk-toggleable__label fitted sk-toggleable__label-arrow fitted\">&nbsp;&nbsp;LinearRegression<a class=\"sk-estimator-doc-link fitted\" rel=\"noreferrer\" target=\"_blank\" href=\"https://scikit-learn.org/1.4/modules/generated/sklearn.linear_model.LinearRegression.html\">?<span>Documentation for LinearRegression</span></a><span class=\"sk-estimator-doc-link fitted\">i<span>Fitted</span></span></label><div class=\"sk-toggleable__content fitted\"><pre>LinearRegression()</pre></div> </div></div></div></div>"
      ],
      "text/plain": [
       "LinearRegression()"
      ]
     },
     "execution_count": 15,
     "metadata": {},
     "output_type": "execute_result"
    }
   ],
   "source": [
    "poly_lr.fit(x_train_trans, y_train)"
   ]
  },
  {
   "cell_type": "markdown",
   "id": "bc495a0a",
   "metadata": {
    "papermill": {
     "duration": 0.018452,
     "end_time": "2024-07-07T16:10:46.273976",
     "exception": false,
     "start_time": "2024-07-07T16:10:46.255524",
     "status": "completed"
    },
    "tags": []
   },
   "source": [
    "## Model prediction and r2_score"
   ]
  },
  {
   "cell_type": "code",
   "execution_count": 16,
   "id": "9afc52b1",
   "metadata": {
    "execution": {
     "iopub.execute_input": "2024-07-07T16:10:46.311863Z",
     "iopub.status.busy": "2024-07-07T16:10:46.311049Z",
     "iopub.status.idle": "2024-07-07T16:10:46.317002Z",
     "shell.execute_reply": "2024-07-07T16:10:46.315839Z"
    },
    "papermill": {
     "duration": 0.027775,
     "end_time": "2024-07-07T16:10:46.319688",
     "exception": false,
     "start_time": "2024-07-07T16:10:46.291913",
     "status": "completed"
    },
    "tags": []
   },
   "outputs": [],
   "source": [
    "y_pred = poly_lr.predict(x_test_trans)"
   ]
  },
  {
   "cell_type": "markdown",
   "id": "36f867fa",
   "metadata": {
    "papermill": {
     "duration": 0.017588,
     "end_time": "2024-07-07T16:10:46.355098",
     "exception": false,
     "start_time": "2024-07-07T16:10:46.337510",
     "status": "completed"
    },
    "tags": []
   },
   "source": [
    "If you compare current r2_score(0.47) with r2_score(0.25) of simple linear regression, it is increased"
   ]
  },
  {
   "cell_type": "code",
   "execution_count": 17,
   "id": "82665fa6",
   "metadata": {
    "execution": {
     "iopub.execute_input": "2024-07-07T16:10:46.397368Z",
     "iopub.status.busy": "2024-07-07T16:10:46.396931Z",
     "iopub.status.idle": "2024-07-07T16:10:46.405711Z",
     "shell.execute_reply": "2024-07-07T16:10:46.404589Z"
    },
    "papermill": {
     "duration": 0.035215,
     "end_time": "2024-07-07T16:10:46.408906",
     "exception": false,
     "start_time": "2024-07-07T16:10:46.373691",
     "status": "completed"
    },
    "tags": []
   },
   "outputs": [
    {
     "data": {
      "text/plain": [
       "0.47780125648803495"
      ]
     },
     "execution_count": 17,
     "metadata": {},
     "output_type": "execute_result"
    }
   ],
   "source": [
    "r2_score(y_test, y_pred)"
   ]
  },
  {
   "cell_type": "markdown",
   "id": "eb142ce7",
   "metadata": {
    "papermill": {
     "duration": 0.017771,
     "end_time": "2024-07-07T16:10:46.446283",
     "exception": false,
     "start_time": "2024-07-07T16:10:46.428512",
     "status": "completed"
    },
    "tags": []
   },
   "source": [
    "## Slopes and Intercept"
   ]
  },
  {
   "cell_type": "code",
   "execution_count": 18,
   "id": "3128573f",
   "metadata": {
    "execution": {
     "iopub.execute_input": "2024-07-07T16:10:46.485611Z",
     "iopub.status.busy": "2024-07-07T16:10:46.484380Z",
     "iopub.status.idle": "2024-07-07T16:10:46.492745Z",
     "shell.execute_reply": "2024-07-07T16:10:46.491478Z"
    },
    "papermill": {
     "duration": 0.030967,
     "end_time": "2024-07-07T16:10:46.495364",
     "exception": false,
     "start_time": "2024-07-07T16:10:46.464397",
     "status": "completed"
    },
    "tags": []
   },
   "outputs": [
    {
     "data": {
      "text/plain": [
       "array([ 0.00000000e+00, -1.13291167e-01,  5.34758272e-01,  2.45932013e-04,\n",
       "        1.13665583e-04])"
      ]
     },
     "execution_count": 18,
     "metadata": {},
     "output_type": "execute_result"
    }
   ],
   "source": [
    "poly_lr.coef_"
   ]
  },
  {
   "cell_type": "code",
   "execution_count": 19,
   "id": "be40e86b",
   "metadata": {
    "execution": {
     "iopub.execute_input": "2024-07-07T16:10:46.533961Z",
     "iopub.status.busy": "2024-07-07T16:10:46.533555Z",
     "iopub.status.idle": "2024-07-07T16:10:46.541808Z",
     "shell.execute_reply": "2024-07-07T16:10:46.540720Z"
    },
    "papermill": {
     "duration": 0.030226,
     "end_time": "2024-07-07T16:10:46.544292",
     "exception": false,
     "start_time": "2024-07-07T16:10:46.514066",
     "status": "completed"
    },
    "tags": []
   },
   "outputs": [
    {
     "data": {
      "text/plain": [
       "4.397309340144346"
      ]
     },
     "execution_count": 19,
     "metadata": {},
     "output_type": "execute_result"
    }
   ],
   "source": [
    "poly_lr.intercept_"
   ]
  },
  {
   "cell_type": "markdown",
   "id": "3893ddb5",
   "metadata": {
    "papermill": {
     "duration": 0.018013,
     "end_time": "2024-07-07T16:10:46.581039",
     "exception": false,
     "start_time": "2024-07-07T16:10:46.563026",
     "status": "completed"
    },
    "tags": []
   },
   "source": [
    "## Plotting Best Fit Curve\n",
    "- The nature of graph is not the perfect for line plots as the values are not in sorted order.\n",
    "- The random nature of X values are in -15 to 25, so generated same pattern values using linspace function"
   ]
  },
  {
   "cell_type": "code",
   "execution_count": 20,
   "id": "93f7ab00",
   "metadata": {
    "execution": {
     "iopub.execute_input": "2024-07-07T16:10:46.619374Z",
     "iopub.status.busy": "2024-07-07T16:10:46.618946Z",
     "iopub.status.idle": "2024-07-07T16:10:46.625576Z",
     "shell.execute_reply": "2024-07-07T16:10:46.624315Z"
    },
    "papermill": {
     "duration": 0.028882,
     "end_time": "2024-07-07T16:10:46.628149",
     "exception": false,
     "start_time": "2024-07-07T16:10:46.599267",
     "status": "completed"
    },
    "tags": []
   },
   "outputs": [],
   "source": [
    "x_new = np.linspace(-15, 25, num = 200)\n",
    "x_new_trans = poly.transform(x_new.reshape(-1, 1))\n",
    "y_new = poly_lr.predict(x_new_trans)"
   ]
  },
  {
   "cell_type": "code",
   "execution_count": 21,
   "id": "d3cd5913",
   "metadata": {
    "execution": {
     "iopub.execute_input": "2024-07-07T16:10:46.667345Z",
     "iopub.status.busy": "2024-07-07T16:10:46.666863Z",
     "iopub.status.idle": "2024-07-07T16:10:47.004411Z",
     "shell.execute_reply": "2024-07-07T16:10:47.003041Z"
    },
    "papermill": {
     "duration": 0.360329,
     "end_time": "2024-07-07T16:10:47.007183",
     "exception": false,
     "start_time": "2024-07-07T16:10:46.646854",
     "status": "completed"
    },
    "tags": []
   },
   "outputs": [
    {
     "data": {
      "image/png": "[encoded data removed]",
      "text/plain": [
       "<Figure size 640x480 with 1 Axes>"
      ]
     },
     "metadata": {},
     "output_type": "display_data"
    }
   ],
   "source": [
    "plt.scatter(X_train, y_train, label = 'Training Data', alpha = 0.6)\n",
    "plt.scatter(X_test, y_test, label = 'Testing data', alpha = 0.6)\n",
    "plt.plot(x_new, y_new, color = 'red', label = 'Best Fit Line')\n",
    "plt.legend()\n",
    "plt.show()"
   ]
  },
  {
   "cell_type": "code",
   "execution_count": 22,
   "id": "f6c708f7",
   "metadata": {},
   "outputs": [
    {
     "data": {
      "image/png": "[encoded data removed]",
      "text/plain": [
       "<Figure size 640x480 with 1 Axes>"
      ]
     },
     "metadata": {},
     "output_type": "display_data"
    }
   ],
   "source": [
    "X = 6 * np.random.randn(200) + 3\n",
    "y = (0.6*X**2) - (0.1*X) + 2.3 + np.random.randint(-30, 30, size = 200)\n",
    "\n",
    "def polynomial_regressor(X, y, degree = 5):\n",
    "    feture_model = PolynomialFeatures(degree=degree)\n",
    "    X = feture_model.fit_transform(X.reshape(-1, 1))\n",
    "\n",
    "    model = LinearRegression()\n",
    "    model.fit(X, y.reshape(-1, 1))\n",
    "    y_pred = model.predict(X)\n",
    "    return y_pred\n",
    "\n",
    "degrees = [1, 5, 25]\n",
    "temp_x = np.linspace(-20, 20, 100)\n",
    "temp_y = (temp_x**2) - (temp_x) + 2.3 + np.random.randint(-100, 100, size = 100)\n",
    "plt.scatter(temp_x, temp_y)\n",
    "for degree in degrees:\n",
    "    y_pred = polynomial_regressor(temp_x, temp_y, degree=degree)\n",
    "    plt.plot(temp_x, y_pred, label = f\"Best Fit Curve: degree {degree}\")\n",
    "\n",
    "plt.xlabel('x')\n",
    "plt.ylabel('y')\n",
    "plt.title(\"Comparison of Best Fit Curve for various degree\")\n",
    "plt.legend()\n",
    "plt.show()"
   ]
  },
  {
   "cell_type": "markdown",
   "id": "06da6ee9",
   "metadata": {},
   "source": [
    "## Learning Curves\n",
    "\n",
    "1. Underfitting: If both the training and validation errors are high and relatively close to each other, it indicates that the model is too simple to capture the underlying patterns in the data. This is known as underfitting.\n",
    "\n",
    "2. Overfitting: If the training error is very low while the validation error is high, it indicates that the model is too complex and is capturing noise in the training data rather than generalizing to unseen data. This is known as overfitting.\n",
    "\n",
    "3. Interpretation: If both the training and validation errors are low and the curves are close together, it indicates that the model is well-fitted. It captures the underlying patterns in the data without overfitting or underfitting."
   ]
  },
  {
   "cell_type": "code",
   "execution_count": 23,
   "id": "cb0cfd5f",
   "metadata": {},
   "outputs": [
    {
     "data": {
      "text/plain": [
       "[]"
      ]
     },
     "execution_count": 23,
     "metadata": {},
     "output_type": "execute_result"
    },
    {
     "data": {
      "image/png": "[encoded data removed]",
      "text/plain": [
       "<Figure size 640x480 with 1 Axes>"
      ]
     },
     "metadata": {},
     "output_type": "display_data"
    }
   ],
   "source": [
    "from sklearn.model_selection import learning_curve\n",
    "\n",
    "train_sizes, train_scores, valid_scores = learning_curve(\n",
    "    LinearRegression(), X.reshape(-1, 1), y.reshape(-1, 1), train_sizes=np.linspace(0.01, 1, 40), cv = 5, scoring = 'neg_root_mean_squared_error'\n",
    ")\n",
    "\n",
    "train_errors = -train_scores.mean(axis=1)\n",
    "valid_errors = -valid_scores.mean(axis=1)\n",
    "\n",
    "plt.plot(train_sizes, train_errors, label = \"Training Error\")\n",
    "plt.plot(train_sizes, valid_errors, label = \"Testing Error\")\n",
    "plt.plot()"
   ]
  },
  {
   "cell_type": "markdown",
   "id": "6f73510d",
   "metadata": {},
   "source": [
    "# **Polynomial Regression using Gradient Descent**"
   ]
  },
  {
   "cell_type": "code",
   "execution_count": 46,
   "id": "6f0032d9",
   "metadata": {},
   "outputs": [
    {
     "data": {
      "text/plain": [
       "(0.0, 60.0)"
      ]
     },
     "execution_count": 46,
     "metadata": {},
     "output_type": "execute_result"
    },
    {
     "data": {
      "image/png": "[encoded data removed]",
      "text/plain": [
       "<Figure size 640x480 with 1 Axes>"
      ]
     },
     "metadata": {},
     "output_type": "display_data"
    }
   ],
   "source": [
    "from sklearn.pipeline import make_pipeline\n",
    "from sklearn.preprocessing import StandardScaler\n",
    "from sklearn.linear_model import SGDRegressor\n",
    "\n",
    "pr = make_pipeline(\n",
    "    StandardScaler(),\n",
    "    PolynomialFeatures(degree=2, include_bias=False), \n",
    "    SGDRegressor(\n",
    "        loss='squared_error',\n",
    "        penalty='l2',\n",
    "        learning_rate='constant',\n",
    "        eta0=0.01,\n",
    "        max_iter=10000,\n",
    "        alpha=0.001,\n",
    "    ))\n",
    "\n",
    "train_sizes, train_scores, valid_scores = learning_curve(\n",
    "    pr, X.reshape(-1, 1), y, train_sizes=np.linspace(0.01, 1, 40), cv = 5, scoring = 'neg_root_mean_squared_error'\n",
    ")\n",
    "train_errors = -train_scores.mean(axis=1)\n",
    "valid_errors = -valid_scores.mean(axis=1)\n",
    "\n",
    "plt.plot(train_sizes, train_errors)\n",
    "plt.plot(train_sizes, valid_errors)\n",
    "plt.ylim(0, 60)"
   ]
  },
  {
   "cell_type": "markdown",
   "id": "a7413577",
   "metadata": {
    "papermill": {
     "duration": 0.019917,
     "end_time": "2024-07-07T16:10:47.047531",
     "exception": false,
     "start_time": "2024-07-07T16:10:47.027614",
     "status": "completed"
    },
    "tags": []
   },
   "source": [
    "# **Polynomial Multiple Linear Regression**\n",
    "- Polynomial multiple linear regression is an extension of multiple linear regression that allows for capturing more complex relationships between the inputs(Two and more) and outputs."
   ]
  },
  {
   "cell_type": "markdown",
   "id": "bedb7618",
   "metadata": {
    "papermill": {
     "duration": 0.019216,
     "end_time": "2024-07-07T16:10:47.086911",
     "exception": false,
     "start_time": "2024-07-07T16:10:47.067695",
     "status": "completed"
    },
    "tags": []
   },
   "source": [
    "## Generating Data"
   ]
  },
  {
   "cell_type": "code",
   "execution_count": 25,
   "id": "102e3d8e",
   "metadata": {
    "execution": {
     "iopub.execute_input": "2024-07-07T16:10:47.131993Z",
     "iopub.status.busy": "2024-07-07T16:10:47.129556Z",
     "iopub.status.idle": "2024-07-07T16:10:47.139643Z",
     "shell.execute_reply": "2024-07-07T16:10:47.138317Z"
    },
    "papermill": {
     "duration": 0.035052,
     "end_time": "2024-07-07T16:10:47.142604",
     "exception": false,
     "start_time": "2024-07-07T16:10:47.107552",
     "status": "completed"
    },
    "tags": []
   },
   "outputs": [],
   "source": [
    "x = 7 * np.random.rand(100, 1) - 2.8\n",
    "y = 7 * np.random.rand(100, 1) - 2.8\n",
    "\n",
    "z = x**2 + y**2 + 0.2*x + 0.2*y + 0.1*x*y + 2 + np.random.randn(100, 1)"
   ]
  },
  {
   "cell_type": "markdown",
   "id": "d959a1ac",
   "metadata": {
    "papermill": {
     "duration": 0.019166,
     "end_time": "2024-07-07T16:10:47.181348",
     "exception": false,
     "start_time": "2024-07-07T16:10:47.162182",
     "status": "completed"
    },
    "tags": []
   },
   "source": [
    "## Plotting 3D Scatter Plot"
   ]
  },
  {
   "cell_type": "code",
   "execution_count": 26,
   "id": "fa630717",
   "metadata": {
    "execution": {
     "iopub.execute_input": "2024-07-07T16:10:47.222782Z",
     "iopub.status.busy": "2024-07-07T16:10:47.222389Z",
     "iopub.status.idle": "2024-07-07T16:10:49.589545Z",
     "shell.execute_reply": "2024-07-07T16:10:49.588090Z"
    },
    "papermill": {
     "duration": 2.390487,
     "end_time": "2024-07-07T16:10:49.592185",
     "exception": false,
     "start_time": "2024-07-07T16:10:47.201698",
     "status": "completed"
    },
    "tags": []
   },
   "outputs": [
    {
     "data": {
      "application/vnd.plotly.v1+json": {
       "config": {
        "plotlyServerURL": "https://plot.ly"
       },
       "data": [
        {
         "hovertemplate": "x=%{x}<br>y=%{y}<br>z=%{z}<extra></extra>",
         "legendgroup": "",
         "marker": {
          "color": "#636efa",
          "symbol": "circle"
         },
         "mode": "markers",
         "name": "",
         "scene": "scene",
         "showlegend": false,
         "type": "scatter3d",
         "x": [
          4.13014197709189,
          -0.4642976124791254,
          1.3895327024793405,
          -0.2875590644353512,
          1.9627403866277087,
          3.1723986844321788,
          2.7498976967238926,
          1.5528981596010771,
          1.1590531155357118,
          -1.7313032652945002,
          2.894057943337521,
          4.084233859575464,
          1.6350260526400229,
          1.2700627036192191,
          -1.7598609144136728,
          -0.8632860855467817,
          -0.2763410995437665,
          -1.4580297288783095,
          4.132756099504348,
          3.6628832055703313,
          -0.19547241775455282,
          -1.7839105865171523,
          -0.030985559683661457,
          -1.6498686935991067,
          0.9675329658858378,
          -1.5515200052847962,
          -2.4566895719491355,
          1.5003745453619288,
          -0.13296160425467463,
          1.9843242476442384,
          0.8575225723545277,
          1.5934175139588556,
          -0.5705524166472253,
          1.27559378942132,
          0.6620109453777934,
          1.360219058393179,
          -2.7462142256907085,
          3.9542853814465815,
          -1.15424719326376,
          -2.263200644723679,
          -0.7362428409144757,
          2.050542529803101,
          3.7291343043994214,
          3.1090565878335497,
          -0.5131446268037707,
          3.0251964510803857,
          -2.4192291418070604,
          -2.150186753836214,
          -1.4955672890453993,
          2.714364419296725,
          2.2697067102385544,
          -1.8820351242935616,
          2.1569004797942375,
          2.532447267024428,
          -1.4639768339905281,
          1.894880217608189,
          0.03920396986103647,
          -2.2861441280126433,
          0.8221815719531471,
          0.64797040543105,
          3.3733608827541186,
          1.1213420705269797,
          3.081741123270013,
          0.372796203330223,
          2.20877702400663,
          3.989047993559349,
          -2.6521912082203896,
          0.3591454028689447,
          0.2089799327345605,
          2.6604899403458617,
          -2.6702305082540962,
          1.2589699982333462,
          -0.8482297838175179,
          0.5360496573016489,
          2.22078096831308,
          1.6092722845071412,
          -1.0766251369234596,
          -1.3621579108596844,
          3.154594819684851,
          0.7527482152472627,
          4.056919677452602,
          1.8446450193846387,
          -1.220298789705654,
          -1.6144718273081466,
          -0.5301630620075741,
          2.5457953790545647,
          0.42180916359400644,
          1.1755007858649198,
          1.366440797847166,
          -1.5780540028138645,
          -0.39781561469632987,
          -0.7384742212181661,
          3.753966023884187,
          -2.747116566061631,
          3.893251580529025,
          -1.8117256476707926,
          1.0089263091075908,
          -0.9621018663495704,
          -0.6690835947898495,
          2.5386538044572307
         ],
         "y": [
          2.0373894766332414,
          2.557772748551404,
          -1.4766725315458773,
          -1.380673783164989,
          2.503997845289142,
          -1.951002778227737,
          3.5504020615199927,
          3.666095079884257,
          0.7360119829745169,
          2.1230590760427974,
          -0.4585862994180463,
          1.6574058240449663,
          -2.6248542598319333,
          -1.265034180252297,
          0.3759592570383985,
          0.6315287244543377,
          4.1001242862063,
          4.192310024734154,
          -1.9383185771952982,
          -0.8669135812679345,
          -2.2218991564426047,
          -0.4100815693591082,
          3.8424259955302853,
          1.188478251101699,
          -2.520325351768393,
          0.8444174467951164,
          3.7316811647064085,
          4.009556722404982,
          3.583008968010148,
          2.514839290925427,
          -1.0390523624091113,
          3.503889460272924,
          -0.7198044427150672,
          3.343402033274457,
          -2.510213963317516,
          -2.405121919833832,
          2.82211290758063,
          -2.05303960498277,
          0.27445034627705533,
          -0.39791124485184026,
          -0.8546473330036344,
          -0.2656412144743343,
          0.5996325849024062,
          3.0550217757692604,
          1.5202859857996271,
          3.5515778630630566,
          3.0569668078354235,
          -1.7770824271347183,
          0.1593502049602633,
          0.9310918654478297,
          -1.0096955960089025,
          1.164003638813166,
          4.019546049497007,
          -1.223457054037346,
          2.691939455912477,
          4.164641473338208,
          -1.0216031132027048,
          3.1924304574251394,
          -1.5826856219711694,
          3.65405424373795,
          -0.670503222924272,
          -0.853927739409968,
          3.5331445949982374,
          -0.7618310675770337,
          -1.245331644111905,
          -0.6346507346043202,
          1.9142544220231166,
          -2.64867080437024,
          -1.723285294333227,
          -2.0234820116423164,
          0.8632761915796476,
          -2.4409948486204827,
          3.6445425687465063,
          0.47818337878822703,
          1.506498548141753,
          -1.3952693785347656,
          2.0709810882230144,
          -2.632146424990308,
          -2.250419253722101,
          3.5883811758904036,
          -1.2946529541640768,
          0.6322668051507434,
          0.8617971278626326,
          -1.5024178058811173,
          1.3264804966819375,
          -0.9710421936258804,
          1.7900747483516648,
          -0.9993435452266084,
          0.2275142072287646,
          0.7053182039851005,
          -2.664297427891067,
          -2.039426579183619,
          -2.1809062172402305,
          0.35258910867664195,
          0.9626625075461868,
          4.037412881210912,
          -0.38538262688685254,
          -1.5480126054008694,
          3.9703496908636504,
          0.9492097357458391
         ],
         "z": [
          25.180538959998543,
          9.380520336029686,
          5.804015634327106,
          2.9110287636336247,
          14.700499997393383,
          15.413147470015266,
          25.03334567752455,
          18.841964117282856,
          4.165387393859416,
          8.783118790110478,
          9.421758344764006,
          23.98713439328949,
          11.037352939908363,
          5.848271184593639,
          6.252334585512683,
          2.107563351264984,
          19.73988953611194,
          21.71303046601802,
          21.507004070612236,
          16.833960946856,
          5.917497552102965,
          4.85610509467983,
          18.22877560774851,
          4.8867748905753094,
          7.98185154418588,
          5.54124761234258,
          20.934845811869838,
          20.819348559905475,
          15.032668552506678,
          14.6829306029502,
          5.083923547664454,
          19.316689263234363,
          4.3746765706880915,
          14.681060422152797,
          8.998122110041939,
          9.265121483207066,
          17.615412962133476,
          22.38804256448435,
          3.5157469935383747,
          6.342226720050594,
          3.5697589449645197,
          5.887579011436194,
          17.691370181395776,
          22.88829802036957,
          3.329748258539094,
          27.57904844263923,
          16.11081714734318,
          9.554753012057699,
          1.7319280217440118,
          10.094907534011599,
          8.922409155115037,
          5.77719890160865,
          24.14534161058168,
          11.759868737013234,
          9.401790089654575,
          26.487955922641266,
          2.09262898473217,
          16.90607461547752,
          4.787674197596083,
          17.05935715956863,
          12.422088310710045,
          5.3809486381430744,
          25.914927320401507,
          2.8513951757620895,
          8.088895369391507,
          18.048347004586198,
          12.329197931899404,
          9.711624970957324,
          5.078909818087274,
          12.303889650097886,
          9.209481820003223,
          8.25384864073688,
          16.413996674664208,
          -0.29922296204904875,
          12.331118457476105,
          8.146459032557205,
          6.918146099763649,
          9.804998853942784,
          17.285300820092083,
          17.056969506203565,
          19.322989193734667,
          6.5254970891778346,
          3.017687046090784,
          7.447037919781366,
          2.9911157200251504,
          9.240362211479505,
          5.256397829292105,
          2.9863277359435214,
          4.5312079595930905,
          4.764186136792642,
          8.362982331154477,
          5.601119937541592,
          20.383068221386043,
          9.697698182290393,
          18.71739135703202,
          20.66591953374437,
          4.787389218682037,
          5.931579934115789,
          18.273794611558618,
          10.809559469801565
         ]
        }
       ],
       "layout": {
        "legend": {
         "tracegroupgap": 0
        },
        "margin": {
         "t": 60
        },
        "scene": {
         "domain": {
          "x": [
           0,
           1
          ],
          "y": [
           0,
           1
          ]
         },
         "xaxis": {
          "title": {
           "text": "x"
          }
         },
         "yaxis": {
          "title": {
           "text": "y"
          }
         },
         "zaxis": {
          "title": {
           "text": "z"
          }
         }
        },
        "template": {
         "data": {
          "bar": [
           {
            "error_x": {
             "color": "#2a3f5f"
            },
            "error_y": {
             "color": "#2a3f5f"
            },
            "marker": {
             "line": {
              "color": "#E5ECF6",
              "width": 0.5
             },
             "pattern": {
              "fillmode": "overlay",
              "size": 10,
              "solidity": 0.2
             }
            },
            "type": "bar"
           }
          ],
          "barpolar": [
           {
            "marker": {
             "line": {
              "color": "#E5ECF6",
              "width": 0.5
             },
             "pattern": {
              "fillmode": "overlay",
              "size": 10,
              "solidity": 0.2
             }
            },
            "type": "barpolar"
           }
          ],
          "carpet": [
           {
            "aaxis": {
             "endlinecolor": "#2a3f5f",
             "gridcolor": "white",
             "linecolor": "white",
             "minorgridcolor": "white",
             "startlinecolor": "#2a3f5f"
            },
            "baxis": {
             "endlinecolor": "#2a3f5f",
             "gridcolor": "white",
             "linecolor": "white",
             "minorgridcolor": "white",
             "startlinecolor": "#2a3f5f"
            },
            "type": "carpet"
           }
          ],
          "choropleth": [
           {
            "colorbar": {
             "outlinewidth": 0,
             "ticks": ""
            },
            "type": "choropleth"
           }
          ],
          "contour": [
           {
            "colorbar": {
             "outlinewidth": 0,
             "ticks": ""
            },
            "colorscale": [
             [
              0,
              "#0d0887"
             ],
             [
              0.1111111111111111,
              "#46039f"
             ],
             [
              0.2222222222222222,
              "#7201a8"
             ],
             [
              0.3333333333333333,
              "#9c179e"
             ],
             [
              0.4444444444444444,
              "#bd3786"
             ],
             [
              0.5555555555555556,
              "#d8576b"
             ],
             [
              0.6666666666666666,
              "#ed7953"
             ],
             [
              0.7777777777777778,
              "#fb9f3a"
             ],
             [
              0.8888888888888888,
              "#fdca26"
             ],
             [
              1,
              "#f0f921"
             ]
            ],
            "type": "contour"
           }
          ],
          "contourcarpet": [
           {
            "colorbar": {
             "outlinewidth": 0,
             "ticks": ""
            },
            "type": "contourcarpet"
           }
          ],
          "heatmap": [
           {
            "colorbar": {
             "outlinewidth": 0,
             "ticks": ""
            },
            "colorscale": [
             [
              0,
              "#0d0887"
             ],
             [
              0.1111111111111111,
              "#46039f"
             ],
             [
              0.2222222222222222,
              "#7201a8"
             ],
             [
              0.3333333333333333,
              "#9c179e"
             ],
             [
              0.4444444444444444,
              "#bd3786"
             ],
             [
              0.5555555555555556,
              "#d8576b"
             ],
             [
              0.6666666666666666,
              "#ed7953"
             ],
             [
              0.7777777777777778,
              "#fb9f3a"
             ],
             [
              0.8888888888888888,
              "#fdca26"
             ],
             [
              1,
              "#f0f921"
             ]
            ],
            "type": "heatmap"
           }
          ],
          "heatmapgl": [
           {
            "colorbar": {
             "outlinewidth": 0,
             "ticks": ""
            },
            "colorscale": [
             [
              0,
              "#0d0887"
             ],
             [
              0.1111111111111111,
              "#46039f"
             ],
             [
              0.2222222222222222,
              "#7201a8"
             ],
             [
              0.3333333333333333,
              "#9c179e"
             ],
             [
              0.4444444444444444,
              "#bd3786"
             ],
             [
              0.5555555555555556,
              "#d8576b"
             ],
             [
              0.6666666666666666,
              "#ed7953"
             ],
             [
              0.7777777777777778,
              "#fb9f3a"
             ],
             [
              0.8888888888888888,
              "#fdca26"
             ],
             [
              1,
              "#f0f921"
             ]
            ],
            "type": "heatmapgl"
           }
          ],
          "histogram": [
           {
            "marker": {
             "pattern": {
              "fillmode": "overlay",
              "size": 10,
              "solidity": 0.2
             }
            },
            "type": "histogram"
           }
          ],
          "histogram2d": [
           {
            "colorbar": {
             "outlinewidth": 0,
             "ticks": ""
            },
            "colorscale": [
             [
              0,
              "#0d0887"
             ],
             [
              0.1111111111111111,
              "#46039f"
             ],
             [
              0.2222222222222222,
              "#7201a8"
             ],
             [
              0.3333333333333333,
              "#9c179e"
             ],
             [
              0.4444444444444444,
              "#bd3786"
             ],
             [
              0.5555555555555556,
              "#d8576b"
             ],
             [
              0.6666666666666666,
              "#ed7953"
             ],
             [
              0.7777777777777778,
              "#fb9f3a"
             ],
             [
              0.8888888888888888,
              "#fdca26"
             ],
             [
              1,
              "#f0f921"
             ]
            ],
            "type": "histogram2d"
           }
          ],
          "histogram2dcontour": [
           {
            "colorbar": {
             "outlinewidth": 0,
             "ticks": ""
            },
            "colorscale": [
             [
              0,
              "#0d0887"
             ],
             [
              0.1111111111111111,
              "#46039f"
             ],
             [
              0.2222222222222222,
              "#7201a8"
             ],
             [
              0.3333333333333333,
              "#9c179e"
             ],
             [
              0.4444444444444444,
              "#bd3786"
             ],
             [
              0.5555555555555556,
              "#d8576b"
             ],
             [
              0.6666666666666666,
              "#ed7953"
             ],
             [
              0.7777777777777778,
              "#fb9f3a"
             ],
             [
              0.8888888888888888,
              "#fdca26"
             ],
             [
              1,
              "#f0f921"
             ]
            ],
            "type": "histogram2dcontour"
           }
          ],
          "mesh3d": [
           {
            "colorbar": {
             "outlinewidth": 0,
             "ticks": ""
            },
            "type": "mesh3d"
           }
          ],
          "parcoords": [
           {
            "line": {
             "colorbar": {
              "outlinewidth": 0,
              "ticks": ""
             }
            },
            "type": "parcoords"
           }
          ],
          "pie": [
           {
            "automargin": true,
            "type": "pie"
           }
          ],
          "scatter": [
           {
            "fillpattern": {
             "fillmode": "overlay",
             "size": 10,
             "solidity": 0.2
            },
            "type": "scatter"
           }
          ],
          "scatter3d": [
           {
            "line": {
             "colorbar": {
              "outlinewidth": 0,
              "ticks": ""
             }
            },
            "marker": {
             "colorbar": {
              "outlinewidth": 0,
              "ticks": ""
             }
            },
            "type": "scatter3d"
           }
          ],
          "scattercarpet": [
           {
            "marker": {
             "colorbar": {
              "outlinewidth": 0,
              "ticks": ""
             }
            },
            "type": "scattercarpet"
           }
          ],
          "scattergeo": [
           {
            "marker": {
             "colorbar": {
              "outlinewidth": 0,
              "ticks": ""
             }
            },
            "type": "scattergeo"
           }
          ],
          "scattergl": [
           {
            "marker": {
             "colorbar": {
              "outlinewidth": 0,
              "ticks": ""
             }
            },
            "type": "scattergl"
           }
          ],
          "scattermapbox": [
           {
            "marker": {
             "colorbar": {
              "outlinewidth": 0,
              "ticks": ""
             }
            },
            "type": "scattermapbox"
           }
          ],
          "scatterpolar": [
           {
            "marker": {
             "colorbar": {
              "outlinewidth": 0,
              "ticks": ""
             }
            },
            "type": "scatterpolar"
           }
          ],
          "scatterpolargl": [
           {
            "marker": {
             "colorbar": {
              "outlinewidth": 0,
              "ticks": ""
             }
            },
            "type": "scatterpolargl"
           }
          ],
          "scatterternary": [
           {
            "marker": {
             "colorbar": {
              "outlinewidth": 0,
              "ticks": ""
             }
            },
            "type": "scatterternary"
           }
          ],
          "surface": [
           {
            "colorbar": {
             "outlinewidth": 0,
             "ticks": ""
            },
            "colorscale": [
             [
              0,
              "#0d0887"
             ],
             [
              0.1111111111111111,
              "#46039f"
             ],
             [
              0.2222222222222222,
              "#7201a8"
             ],
             [
              0.3333333333333333,
              "#9c179e"
             ],
             [
              0.4444444444444444,
              "#bd3786"
             ],
             [
              0.5555555555555556,
              "#d8576b"
             ],
             [
              0.6666666666666666,
              "#ed7953"
             ],
             [
              0.7777777777777778,
              "#fb9f3a"
             ],
             [
              0.8888888888888888,
              "#fdca26"
             ],
             [
              1,
              "#f0f921"
             ]
            ],
            "type": "surface"
           }
          ],
          "table": [
           {
            "cells": {
             "fill": {
              "color": "#EBF0F8"
             },
             "line": {
              "color": "white"
             }
            },
            "header": {
             "fill": {
              "color": "#C8D4E3"
             },
             "line": {
              "color": "white"
             }
            },
            "type": "table"
           }
          ]
         },
         "layout": {
          "annotationdefaults": {
           "arrowcolor": "#2a3f5f",
           "arrowhead": 0,
           "arrowwidth": 1
          },
          "autotypenumbers": "strict",
          "coloraxis": {
           "colorbar": {
            "outlinewidth": 0,
            "ticks": ""
           }
          },
          "colorscale": {
           "diverging": [
            [
             0,
             "#8e0152"
            ],
            [
             0.1,
             "#c51b7d"
            ],
            [
             0.2,
             "#de77ae"
            ],
            [
             0.3,
             "#f1b6da"
            ],
            [
             0.4,
             "#fde0ef"
            ],
            [
             0.5,
             "#f7f7f7"
            ],
            [
             0.6,
             "#e6f5d0"
            ],
            [
             0.7,
             "#b8e186"
            ],
            [
             0.8,
             "#7fbc41"
            ],
            [
             0.9,
             "#4d9221"
            ],
            [
             1,
             "#276419"
            ]
           ],
           "sequential": [
            [
             0,
             "#0d0887"
            ],
            [
             0.1111111111111111,
             "#46039f"
            ],
            [
             0.2222222222222222,
             "#7201a8"
            ],
            [
             0.3333333333333333,
             "#9c179e"
            ],
            [
             0.4444444444444444,
             "#bd3786"
            ],
            [
             0.5555555555555556,
             "#d8576b"
            ],
            [
             0.6666666666666666,
             "#ed7953"
            ],
            [
             0.7777777777777778,
             "#fb9f3a"
            ],
            [
             0.8888888888888888,
             "#fdca26"
            ],
            [
             1,
             "#f0f921"
            ]
           ],
           "sequentialminus": [
            [
             0,
             "#0d0887"
            ],
            [
             0.1111111111111111,
             "#46039f"
            ],
            [
             0.2222222222222222,
             "#7201a8"
            ],
            [
             0.3333333333333333,
             "#9c179e"
            ],
            [
             0.4444444444444444,
             "#bd3786"
            ],
            [
             0.5555555555555556,
             "#d8576b"
            ],
            [
             0.6666666666666666,
             "#ed7953"
            ],
            [
             0.7777777777777778,
             "#fb9f3a"
            ],
            [
             0.8888888888888888,
             "#fdca26"
            ],
            [
             1,
             "#f0f921"
            ]
           ]
          },
          "colorway": [
           "#636efa",
           "#EF553B",
           "#00cc96",
           "#ab63fa",
           "#FFA15A",
           "#19d3f3",
           "#FF6692",
           "#B6E880",
           "#FF97FF",
           "#FECB52"
          ],
          "font": {
           "color": "#2a3f5f"
          },
          "geo": {
           "bgcolor": "white",
           "lakecolor": "white",
           "landcolor": "#E5ECF6",
           "showlakes": true,
           "showland": true,
           "subunitcolor": "white"
          },
          "hoverlabel": {
           "align": "left"
          },
          "hovermode": "closest",
          "mapbox": {
           "style": "light"
          },
          "paper_bgcolor": "white",
          "plot_bgcolor": "#E5ECF6",
          "polar": {
           "angularaxis": {
            "gridcolor": "white",
            "linecolor": "white",
            "ticks": ""
           },
           "bgcolor": "#E5ECF6",
           "radialaxis": {
            "gridcolor": "white",
            "linecolor": "white",
            "ticks": ""
           }
          },
          "scene": {
           "xaxis": {
            "backgroundcolor": "#E5ECF6",
            "gridcolor": "white",
            "gridwidth": 2,
            "linecolor": "white",
            "showbackground": true,
            "ticks": "",
            "zerolinecolor": "white"
           },
           "yaxis": {
            "backgroundcolor": "#E5ECF6",
            "gridcolor": "white",
            "gridwidth": 2,
            "linecolor": "white",
            "showbackground": true,
            "ticks": "",
            "zerolinecolor": "white"
           },
           "zaxis": {
            "backgroundcolor": "#E5ECF6",
            "gridcolor": "white",
            "gridwidth": 2,
            "linecolor": "white",
            "showbackground": true,
            "ticks": "",
            "zerolinecolor": "white"
           }
          },
          "shapedefaults": {
           "line": {
            "color": "#2a3f5f"
           }
          },
          "ternary": {
           "aaxis": {
            "gridcolor": "white",
            "linecolor": "white",
            "ticks": ""
           },
           "baxis": {
            "gridcolor": "white",
            "linecolor": "white",
            "ticks": ""
           },
           "bgcolor": "#E5ECF6",
           "caxis": {
            "gridcolor": "white",
            "linecolor": "white",
            "ticks": ""
           }
          },
          "title": {
           "x": 0.05
          },
          "xaxis": {
           "automargin": true,
           "gridcolor": "white",
           "linecolor": "white",
           "ticks": "",
           "title": {
            "standoff": 15
           },
           "zerolinecolor": "white",
           "zerolinewidth": 2
          },
          "yaxis": {
           "automargin": true,
           "gridcolor": "white",
           "linecolor": "white",
           "ticks": "",
           "title": {
            "standoff": 15
           },
           "zerolinecolor": "white",
           "zerolinewidth": 2
          }
         }
        }
       }
      }
     },
     "metadata": {},
     "output_type": "display_data"
    }
   ],
   "source": [
    "df = px.data.iris()\n",
    "fig = px.scatter_3d(df, x=x.ravel(), y=y.ravel(), z=z.ravel())\n",
    "fig.show()"
   ]
  },
  {
   "cell_type": "markdown",
   "id": "2b995bb2",
   "metadata": {
    "papermill": {
     "duration": 0.021171,
     "end_time": "2024-07-07T16:10:49.633804",
     "exception": false,
     "start_time": "2024-07-07T16:10:49.612633",
     "status": "completed"
    },
    "tags": []
   },
   "source": [
    "# **Multiple Linear Regression**"
   ]
  },
  {
   "cell_type": "code",
   "execution_count": 27,
   "id": "61f0b7a8",
   "metadata": {
    "execution": {
     "iopub.execute_input": "2024-07-07T16:10:49.677848Z",
     "iopub.status.busy": "2024-07-07T16:10:49.677457Z",
     "iopub.status.idle": "2024-07-07T16:10:49.691115Z",
     "shell.execute_reply": "2024-07-07T16:10:49.689318Z"
    },
    "papermill": {
     "duration": 0.039203,
     "end_time": "2024-07-07T16:10:49.693982",
     "exception": false,
     "start_time": "2024-07-07T16:10:49.654779",
     "status": "completed"
    },
    "tags": []
   },
   "outputs": [
    {
     "data": {
      "text/html": [
       "<style>#sk-container-id-3 {\n",
       "  /* Definition of color scheme common for light and dark mode */\n",
       "  --sklearn-color-text: black;\n",
       "  --sklearn-color-line: gray;\n",
       "  /* Definition of color scheme for unfitted estimators */\n",
       "  --sklearn-color-unfitted-level-0: #fff5e6;\n",
       "  --sklearn-color-unfitted-level-1: #f6e4d2;\n",
       "  --sklearn-color-unfitted-level-2: #ffe0b3;\n",
       "  --sklearn-color-unfitted-level-3: chocolate;\n",
       "  /* Definition of color scheme for fitted estimators */\n",
       "  --sklearn-color-fitted-level-0: #f0f8ff;\n",
       "  --sklearn-color-fitted-level-1: #d4ebff;\n",
       "  --sklearn-color-fitted-level-2: #b3dbfd;\n",
       "  --sklearn-color-fitted-level-3: cornflowerblue;\n",
       "\n",
       "  /* Specific color for light theme */\n",
       "  --sklearn-color-text-on-default-background: var(--sg-text-color, var(--theme-code-foreground, var(--jp-content-font-color1, black)));\n",
       "  --sklearn-color-background: var(--sg-background-color, var(--theme-background, var(--jp-layout-color0, white)));\n",
       "  --sklearn-color-border-box: var(--sg-text-color, var(--theme-code-foreground, var(--jp-content-font-color1, black)));\n",
       "  --sklearn-color-icon: #696969;\n",
       "\n",
       "  @media (prefers-color-scheme: dark) {\n",
       "    /* Redefinition of color scheme for dark theme */\n",
       "    --sklearn-color-text-on-default-background: var(--sg-text-color, var(--theme-code-foreground, var(--jp-content-font-color1, white)));\n",
       "    --sklearn-color-background: var(--sg-background-color, var(--theme-background, var(--jp-layout-color0, #111)));\n",
       "    --sklearn-color-border-box: var(--sg-text-color, var(--theme-code-foreground, var(--jp-content-font-color1, white)));\n",
       "    --sklearn-color-icon: #878787;\n",
       "  }\n",
       "}\n",
       "\n",
       "#sk-container-id-3 {\n",
       "  color: var(--sklearn-color-text);\n",
       "}\n",
       "\n",
       "#sk-container-id-3 pre {\n",
       "  padding: 0;\n",
       "}\n",
       "\n",
       "#sk-container-id-3 input.sk-hidden--visually {\n",
       "  border: 0;\n",
       "  clip: rect(1px 1px 1px 1px);\n",
       "  clip: rect(1px, 1px, 1px, 1px);\n",
       "  height: 1px;\n",
       "  margin: -1px;\n",
       "  overflow: hidden;\n",
       "  padding: 0;\n",
       "  position: absolute;\n",
       "  width: 1px;\n",
       "}\n",
       "\n",
       "#sk-container-id-3 div.sk-dashed-wrapped {\n",
       "  border: 1px dashed var(--sklearn-color-line);\n",
       "  margin: 0 0.4em 0.5em 0.4em;\n",
       "  box-sizing: border-box;\n",
       "  padding-bottom: 0.4em;\n",
       "  background-color: var(--sklearn-color-background);\n",
       "}\n",
       "\n",
       "#sk-container-id-3 div.sk-container {\n",
       "  /* jupyter's `normalize.less` sets `[hidden] { display: none; }`\n",
       "     but bootstrap.min.css set `[hidden] { display: none !important; }`\n",
       "     so we also need the `!important` here to be able to override the\n",
       "     default hidden behavior on the sphinx rendered scikit-learn.org.\n",
       "     See: https://github.com/scikit-learn/scikit-learn/issues/21755 */\n",
       "  display: inline-block !important;\n",
       "  position: relative;\n",
       "}\n",
       "\n",
       "#sk-container-id-3 div.sk-text-repr-fallback {\n",
       "  display: none;\n",
       "}\n",
       "\n",
       "div.sk-parallel-item,\n",
       "div.sk-serial,\n",
       "div.sk-item {\n",
       "  /* draw centered vertical line to link estimators */\n",
       "  background-image: linear-gradient(var(--sklearn-color-text-on-default-background), var(--sklearn-color-text-on-default-background));\n",
       "  background-size: 2px 100%;\n",
       "  background-repeat: no-repeat;\n",
       "  background-position: center center;\n",
       "}\n",
       "\n",
       "/* Parallel-specific style estimator block */\n",
       "\n",
       "#sk-container-id-3 div.sk-parallel-item::after {\n",
       "  content: \"\";\n",
       "  width: 100%;\n",
       "  border-bottom: 2px solid var(--sklearn-color-text-on-default-background);\n",
       "  flex-grow: 1;\n",
       "}\n",
       "\n",
       "#sk-container-id-3 div.sk-parallel {\n",
       "  display: flex;\n",
       "  align-items: stretch;\n",
       "  justify-content: center;\n",
       "  background-color: var(--sklearn-color-background);\n",
       "  position: relative;\n",
       "}\n",
       "\n",
       "#sk-container-id-3 div.sk-parallel-item {\n",
       "  display: flex;\n",
       "  flex-direction: column;\n",
       "}\n",
       "\n",
       "#sk-container-id-3 div.sk-parallel-item:first-child::after {\n",
       "  align-self: flex-end;\n",
       "  width: 50%;\n",
       "}\n",
       "\n",
       "#sk-container-id-3 div.sk-parallel-item:last-child::after {\n",
       "  align-self: flex-start;\n",
       "  width: 50%;\n",
       "}\n",
       "\n",
       "#sk-container-id-3 div.sk-parallel-item:only-child::after {\n",
       "  width: 0;\n",
       "}\n",
       "\n",
       "/* Serial-specific style estimator block */\n",
       "\n",
       "#sk-container-id-3 div.sk-serial {\n",
       "  display: flex;\n",
       "  flex-direction: column;\n",
       "  align-items: center;\n",
       "  background-color: var(--sklearn-color-background);\n",
       "  padding-right: 1em;\n",
       "  padding-left: 1em;\n",
       "}\n",
       "\n",
       "\n",
       "/* Toggleable style: style used for estimator/Pipeline/ColumnTransformer box that is\n",
       "clickable and can be expanded/collapsed.\n",
       "- Pipeline and ColumnTransformer use this feature and define the default style\n",
       "- Estimators will overwrite some part of the style using the `sk-estimator` class\n",
       "*/\n",
       "\n",
       "/* Pipeline and ColumnTransformer style (default) */\n",
       "\n",
       "#sk-container-id-3 div.sk-toggleable {\n",
       "  /* Default theme specific background. It is overwritten whether we have a\n",
       "  specific estimator or a Pipeline/ColumnTransformer */\n",
       "  background-color: var(--sklearn-color-background);\n",
       "}\n",
       "\n",
       "/* Toggleable label */\n",
       "#sk-container-id-3 label.sk-toggleable__label {\n",
       "  cursor: pointer;\n",
       "  display: block;\n",
       "  width: 100%;\n",
       "  margin-bottom: 0;\n",
       "  padding: 0.5em;\n",
       "  box-sizing: border-box;\n",
       "  text-align: center;\n",
       "}\n",
       "\n",
       "#sk-container-id-3 label.sk-toggleable__label-arrow:before {\n",
       "  /* Arrow on the left of the label */\n",
       "  content: \"▸\";\n",
       "  float: left;\n",
       "  margin-right: 0.25em;\n",
       "  color: var(--sklearn-color-icon);\n",
       "}\n",
       "\n",
       "#sk-container-id-3 label.sk-toggleable__label-arrow:hover:before {\n",
       "  color: var(--sklearn-color-text);\n",
       "}\n",
       "\n",
       "/* Toggleable content - dropdown */\n",
       "\n",
       "#sk-container-id-3 div.sk-toggleable__content {\n",
       "  max-height: 0;\n",
       "  max-width: 0;\n",
       "  overflow: hidden;\n",
       "  text-align: left;\n",
       "  /* unfitted */\n",
       "  background-color: var(--sklearn-color-unfitted-level-0);\n",
       "}\n",
       "\n",
       "#sk-container-id-3 div.sk-toggleable__content.fitted {\n",
       "  /* fitted */\n",
       "  background-color: var(--sklearn-color-fitted-level-0);\n",
       "}\n",
       "\n",
       "#sk-container-id-3 div.sk-toggleable__content pre {\n",
       "  margin: 0.2em;\n",
       "  border-radius: 0.25em;\n",
       "  color: var(--sklearn-color-text);\n",
       "  /* unfitted */\n",
       "  background-color: var(--sklearn-color-unfitted-level-0);\n",
       "}\n",
       "\n",
       "#sk-container-id-3 div.sk-toggleable__content.fitted pre {\n",
       "  /* unfitted */\n",
       "  background-color: var(--sklearn-color-fitted-level-0);\n",
       "}\n",
       "\n",
       "#sk-container-id-3 input.sk-toggleable__control:checked~div.sk-toggleable__content {\n",
       "  /* Expand drop-down */\n",
       "  max-height: 200px;\n",
       "  max-width: 100%;\n",
       "  overflow: auto;\n",
       "}\n",
       "\n",
       "#sk-container-id-3 input.sk-toggleable__control:checked~label.sk-toggleable__label-arrow:before {\n",
       "  content: \"▾\";\n",
       "}\n",
       "\n",
       "/* Pipeline/ColumnTransformer-specific style */\n",
       "\n",
       "#sk-container-id-3 div.sk-label input.sk-toggleable__control:checked~label.sk-toggleable__label {\n",
       "  color: var(--sklearn-color-text);\n",
       "  background-color: var(--sklearn-color-unfitted-level-2);\n",
       "}\n",
       "\n",
       "#sk-container-id-3 div.sk-label.fitted input.sk-toggleable__control:checked~label.sk-toggleable__label {\n",
       "  background-color: var(--sklearn-color-fitted-level-2);\n",
       "}\n",
       "\n",
       "/* Estimator-specific style */\n",
       "\n",
       "/* Colorize estimator box */\n",
       "#sk-container-id-3 div.sk-estimator input.sk-toggleable__control:checked~label.sk-toggleable__label {\n",
       "  /* unfitted */\n",
       "  background-color: var(--sklearn-color-unfitted-level-2);\n",
       "}\n",
       "\n",
       "#sk-container-id-3 div.sk-estimator.fitted input.sk-toggleable__control:checked~label.sk-toggleable__label {\n",
       "  /* fitted */\n",
       "  background-color: var(--sklearn-color-fitted-level-2);\n",
       "}\n",
       "\n",
       "#sk-container-id-3 div.sk-label label.sk-toggleable__label,\n",
       "#sk-container-id-3 div.sk-label label {\n",
       "  /* The background is the default theme color */\n",
       "  color: var(--sklearn-color-text-on-default-background);\n",
       "}\n",
       "\n",
       "/* On hover, darken the color of the background */\n",
       "#sk-container-id-3 div.sk-label:hover label.sk-toggleable__label {\n",
       "  color: var(--sklearn-color-text);\n",
       "  background-color: var(--sklearn-color-unfitted-level-2);\n",
       "}\n",
       "\n",
       "/* Label box, darken color on hover, fitted */\n",
       "#sk-container-id-3 div.sk-label.fitted:hover label.sk-toggleable__label.fitted {\n",
       "  color: var(--sklearn-color-text);\n",
       "  background-color: var(--sklearn-color-fitted-level-2);\n",
       "}\n",
       "\n",
       "/* Estimator label */\n",
       "\n",
       "#sk-container-id-3 div.sk-label label {\n",
       "  font-family: monospace;\n",
       "  font-weight: bold;\n",
       "  display: inline-block;\n",
       "  line-height: 1.2em;\n",
       "}\n",
       "\n",
       "#sk-container-id-3 div.sk-label-container {\n",
       "  text-align: center;\n",
       "}\n",
       "\n",
       "/* Estimator-specific */\n",
       "#sk-container-id-3 div.sk-estimator {\n",
       "  font-family: monospace;\n",
       "  border: 1px dotted var(--sklearn-color-border-box);\n",
       "  border-radius: 0.25em;\n",
       "  box-sizing: border-box;\n",
       "  margin-bottom: 0.5em;\n",
       "  /* unfitted */\n",
       "  background-color: var(--sklearn-color-unfitted-level-0);\n",
       "}\n",
       "\n",
       "#sk-container-id-3 div.sk-estimator.fitted {\n",
       "  /* fitted */\n",
       "  background-color: var(--sklearn-color-fitted-level-0);\n",
       "}\n",
       "\n",
       "/* on hover */\n",
       "#sk-container-id-3 div.sk-estimator:hover {\n",
       "  /* unfitted */\n",
       "  background-color: var(--sklearn-color-unfitted-level-2);\n",
       "}\n",
       "\n",
       "#sk-container-id-3 div.sk-estimator.fitted:hover {\n",
       "  /* fitted */\n",
       "  background-color: var(--sklearn-color-fitted-level-2);\n",
       "}\n",
       "\n",
       "/* Specification for estimator info (e.g. \"i\" and \"?\") */\n",
       "\n",
       "/* Common style for \"i\" and \"?\" */\n",
       "\n",
       ".sk-estimator-doc-link,\n",
       "a:link.sk-estimator-doc-link,\n",
       "a:visited.sk-estimator-doc-link {\n",
       "  float: right;\n",
       "  font-size: smaller;\n",
       "  line-height: 1em;\n",
       "  font-family: monospace;\n",
       "  background-color: var(--sklearn-color-background);\n",
       "  border-radius: 1em;\n",
       "  height: 1em;\n",
       "  width: 1em;\n",
       "  text-decoration: none !important;\n",
       "  margin-left: 1ex;\n",
       "  /* unfitted */\n",
       "  border: var(--sklearn-color-unfitted-level-1) 1pt solid;\n",
       "  color: var(--sklearn-color-unfitted-level-1);\n",
       "}\n",
       "\n",
       ".sk-estimator-doc-link.fitted,\n",
       "a:link.sk-estimator-doc-link.fitted,\n",
       "a:visited.sk-estimator-doc-link.fitted {\n",
       "  /* fitted */\n",
       "  border: var(--sklearn-color-fitted-level-1) 1pt solid;\n",
       "  color: var(--sklearn-color-fitted-level-1);\n",
       "}\n",
       "\n",
       "/* On hover */\n",
       "div.sk-estimator:hover .sk-estimator-doc-link:hover,\n",
       ".sk-estimator-doc-link:hover,\n",
       "div.sk-label-container:hover .sk-estimator-doc-link:hover,\n",
       ".sk-estimator-doc-link:hover {\n",
       "  /* unfitted */\n",
       "  background-color: var(--sklearn-color-unfitted-level-3);\n",
       "  color: var(--sklearn-color-background);\n",
       "  text-decoration: none;\n",
       "}\n",
       "\n",
       "div.sk-estimator.fitted:hover .sk-estimator-doc-link.fitted:hover,\n",
       ".sk-estimator-doc-link.fitted:hover,\n",
       "div.sk-label-container:hover .sk-estimator-doc-link.fitted:hover,\n",
       ".sk-estimator-doc-link.fitted:hover {\n",
       "  /* fitted */\n",
       "  background-color: var(--sklearn-color-fitted-level-3);\n",
       "  color: var(--sklearn-color-background);\n",
       "  text-decoration: none;\n",
       "}\n",
       "\n",
       "/* Span, style for the box shown on hovering the info icon */\n",
       ".sk-estimator-doc-link span {\n",
       "  display: none;\n",
       "  z-index: 9999;\n",
       "  position: relative;\n",
       "  font-weight: normal;\n",
       "  right: .2ex;\n",
       "  padding: .5ex;\n",
       "  margin: .5ex;\n",
       "  width: min-content;\n",
       "  min-width: 20ex;\n",
       "  max-width: 50ex;\n",
       "  color: var(--sklearn-color-text);\n",
       "  box-shadow: 2pt 2pt 4pt #999;\n",
       "  /* unfitted */\n",
       "  background: var(--sklearn-color-unfitted-level-0);\n",
       "  border: .5pt solid var(--sklearn-color-unfitted-level-3);\n",
       "}\n",
       "\n",
       ".sk-estimator-doc-link.fitted span {\n",
       "  /* fitted */\n",
       "  background: var(--sklearn-color-fitted-level-0);\n",
       "  border: var(--sklearn-color-fitted-level-3);\n",
       "}\n",
       "\n",
       ".sk-estimator-doc-link:hover span {\n",
       "  display: block;\n",
       "}\n",
       "\n",
       "/* \"?\"-specific style due to the `<a>` HTML tag */\n",
       "\n",
       "#sk-container-id-3 a.estimator_doc_link {\n",
       "  float: right;\n",
       "  font-size: 1rem;\n",
       "  line-height: 1em;\n",
       "  font-family: monospace;\n",
       "  background-color: var(--sklearn-color-background);\n",
       "  border-radius: 1rem;\n",
       "  height: 1rem;\n",
       "  width: 1rem;\n",
       "  text-decoration: none;\n",
       "  /* unfitted */\n",
       "  color: var(--sklearn-color-unfitted-level-1);\n",
       "  border: var(--sklearn-color-unfitted-level-1) 1pt solid;\n",
       "}\n",
       "\n",
       "#sk-container-id-3 a.estimator_doc_link.fitted {\n",
       "  /* fitted */\n",
       "  border: var(--sklearn-color-fitted-level-1) 1pt solid;\n",
       "  color: var(--sklearn-color-fitted-level-1);\n",
       "}\n",
       "\n",
       "/* On hover */\n",
       "#sk-container-id-3 a.estimator_doc_link:hover {\n",
       "  /* unfitted */\n",
       "  background-color: var(--sklearn-color-unfitted-level-3);\n",
       "  color: var(--sklearn-color-background);\n",
       "  text-decoration: none;\n",
       "}\n",
       "\n",
       "#sk-container-id-3 a.estimator_doc_link.fitted:hover {\n",
       "  /* fitted */\n",
       "  background-color: var(--sklearn-color-fitted-level-3);\n",
       "}\n",
       "</style><div id=\"sk-container-id-3\" class=\"sk-top-container\"><div class=\"sk-text-repr-fallback\"><pre>LinearRegression()</pre><b>In a Jupyter environment, please rerun this cell to show the HTML representation or trust the notebook. <br />On GitHub, the HTML representation is unable to render, please try loading this page with nbviewer.org.</b></div><div class=\"sk-container\" hidden><div class=\"sk-item\"><div class=\"sk-estimator fitted sk-toggleable\"><input class=\"sk-toggleable__control sk-hidden--visually\" id=\"sk-estimator-id-3\" type=\"checkbox\" checked><label for=\"sk-estimator-id-3\" class=\"sk-toggleable__label fitted sk-toggleable__label-arrow fitted\">&nbsp;&nbsp;LinearRegression<a class=\"sk-estimator-doc-link fitted\" rel=\"noreferrer\" target=\"_blank\" href=\"https://scikit-learn.org/1.4/modules/generated/sklearn.linear_model.LinearRegression.html\">?<span>Documentation for LinearRegression</span></a><span class=\"sk-estimator-doc-link fitted\">i<span>Fitted</span></span></label><div class=\"sk-toggleable__content fitted\"><pre>LinearRegression()</pre></div> </div></div></div></div>"
      ],
      "text/plain": [
       "LinearRegression()"
      ]
     },
     "execution_count": 27,
     "metadata": {},
     "output_type": "execute_result"
    }
   ],
   "source": [
    "lr = LinearRegression()\n",
    "lr.fit(np.array([x,y]).reshape(100,2),z)"
   ]
  },
  {
   "cell_type": "markdown",
   "id": "04d6a6fb",
   "metadata": {
    "papermill": {
     "duration": 0.022852,
     "end_time": "2024-07-07T16:10:49.737296",
     "exception": false,
     "start_time": "2024-07-07T16:10:49.714444",
     "status": "completed"
    },
    "tags": []
   },
   "source": [
    "## Best Fit Hyperplane"
   ]
  },
  {
   "cell_type": "code",
   "execution_count": 28,
   "id": "10aec34f",
   "metadata": {
    "execution": {
     "iopub.execute_input": "2024-07-07T16:10:49.781971Z",
     "iopub.status.busy": "2024-07-07T16:10:49.781521Z",
     "iopub.status.idle": "2024-07-07T16:10:49.880339Z",
     "shell.execute_reply": "2024-07-07T16:10:49.878618Z"
    },
    "papermill": {
     "duration": 0.125327,
     "end_time": "2024-07-07T16:10:49.883320",
     "exception": false,
     "start_time": "2024-07-07T16:10:49.757993",
     "status": "completed"
    },
    "tags": []
   },
   "outputs": [
    {
     "data": {
      "application/vnd.plotly.v1+json": {
       "config": {
        "plotlyServerURL": "https://plot.ly"
       },
       "data": [
        {
         "hovertemplate": "x=%{x}<br>y=%{y}<br>z=%{z}<extra></extra>",
         "legendgroup": "",
         "marker": {
          "color": "#636efa",
          "symbol": "circle"
         },
         "mode": "markers",
         "name": "",
         "scene": "scene",
         "showlegend": false,
         "type": "scatter3d",
         "x": [
          4.13014197709189,
          -0.4642976124791254,
          1.3895327024793405,
          -0.2875590644353512,
          1.9627403866277087,
          3.1723986844321788,
          2.7498976967238926,
          1.5528981596010771,
          1.1590531155357118,
          -1.7313032652945002,
          2.894057943337521,
          4.084233859575464,
          1.6350260526400229,
          1.2700627036192191,
          -1.7598609144136728,
          -0.8632860855467817,
          -0.2763410995437665,
          -1.4580297288783095,
          4.132756099504348,
          3.6628832055703313,
          -0.19547241775455282,
          -1.7839105865171523,
          -0.030985559683661457,
          -1.6498686935991067,
          0.9675329658858378,
          -1.5515200052847962,
          -2.4566895719491355,
          1.5003745453619288,
          -0.13296160425467463,
          1.9843242476442384,
          0.8575225723545277,
          1.5934175139588556,
          -0.5705524166472253,
          1.27559378942132,
          0.6620109453777934,
          1.360219058393179,
          -2.7462142256907085,
          3.9542853814465815,
          -1.15424719326376,
          -2.263200644723679,
          -0.7362428409144757,
          2.050542529803101,
          3.7291343043994214,
          3.1090565878335497,
          -0.5131446268037707,
          3.0251964510803857,
          -2.4192291418070604,
          -2.150186753836214,
          -1.4955672890453993,
          2.714364419296725,
          2.2697067102385544,
          -1.8820351242935616,
          2.1569004797942375,
          2.532447267024428,
          -1.4639768339905281,
          1.894880217608189,
          0.03920396986103647,
          -2.2861441280126433,
          0.8221815719531471,
          0.64797040543105,
          3.3733608827541186,
          1.1213420705269797,
          3.081741123270013,
          0.372796203330223,
          2.20877702400663,
          3.989047993559349,
          -2.6521912082203896,
          0.3591454028689447,
          0.2089799327345605,
          2.6604899403458617,
          -2.6702305082540962,
          1.2589699982333462,
          -0.8482297838175179,
          0.5360496573016489,
          2.22078096831308,
          1.6092722845071412,
          -1.0766251369234596,
          -1.3621579108596844,
          3.154594819684851,
          0.7527482152472627,
          4.056919677452602,
          1.8446450193846387,
          -1.220298789705654,
          -1.6144718273081466,
          -0.5301630620075741,
          2.5457953790545647,
          0.42180916359400644,
          1.1755007858649198,
          1.366440797847166,
          -1.5780540028138645,
          -0.39781561469632987,
          -0.7384742212181661,
          3.753966023884187,
          -2.747116566061631,
          3.893251580529025,
          -1.8117256476707926,
          1.0089263091075908,
          -0.9621018663495704,
          -0.6690835947898495,
          2.5386538044572307
         ],
         "y": [
          2.0373894766332414,
          2.557772748551404,
          -1.4766725315458773,
          -1.380673783164989,
          2.503997845289142,
          -1.951002778227737,
          3.5504020615199927,
          3.666095079884257,
          0.7360119829745169,
          2.1230590760427974,
          -0.4585862994180463,
          1.6574058240449663,
          -2.6248542598319333,
          -1.265034180252297,
          0.3759592570383985,
          0.6315287244543377,
          4.1001242862063,
          4.192310024734154,
          -1.9383185771952982,
          -0.8669135812679345,
          -2.2218991564426047,
          -0.4100815693591082,
          3.8424259955302853,
          1.188478251101699,
          -2.520325351768393,
          0.8444174467951164,
          3.7316811647064085,
          4.009556722404982,
          3.583008968010148,
          2.514839290925427,
          -1.0390523624091113,
          3.503889460272924,
          -0.7198044427150672,
          3.343402033274457,
          -2.510213963317516,
          -2.405121919833832,
          2.82211290758063,
          -2.05303960498277,
          0.27445034627705533,
          -0.39791124485184026,
          -0.8546473330036344,
          -0.2656412144743343,
          0.5996325849024062,
          3.0550217757692604,
          1.5202859857996271,
          3.5515778630630566,
          3.0569668078354235,
          -1.7770824271347183,
          0.1593502049602633,
          0.9310918654478297,
          -1.0096955960089025,
          1.164003638813166,
          4.019546049497007,
          -1.223457054037346,
          2.691939455912477,
          4.164641473338208,
          -1.0216031132027048,
          3.1924304574251394,
          -1.5826856219711694,
          3.65405424373795,
          -0.670503222924272,
          -0.853927739409968,
          3.5331445949982374,
          -0.7618310675770337,
          -1.245331644111905,
          -0.6346507346043202,
          1.9142544220231166,
          -2.64867080437024,
          -1.723285294333227,
          -2.0234820116423164,
          0.8632761915796476,
          -2.4409948486204827,
          3.6445425687465063,
          0.47818337878822703,
          1.506498548141753,
          -1.3952693785347656,
          2.0709810882230144,
          -2.632146424990308,
          -2.250419253722101,
          3.5883811758904036,
          -1.2946529541640768,
          0.6322668051507434,
          0.8617971278626326,
          -1.5024178058811173,
          1.3264804966819375,
          -0.9710421936258804,
          1.7900747483516648,
          -0.9993435452266084,
          0.2275142072287646,
          0.7053182039851005,
          -2.664297427891067,
          -2.039426579183619,
          -2.1809062172402305,
          0.35258910867664195,
          0.9626625075461868,
          4.037412881210912,
          -0.38538262688685254,
          -1.5480126054008694,
          3.9703496908636504,
          0.9492097357458391
         ],
         "z": [
          25.180538959998543,
          9.380520336029686,
          5.804015634327106,
          2.9110287636336247,
          14.700499997393383,
          15.413147470015266,
          25.03334567752455,
          18.841964117282856,
          4.165387393859416,
          8.783118790110478,
          9.421758344764006,
          23.98713439328949,
          11.037352939908363,
          5.848271184593639,
          6.252334585512683,
          2.107563351264984,
          19.73988953611194,
          21.71303046601802,
          21.507004070612236,
          16.833960946856,
          5.917497552102965,
          4.85610509467983,
          18.22877560774851,
          4.8867748905753094,
          7.98185154418588,
          5.54124761234258,
          20.934845811869838,
          20.819348559905475,
          15.032668552506678,
          14.6829306029502,
          5.083923547664454,
          19.316689263234363,
          4.3746765706880915,
          14.681060422152797,
          8.998122110041939,
          9.265121483207066,
          17.615412962133476,
          22.38804256448435,
          3.5157469935383747,
          6.342226720050594,
          3.5697589449645197,
          5.887579011436194,
          17.691370181395776,
          22.88829802036957,
          3.329748258539094,
          27.57904844263923,
          16.11081714734318,
          9.554753012057699,
          1.7319280217440118,
          10.094907534011599,
          8.922409155115037,
          5.77719890160865,
          24.14534161058168,
          11.759868737013234,
          9.401790089654575,
          26.487955922641266,
          2.09262898473217,
          16.90607461547752,
          4.787674197596083,
          17.05935715956863,
          12.422088310710045,
          5.3809486381430744,
          25.914927320401507,
          2.8513951757620895,
          8.088895369391507,
          18.048347004586198,
          12.329197931899404,
          9.711624970957324,
          5.078909818087274,
          12.303889650097886,
          9.209481820003223,
          8.25384864073688,
          16.413996674664208,
          -0.29922296204904875,
          12.331118457476105,
          8.146459032557205,
          6.918146099763649,
          9.804998853942784,
          17.285300820092083,
          17.056969506203565,
          19.322989193734667,
          6.5254970891778346,
          3.017687046090784,
          7.447037919781366,
          2.9911157200251504,
          9.240362211479505,
          5.256397829292105,
          2.9863277359435214,
          4.5312079595930905,
          4.764186136792642,
          8.362982331154477,
          5.601119937541592,
          20.383068221386043,
          9.697698182290393,
          18.71739135703202,
          20.66591953374437,
          4.787389218682037,
          5.931579934115789,
          18.273794611558618,
          10.809559469801565
         ]
        },
        {
         "type": "surface",
         "x": [
          -2.747116566061631,
          -1.9826862698876333,
          -1.2182559737136356,
          -0.4538256775396379,
          0.31060461863435984,
          1.0750349148083576,
          1.8394652109823553,
          2.6038955071563525,
          3.3683258033303507,
          4.132756099504348
         ],
         "y": [
          -2.664297427891067,
          -1.9024521553771536,
          -1.14060688286324,
          -0.37876161034932654,
          0.3830836621645868,
          1.1449289346785,
          1.9067742071924139,
          2.6686194797063267,
          3.4304647522202405,
          4.192310024734154
         ],
         "z": [
          [
           12.98477957590177,
           12.47848256791072,
           11.97218555991967,
           11.465888551928618,
           10.959591543937567,
           10.453294535946515,
           9.946997527955464,
           9.440700519964413,
           8.934403511973361,
           8.42810650398231
          ],
          [
           13.165957756523749,
           12.6596607485327,
           12.153363740541648,
           11.647066732550597,
           11.140769724559545,
           10.634472716568494,
           10.128175708577443,
           9.621878700586391,
           9.11558169259534,
           8.609284684604289
          ],
          [
           13.34713593714573,
           12.840838929154678,
           12.334541921163627,
           11.828244913172576,
           11.321947905181524,
           10.815650897190473,
           10.309353889199421,
           9.80305688120837,
           9.296759873217319,
           8.790462865226267
          ],
          [
           13.528314117767708,
           13.022017109776657,
           12.515720101785606,
           12.009423093794554,
           11.503126085803503,
           10.996829077812452,
           10.4905320698214,
           9.98423506183035,
           9.4779380538393,
           8.971641045848248
          ],
          [
           13.709492298389687,
           13.203195290398636,
           12.696898282407584,
           12.190601274416533,
           11.684304266425482,
           11.17800725843443,
           10.671710250443379,
           10.16541324245233,
           9.659116234461276,
           9.152819226470225
          ],
          [
           13.890670479011666,
           13.384373471020615,
           12.878076463029563,
           12.371779455038512,
           11.86548244704746,
           11.359185439056409,
           10.85288843106536,
           10.346591423074308,
           9.840294415083257,
           9.333997407092205
          ],
          [
           14.071848659633645,
           13.565551651642593,
           13.059254643651542,
           12.55295763566049,
           12.046660627669441,
           11.54036361967839,
           11.034066611687338,
           10.527769603696287,
           10.021472595705236,
           9.515175587714184
          ],
          [
           14.253026840255623,
           13.746729832264572,
           13.24043282427352,
           12.734135816282471,
           12.22783880829142,
           11.721541800300368,
           11.215244792309317,
           10.708947784318266,
           10.202650776327214,
           9.696353768336163
          ],
          [
           14.434205020877602,
           13.927908012886551,
           13.421611004895501,
           12.91531399690445,
           12.409016988913399,
           11.902719980922347,
           11.396422972931296,
           10.890125964940244,
           10.383828956949193,
           9.877531948958142
          ],
          [
           14.615383201499583,
           14.109086193508531,
           13.60278918551748,
           13.096492177526429,
           12.590195169535377,
           12.083898161544326,
           11.577601153553275,
           11.071304145562223,
           10.565007137571172,
           10.05871012958012
          ]
         ]
        }
       ],
       "layout": {
        "legend": {
         "tracegroupgap": 0
        },
        "margin": {
         "t": 60
        },
        "scene": {
         "domain": {
          "x": [
           0,
           1
          ],
          "y": [
           0,
           1
          ]
         },
         "xaxis": {
          "title": {
           "text": "x"
          }
         },
         "yaxis": {
          "title": {
           "text": "y"
          }
         },
         "zaxis": {
          "title": {
           "text": "z"
          }
         }
        },
        "template": {
         "data": {
          "bar": [
           {
            "error_x": {
             "color": "#2a3f5f"
            },
            "error_y": {
             "color": "#2a3f5f"
            },
            "marker": {
             "line": {
              "color": "#E5ECF6",
              "width": 0.5
             },
             "pattern": {
              "fillmode": "overlay",
              "size": 10,
              "solidity": 0.2
             }
            },
            "type": "bar"
           }
          ],
          "barpolar": [
           {
            "marker": {
             "line": {
              "color": "#E5ECF6",
              "width": 0.5
             },
             "pattern": {
              "fillmode": "overlay",
              "size": 10,
              "solidity": 0.2
             }
            },
            "type": "barpolar"
           }
          ],
          "carpet": [
           {
            "aaxis": {
             "endlinecolor": "#2a3f5f",
             "gridcolor": "white",
             "linecolor": "white",
             "minorgridcolor": "white",
             "startlinecolor": "#2a3f5f"
            },
            "baxis": {
             "endlinecolor": "#2a3f5f",
             "gridcolor": "white",
             "linecolor": "white",
             "minorgridcolor": "white",
             "startlinecolor": "#2a3f5f"
            },
            "type": "carpet"
           }
          ],
          "choropleth": [
           {
            "colorbar": {
             "outlinewidth": 0,
             "ticks": ""
            },
            "type": "choropleth"
           }
          ],
          "contour": [
           {
            "colorbar": {
             "outlinewidth": 0,
             "ticks": ""
            },
            "colorscale": [
             [
              0,
              "#0d0887"
             ],
             [
              0.1111111111111111,
              "#46039f"
             ],
             [
              0.2222222222222222,
              "#7201a8"
             ],
             [
              0.3333333333333333,
              "#9c179e"
             ],
             [
              0.4444444444444444,
              "#bd3786"
             ],
             [
              0.5555555555555556,
              "#d8576b"
             ],
             [
              0.6666666666666666,
              "#ed7953"
             ],
             [
              0.7777777777777778,
              "#fb9f3a"
             ],
             [
              0.8888888888888888,
              "#fdca26"
             ],
             [
              1,
              "#f0f921"
             ]
            ],
            "type": "contour"
           }
          ],
          "contourcarpet": [
           {
            "colorbar": {
             "outlinewidth": 0,
             "ticks": ""
            },
            "type": "contourcarpet"
           }
          ],
          "heatmap": [
           {
            "colorbar": {
             "outlinewidth": 0,
             "ticks": ""
            },
            "colorscale": [
             [
              0,
              "#0d0887"
             ],
             [
              0.1111111111111111,
              "#46039f"
             ],
             [
              0.2222222222222222,
              "#7201a8"
             ],
             [
              0.3333333333333333,
              "#9c179e"
             ],
             [
              0.4444444444444444,
              "#bd3786"
             ],
             [
              0.5555555555555556,
              "#d8576b"
             ],
             [
              0.6666666666666666,
              "#ed7953"
             ],
             [
              0.7777777777777778,
              "#fb9f3a"
             ],
             [
              0.8888888888888888,
              "#fdca26"
             ],
             [
              1,
              "#f0f921"
             ]
            ],
            "type": "heatmap"
           }
          ],
          "heatmapgl": [
           {
            "colorbar": {
             "outlinewidth": 0,
             "ticks": ""
            },
            "colorscale": [
             [
              0,
              "#0d0887"
             ],
             [
              0.1111111111111111,
              "#46039f"
             ],
             [
              0.2222222222222222,
              "#7201a8"
             ],
             [
              0.3333333333333333,
              "#9c179e"
             ],
             [
              0.4444444444444444,
              "#bd3786"
             ],
             [
              0.5555555555555556,
              "#d8576b"
             ],
             [
              0.6666666666666666,
              "#ed7953"
             ],
             [
              0.7777777777777778,
              "#fb9f3a"
             ],
             [
              0.8888888888888888,
              "#fdca26"
             ],
             [
              1,
              "#f0f921"
             ]
            ],
            "type": "heatmapgl"
           }
          ],
          "histogram": [
           {
            "marker": {
             "pattern": {
              "fillmode": "overlay",
              "size": 10,
              "solidity": 0.2
             }
            },
            "type": "histogram"
           }
          ],
          "histogram2d": [
           {
            "colorbar": {
             "outlinewidth": 0,
             "ticks": ""
            },
            "colorscale": [
             [
              0,
              "#0d0887"
             ],
             [
              0.1111111111111111,
              "#46039f"
             ],
             [
              0.2222222222222222,
              "#7201a8"
             ],
             [
              0.3333333333333333,
              "#9c179e"
             ],
             [
              0.4444444444444444,
              "#bd3786"
             ],
             [
              0.5555555555555556,
              "#d8576b"
             ],
             [
              0.6666666666666666,
              "#ed7953"
             ],
             [
              0.7777777777777778,
              "#fb9f3a"
             ],
             [
              0.8888888888888888,
              "#fdca26"
             ],
             [
              1,
              "#f0f921"
             ]
            ],
            "type": "histogram2d"
           }
          ],
          "histogram2dcontour": [
           {
            "colorbar": {
             "outlinewidth": 0,
             "ticks": ""
            },
            "colorscale": [
             [
              0,
              "#0d0887"
             ],
             [
              0.1111111111111111,
              "#46039f"
             ],
             [
              0.2222222222222222,
              "#7201a8"
             ],
             [
              0.3333333333333333,
              "#9c179e"
             ],
             [
              0.4444444444444444,
              "#bd3786"
             ],
             [
              0.5555555555555556,
              "#d8576b"
             ],
             [
              0.6666666666666666,
              "#ed7953"
             ],
             [
              0.7777777777777778,
              "#fb9f3a"
             ],
             [
              0.8888888888888888,
              "#fdca26"
             ],
             [
              1,
              "#f0f921"
             ]
            ],
            "type": "histogram2dcontour"
           }
          ],
          "mesh3d": [
           {
            "colorbar": {
             "outlinewidth": 0,
             "ticks": ""
            },
            "type": "mesh3d"
           }
          ],
          "parcoords": [
           {
            "line": {
             "colorbar": {
              "outlinewidth": 0,
              "ticks": ""
             }
            },
            "type": "parcoords"
           }
          ],
          "pie": [
           {
            "automargin": true,
            "type": "pie"
           }
          ],
          "scatter": [
           {
            "fillpattern": {
             "fillmode": "overlay",
             "size": 10,
             "solidity": 0.2
            },
            "type": "scatter"
           }
          ],
          "scatter3d": [
           {
            "line": {
             "colorbar": {
              "outlinewidth": 0,
              "ticks": ""
             }
            },
            "marker": {
             "colorbar": {
              "outlinewidth": 0,
              "ticks": ""
             }
            },
            "type": "scatter3d"
           }
          ],
          "scattercarpet": [
           {
            "marker": {
             "colorbar": {
              "outlinewidth": 0,
              "ticks": ""
             }
            },
            "type": "scattercarpet"
           }
          ],
          "scattergeo": [
           {
            "marker": {
             "colorbar": {
              "outlinewidth": 0,
              "ticks": ""
             }
            },
            "type": "scattergeo"
           }
          ],
          "scattergl": [
           {
            "marker": {
             "colorbar": {
              "outlinewidth": 0,
              "ticks": ""
             }
            },
            "type": "scattergl"
           }
          ],
          "scattermapbox": [
           {
            "marker": {
             "colorbar": {
              "outlinewidth": 0,
              "ticks": ""
             }
            },
            "type": "scattermapbox"
           }
          ],
          "scatterpolar": [
           {
            "marker": {
             "colorbar": {
              "outlinewidth": 0,
              "ticks": ""
             }
            },
            "type": "scatterpolar"
           }
          ],
          "scatterpolargl": [
           {
            "marker": {
             "colorbar": {
              "outlinewidth": 0,
              "ticks": ""
             }
            },
            "type": "scatterpolargl"
           }
          ],
          "scatterternary": [
           {
            "marker": {
             "colorbar": {
              "outlinewidth": 0,
              "ticks": ""
             }
            },
            "type": "scatterternary"
           }
          ],
          "surface": [
           {
            "colorbar": {
             "outlinewidth": 0,
             "ticks": ""
            },
            "colorscale": [
             [
              0,
              "#0d0887"
             ],
             [
              0.1111111111111111,
              "#46039f"
             ],
             [
              0.2222222222222222,
              "#7201a8"
             ],
             [
              0.3333333333333333,
              "#9c179e"
             ],
             [
              0.4444444444444444,
              "#bd3786"
             ],
             [
              0.5555555555555556,
              "#d8576b"
             ],
             [
              0.6666666666666666,
              "#ed7953"
             ],
             [
              0.7777777777777778,
              "#fb9f3a"
             ],
             [
              0.8888888888888888,
              "#fdca26"
             ],
             [
              1,
              "#f0f921"
             ]
            ],
            "type": "surface"
           }
          ],
          "table": [
           {
            "cells": {
             "fill": {
              "color": "#EBF0F8"
             },
             "line": {
              "color": "white"
             }
            },
            "header": {
             "fill": {
              "color": "#C8D4E3"
             },
             "line": {
              "color": "white"
             }
            },
            "type": "table"
           }
          ]
         },
         "layout": {
          "annotationdefaults": {
           "arrowcolor": "#2a3f5f",
           "arrowhead": 0,
           "arrowwidth": 1
          },
          "autotypenumbers": "strict",
          "coloraxis": {
           "colorbar": {
            "outlinewidth": 0,
            "ticks": ""
           }
          },
          "colorscale": {
           "diverging": [
            [
             0,
             "#8e0152"
            ],
            [
             0.1,
             "#c51b7d"
            ],
            [
             0.2,
             "#de77ae"
            ],
            [
             0.3,
             "#f1b6da"
            ],
            [
             0.4,
             "#fde0ef"
            ],
            [
             0.5,
             "#f7f7f7"
            ],
            [
             0.6,
             "#e6f5d0"
            ],
            [
             0.7,
             "#b8e186"
            ],
            [
             0.8,
             "#7fbc41"
            ],
            [
             0.9,
             "#4d9221"
            ],
            [
             1,
             "#276419"
            ]
           ],
           "sequential": [
            [
             0,
             "#0d0887"
            ],
            [
             0.1111111111111111,
             "#46039f"
            ],
            [
             0.2222222222222222,
             "#7201a8"
            ],
            [
             0.3333333333333333,
             "#9c179e"
            ],
            [
             0.4444444444444444,
             "#bd3786"
            ],
            [
             0.5555555555555556,
             "#d8576b"
            ],
            [
             0.6666666666666666,
             "#ed7953"
            ],
            [
             0.7777777777777778,
             "#fb9f3a"
            ],
            [
             0.8888888888888888,
             "#fdca26"
            ],
            [
             1,
             "#f0f921"
            ]
           ],
           "sequentialminus": [
            [
             0,
             "#0d0887"
            ],
            [
             0.1111111111111111,
             "#46039f"
            ],
            [
             0.2222222222222222,
             "#7201a8"
            ],
            [
             0.3333333333333333,
             "#9c179e"
            ],
            [
             0.4444444444444444,
             "#bd3786"
            ],
            [
             0.5555555555555556,
             "#d8576b"
            ],
            [
             0.6666666666666666,
             "#ed7953"
            ],
            [
             0.7777777777777778,
             "#fb9f3a"
            ],
            [
             0.8888888888888888,
             "#fdca26"
            ],
            [
             1,
             "#f0f921"
            ]
           ]
          },
          "colorway": [
           "#636efa",
           "#EF553B",
           "#00cc96",
           "#ab63fa",
           "#FFA15A",
           "#19d3f3",
           "#FF6692",
           "#B6E880",
           "#FF97FF",
           "#FECB52"
          ],
          "font": {
           "color": "#2a3f5f"
          },
          "geo": {
           "bgcolor": "white",
           "lakecolor": "white",
           "landcolor": "#E5ECF6",
           "showlakes": true,
           "showland": true,
           "subunitcolor": "white"
          },
          "hoverlabel": {
           "align": "left"
          },
          "hovermode": "closest",
          "mapbox": {
           "style": "light"
          },
          "paper_bgcolor": "white",
          "plot_bgcolor": "#E5ECF6",
          "polar": {
           "angularaxis": {
            "gridcolor": "white",
            "linecolor": "white",
            "ticks": ""
           },
           "bgcolor": "#E5ECF6",
           "radialaxis": {
            "gridcolor": "white",
            "linecolor": "white",
            "ticks": ""
           }
          },
          "scene": {
           "xaxis": {
            "backgroundcolor": "#E5ECF6",
            "gridcolor": "white",
            "gridwidth": 2,
            "linecolor": "white",
            "showbackground": true,
            "ticks": "",
            "zerolinecolor": "white"
           },
           "yaxis": {
            "backgroundcolor": "#E5ECF6",
            "gridcolor": "white",
            "gridwidth": 2,
            "linecolor": "white",
            "showbackground": true,
            "ticks": "",
            "zerolinecolor": "white"
           },
           "zaxis": {
            "backgroundcolor": "#E5ECF6",
            "gridcolor": "white",
            "gridwidth": 2,
            "linecolor": "white",
            "showbackground": true,
            "ticks": "",
            "zerolinecolor": "white"
           }
          },
          "shapedefaults": {
           "line": {
            "color": "#2a3f5f"
           }
          },
          "ternary": {
           "aaxis": {
            "gridcolor": "white",
            "linecolor": "white",
            "ticks": ""
           },
           "baxis": {
            "gridcolor": "white",
            "linecolor": "white",
            "ticks": ""
           },
           "bgcolor": "#E5ECF6",
           "caxis": {
            "gridcolor": "white",
            "linecolor": "white",
            "ticks": ""
           }
          },
          "title": {
           "x": 0.05
          },
          "xaxis": {
           "automargin": true,
           "gridcolor": "white",
           "linecolor": "white",
           "ticks": "",
           "title": {
            "standoff": 15
           },
           "zerolinecolor": "white",
           "zerolinewidth": 2
          },
          "yaxis": {
           "automargin": true,
           "gridcolor": "white",
           "linecolor": "white",
           "ticks": "",
           "title": {
            "standoff": 15
           },
           "zerolinecolor": "white",
           "zerolinewidth": 2
          }
         }
        }
       }
      }
     },
     "metadata": {},
     "output_type": "display_data"
    }
   ],
   "source": [
    "x_input = np.linspace(x.min(), x.max(), 10)\n",
    "y_input = np.linspace(y.min(), y.max(), 10)\n",
    "xGrid, yGrid = np.meshgrid(x_input,y_input)\n",
    "\n",
    "final = np.vstack((xGrid.ravel().reshape(1,100),yGrid.ravel().reshape(1,100))).T\n",
    "\n",
    "z_final = lr.predict(final).reshape(10,10)\n",
    "\n",
    "fig = px.scatter_3d(df, x=x.ravel(), y=y.ravel(), z=z.ravel())\n",
    "fig.add_trace(go.Surface(x = x_input, y = y_input, z =z_final ))\n",
    "fig.show()"
   ]
  },
  {
   "cell_type": "code",
   "execution_count": 29,
   "id": "ba345207",
   "metadata": {
    "execution": {
     "iopub.execute_input": "2024-07-07T16:10:49.929856Z",
     "iopub.status.busy": "2024-07-07T16:10:49.929460Z",
     "iopub.status.idle": "2024-07-07T16:10:49.935929Z",
     "shell.execute_reply": "2024-07-07T16:10:49.934561Z"
    },
    "papermill": {
     "duration": 0.033408,
     "end_time": "2024-07-07T16:10:49.938581",
     "exception": false,
     "start_time": "2024-07-07T16:10:49.905173",
     "status": "completed"
    },
    "tags": []
   },
   "outputs": [],
   "source": [
    "X_multi = np.array([x,y]).reshape(100,2)"
   ]
  },
  {
   "cell_type": "markdown",
   "id": "bf65af3a",
   "metadata": {
    "papermill": {
     "duration": 0.022105,
     "end_time": "2024-07-07T16:10:49.983191",
     "exception": false,
     "start_time": "2024-07-07T16:10:49.961086",
     "status": "completed"
    },
    "tags": []
   },
   "source": [
    "# **Multiple Polynomial Linear Regression** \n",
    "## Feature Transformation\n",
    "- Degree is a hyperparameter of Polynomaial Linear Regression"
   ]
  },
  {
   "cell_type": "code",
   "execution_count": 30,
   "id": "4e5a2016",
   "metadata": {
    "execution": {
     "iopub.execute_input": "2024-07-07T16:10:50.028176Z",
     "iopub.status.busy": "2024-07-07T16:10:50.027766Z",
     "iopub.status.idle": "2024-07-07T16:10:50.034615Z",
     "shell.execute_reply": "2024-07-07T16:10:50.033100Z"
    },
    "papermill": {
     "duration": 0.032753,
     "end_time": "2024-07-07T16:10:50.037740",
     "exception": false,
     "start_time": "2024-07-07T16:10:50.004987",
     "status": "completed"
    },
    "tags": []
   },
   "outputs": [],
   "source": [
    "poly = PolynomialFeatures(degree=3)\n",
    "X_multi_trans = poly.fit_transform(X_multi)"
   ]
  },
  {
   "cell_type": "markdown",
   "id": "810301ce",
   "metadata": {
    "papermill": {
     "duration": 0.021017,
     "end_time": "2024-07-07T16:10:50.080159",
     "exception": false,
     "start_time": "2024-07-07T16:10:50.059142",
     "status": "completed"
    },
    "tags": []
   },
   "source": [
    "## poly.powers_ : The attribute which shows the possible degrees of each variable(column)\n",
    "- The Sum must be less than equal to the highest degree\n",
    "- Degree = 3 -> [2, 1] = 2 + 1 = 3 simillarly."
   ]
  },
  {
   "cell_type": "code",
   "execution_count": 31,
   "id": "69705196",
   "metadata": {
    "execution": {
     "iopub.execute_input": "2024-07-07T16:10:50.125656Z",
     "iopub.status.busy": "2024-07-07T16:10:50.125179Z",
     "iopub.status.idle": "2024-07-07T16:10:50.136320Z",
     "shell.execute_reply": "2024-07-07T16:10:50.134212Z"
    },
    "papermill": {
     "duration": 0.037116,
     "end_time": "2024-07-07T16:10:50.139118",
     "exception": false,
     "start_time": "2024-07-07T16:10:50.102002",
     "status": "completed"
    },
    "tags": []
   },
   "outputs": [
    {
     "name": "stdout",
     "output_type": "stream",
     "text": [
      "Powers\n",
      " [[0 0]\n",
      " [1 0]\n",
      " [0 1]\n",
      " [2 0]\n",
      " [1 1]\n",
      " [0 2]\n",
      " [3 0]\n",
      " [2 1]\n",
      " [1 2]\n",
      " [0 3]]\n"
     ]
    }
   ],
   "source": [
    "print(\"Powers\\n\",poly.powers_)"
   ]
  },
  {
   "cell_type": "code",
   "execution_count": 32,
   "id": "69b9df11",
   "metadata": {
    "execution": {
     "iopub.execute_input": "2024-07-07T16:10:50.186395Z",
     "iopub.status.busy": "2024-07-07T16:10:50.185889Z",
     "iopub.status.idle": "2024-07-07T16:10:50.196971Z",
     "shell.execute_reply": "2024-07-07T16:10:50.195810Z"
    },
    "papermill": {
     "duration": 0.03679,
     "end_time": "2024-07-07T16:10:50.199542",
     "exception": false,
     "start_time": "2024-07-07T16:10:50.162752",
     "status": "completed"
    },
    "tags": []
   },
   "outputs": [
    {
     "data": {
      "text/html": [
       "<style>#sk-container-id-4 {\n",
       "  /* Definition of color scheme common for light and dark mode */\n",
       "  --sklearn-color-text: black;\n",
       "  --sklearn-color-line: gray;\n",
       "  /* Definition of color scheme for unfitted estimators */\n",
       "  --sklearn-color-unfitted-level-0: #fff5e6;\n",
       "  --sklearn-color-unfitted-level-1: #f6e4d2;\n",
       "  --sklearn-color-unfitted-level-2: #ffe0b3;\n",
       "  --sklearn-color-unfitted-level-3: chocolate;\n",
       "  /* Definition of color scheme for fitted estimators */\n",
       "  --sklearn-color-fitted-level-0: #f0f8ff;\n",
       "  --sklearn-color-fitted-level-1: #d4ebff;\n",
       "  --sklearn-color-fitted-level-2: #b3dbfd;\n",
       "  --sklearn-color-fitted-level-3: cornflowerblue;\n",
       "\n",
       "  /* Specific color for light theme */\n",
       "  --sklearn-color-text-on-default-background: var(--sg-text-color, var(--theme-code-foreground, var(--jp-content-font-color1, black)));\n",
       "  --sklearn-color-background: var(--sg-background-color, var(--theme-background, var(--jp-layout-color0, white)));\n",
       "  --sklearn-color-border-box: var(--sg-text-color, var(--theme-code-foreground, var(--jp-content-font-color1, black)));\n",
       "  --sklearn-color-icon: #696969;\n",
       "\n",
       "  @media (prefers-color-scheme: dark) {\n",
       "    /* Redefinition of color scheme for dark theme */\n",
       "    --sklearn-color-text-on-default-background: var(--sg-text-color, var(--theme-code-foreground, var(--jp-content-font-color1, white)));\n",
       "    --sklearn-color-background: var(--sg-background-color, var(--theme-background, var(--jp-layout-color0, #111)));\n",
       "    --sklearn-color-border-box: var(--sg-text-color, var(--theme-code-foreground, var(--jp-content-font-color1, white)));\n",
       "    --sklearn-color-icon: #878787;\n",
       "  }\n",
       "}\n",
       "\n",
       "#sk-container-id-4 {\n",
       "  color: var(--sklearn-color-text);\n",
       "}\n",
       "\n",
       "#sk-container-id-4 pre {\n",
       "  padding: 0;\n",
       "}\n",
       "\n",
       "#sk-container-id-4 input.sk-hidden--visually {\n",
       "  border: 0;\n",
       "  clip: rect(1px 1px 1px 1px);\n",
       "  clip: rect(1px, 1px, 1px, 1px);\n",
       "  height: 1px;\n",
       "  margin: -1px;\n",
       "  overflow: hidden;\n",
       "  padding: 0;\n",
       "  position: absolute;\n",
       "  width: 1px;\n",
       "}\n",
       "\n",
       "#sk-container-id-4 div.sk-dashed-wrapped {\n",
       "  border: 1px dashed var(--sklearn-color-line);\n",
       "  margin: 0 0.4em 0.5em 0.4em;\n",
       "  box-sizing: border-box;\n",
       "  padding-bottom: 0.4em;\n",
       "  background-color: var(--sklearn-color-background);\n",
       "}\n",
       "\n",
       "#sk-container-id-4 div.sk-container {\n",
       "  /* jupyter's `normalize.less` sets `[hidden] { display: none; }`\n",
       "     but bootstrap.min.css set `[hidden] { display: none !important; }`\n",
       "     so we also need the `!important` here to be able to override the\n",
       "     default hidden behavior on the sphinx rendered scikit-learn.org.\n",
       "     See: https://github.com/scikit-learn/scikit-learn/issues/21755 */\n",
       "  display: inline-block !important;\n",
       "  position: relative;\n",
       "}\n",
       "\n",
       "#sk-container-id-4 div.sk-text-repr-fallback {\n",
       "  display: none;\n",
       "}\n",
       "\n",
       "div.sk-parallel-item,\n",
       "div.sk-serial,\n",
       "div.sk-item {\n",
       "  /* draw centered vertical line to link estimators */\n",
       "  background-image: linear-gradient(var(--sklearn-color-text-on-default-background), var(--sklearn-color-text-on-default-background));\n",
       "  background-size: 2px 100%;\n",
       "  background-repeat: no-repeat;\n",
       "  background-position: center center;\n",
       "}\n",
       "\n",
       "/* Parallel-specific style estimator block */\n",
       "\n",
       "#sk-container-id-4 div.sk-parallel-item::after {\n",
       "  content: \"\";\n",
       "  width: 100%;\n",
       "  border-bottom: 2px solid var(--sklearn-color-text-on-default-background);\n",
       "  flex-grow: 1;\n",
       "}\n",
       "\n",
       "#sk-container-id-4 div.sk-parallel {\n",
       "  display: flex;\n",
       "  align-items: stretch;\n",
       "  justify-content: center;\n",
       "  background-color: var(--sklearn-color-background);\n",
       "  position: relative;\n",
       "}\n",
       "\n",
       "#sk-container-id-4 div.sk-parallel-item {\n",
       "  display: flex;\n",
       "  flex-direction: column;\n",
       "}\n",
       "\n",
       "#sk-container-id-4 div.sk-parallel-item:first-child::after {\n",
       "  align-self: flex-end;\n",
       "  width: 50%;\n",
       "}\n",
       "\n",
       "#sk-container-id-4 div.sk-parallel-item:last-child::after {\n",
       "  align-self: flex-start;\n",
       "  width: 50%;\n",
       "}\n",
       "\n",
       "#sk-container-id-4 div.sk-parallel-item:only-child::after {\n",
       "  width: 0;\n",
       "}\n",
       "\n",
       "/* Serial-specific style estimator block */\n",
       "\n",
       "#sk-container-id-4 div.sk-serial {\n",
       "  display: flex;\n",
       "  flex-direction: column;\n",
       "  align-items: center;\n",
       "  background-color: var(--sklearn-color-background);\n",
       "  padding-right: 1em;\n",
       "  padding-left: 1em;\n",
       "}\n",
       "\n",
       "\n",
       "/* Toggleable style: style used for estimator/Pipeline/ColumnTransformer box that is\n",
       "clickable and can be expanded/collapsed.\n",
       "- Pipeline and ColumnTransformer use this feature and define the default style\n",
       "- Estimators will overwrite some part of the style using the `sk-estimator` class\n",
       "*/\n",
       "\n",
       "/* Pipeline and ColumnTransformer style (default) */\n",
       "\n",
       "#sk-container-id-4 div.sk-toggleable {\n",
       "  /* Default theme specific background. It is overwritten whether we have a\n",
       "  specific estimator or a Pipeline/ColumnTransformer */\n",
       "  background-color: var(--sklearn-color-background);\n",
       "}\n",
       "\n",
       "/* Toggleable label */\n",
       "#sk-container-id-4 label.sk-toggleable__label {\n",
       "  cursor: pointer;\n",
       "  display: block;\n",
       "  width: 100%;\n",
       "  margin-bottom: 0;\n",
       "  padding: 0.5em;\n",
       "  box-sizing: border-box;\n",
       "  text-align: center;\n",
       "}\n",
       "\n",
       "#sk-container-id-4 label.sk-toggleable__label-arrow:before {\n",
       "  /* Arrow on the left of the label */\n",
       "  content: \"▸\";\n",
       "  float: left;\n",
       "  margin-right: 0.25em;\n",
       "  color: var(--sklearn-color-icon);\n",
       "}\n",
       "\n",
       "#sk-container-id-4 label.sk-toggleable__label-arrow:hover:before {\n",
       "  color: var(--sklearn-color-text);\n",
       "}\n",
       "\n",
       "/* Toggleable content - dropdown */\n",
       "\n",
       "#sk-container-id-4 div.sk-toggleable__content {\n",
       "  max-height: 0;\n",
       "  max-width: 0;\n",
       "  overflow: hidden;\n",
       "  text-align: left;\n",
       "  /* unfitted */\n",
       "  background-color: var(--sklearn-color-unfitted-level-0);\n",
       "}\n",
       "\n",
       "#sk-container-id-4 div.sk-toggleable__content.fitted {\n",
       "  /* fitted */\n",
       "  background-color: var(--sklearn-color-fitted-level-0);\n",
       "}\n",
       "\n",
       "#sk-container-id-4 div.sk-toggleable__content pre {\n",
       "  margin: 0.2em;\n",
       "  border-radius: 0.25em;\n",
       "  color: var(--sklearn-color-text);\n",
       "  /* unfitted */\n",
       "  background-color: var(--sklearn-color-unfitted-level-0);\n",
       "}\n",
       "\n",
       "#sk-container-id-4 div.sk-toggleable__content.fitted pre {\n",
       "  /* unfitted */\n",
       "  background-color: var(--sklearn-color-fitted-level-0);\n",
       "}\n",
       "\n",
       "#sk-container-id-4 input.sk-toggleable__control:checked~div.sk-toggleable__content {\n",
       "  /* Expand drop-down */\n",
       "  max-height: 200px;\n",
       "  max-width: 100%;\n",
       "  overflow: auto;\n",
       "}\n",
       "\n",
       "#sk-container-id-4 input.sk-toggleable__control:checked~label.sk-toggleable__label-arrow:before {\n",
       "  content: \"▾\";\n",
       "}\n",
       "\n",
       "/* Pipeline/ColumnTransformer-specific style */\n",
       "\n",
       "#sk-container-id-4 div.sk-label input.sk-toggleable__control:checked~label.sk-toggleable__label {\n",
       "  color: var(--sklearn-color-text);\n",
       "  background-color: var(--sklearn-color-unfitted-level-2);\n",
       "}\n",
       "\n",
       "#sk-container-id-4 div.sk-label.fitted input.sk-toggleable__control:checked~label.sk-toggleable__label {\n",
       "  background-color: var(--sklearn-color-fitted-level-2);\n",
       "}\n",
       "\n",
       "/* Estimator-specific style */\n",
       "\n",
       "/* Colorize estimator box */\n",
       "#sk-container-id-4 div.sk-estimator input.sk-toggleable__control:checked~label.sk-toggleable__label {\n",
       "  /* unfitted */\n",
       "  background-color: var(--sklearn-color-unfitted-level-2);\n",
       "}\n",
       "\n",
       "#sk-container-id-4 div.sk-estimator.fitted input.sk-toggleable__control:checked~label.sk-toggleable__label {\n",
       "  /* fitted */\n",
       "  background-color: var(--sklearn-color-fitted-level-2);\n",
       "}\n",
       "\n",
       "#sk-container-id-4 div.sk-label label.sk-toggleable__label,\n",
       "#sk-container-id-4 div.sk-label label {\n",
       "  /* The background is the default theme color */\n",
       "  color: var(--sklearn-color-text-on-default-background);\n",
       "}\n",
       "\n",
       "/* On hover, darken the color of the background */\n",
       "#sk-container-id-4 div.sk-label:hover label.sk-toggleable__label {\n",
       "  color: var(--sklearn-color-text);\n",
       "  background-color: var(--sklearn-color-unfitted-level-2);\n",
       "}\n",
       "\n",
       "/* Label box, darken color on hover, fitted */\n",
       "#sk-container-id-4 div.sk-label.fitted:hover label.sk-toggleable__label.fitted {\n",
       "  color: var(--sklearn-color-text);\n",
       "  background-color: var(--sklearn-color-fitted-level-2);\n",
       "}\n",
       "\n",
       "/* Estimator label */\n",
       "\n",
       "#sk-container-id-4 div.sk-label label {\n",
       "  font-family: monospace;\n",
       "  font-weight: bold;\n",
       "  display: inline-block;\n",
       "  line-height: 1.2em;\n",
       "}\n",
       "\n",
       "#sk-container-id-4 div.sk-label-container {\n",
       "  text-align: center;\n",
       "}\n",
       "\n",
       "/* Estimator-specific */\n",
       "#sk-container-id-4 div.sk-estimator {\n",
       "  font-family: monospace;\n",
       "  border: 1px dotted var(--sklearn-color-border-box);\n",
       "  border-radius: 0.25em;\n",
       "  box-sizing: border-box;\n",
       "  margin-bottom: 0.5em;\n",
       "  /* unfitted */\n",
       "  background-color: var(--sklearn-color-unfitted-level-0);\n",
       "}\n",
       "\n",
       "#sk-container-id-4 div.sk-estimator.fitted {\n",
       "  /* fitted */\n",
       "  background-color: var(--sklearn-color-fitted-level-0);\n",
       "}\n",
       "\n",
       "/* on hover */\n",
       "#sk-container-id-4 div.sk-estimator:hover {\n",
       "  /* unfitted */\n",
       "  background-color: var(--sklearn-color-unfitted-level-2);\n",
       "}\n",
       "\n",
       "#sk-container-id-4 div.sk-estimator.fitted:hover {\n",
       "  /* fitted */\n",
       "  background-color: var(--sklearn-color-fitted-level-2);\n",
       "}\n",
       "\n",
       "/* Specification for estimator info (e.g. \"i\" and \"?\") */\n",
       "\n",
       "/* Common style for \"i\" and \"?\" */\n",
       "\n",
       ".sk-estimator-doc-link,\n",
       "a:link.sk-estimator-doc-link,\n",
       "a:visited.sk-estimator-doc-link {\n",
       "  float: right;\n",
       "  font-size: smaller;\n",
       "  line-height: 1em;\n",
       "  font-family: monospace;\n",
       "  background-color: var(--sklearn-color-background);\n",
       "  border-radius: 1em;\n",
       "  height: 1em;\n",
       "  width: 1em;\n",
       "  text-decoration: none !important;\n",
       "  margin-left: 1ex;\n",
       "  /* unfitted */\n",
       "  border: var(--sklearn-color-unfitted-level-1) 1pt solid;\n",
       "  color: var(--sklearn-color-unfitted-level-1);\n",
       "}\n",
       "\n",
       ".sk-estimator-doc-link.fitted,\n",
       "a:link.sk-estimator-doc-link.fitted,\n",
       "a:visited.sk-estimator-doc-link.fitted {\n",
       "  /* fitted */\n",
       "  border: var(--sklearn-color-fitted-level-1) 1pt solid;\n",
       "  color: var(--sklearn-color-fitted-level-1);\n",
       "}\n",
       "\n",
       "/* On hover */\n",
       "div.sk-estimator:hover .sk-estimator-doc-link:hover,\n",
       ".sk-estimator-doc-link:hover,\n",
       "div.sk-label-container:hover .sk-estimator-doc-link:hover,\n",
       ".sk-estimator-doc-link:hover {\n",
       "  /* unfitted */\n",
       "  background-color: var(--sklearn-color-unfitted-level-3);\n",
       "  color: var(--sklearn-color-background);\n",
       "  text-decoration: none;\n",
       "}\n",
       "\n",
       "div.sk-estimator.fitted:hover .sk-estimator-doc-link.fitted:hover,\n",
       ".sk-estimator-doc-link.fitted:hover,\n",
       "div.sk-label-container:hover .sk-estimator-doc-link.fitted:hover,\n",
       ".sk-estimator-doc-link.fitted:hover {\n",
       "  /* fitted */\n",
       "  background-color: var(--sklearn-color-fitted-level-3);\n",
       "  color: var(--sklearn-color-background);\n",
       "  text-decoration: none;\n",
       "}\n",
       "\n",
       "/* Span, style for the box shown on hovering the info icon */\n",
       ".sk-estimator-doc-link span {\n",
       "  display: none;\n",
       "  z-index: 9999;\n",
       "  position: relative;\n",
       "  font-weight: normal;\n",
       "  right: .2ex;\n",
       "  padding: .5ex;\n",
       "  margin: .5ex;\n",
       "  width: min-content;\n",
       "  min-width: 20ex;\n",
       "  max-width: 50ex;\n",
       "  color: var(--sklearn-color-text);\n",
       "  box-shadow: 2pt 2pt 4pt #999;\n",
       "  /* unfitted */\n",
       "  background: var(--sklearn-color-unfitted-level-0);\n",
       "  border: .5pt solid var(--sklearn-color-unfitted-level-3);\n",
       "}\n",
       "\n",
       ".sk-estimator-doc-link.fitted span {\n",
       "  /* fitted */\n",
       "  background: var(--sklearn-color-fitted-level-0);\n",
       "  border: var(--sklearn-color-fitted-level-3);\n",
       "}\n",
       "\n",
       ".sk-estimator-doc-link:hover span {\n",
       "  display: block;\n",
       "}\n",
       "\n",
       "/* \"?\"-specific style due to the `<a>` HTML tag */\n",
       "\n",
       "#sk-container-id-4 a.estimator_doc_link {\n",
       "  float: right;\n",
       "  font-size: 1rem;\n",
       "  line-height: 1em;\n",
       "  font-family: monospace;\n",
       "  background-color: var(--sklearn-color-background);\n",
       "  border-radius: 1rem;\n",
       "  height: 1rem;\n",
       "  width: 1rem;\n",
       "  text-decoration: none;\n",
       "  /* unfitted */\n",
       "  color: var(--sklearn-color-unfitted-level-1);\n",
       "  border: var(--sklearn-color-unfitted-level-1) 1pt solid;\n",
       "}\n",
       "\n",
       "#sk-container-id-4 a.estimator_doc_link.fitted {\n",
       "  /* fitted */\n",
       "  border: var(--sklearn-color-fitted-level-1) 1pt solid;\n",
       "  color: var(--sklearn-color-fitted-level-1);\n",
       "}\n",
       "\n",
       "/* On hover */\n",
       "#sk-container-id-4 a.estimator_doc_link:hover {\n",
       "  /* unfitted */\n",
       "  background-color: var(--sklearn-color-unfitted-level-3);\n",
       "  color: var(--sklearn-color-background);\n",
       "  text-decoration: none;\n",
       "}\n",
       "\n",
       "#sk-container-id-4 a.estimator_doc_link.fitted:hover {\n",
       "  /* fitted */\n",
       "  background-color: var(--sklearn-color-fitted-level-3);\n",
       "}\n",
       "</style><div id=\"sk-container-id-4\" class=\"sk-top-container\"><div class=\"sk-text-repr-fallback\"><pre>LinearRegression()</pre><b>In a Jupyter environment, please rerun this cell to show the HTML representation or trust the notebook. <br />On GitHub, the HTML representation is unable to render, please try loading this page with nbviewer.org.</b></div><div class=\"sk-container\" hidden><div class=\"sk-item\"><div class=\"sk-estimator fitted sk-toggleable\"><input class=\"sk-toggleable__control sk-hidden--visually\" id=\"sk-estimator-id-4\" type=\"checkbox\" checked><label for=\"sk-estimator-id-4\" class=\"sk-toggleable__label fitted sk-toggleable__label-arrow fitted\">&nbsp;&nbsp;LinearRegression<a class=\"sk-estimator-doc-link fitted\" rel=\"noreferrer\" target=\"_blank\" href=\"https://scikit-learn.org/1.4/modules/generated/sklearn.linear_model.LinearRegression.html\">?<span>Documentation for LinearRegression</span></a><span class=\"sk-estimator-doc-link fitted\">i<span>Fitted</span></span></label><div class=\"sk-toggleable__content fitted\"><pre>LinearRegression()</pre></div> </div></div></div></div>"
      ],
      "text/plain": [
       "LinearRegression()"
      ]
     },
     "execution_count": 32,
     "metadata": {},
     "output_type": "execute_result"
    }
   ],
   "source": [
    "lr = LinearRegression()\n",
    "lr.fit(X_multi_trans,z)"
   ]
  },
  {
   "cell_type": "markdown",
   "id": "c0698e15",
   "metadata": {
    "papermill": {
     "duration": 0.020363,
     "end_time": "2024-07-07T16:10:50.240655",
     "exception": false,
     "start_time": "2024-07-07T16:10:50.220292",
     "status": "completed"
    },
    "tags": []
   },
   "source": [
    "## Model Prediction and r2_score"
   ]
  },
  {
   "cell_type": "code",
   "execution_count": 33,
   "id": "9bbf981c",
   "metadata": {
    "execution": {
     "iopub.execute_input": "2024-07-07T16:10:50.285951Z",
     "iopub.status.busy": "2024-07-07T16:10:50.285541Z",
     "iopub.status.idle": "2024-07-07T16:10:50.291343Z",
     "shell.execute_reply": "2024-07-07T16:10:50.290099Z"
    },
    "papermill": {
     "duration": 0.031915,
     "end_time": "2024-07-07T16:10:50.294121",
     "exception": false,
     "start_time": "2024-07-07T16:10:50.262206",
     "status": "completed"
    },
    "tags": []
   },
   "outputs": [],
   "source": [
    "z_pred = lr.predict(X_multi_trans)"
   ]
  },
  {
   "cell_type": "code",
   "execution_count": 34,
   "id": "8ee3f45d",
   "metadata": {
    "execution": {
     "iopub.execute_input": "2024-07-07T16:10:50.338668Z",
     "iopub.status.busy": "2024-07-07T16:10:50.338196Z",
     "iopub.status.idle": "2024-07-07T16:10:50.347269Z",
     "shell.execute_reply": "2024-07-07T16:10:50.346034Z"
    },
    "papermill": {
     "duration": 0.035014,
     "end_time": "2024-07-07T16:10:50.350047",
     "exception": false,
     "start_time": "2024-07-07T16:10:50.315033",
     "status": "completed"
    },
    "tags": []
   },
   "outputs": [
    {
     "data": {
      "text/plain": [
       "0.09175846530784815"
      ]
     },
     "execution_count": 34,
     "metadata": {},
     "output_type": "execute_result"
    }
   ],
   "source": [
    "r2_score(z, z_pred)"
   ]
  },
  {
   "cell_type": "markdown",
   "id": "8b62b5f9",
   "metadata": {
    "papermill": {
     "duration": 0.023067,
     "end_time": "2024-07-07T16:10:50.395461",
     "exception": false,
     "start_time": "2024-07-07T16:10:50.372394",
     "status": "completed"
    },
    "tags": []
   },
   "source": [
    "## Best Fit Hyperplane\n",
    "In Polynomial Regression, the model aims to fit a curve (not just a straight line) to the data points. As you increase the degree of the polynomial, the model becomes more flexible and can capture intricate patterns in the data. However, this flexibility comes with a risk: the model may start to fit not just the underlying pattern but also the noise in the data. This phenomenon is known as overfitting."
   ]
  },
  {
   "cell_type": "code",
   "execution_count": 35,
   "id": "bccb5277",
   "metadata": {
    "execution": {
     "iopub.execute_input": "2024-07-07T16:10:50.440756Z",
     "iopub.status.busy": "2024-07-07T16:10:50.440059Z",
     "iopub.status.idle": "2024-07-07T16:10:50.523206Z",
     "shell.execute_reply": "2024-07-07T16:10:50.521587Z"
    },
    "papermill": {
     "duration": 0.109035,
     "end_time": "2024-07-07T16:10:50.526024",
     "exception": false,
     "start_time": "2024-07-07T16:10:50.416989",
     "status": "completed"
    },
    "tags": []
   },
   "outputs": [
    {
     "data": {
      "application/vnd.plotly.v1+json": {
       "config": {
        "plotlyServerURL": "https://plot.ly"
       },
       "data": [
        {
         "hovertemplate": "x=%{x}<br>y=%{y}<br>z=%{z}<extra></extra>",
         "legendgroup": "",
         "marker": {
          "color": "#636efa",
          "symbol": "circle"
         },
         "mode": "markers",
         "name": "",
         "scene": "scene",
         "showlegend": false,
         "type": "scatter3d",
         "x": [
          4.13014197709189,
          -0.4642976124791254,
          1.3895327024793405,
          -0.2875590644353512,
          1.9627403866277087,
          3.1723986844321788,
          2.7498976967238926,
          1.5528981596010771,
          1.1590531155357118,
          -1.7313032652945002,
          2.894057943337521,
          4.084233859575464,
          1.6350260526400229,
          1.2700627036192191,
          -1.7598609144136728,
          -0.8632860855467817,
          -0.2763410995437665,
          -1.4580297288783095,
          4.132756099504348,
          3.6628832055703313,
          -0.19547241775455282,
          -1.7839105865171523,
          -0.030985559683661457,
          -1.6498686935991067,
          0.9675329658858378,
          -1.5515200052847962,
          -2.4566895719491355,
          1.5003745453619288,
          -0.13296160425467463,
          1.9843242476442384,
          0.8575225723545277,
          1.5934175139588556,
          -0.5705524166472253,
          1.27559378942132,
          0.6620109453777934,
          1.360219058393179,
          -2.7462142256907085,
          3.9542853814465815,
          -1.15424719326376,
          -2.263200644723679,
          -0.7362428409144757,
          2.050542529803101,
          3.7291343043994214,
          3.1090565878335497,
          -0.5131446268037707,
          3.0251964510803857,
          -2.4192291418070604,
          -2.150186753836214,
          -1.4955672890453993,
          2.714364419296725,
          2.2697067102385544,
          -1.8820351242935616,
          2.1569004797942375,
          2.532447267024428,
          -1.4639768339905281,
          1.894880217608189,
          0.03920396986103647,
          -2.2861441280126433,
          0.8221815719531471,
          0.64797040543105,
          3.3733608827541186,
          1.1213420705269797,
          3.081741123270013,
          0.372796203330223,
          2.20877702400663,
          3.989047993559349,
          -2.6521912082203896,
          0.3591454028689447,
          0.2089799327345605,
          2.6604899403458617,
          -2.6702305082540962,
          1.2589699982333462,
          -0.8482297838175179,
          0.5360496573016489,
          2.22078096831308,
          1.6092722845071412,
          -1.0766251369234596,
          -1.3621579108596844,
          3.154594819684851,
          0.7527482152472627,
          4.056919677452602,
          1.8446450193846387,
          -1.220298789705654,
          -1.6144718273081466,
          -0.5301630620075741,
          2.5457953790545647,
          0.42180916359400644,
          1.1755007858649198,
          1.366440797847166,
          -1.5780540028138645,
          -0.39781561469632987,
          -0.7384742212181661,
          3.753966023884187,
          -2.747116566061631,
          3.893251580529025,
          -1.8117256476707926,
          1.0089263091075908,
          -0.9621018663495704,
          -0.6690835947898495,
          2.5386538044572307
         ],
         "y": [
          2.0373894766332414,
          2.557772748551404,
          -1.4766725315458773,
          -1.380673783164989,
          2.503997845289142,
          -1.951002778227737,
          3.5504020615199927,
          3.666095079884257,
          0.7360119829745169,
          2.1230590760427974,
          -0.4585862994180463,
          1.6574058240449663,
          -2.6248542598319333,
          -1.265034180252297,
          0.3759592570383985,
          0.6315287244543377,
          4.1001242862063,
          4.192310024734154,
          -1.9383185771952982,
          -0.8669135812679345,
          -2.2218991564426047,
          -0.4100815693591082,
          3.8424259955302853,
          1.188478251101699,
          -2.520325351768393,
          0.8444174467951164,
          3.7316811647064085,
          4.009556722404982,
          3.583008968010148,
          2.514839290925427,
          -1.0390523624091113,
          3.503889460272924,
          -0.7198044427150672,
          3.343402033274457,
          -2.510213963317516,
          -2.405121919833832,
          2.82211290758063,
          -2.05303960498277,
          0.27445034627705533,
          -0.39791124485184026,
          -0.8546473330036344,
          -0.2656412144743343,
          0.5996325849024062,
          3.0550217757692604,
          1.5202859857996271,
          3.5515778630630566,
          3.0569668078354235,
          -1.7770824271347183,
          0.1593502049602633,
          0.9310918654478297,
          -1.0096955960089025,
          1.164003638813166,
          4.019546049497007,
          -1.223457054037346,
          2.691939455912477,
          4.164641473338208,
          -1.0216031132027048,
          3.1924304574251394,
          -1.5826856219711694,
          3.65405424373795,
          -0.670503222924272,
          -0.853927739409968,
          3.5331445949982374,
          -0.7618310675770337,
          -1.245331644111905,
          -0.6346507346043202,
          1.9142544220231166,
          -2.64867080437024,
          -1.723285294333227,
          -2.0234820116423164,
          0.8632761915796476,
          -2.4409948486204827,
          3.6445425687465063,
          0.47818337878822703,
          1.506498548141753,
          -1.3952693785347656,
          2.0709810882230144,
          -2.632146424990308,
          -2.250419253722101,
          3.5883811758904036,
          -1.2946529541640768,
          0.6322668051507434,
          0.8617971278626326,
          -1.5024178058811173,
          1.3264804966819375,
          -0.9710421936258804,
          1.7900747483516648,
          -0.9993435452266084,
          0.2275142072287646,
          0.7053182039851005,
          -2.664297427891067,
          -2.039426579183619,
          -2.1809062172402305,
          0.35258910867664195,
          0.9626625075461868,
          4.037412881210912,
          -0.38538262688685254,
          -1.5480126054008694,
          3.9703496908636504,
          0.9492097357458391
         ],
         "z": [
          25.180538959998543,
          9.380520336029686,
          5.804015634327106,
          2.9110287636336247,
          14.700499997393383,
          15.413147470015266,
          25.03334567752455,
          18.841964117282856,
          4.165387393859416,
          8.783118790110478,
          9.421758344764006,
          23.98713439328949,
          11.037352939908363,
          5.848271184593639,
          6.252334585512683,
          2.107563351264984,
          19.73988953611194,
          21.71303046601802,
          21.507004070612236,
          16.833960946856,
          5.917497552102965,
          4.85610509467983,
          18.22877560774851,
          4.8867748905753094,
          7.98185154418588,
          5.54124761234258,
          20.934845811869838,
          20.819348559905475,
          15.032668552506678,
          14.6829306029502,
          5.083923547664454,
          19.316689263234363,
          4.3746765706880915,
          14.681060422152797,
          8.998122110041939,
          9.265121483207066,
          17.615412962133476,
          22.38804256448435,
          3.5157469935383747,
          6.342226720050594,
          3.5697589449645197,
          5.887579011436194,
          17.691370181395776,
          22.88829802036957,
          3.329748258539094,
          27.57904844263923,
          16.11081714734318,
          9.554753012057699,
          1.7319280217440118,
          10.094907534011599,
          8.922409155115037,
          5.77719890160865,
          24.14534161058168,
          11.759868737013234,
          9.401790089654575,
          26.487955922641266,
          2.09262898473217,
          16.90607461547752,
          4.787674197596083,
          17.05935715956863,
          12.422088310710045,
          5.3809486381430744,
          25.914927320401507,
          2.8513951757620895,
          8.088895369391507,
          18.048347004586198,
          12.329197931899404,
          9.711624970957324,
          5.078909818087274,
          12.303889650097886,
          9.209481820003223,
          8.25384864073688,
          16.413996674664208,
          -0.29922296204904875,
          12.331118457476105,
          8.146459032557205,
          6.918146099763649,
          9.804998853942784,
          17.285300820092083,
          17.056969506203565,
          19.322989193734667,
          6.5254970891778346,
          3.017687046090784,
          7.447037919781366,
          2.9911157200251504,
          9.240362211479505,
          5.256397829292105,
          2.9863277359435214,
          4.5312079595930905,
          4.764186136792642,
          8.362982331154477,
          5.601119937541592,
          20.383068221386043,
          9.697698182290393,
          18.71739135703202,
          20.66591953374437,
          4.787389218682037,
          5.931579934115789,
          18.273794611558618,
          10.809559469801565
         ]
        },
        {
         "type": "surface",
         "x": [
          -2.747116566061631,
          -1.9826862698876333,
          -1.2182559737136356,
          -0.4538256775396379,
          0.31060461863435984,
          1.0750349148083576,
          1.8394652109823553,
          2.6038955071563525,
          3.3683258033303507,
          4.132756099504348
         ],
         "y": [
          -2.664297427891067,
          -1.9024521553771536,
          -1.14060688286324,
          -0.37876161034932654,
          0.3830836621645868,
          1.1449289346785,
          1.9067742071924139,
          2.6686194797063267,
          3.4304647522202405,
          4.192310024734154
         ],
         "z": [
          [
           10.449834445560596,
           12.13447069080274,
           10.997945417842333,
           10.75359166463982,
           10.706540533201155,
           8.028541413662303,
           12.338512838822806,
           12.170168786039124,
           11.718141088664543,
           5.900767365997062
          ],
          [
           11.16676852050718,
           11.354072434579532,
           11.077743460304918,
           13.12576623154263,
           14.218034782447743,
           13.279335048815925,
           14.258912939960101,
           13.469944992042867,
           12.790966905853995,
           10.210306061424923
          ],
          [
           14.488899869956008,
           7.596751215571285,
           14.42382273164019,
           9.399480455372755,
           14.445832077496421,
           9.956296711531502,
           11.09446008880215,
           14.343078753273254,
           10.170875064982638,
           13.133074815641745
          ],
          [
           10.23573379200351,
           10.803774824235457,
           9.754186161249065,
           12.174420939755553,
           13.907075214237317,
           12.638081193154289,
           13.914401556082566,
           11.472998261435471,
           11.842473608090542,
           10.638437741134336
          ],
          [
           8.830686266846362,
           11.390745241494315,
           14.459521961844306,
           13.656919741258571,
           10.818874484192968,
           12.722772232261491,
           8.825676831399228,
           9.975324544083659,
           11.81073525552784,
           14.51104365478711
          ],
          [
           11.285780798404263,
           11.643571303978568,
           9.78609196537481,
           7.114872278554193,
           13.39236345551911,
           14.33625438525902,
           10.537771440385583,
           13.497699977701817,
           4.973989799064338,
           12.000140031723426
          ],
          [
           12.195779104656875,
           9.725410919659728,
           12.720282682845275,
           6.1545245028998306,
           8.656017149350573,
           14.524342363623887,
           14.476076090423556,
           8.769723159705542,
           9.584476911354475,
           12.841031890943725
          ],
          [
           13.259705287942298,
           13.349927199177815,
           11.580366470670333,
           9.890908586489623,
           13.780101280130317,
           14.241808270386493,
           10.35625936729621,
           8.415002033665878,
           14.554099616077501,
           14.377121444951662
          ],
          [
           12.607181006150608,
           10.49729008200227,
           12.766817061020026,
           8.781812161850883,
           10.378335907445368,
           9.578005703820967,
           10.337979033405377,
           10.98138272105222,
           8.774585621101213,
           13.716466108762113
          ],
          [
           13.879091065943202,
           11.2059524203143,
           11.58861206419095,
           11.242754399310552,
           13.63755812185141,
           9.231939663919231,
           12.927304693092356,
           12.315226542666812,
           11.59282380257001,
           9.818637285562103
          ]
         ]
        }
       ],
       "layout": {
        "legend": {
         "tracegroupgap": 0
        },
        "margin": {
         "t": 60
        },
        "scene": {
         "domain": {
          "x": [
           0,
           1
          ],
          "y": [
           0,
           1
          ]
         },
         "xaxis": {
          "title": {
           "text": "x"
          }
         },
         "yaxis": {
          "title": {
           "text": "y"
          }
         },
         "zaxis": {
          "range": [
           0,
           35
          ],
          "title": {
           "text": "z"
          }
         }
        },
        "template": {
         "data": {
          "bar": [
           {
            "error_x": {
             "color": "#2a3f5f"
            },
            "error_y": {
             "color": "#2a3f5f"
            },
            "marker": {
             "line": {
              "color": "#E5ECF6",
              "width": 0.5
             },
             "pattern": {
              "fillmode": "overlay",
              "size": 10,
              "solidity": 0.2
             }
            },
            "type": "bar"
           }
          ],
          "barpolar": [
           {
            "marker": {
             "line": {
              "color": "#E5ECF6",
              "width": 0.5
             },
             "pattern": {
              "fillmode": "overlay",
              "size": 10,
              "solidity": 0.2
             }
            },
            "type": "barpolar"
           }
          ],
          "carpet": [
           {
            "aaxis": {
             "endlinecolor": "#2a3f5f",
             "gridcolor": "white",
             "linecolor": "white",
             "minorgridcolor": "white",
             "startlinecolor": "#2a3f5f"
            },
            "baxis": {
             "endlinecolor": "#2a3f5f",
             "gridcolor": "white",
             "linecolor": "white",
             "minorgridcolor": "white",
             "startlinecolor": "#2a3f5f"
            },
            "type": "carpet"
           }
          ],
          "choropleth": [
           {
            "colorbar": {
             "outlinewidth": 0,
             "ticks": ""
            },
            "type": "choropleth"
           }
          ],
          "contour": [
           {
            "colorbar": {
             "outlinewidth": 0,
             "ticks": ""
            },
            "colorscale": [
             [
              0,
              "#0d0887"
             ],
             [
              0.1111111111111111,
              "#46039f"
             ],
             [
              0.2222222222222222,
              "#7201a8"
             ],
             [
              0.3333333333333333,
              "#9c179e"
             ],
             [
              0.4444444444444444,
              "#bd3786"
             ],
             [
              0.5555555555555556,
              "#d8576b"
             ],
             [
              0.6666666666666666,
              "#ed7953"
             ],
             [
              0.7777777777777778,
              "#fb9f3a"
             ],
             [
              0.8888888888888888,
              "#fdca26"
             ],
             [
              1,
              "#f0f921"
             ]
            ],
            "type": "contour"
           }
          ],
          "contourcarpet": [
           {
            "colorbar": {
             "outlinewidth": 0,
             "ticks": ""
            },
            "type": "contourcarpet"
           }
          ],
          "heatmap": [
           {
            "colorbar": {
             "outlinewidth": 0,
             "ticks": ""
            },
            "colorscale": [
             [
              0,
              "#0d0887"
             ],
             [
              0.1111111111111111,
              "#46039f"
             ],
             [
              0.2222222222222222,
              "#7201a8"
             ],
             [
              0.3333333333333333,
              "#9c179e"
             ],
             [
              0.4444444444444444,
              "#bd3786"
             ],
             [
              0.5555555555555556,
              "#d8576b"
             ],
             [
              0.6666666666666666,
              "#ed7953"
             ],
             [
              0.7777777777777778,
              "#fb9f3a"
             ],
             [
              0.8888888888888888,
              "#fdca26"
             ],
             [
              1,
              "#f0f921"
             ]
            ],
            "type": "heatmap"
           }
          ],
          "heatmapgl": [
           {
            "colorbar": {
             "outlinewidth": 0,
             "ticks": ""
            },
            "colorscale": [
             [
              0,
              "#0d0887"
             ],
             [
              0.1111111111111111,
              "#46039f"
             ],
             [
              0.2222222222222222,
              "#7201a8"
             ],
             [
              0.3333333333333333,
              "#9c179e"
             ],
             [
              0.4444444444444444,
              "#bd3786"
             ],
             [
              0.5555555555555556,
              "#d8576b"
             ],
             [
              0.6666666666666666,
              "#ed7953"
             ],
             [
              0.7777777777777778,
              "#fb9f3a"
             ],
             [
              0.8888888888888888,
              "#fdca26"
             ],
             [
              1,
              "#f0f921"
             ]
            ],
            "type": "heatmapgl"
           }
          ],
          "histogram": [
           {
            "marker": {
             "pattern": {
              "fillmode": "overlay",
              "size": 10,
              "solidity": 0.2
             }
            },
            "type": "histogram"
           }
          ],
          "histogram2d": [
           {
            "colorbar": {
             "outlinewidth": 0,
             "ticks": ""
            },
            "colorscale": [
             [
              0,
              "#0d0887"
             ],
             [
              0.1111111111111111,
              "#46039f"
             ],
             [
              0.2222222222222222,
              "#7201a8"
             ],
             [
              0.3333333333333333,
              "#9c179e"
             ],
             [
              0.4444444444444444,
              "#bd3786"
             ],
             [
              0.5555555555555556,
              "#d8576b"
             ],
             [
              0.6666666666666666,
              "#ed7953"
             ],
             [
              0.7777777777777778,
              "#fb9f3a"
             ],
             [
              0.8888888888888888,
              "#fdca26"
             ],
             [
              1,
              "#f0f921"
             ]
            ],
            "type": "histogram2d"
           }
          ],
          "histogram2dcontour": [
           {
            "colorbar": {
             "outlinewidth": 0,
             "ticks": ""
            },
            "colorscale": [
             [
              0,
              "#0d0887"
             ],
             [
              0.1111111111111111,
              "#46039f"
             ],
             [
              0.2222222222222222,
              "#7201a8"
             ],
             [
              0.3333333333333333,
              "#9c179e"
             ],
             [
              0.4444444444444444,
              "#bd3786"
             ],
             [
              0.5555555555555556,
              "#d8576b"
             ],
             [
              0.6666666666666666,
              "#ed7953"
             ],
             [
              0.7777777777777778,
              "#fb9f3a"
             ],
             [
              0.8888888888888888,
              "#fdca26"
             ],
             [
              1,
              "#f0f921"
             ]
            ],
            "type": "histogram2dcontour"
           }
          ],
          "mesh3d": [
           {
            "colorbar": {
             "outlinewidth": 0,
             "ticks": ""
            },
            "type": "mesh3d"
           }
          ],
          "parcoords": [
           {
            "line": {
             "colorbar": {
              "outlinewidth": 0,
              "ticks": ""
             }
            },
            "type": "parcoords"
           }
          ],
          "pie": [
           {
            "automargin": true,
            "type": "pie"
           }
          ],
          "scatter": [
           {
            "fillpattern": {
             "fillmode": "overlay",
             "size": 10,
             "solidity": 0.2
            },
            "type": "scatter"
           }
          ],
          "scatter3d": [
           {
            "line": {
             "colorbar": {
              "outlinewidth": 0,
              "ticks": ""
             }
            },
            "marker": {
             "colorbar": {
              "outlinewidth": 0,
              "ticks": ""
             }
            },
            "type": "scatter3d"
           }
          ],
          "scattercarpet": [
           {
            "marker": {
             "colorbar": {
              "outlinewidth": 0,
              "ticks": ""
             }
            },
            "type": "scattercarpet"
           }
          ],
          "scattergeo": [
           {
            "marker": {
             "colorbar": {
              "outlinewidth": 0,
              "ticks": ""
             }
            },
            "type": "scattergeo"
           }
          ],
          "scattergl": [
           {
            "marker": {
             "colorbar": {
              "outlinewidth": 0,
              "ticks": ""
             }
            },
            "type": "scattergl"
           }
          ],
          "scattermapbox": [
           {
            "marker": {
             "colorbar": {
              "outlinewidth": 0,
              "ticks": ""
             }
            },
            "type": "scattermapbox"
           }
          ],
          "scatterpolar": [
           {
            "marker": {
             "colorbar": {
              "outlinewidth": 0,
              "ticks": ""
             }
            },
            "type": "scatterpolar"
           }
          ],
          "scatterpolargl": [
           {
            "marker": {
             "colorbar": {
              "outlinewidth": 0,
              "ticks": ""
             }
            },
            "type": "scatterpolargl"
           }
          ],
          "scatterternary": [
           {
            "marker": {
             "colorbar": {
              "outlinewidth": 0,
              "ticks": ""
             }
            },
            "type": "scatterternary"
           }
          ],
          "surface": [
           {
            "colorbar": {
             "outlinewidth": 0,
             "ticks": ""
            },
            "colorscale": [
             [
              0,
              "#0d0887"
             ],
             [
              0.1111111111111111,
              "#46039f"
             ],
             [
              0.2222222222222222,
              "#7201a8"
             ],
             [
              0.3333333333333333,
              "#9c179e"
             ],
             [
              0.4444444444444444,
              "#bd3786"
             ],
             [
              0.5555555555555556,
              "#d8576b"
             ],
             [
              0.6666666666666666,
              "#ed7953"
             ],
             [
              0.7777777777777778,
              "#fb9f3a"
             ],
             [
              0.8888888888888888,
              "#fdca26"
             ],
             [
              1,
              "#f0f921"
             ]
            ],
            "type": "surface"
           }
          ],
          "table": [
           {
            "cells": {
             "fill": {
              "color": "#EBF0F8"
             },
             "line": {
              "color": "white"
             }
            },
            "header": {
             "fill": {
              "color": "#C8D4E3"
             },
             "line": {
              "color": "white"
             }
            },
            "type": "table"
           }
          ]
         },
         "layout": {
          "annotationdefaults": {
           "arrowcolor": "#2a3f5f",
           "arrowhead": 0,
           "arrowwidth": 1
          },
          "autotypenumbers": "strict",
          "coloraxis": {
           "colorbar": {
            "outlinewidth": 0,
            "ticks": ""
           }
          },
          "colorscale": {
           "diverging": [
            [
             0,
             "#8e0152"
            ],
            [
             0.1,
             "#c51b7d"
            ],
            [
             0.2,
             "#de77ae"
            ],
            [
             0.3,
             "#f1b6da"
            ],
            [
             0.4,
             "#fde0ef"
            ],
            [
             0.5,
             "#f7f7f7"
            ],
            [
             0.6,
             "#e6f5d0"
            ],
            [
             0.7,
             "#b8e186"
            ],
            [
             0.8,
             "#7fbc41"
            ],
            [
             0.9,
             "#4d9221"
            ],
            [
             1,
             "#276419"
            ]
           ],
           "sequential": [
            [
             0,
             "#0d0887"
            ],
            [
             0.1111111111111111,
             "#46039f"
            ],
            [
             0.2222222222222222,
             "#7201a8"
            ],
            [
             0.3333333333333333,
             "#9c179e"
            ],
            [
             0.4444444444444444,
             "#bd3786"
            ],
            [
             0.5555555555555556,
             "#d8576b"
            ],
            [
             0.6666666666666666,
             "#ed7953"
            ],
            [
             0.7777777777777778,
             "#fb9f3a"
            ],
            [
             0.8888888888888888,
             "#fdca26"
            ],
            [
             1,
             "#f0f921"
            ]
           ],
           "sequentialminus": [
            [
             0,
             "#0d0887"
            ],
            [
             0.1111111111111111,
             "#46039f"
            ],
            [
             0.2222222222222222,
             "#7201a8"
            ],
            [
             0.3333333333333333,
             "#9c179e"
            ],
            [
             0.4444444444444444,
             "#bd3786"
            ],
            [
             0.5555555555555556,
             "#d8576b"
            ],
            [
             0.6666666666666666,
             "#ed7953"
            ],
            [
             0.7777777777777778,
             "#fb9f3a"
            ],
            [
             0.8888888888888888,
             "#fdca26"
            ],
            [
             1,
             "#f0f921"
            ]
           ]
          },
          "colorway": [
           "#636efa",
           "#EF553B",
           "#00cc96",
           "#ab63fa",
           "#FFA15A",
           "#19d3f3",
           "#FF6692",
           "#B6E880",
           "#FF97FF",
           "#FECB52"
          ],
          "font": {
           "color": "#2a3f5f"
          },
          "geo": {
           "bgcolor": "white",
           "lakecolor": "white",
           "landcolor": "#E5ECF6",
           "showlakes": true,
           "showland": true,
           "subunitcolor": "white"
          },
          "hoverlabel": {
           "align": "left"
          },
          "hovermode": "closest",
          "mapbox": {
           "style": "light"
          },
          "paper_bgcolor": "white",
          "plot_bgcolor": "#E5ECF6",
          "polar": {
           "angularaxis": {
            "gridcolor": "white",
            "linecolor": "white",
            "ticks": ""
           },
           "bgcolor": "#E5ECF6",
           "radialaxis": {
            "gridcolor": "white",
            "linecolor": "white",
            "ticks": ""
           }
          },
          "scene": {
           "xaxis": {
            "backgroundcolor": "#E5ECF6",
            "gridcolor": "white",
            "gridwidth": 2,
            "linecolor": "white",
            "showbackground": true,
            "ticks": "",
            "zerolinecolor": "white"
           },
           "yaxis": {
            "backgroundcolor": "#E5ECF6",
            "gridcolor": "white",
            "gridwidth": 2,
            "linecolor": "white",
            "showbackground": true,
            "ticks": "",
            "zerolinecolor": "white"
           },
           "zaxis": {
            "backgroundcolor": "#E5ECF6",
            "gridcolor": "white",
            "gridwidth": 2,
            "linecolor": "white",
            "showbackground": true,
            "ticks": "",
            "zerolinecolor": "white"
           }
          },
          "shapedefaults": {
           "line": {
            "color": "#2a3f5f"
           }
          },
          "ternary": {
           "aaxis": {
            "gridcolor": "white",
            "linecolor": "white",
            "ticks": ""
           },
           "baxis": {
            "gridcolor": "white",
            "linecolor": "white",
            "ticks": ""
           },
           "bgcolor": "#E5ECF6",
           "caxis": {
            "gridcolor": "white",
            "linecolor": "white",
            "ticks": ""
           }
          },
          "title": {
           "x": 0.05
          },
          "xaxis": {
           "automargin": true,
           "gridcolor": "white",
           "linecolor": "white",
           "ticks": "",
           "title": {
            "standoff": 15
           },
           "zerolinecolor": "white",
           "zerolinewidth": 2
          },
          "yaxis": {
           "automargin": true,
           "gridcolor": "white",
           "linecolor": "white",
           "ticks": "",
           "title": {
            "standoff": 15
           },
           "zerolinecolor": "white",
           "zerolinewidth": 2
          }
         }
        }
       }
      }
     },
     "metadata": {},
     "output_type": "display_data"
    }
   ],
   "source": [
    "X_test_multi = poly.transform(final)\n",
    "z_final = lr.predict(X_multi_trans).reshape(10,10)\n",
    "\n",
    "fig = px.scatter_3d(x=x.ravel(), y=y.ravel(), z=z.ravel())\n",
    "fig.add_trace(go.Surface(x = x_input, y = y_input, z = z_final))\n",
    "fig.update_layout(scene = dict(zaxis = dict(range=[0,35])))\n",
    "\n",
    "fig.show()"
   ]
  }
 ],
 "metadata": {
  "kaggle": {
   "accelerator": "none",
   "dataSources": [],
   "dockerImageVersionId": 30732,
   "isGpuEnabled": false,
   "isInternetEnabled": true,
   "language": "python",
   "sourceType": "notebook"
  },
  "kernelspec": {
   "display_name": "Python 3",
   "language": "python",
   "name": "python3"
  },
  "language_info": {
   "codemirror_mode": {
    "name": "ipython",
    "version": 3
   },
   "file_extension": ".py",
   "mimetype": "text/x-python",
   "name": "python",
   "nbconvert_exporter": "python",
   "pygments_lexer": "ipython3",
   "version": "3.12.2"
  },
  "papermill": {
   "default_parameters": {},
   "duration": 14.370873,
   "end_time": "2024-07-07T16:10:51.372322",
   "environment_variables": {},
   "exception": null,
   "input_path": "__notebook__.ipynb",
   "output_path": "__notebook__.ipynb",
   "parameters": {},
   "start_time": "2024-07-07T16:10:37.001449",
   "version": "2.5.0"
  }
 },
 "nbformat": 4,
 "nbformat_minor": 5
}
