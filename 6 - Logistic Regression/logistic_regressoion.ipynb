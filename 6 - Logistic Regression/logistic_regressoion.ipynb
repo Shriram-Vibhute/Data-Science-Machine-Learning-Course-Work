{
 "cells": [
  {
   "cell_type": "code",
   "execution_count": 213,
   "metadata": {},
   "outputs": [],
   "source": [
    "import numpy as np\n",
    "import pandas as pd\n",
    "\n",
    "import plotly.express as px\n",
    "import plotly.graph_objects as go\n",
    "\n",
    "from sklearn.datasets import make_classification\n",
    "from sklearn.model_selection import train_test_split\n",
    "from sklearn.linear_model import LogisticRegression"
   ]
  },
  {
   "cell_type": "code",
   "execution_count": 214,
   "metadata": {},
   "outputs": [
    {
     "data": {
      "text/html": [
       "<div>\n",
       "<style scoped>\n",
       "    .dataframe tbody tr th:only-of-type {\n",
       "        vertical-align: middle;\n",
       "    }\n",
       "\n",
       "    .dataframe tbody tr th {\n",
       "        vertical-align: top;\n",
       "    }\n",
       "\n",
       "    .dataframe thead th {\n",
       "        text-align: right;\n",
       "    }\n",
       "</style>\n",
       "<table border=\"1\" class=\"dataframe\">\n",
       "  <thead>\n",
       "    <tr style=\"text-align: right;\">\n",
       "      <th></th>\n",
       "      <th>X1</th>\n",
       "      <th>X2</th>\n",
       "      <th>y</th>\n",
       "    </tr>\n",
       "  </thead>\n",
       "  <tbody>\n",
       "    <tr>\n",
       "      <th>0</th>\n",
       "      <td>-4.473951</td>\n",
       "      <td>-1.436281</td>\n",
       "      <td>0</td>\n",
       "    </tr>\n",
       "    <tr>\n",
       "      <th>1</th>\n",
       "      <td>-3.965235</td>\n",
       "      <td>0.515680</td>\n",
       "      <td>0</td>\n",
       "    </tr>\n",
       "    <tr>\n",
       "      <th>2</th>\n",
       "      <td>-3.904806</td>\n",
       "      <td>0.429005</td>\n",
       "      <td>0</td>\n",
       "    </tr>\n",
       "    <tr>\n",
       "      <th>3</th>\n",
       "      <td>-3.939984</td>\n",
       "      <td>0.020888</td>\n",
       "      <td>0</td>\n",
       "    </tr>\n",
       "    <tr>\n",
       "      <th>4</th>\n",
       "      <td>7.374444</td>\n",
       "      <td>0.159692</td>\n",
       "      <td>1</td>\n",
       "    </tr>\n",
       "  </tbody>\n",
       "</table>\n",
       "</div>"
      ],
      "text/plain": [
       "         X1        X2  y\n",
       "0 -4.473951 -1.436281  0\n",
       "1 -3.965235  0.515680  0\n",
       "2 -3.904806  0.429005  0\n",
       "3 -3.939984  0.020888  0\n",
       "4  7.374444  0.159692  1"
      ]
     },
     "execution_count": 214,
     "metadata": {},
     "output_type": "execute_result"
    }
   ],
   "source": [
    "X, y = make_classification(\n",
    "    n_samples=100, # Number of samples to generate.\n",
    "    n_features=2, # Total number of features (or variables) for each sample.\n",
    "    n_informative=1, # Out of the 2 features, only 1 feature will be genuinely informative for the classification task. The informative features are the ones that contribute to distinguishing between classes.\n",
    "    n_redundant=0, # There are no redundant features. Redundant features are combinations of informative features that are used to create new features but do not provide additional information.\n",
    "    n_classes=2, # The dataset will have 2 classes. This is a binary classification problem.\n",
    "    n_clusters_per_class=1, # Each class will be represented by a single cluster. This means that the data points for each class will be grouped into one distinct cluster.\n",
    "    random_state=23, # seed \n",
    "    hypercube=False, # If False, the data is not generated from a hypercube but rather from a Gaussian distribution.\n",
    "    class_sep=10 # Separation between classes.\n",
    ")\n",
    "df = pd.DataFrame(X)\n",
    "df.rename(columns={0: 'X1', 1: 'X2'}, inplace=True)\n",
    "df['y'] = y\n",
    "df.head()"
   ]
  },
  {
   "cell_type": "code",
   "execution_count": 215,
   "metadata": {},
   "outputs": [
    {
     "data": {
      "application/vnd.plotly.v1+json": {
       "config": {
        "plotlyServerURL": "https://plot.ly"
       },
       "data": [
        {
         "hovertemplate": "X1=%{x}<br>X2=%{y}<br>y=%{marker.color}<extra></extra>",
         "legendgroup": "",
         "marker": {
          "color": [
           0,
           0,
           0,
           0,
           1,
           0,
           1,
           0,
           0,
           0,
           0,
           1,
           0,
           1,
           1,
           0,
           0,
           1,
           1,
           1,
           0,
           0,
           1,
           0,
           1,
           0,
           1,
           1,
           0,
           1,
           0,
           0,
           0,
           0,
           0,
           0,
           1,
           0,
           0,
           0,
           0,
           1,
           1,
           1,
           1,
           0,
           0,
           0,
           0,
           1,
           1,
           1,
           0,
           1,
           0,
           0,
           0,
           1,
           1,
           1,
           1,
           0,
           0,
           1,
           1,
           1,
           1,
           0,
           0,
           0,
           1,
           0,
           1,
           0,
           1,
           1,
           1,
           1,
           0,
           0,
           1,
           1,
           0,
           1,
           1,
           1,
           1,
           1,
           1,
           0,
           1,
           1,
           0,
           0,
           0,
           1,
           1,
           1,
           1,
           0
          ],
          "coloraxis": "coloraxis",
          "symbol": "circle"
         },
         "mode": "markers",
         "name": "",
         "orientation": "v",
         "showlegend": false,
         "type": "scatter",
         "x": [
          -4.473950818706932,
          -3.9652347177807186,
          -3.904806028302793,
          -3.939983636977865,
          7.374443640137842,
          -3.6467364059335754,
          7.619470912079629,
          -3.6742017462398984,
          -4.019927853027462,
          -3.8661303182413507,
          -4.2327126329346,
          7.517230728386392,
          -3.627276138631691,
          7.219482541699835,
          7.150458625693053,
          -4.096585449857788,
          -3.9443180072560673,
          5.997199293175521,
          6.9477308864661,
          7.793089146567512,
          -3.814656852215078,
          -3.708672266711176,
          7.301662714701961,
          -4.238520062342493,
          6.557994614749708,
          -4.077082903893651,
          7.111296362281097,
          7.201192937544021,
          -3.9296228932932995,
          7.7706173456405905,
          -3.7931556878654398,
          -3.8404316585274243,
          -3.389490862335562,
          -3.5764731546156048,
          -4.131713557869252,
          -4.023351936660406,
          6.752546580398205,
          -3.728379314150424,
          -3.7454471285714006,
          -3.7925693225964503,
          -4.012880687289253,
          7.285960932211534,
          7.063769291795044,
          7.972164510561191,
          7.32497450829736,
          -4.24392905707127,
          -3.7704979233987035,
          -3.968438169930999,
          -3.5856177491468113,
          7.573359588187986,
          6.949160224857126,
          7.113556565794822,
          -3.6632299949009757,
          6.953315549137534,
          -4.115206474633533,
          -3.8979798720975145,
          -3.9208165804396566,
          6.70311117991166,
          7.656947240642544,
          7.559316288558008,
          6.9768829754807475,
          -4.063497827813139,
          -4.267504366357839,
          7.099545350324686,
          6.878787388615123,
          7.356521712995069,
          7.0877495981667265,
          -3.7632380375681094,
          -4.160851231147507,
          -4.324574742086565,
          7.2743891747807545,
          -3.8773003057945994,
          6.4063705250820915,
          -4.105469011455109,
          7.175880270579661,
          6.927478620635624,
          7.401974736333505,
          7.495238565181811,
          -3.8305303841593155,
          -4.156132972512731,
          7.321457949308562,
          6.643009593225825,
          -4.0426947591030125,
          7.518497872780225,
          6.583174934677271,
          7.320944767424635,
          7.716921520080983,
          7.420784616262897,
          7.682588144883164,
          -3.9487804529648804,
          7.6146376642270726,
          7.214888935110436,
          -3.8762052766594173,
          -3.81564658473913,
          -3.7499050008819883,
          7.533149988680872,
          6.622468375051354,
          7.567489274980013,
          6.9095356502561005,
          -3.9903802316432655
         ],
         "xaxis": "x",
         "y": [
          -1.4362810576419294,
          0.5156804817473838,
          0.4290050733022151,
          0.02088802349771661,
          0.15969231797397235,
          0.09660158999278749,
          1.196750234895554,
          -0.7197030947413544,
          0.2101382570267372,
          0.457257840302902,
          1.3728599911843313,
          0.12850392951259038,
          0.5398918062347919,
          -0.3978735467737712,
          -2.1478839765693842,
          0.5719732891664263,
          0.4488379366139757,
          -0.7173332231420447,
          -0.11021000933532712,
          -0.48889836852756846,
          -0.38714703793801747,
          -1.7699140975740906,
          1.6157234935428848,
          0.175286493938826,
          1.1750864854060294,
          0.05974315921352116,
          -1.559393530237361,
          -0.17618049779251288,
          -1.4217302244793153,
          -0.815590221265772,
          1.2986279314927573,
          -0.3470329434256442,
          -0.09871314785393477,
          -0.5817490016191535,
          -0.9076737965955878,
          0.3123351185195193,
          2.4625044427253813,
          0.775196035625301,
          -0.920236208024311,
          0.06620883720815655,
          0.5861546572053165,
          0.3662350436126173,
          -1.6381154754447826,
          -0.37562198609444925,
          -0.46117474338929343,
          -0.8386742941078525,
          1.2754465282431642,
          0.7139910824823139,
          -1.2902709060217914,
          -0.2971409776920997,
          1.2266272588659437,
          0.5687106144618737,
          -0.6425404490284055,
          -0.2921726967709254,
          0.6245511090187303,
          0.4505743234756899,
          -0.5308936134651363,
          1.362182954043657,
          1.4119950237855337,
          0.04792825975688539,
          -0.264223254683583,
          0.26674875352817107,
          -0.6438646183715135,
          -1.1920123738035948,
          -1.6179207930281099,
          0.41202055927326714,
          -0.15124266638594827,
          1.386507499322017,
          -1.8570652021217886,
          0.07609600371482775,
          1.0096487184591802,
          0.43245164511574774,
          -1.061434089881844,
          -0.7786372328690883,
          -1.087728110995788,
          0.9663572720485237,
          0.8329971244821274,
          -1.2936968897287056,
          0.6348970471355517,
          1.4945854169329693,
          1.0013687348955425,
          1.5207414785413933,
          1.0385425449486094,
          -0.45800356638480844,
          0.3984318672099353,
          -0.23995572809665455,
          1.662359693997407,
          -0.36475393287763846,
          0.626625062757291,
          -0.010496917377630293,
          -1.7143966585533834,
          -0.7902679007121662,
          -2.0355312820226352,
          -0.026742368421774177,
          -1.0547779002340232,
          0.21304965354947047,
          0.4669186590775545,
          -0.6260395534862122,
          -0.2398529589731425,
          0.7165141931004696
         ],
         "yaxis": "y"
        }
       ],
       "layout": {
        "coloraxis": {
         "colorbar": {
          "title": {
           "text": "y"
          }
         },
         "colorscale": [
          [
           0,
           "#0d0887"
          ],
          [
           0.1111111111111111,
           "#46039f"
          ],
          [
           0.2222222222222222,
           "#7201a8"
          ],
          [
           0.3333333333333333,
           "#9c179e"
          ],
          [
           0.4444444444444444,
           "#bd3786"
          ],
          [
           0.5555555555555556,
           "#d8576b"
          ],
          [
           0.6666666666666666,
           "#ed7953"
          ],
          [
           0.7777777777777778,
           "#fb9f3a"
          ],
          [
           0.8888888888888888,
           "#fdca26"
          ],
          [
           1,
           "#f0f921"
          ]
         ]
        },
        "legend": {
         "tracegroupgap": 0
        },
        "margin": {
         "t": 60
        },
        "template": {
         "data": {
          "bar": [
           {
            "error_x": {
             "color": "#2a3f5f"
            },
            "error_y": {
             "color": "#2a3f5f"
            },
            "marker": {
             "line": {
              "color": "#E5ECF6",
              "width": 0.5
             },
             "pattern": {
              "fillmode": "overlay",
              "size": 10,
              "solidity": 0.2
             }
            },
            "type": "bar"
           }
          ],
          "barpolar": [
           {
            "marker": {
             "line": {
              "color": "#E5ECF6",
              "width": 0.5
             },
             "pattern": {
              "fillmode": "overlay",
              "size": 10,
              "solidity": 0.2
             }
            },
            "type": "barpolar"
           }
          ],
          "carpet": [
           {
            "aaxis": {
             "endlinecolor": "#2a3f5f",
             "gridcolor": "white",
             "linecolor": "white",
             "minorgridcolor": "white",
             "startlinecolor": "#2a3f5f"
            },
            "baxis": {
             "endlinecolor": "#2a3f5f",
             "gridcolor": "white",
             "linecolor": "white",
             "minorgridcolor": "white",
             "startlinecolor": "#2a3f5f"
            },
            "type": "carpet"
           }
          ],
          "choropleth": [
           {
            "colorbar": {
             "outlinewidth": 0,
             "ticks": ""
            },
            "type": "choropleth"
           }
          ],
          "contour": [
           {
            "colorbar": {
             "outlinewidth": 0,
             "ticks": ""
            },
            "colorscale": [
             [
              0,
              "#0d0887"
             ],
             [
              0.1111111111111111,
              "#46039f"
             ],
             [
              0.2222222222222222,
              "#7201a8"
             ],
             [
              0.3333333333333333,
              "#9c179e"
             ],
             [
              0.4444444444444444,
              "#bd3786"
             ],
             [
              0.5555555555555556,
              "#d8576b"
             ],
             [
              0.6666666666666666,
              "#ed7953"
             ],
             [
              0.7777777777777778,
              "#fb9f3a"
             ],
             [
              0.8888888888888888,
              "#fdca26"
             ],
             [
              1,
              "#f0f921"
             ]
            ],
            "type": "contour"
           }
          ],
          "contourcarpet": [
           {
            "colorbar": {
             "outlinewidth": 0,
             "ticks": ""
            },
            "type": "contourcarpet"
           }
          ],
          "heatmap": [
           {
            "colorbar": {
             "outlinewidth": 0,
             "ticks": ""
            },
            "colorscale": [
             [
              0,
              "#0d0887"
             ],
             [
              0.1111111111111111,
              "#46039f"
             ],
             [
              0.2222222222222222,
              "#7201a8"
             ],
             [
              0.3333333333333333,
              "#9c179e"
             ],
             [
              0.4444444444444444,
              "#bd3786"
             ],
             [
              0.5555555555555556,
              "#d8576b"
             ],
             [
              0.6666666666666666,
              "#ed7953"
             ],
             [
              0.7777777777777778,
              "#fb9f3a"
             ],
             [
              0.8888888888888888,
              "#fdca26"
             ],
             [
              1,
              "#f0f921"
             ]
            ],
            "type": "heatmap"
           }
          ],
          "heatmapgl": [
           {
            "colorbar": {
             "outlinewidth": 0,
             "ticks": ""
            },
            "colorscale": [
             [
              0,
              "#0d0887"
             ],
             [
              0.1111111111111111,
              "#46039f"
             ],
             [
              0.2222222222222222,
              "#7201a8"
             ],
             [
              0.3333333333333333,
              "#9c179e"
             ],
             [
              0.4444444444444444,
              "#bd3786"
             ],
             [
              0.5555555555555556,
              "#d8576b"
             ],
             [
              0.6666666666666666,
              "#ed7953"
             ],
             [
              0.7777777777777778,
              "#fb9f3a"
             ],
             [
              0.8888888888888888,
              "#fdca26"
             ],
             [
              1,
              "#f0f921"
             ]
            ],
            "type": "heatmapgl"
           }
          ],
          "histogram": [
           {
            "marker": {
             "pattern": {
              "fillmode": "overlay",
              "size": 10,
              "solidity": 0.2
             }
            },
            "type": "histogram"
           }
          ],
          "histogram2d": [
           {
            "colorbar": {
             "outlinewidth": 0,
             "ticks": ""
            },
            "colorscale": [
             [
              0,
              "#0d0887"
             ],
             [
              0.1111111111111111,
              "#46039f"
             ],
             [
              0.2222222222222222,
              "#7201a8"
             ],
             [
              0.3333333333333333,
              "#9c179e"
             ],
             [
              0.4444444444444444,
              "#bd3786"
             ],
             [
              0.5555555555555556,
              "#d8576b"
             ],
             [
              0.6666666666666666,
              "#ed7953"
             ],
             [
              0.7777777777777778,
              "#fb9f3a"
             ],
             [
              0.8888888888888888,
              "#fdca26"
             ],
             [
              1,
              "#f0f921"
             ]
            ],
            "type": "histogram2d"
           }
          ],
          "histogram2dcontour": [
           {
            "colorbar": {
             "outlinewidth": 0,
             "ticks": ""
            },
            "colorscale": [
             [
              0,
              "#0d0887"
             ],
             [
              0.1111111111111111,
              "#46039f"
             ],
             [
              0.2222222222222222,
              "#7201a8"
             ],
             [
              0.3333333333333333,
              "#9c179e"
             ],
             [
              0.4444444444444444,
              "#bd3786"
             ],
             [
              0.5555555555555556,
              "#d8576b"
             ],
             [
              0.6666666666666666,
              "#ed7953"
             ],
             [
              0.7777777777777778,
              "#fb9f3a"
             ],
             [
              0.8888888888888888,
              "#fdca26"
             ],
             [
              1,
              "#f0f921"
             ]
            ],
            "type": "histogram2dcontour"
           }
          ],
          "mesh3d": [
           {
            "colorbar": {
             "outlinewidth": 0,
             "ticks": ""
            },
            "type": "mesh3d"
           }
          ],
          "parcoords": [
           {
            "line": {
             "colorbar": {
              "outlinewidth": 0,
              "ticks": ""
             }
            },
            "type": "parcoords"
           }
          ],
          "pie": [
           {
            "automargin": true,
            "type": "pie"
           }
          ],
          "scatter": [
           {
            "fillpattern": {
             "fillmode": "overlay",
             "size": 10,
             "solidity": 0.2
            },
            "type": "scatter"
           }
          ],
          "scatter3d": [
           {
            "line": {
             "colorbar": {
              "outlinewidth": 0,
              "ticks": ""
             }
            },
            "marker": {
             "colorbar": {
              "outlinewidth": 0,
              "ticks": ""
             }
            },
            "type": "scatter3d"
           }
          ],
          "scattercarpet": [
           {
            "marker": {
             "colorbar": {
              "outlinewidth": 0,
              "ticks": ""
             }
            },
            "type": "scattercarpet"
           }
          ],
          "scattergeo": [
           {
            "marker": {
             "colorbar": {
              "outlinewidth": 0,
              "ticks": ""
             }
            },
            "type": "scattergeo"
           }
          ],
          "scattergl": [
           {
            "marker": {
             "colorbar": {
              "outlinewidth": 0,
              "ticks": ""
             }
            },
            "type": "scattergl"
           }
          ],
          "scattermapbox": [
           {
            "marker": {
             "colorbar": {
              "outlinewidth": 0,
              "ticks": ""
             }
            },
            "type": "scattermapbox"
           }
          ],
          "scatterpolar": [
           {
            "marker": {
             "colorbar": {
              "outlinewidth": 0,
              "ticks": ""
             }
            },
            "type": "scatterpolar"
           }
          ],
          "scatterpolargl": [
           {
            "marker": {
             "colorbar": {
              "outlinewidth": 0,
              "ticks": ""
             }
            },
            "type": "scatterpolargl"
           }
          ],
          "scatterternary": [
           {
            "marker": {
             "colorbar": {
              "outlinewidth": 0,
              "ticks": ""
             }
            },
            "type": "scatterternary"
           }
          ],
          "surface": [
           {
            "colorbar": {
             "outlinewidth": 0,
             "ticks": ""
            },
            "colorscale": [
             [
              0,
              "#0d0887"
             ],
             [
              0.1111111111111111,
              "#46039f"
             ],
             [
              0.2222222222222222,
              "#7201a8"
             ],
             [
              0.3333333333333333,
              "#9c179e"
             ],
             [
              0.4444444444444444,
              "#bd3786"
             ],
             [
              0.5555555555555556,
              "#d8576b"
             ],
             [
              0.6666666666666666,
              "#ed7953"
             ],
             [
              0.7777777777777778,
              "#fb9f3a"
             ],
             [
              0.8888888888888888,
              "#fdca26"
             ],
             [
              1,
              "#f0f921"
             ]
            ],
            "type": "surface"
           }
          ],
          "table": [
           {
            "cells": {
             "fill": {
              "color": "#EBF0F8"
             },
             "line": {
              "color": "white"
             }
            },
            "header": {
             "fill": {
              "color": "#C8D4E3"
             },
             "line": {
              "color": "white"
             }
            },
            "type": "table"
           }
          ]
         },
         "layout": {
          "annotationdefaults": {
           "arrowcolor": "#2a3f5f",
           "arrowhead": 0,
           "arrowwidth": 1
          },
          "autotypenumbers": "strict",
          "coloraxis": {
           "colorbar": {
            "outlinewidth": 0,
            "ticks": ""
           }
          },
          "colorscale": {
           "diverging": [
            [
             0,
             "#8e0152"
            ],
            [
             0.1,
             "#c51b7d"
            ],
            [
             0.2,
             "#de77ae"
            ],
            [
             0.3,
             "#f1b6da"
            ],
            [
             0.4,
             "#fde0ef"
            ],
            [
             0.5,
             "#f7f7f7"
            ],
            [
             0.6,
             "#e6f5d0"
            ],
            [
             0.7,
             "#b8e186"
            ],
            [
             0.8,
             "#7fbc41"
            ],
            [
             0.9,
             "#4d9221"
            ],
            [
             1,
             "#276419"
            ]
           ],
           "sequential": [
            [
             0,
             "#0d0887"
            ],
            [
             0.1111111111111111,
             "#46039f"
            ],
            [
             0.2222222222222222,
             "#7201a8"
            ],
            [
             0.3333333333333333,
             "#9c179e"
            ],
            [
             0.4444444444444444,
             "#bd3786"
            ],
            [
             0.5555555555555556,
             "#d8576b"
            ],
            [
             0.6666666666666666,
             "#ed7953"
            ],
            [
             0.7777777777777778,
             "#fb9f3a"
            ],
            [
             0.8888888888888888,
             "#fdca26"
            ],
            [
             1,
             "#f0f921"
            ]
           ],
           "sequentialminus": [
            [
             0,
             "#0d0887"
            ],
            [
             0.1111111111111111,
             "#46039f"
            ],
            [
             0.2222222222222222,
             "#7201a8"
            ],
            [
             0.3333333333333333,
             "#9c179e"
            ],
            [
             0.4444444444444444,
             "#bd3786"
            ],
            [
             0.5555555555555556,
             "#d8576b"
            ],
            [
             0.6666666666666666,
             "#ed7953"
            ],
            [
             0.7777777777777778,
             "#fb9f3a"
            ],
            [
             0.8888888888888888,
             "#fdca26"
            ],
            [
             1,
             "#f0f921"
            ]
           ]
          },
          "colorway": [
           "#636efa",
           "#EF553B",
           "#00cc96",
           "#ab63fa",
           "#FFA15A",
           "#19d3f3",
           "#FF6692",
           "#B6E880",
           "#FF97FF",
           "#FECB52"
          ],
          "font": {
           "color": "#2a3f5f"
          },
          "geo": {
           "bgcolor": "white",
           "lakecolor": "white",
           "landcolor": "#E5ECF6",
           "showlakes": true,
           "showland": true,
           "subunitcolor": "white"
          },
          "hoverlabel": {
           "align": "left"
          },
          "hovermode": "closest",
          "mapbox": {
           "style": "light"
          },
          "paper_bgcolor": "white",
          "plot_bgcolor": "#E5ECF6",
          "polar": {
           "angularaxis": {
            "gridcolor": "white",
            "linecolor": "white",
            "ticks": ""
           },
           "bgcolor": "#E5ECF6",
           "radialaxis": {
            "gridcolor": "white",
            "linecolor": "white",
            "ticks": ""
           }
          },
          "scene": {
           "xaxis": {
            "backgroundcolor": "#E5ECF6",
            "gridcolor": "white",
            "gridwidth": 2,
            "linecolor": "white",
            "showbackground": true,
            "ticks": "",
            "zerolinecolor": "white"
           },
           "yaxis": {
            "backgroundcolor": "#E5ECF6",
            "gridcolor": "white",
            "gridwidth": 2,
            "linecolor": "white",
            "showbackground": true,
            "ticks": "",
            "zerolinecolor": "white"
           },
           "zaxis": {
            "backgroundcolor": "#E5ECF6",
            "gridcolor": "white",
            "gridwidth": 2,
            "linecolor": "white",
            "showbackground": true,
            "ticks": "",
            "zerolinecolor": "white"
           }
          },
          "shapedefaults": {
           "line": {
            "color": "#2a3f5f"
           }
          },
          "ternary": {
           "aaxis": {
            "gridcolor": "white",
            "linecolor": "white",
            "ticks": ""
           },
           "baxis": {
            "gridcolor": "white",
            "linecolor": "white",
            "ticks": ""
           },
           "bgcolor": "#E5ECF6",
           "caxis": {
            "gridcolor": "white",
            "linecolor": "white",
            "ticks": ""
           }
          },
          "title": {
           "x": 0.05
          },
          "xaxis": {
           "automargin": true,
           "gridcolor": "white",
           "linecolor": "white",
           "ticks": "",
           "title": {
            "standoff": 15
           },
           "zerolinecolor": "white",
           "zerolinewidth": 2
          },
          "yaxis": {
           "automargin": true,
           "gridcolor": "white",
           "linecolor": "white",
           "ticks": "",
           "title": {
            "standoff": 15
           },
           "zerolinecolor": "white",
           "zerolinewidth": 2
          }
         }
        },
        "xaxis": {
         "anchor": "y",
         "domain": [
          0,
          1
         ],
         "title": {
          "text": "X1"
         }
        },
        "yaxis": {
         "anchor": "x",
         "domain": [
          0,
          1
         ],
         "title": {
          "text": "X2"
         }
        }
       }
      }
     },
     "metadata": {},
     "output_type": "display_data"
    }
   ],
   "source": [
    "fig = px.scatter(\n",
    "    df, \n",
    "    x='X1', \n",
    "    y='X2', \n",
    "    color='y',\n",
    "    labels={'Feature1': 'X1', 'Feature2': 'X2', 'Category': 'Category'}\n",
    ")\n",
    "fig.show()"
   ]
  },
  {
   "cell_type": "code",
   "execution_count": 216,
   "metadata": {},
   "outputs": [],
   "source": [
    "class perceptraon:\n",
    "    def __init__(self, lr, epochs) -> None:\n",
    "        self.coef_ = None\n",
    "        self.intercept_ = None\n",
    "        self.epochs = epochs\n",
    "        self.learning_rate = lr\n",
    "    \n",
    "    def fit(self, X_train, y_train):\n",
    "        X_train = np.array(X_train)\n",
    "        y_train = np.array(y_train).ravel()\n",
    "\n",
    "        X_train = np.insert(X_train, 0, 1, axis = 1)\n",
    "\n",
    "        beta = np.ones(X_train.shape[1])\n",
    "\n",
    "        for i in range(self.epochs):\n",
    "            idx = np.random.randint(0, X_train.shape[0]) # Data Point\n",
    "            y_hat = 1 if np.dot(X_train[idx], beta) >= 0 else 0 # Result -> 1 or 0\n",
    "            beta = beta + self.learning_rate * (y_train[idx] - y_hat)*X_train[idx]\n",
    "        \n",
    "        self.coef_ = beta[1:]\n",
    "        self.intercept_ = beta[0]"
   ]
  },
  {
   "cell_type": "code",
   "execution_count": 217,
   "metadata": {},
   "outputs": [],
   "source": [
    "X_train, X_test, y_train, y_test = train_test_split(X, y, test_size=0.2, random_state=42)"
   ]
  },
  {
   "cell_type": "code",
   "execution_count": 218,
   "metadata": {},
   "outputs": [],
   "source": [
    "model = perceptraon(0.01, 1000)\n",
    "model.fit(X_train, y_train)"
   ]
  },
  {
   "cell_type": "code",
   "execution_count": 219,
   "metadata": {},
   "outputs": [
    {
     "name": "stdout",
     "output_type": "stream",
     "text": [
      "[1. 1.] 1.0\n"
     ]
    }
   ],
   "source": [
    "print(model.coef_, model.intercept_)"
   ]
  },
  {
   "cell_type": "code",
   "execution_count": 220,
   "metadata": {},
   "outputs": [],
   "source": [
    "m = -model.coef_[0]/model.coef_[1]\n",
    "b = -model.intercept_/model.coef_[1]"
   ]
  },
  {
   "cell_type": "code",
   "execution_count": 221,
   "metadata": {},
   "outputs": [
    {
     "data": {
      "application/vnd.plotly.v1+json": {
       "config": {
        "plotlyServerURL": "https://plot.ly"
       },
       "data": [
        {
         "marker": {
          "color": "red"
         },
         "mode": "markers",
         "name": "1st category",
         "type": "scatter",
         "x": [
          -4.473950818706932,
          -3.9652347177807186,
          -3.904806028302793,
          -3.939983636977865,
          -3.6467364059335754,
          -3.6742017462398984,
          -4.019927853027462,
          -3.8661303182413507,
          -4.2327126329346,
          -3.627276138631691,
          -4.096585449857788,
          -3.9443180072560673,
          -3.814656852215078,
          -3.708672266711176,
          -4.238520062342493,
          -4.077082903893651,
          -3.9296228932932995,
          -3.7931556878654398,
          -3.8404316585274243,
          -3.389490862335562,
          -3.5764731546156048,
          -4.131713557869252,
          -4.023351936660406,
          -3.728379314150424,
          -3.7454471285714006,
          -3.7925693225964503,
          -4.012880687289253,
          -4.24392905707127,
          -3.7704979233987035,
          -3.968438169930999,
          -3.5856177491468113,
          -3.6632299949009757,
          -4.115206474633533,
          -3.8979798720975145,
          -3.9208165804396566,
          -4.063497827813139,
          -4.267504366357839,
          -3.7632380375681094,
          -4.160851231147507,
          -4.324574742086565,
          -3.8773003057945994,
          -4.105469011455109,
          -3.8305303841593155,
          -4.156132972512731,
          -4.0426947591030125,
          -3.9487804529648804,
          -3.8762052766594173,
          -3.81564658473913,
          -3.7499050008819883,
          -3.9903802316432655
         ],
         "y": [
          -1.4362810576419294,
          0.5156804817473838,
          0.4290050733022151,
          0.02088802349771661,
          0.09660158999278749,
          -0.7197030947413544,
          0.2101382570267372,
          0.457257840302902,
          1.3728599911843313,
          0.5398918062347919,
          0.5719732891664263,
          0.4488379366139757,
          -0.38714703793801747,
          -1.7699140975740906,
          0.175286493938826,
          0.05974315921352116,
          -1.4217302244793153,
          1.2986279314927573,
          -0.3470329434256442,
          -0.09871314785393477,
          -0.5817490016191535,
          -0.9076737965955878,
          0.3123351185195193,
          0.775196035625301,
          -0.920236208024311,
          0.06620883720815655,
          0.5861546572053165,
          -0.8386742941078525,
          1.2754465282431642,
          0.7139910824823139,
          -1.2902709060217914,
          -0.6425404490284055,
          0.6245511090187303,
          0.4505743234756899,
          -0.5308936134651363,
          0.26674875352817107,
          -0.6438646183715135,
          1.386507499322017,
          -1.8570652021217886,
          0.07609600371482775,
          0.43245164511574774,
          -0.7786372328690883,
          0.6348970471355517,
          1.4945854169329693,
          1.0385425449486094,
          -0.010496917377630293,
          -2.0355312820226352,
          -0.026742368421774177,
          -1.0547779002340232,
          0.7165141931004696
         ]
        },
        {
         "marker": {
          "color": "blue"
         },
         "mode": "markers",
         "name": "2st category",
         "type": "scatter",
         "x": [
          7.374443640137842,
          7.619470912079629,
          7.517230728386392,
          7.219482541699835,
          7.150458625693053,
          5.997199293175521,
          6.9477308864661,
          7.793089146567512,
          7.301662714701961,
          6.557994614749708,
          7.111296362281097,
          7.201192937544021,
          7.7706173456405905,
          6.752546580398205,
          7.285960932211534,
          7.063769291795044,
          7.972164510561191,
          7.32497450829736,
          7.573359588187986,
          6.949160224857126,
          7.113556565794822,
          6.953315549137534,
          6.70311117991166,
          7.656947240642544,
          7.559316288558008,
          6.9768829754807475,
          7.099545350324686,
          6.878787388615123,
          7.356521712995069,
          7.0877495981667265,
          7.2743891747807545,
          6.4063705250820915,
          7.175880270579661,
          6.927478620635624,
          7.401974736333505,
          7.495238565181811,
          7.321457949308562,
          6.643009593225825,
          7.518497872780225,
          6.583174934677271,
          7.320944767424635,
          7.716921520080983,
          7.420784616262897,
          7.682588144883164,
          7.6146376642270726,
          7.214888935110436,
          7.533149988680872,
          6.622468375051354,
          7.567489274980013,
          6.9095356502561005
         ],
         "y": [
          0.15969231797397235,
          1.196750234895554,
          0.12850392951259038,
          -0.3978735467737712,
          -2.1478839765693842,
          -0.7173332231420447,
          -0.11021000933532712,
          -0.48889836852756846,
          1.6157234935428848,
          1.1750864854060294,
          -1.559393530237361,
          -0.17618049779251288,
          -0.815590221265772,
          2.4625044427253813,
          0.3662350436126173,
          -1.6381154754447826,
          -0.37562198609444925,
          -0.46117474338929343,
          -0.2971409776920997,
          1.2266272588659437,
          0.5687106144618737,
          -0.2921726967709254,
          1.362182954043657,
          1.4119950237855337,
          0.04792825975688539,
          -0.264223254683583,
          -1.1920123738035948,
          -1.6179207930281099,
          0.41202055927326714,
          -0.15124266638594827,
          1.0096487184591802,
          -1.061434089881844,
          -1.087728110995788,
          0.9663572720485237,
          0.8329971244821274,
          -1.2936968897287056,
          1.0013687348955425,
          1.5207414785413933,
          -0.45800356638480844,
          0.3984318672099353,
          -0.23995572809665455,
          1.662359693997407,
          -0.36475393287763846,
          0.626625062757291,
          -1.7143966585533834,
          -0.7902679007121662,
          0.21304965354947047,
          0.4669186590775545,
          -0.6260395534862122,
          -0.2398529589731425
         ]
        },
        {
         "mode": "lines",
         "name": "Line of Classification",
         "type": "scatter",
         "x": [
          -4.473950818706932,
          -3.9652347177807186,
          -3.904806028302793,
          -3.939983636977865,
          7.374443640137842,
          -3.6467364059335754,
          7.619470912079629,
          -3.6742017462398984,
          -4.019927853027462,
          -3.8661303182413507,
          -4.2327126329346,
          7.517230728386392,
          -3.627276138631691,
          7.219482541699835,
          7.150458625693053,
          -4.096585449857788,
          -3.9443180072560673,
          5.997199293175521,
          6.9477308864661,
          7.793089146567512,
          -3.814656852215078,
          -3.708672266711176,
          7.301662714701961,
          -4.238520062342493,
          6.557994614749708,
          -4.077082903893651,
          7.111296362281097,
          7.201192937544021,
          -3.9296228932932995,
          7.7706173456405905,
          -3.7931556878654398,
          -3.8404316585274243,
          -3.389490862335562,
          -3.5764731546156048,
          -4.131713557869252,
          -4.023351936660406,
          6.752546580398205,
          -3.728379314150424,
          -3.7454471285714006,
          -3.7925693225964503,
          -4.012880687289253,
          7.285960932211534,
          7.063769291795044,
          7.972164510561191,
          7.32497450829736,
          -4.24392905707127,
          -3.7704979233987035,
          -3.968438169930999,
          -3.5856177491468113,
          7.573359588187986,
          6.949160224857126,
          7.113556565794822,
          -3.6632299949009757,
          6.953315549137534,
          -4.115206474633533,
          -3.8979798720975145,
          -3.9208165804396566,
          6.70311117991166,
          7.656947240642544,
          7.559316288558008,
          6.9768829754807475,
          -4.063497827813139,
          -4.267504366357839,
          7.099545350324686,
          6.878787388615123,
          7.356521712995069,
          7.0877495981667265,
          -3.7632380375681094,
          -4.160851231147507,
          -4.324574742086565,
          7.2743891747807545,
          -3.8773003057945994,
          6.4063705250820915,
          -4.105469011455109,
          7.175880270579661,
          6.927478620635624,
          7.401974736333505,
          7.495238565181811,
          -3.8305303841593155,
          -4.156132972512731,
          7.321457949308562,
          6.643009593225825,
          -4.0426947591030125,
          7.518497872780225,
          6.583174934677271,
          7.320944767424635,
          7.716921520080983,
          7.420784616262897,
          7.682588144883164,
          -3.9487804529648804,
          7.6146376642270726,
          7.214888935110436,
          -3.8762052766594173,
          -3.81564658473913,
          -3.7499050008819883,
          7.533149988680872,
          6.622468375051354,
          7.567489274980013,
          6.9095356502561005,
          -3.9903802316432655
         ],
         "y": [
          3.473950818706932,
          2.9652347177807186,
          2.904806028302793,
          2.939983636977865,
          -8.37444364013784,
          2.6467364059335754,
          -8.61947091207963,
          2.6742017462398984,
          3.019927853027462,
          2.8661303182413507,
          3.2327126329346,
          -8.51723072838639,
          2.627276138631691,
          -8.219482541699836,
          -8.150458625693053,
          3.0965854498577876,
          2.9443180072560673,
          -6.997199293175521,
          -7.9477308864661,
          -8.793089146567512,
          2.814656852215078,
          2.708672266711176,
          -8.301662714701962,
          3.2385200623424932,
          -7.557994614749708,
          3.0770829038936514,
          -8.111296362281097,
          -8.201192937544022,
          2.9296228932932995,
          -8.770617345640591,
          2.7931556878654398,
          2.8404316585274243,
          2.389490862335562,
          2.5764731546156048,
          3.1317135578692517,
          3.023351936660406,
          -7.752546580398205,
          2.728379314150424,
          2.7454471285714006,
          2.7925693225964503,
          3.012880687289253,
          -8.285960932211534,
          -8.063769291795044,
          -8.972164510561191,
          -8.324974508297359,
          3.24392905707127,
          2.7704979233987035,
          2.968438169930999,
          2.5856177491468113,
          -8.573359588187987,
          -7.949160224857126,
          -8.113556565794822,
          2.6632299949009757,
          -7.953315549137534,
          3.115206474633533,
          2.8979798720975145,
          2.9208165804396566,
          -7.70311117991166,
          -8.656947240642545,
          -8.559316288558009,
          -7.9768829754807475,
          3.063497827813139,
          3.267504366357839,
          -8.099545350324686,
          -7.878787388615123,
          -8.356521712995068,
          -8.087749598166727,
          2.7632380375681094,
          3.1608512311475074,
          3.324574742086565,
          -8.274389174780755,
          2.8773003057945994,
          -7.4063705250820915,
          3.105469011455109,
          -8.175880270579661,
          -7.927478620635624,
          -8.401974736333505,
          -8.495238565181811,
          2.8305303841593155,
          3.156132972512731,
          -8.321457949308563,
          -7.643009593225825,
          3.0426947591030125,
          -8.518497872780225,
          -7.583174934677271,
          -8.320944767424635,
          -8.716921520080984,
          -8.420784616262896,
          -8.682588144883164,
          2.9487804529648804,
          -8.614637664227072,
          -8.214888935110437,
          2.8762052766594173,
          2.81564658473913,
          2.7499050008819883,
          -8.533149988680872,
          -7.622468375051354,
          -8.567489274980012,
          -7.9095356502561005,
          2.9903802316432655
         ]
        }
       ],
       "layout": {
        "height": 500,
        "template": {
         "data": {
          "bar": [
           {
            "error_x": {
             "color": "#2a3f5f"
            },
            "error_y": {
             "color": "#2a3f5f"
            },
            "marker": {
             "line": {
              "color": "#E5ECF6",
              "width": 0.5
             },
             "pattern": {
              "fillmode": "overlay",
              "size": 10,
              "solidity": 0.2
             }
            },
            "type": "bar"
           }
          ],
          "barpolar": [
           {
            "marker": {
             "line": {
              "color": "#E5ECF6",
              "width": 0.5
             },
             "pattern": {
              "fillmode": "overlay",
              "size": 10,
              "solidity": 0.2
             }
            },
            "type": "barpolar"
           }
          ],
          "carpet": [
           {
            "aaxis": {
             "endlinecolor": "#2a3f5f",
             "gridcolor": "white",
             "linecolor": "white",
             "minorgridcolor": "white",
             "startlinecolor": "#2a3f5f"
            },
            "baxis": {
             "endlinecolor": "#2a3f5f",
             "gridcolor": "white",
             "linecolor": "white",
             "minorgridcolor": "white",
             "startlinecolor": "#2a3f5f"
            },
            "type": "carpet"
           }
          ],
          "choropleth": [
           {
            "colorbar": {
             "outlinewidth": 0,
             "ticks": ""
            },
            "type": "choropleth"
           }
          ],
          "contour": [
           {
            "colorbar": {
             "outlinewidth": 0,
             "ticks": ""
            },
            "colorscale": [
             [
              0,
              "#0d0887"
             ],
             [
              0.1111111111111111,
              "#46039f"
             ],
             [
              0.2222222222222222,
              "#7201a8"
             ],
             [
              0.3333333333333333,
              "#9c179e"
             ],
             [
              0.4444444444444444,
              "#bd3786"
             ],
             [
              0.5555555555555556,
              "#d8576b"
             ],
             [
              0.6666666666666666,
              "#ed7953"
             ],
             [
              0.7777777777777778,
              "#fb9f3a"
             ],
             [
              0.8888888888888888,
              "#fdca26"
             ],
             [
              1,
              "#f0f921"
             ]
            ],
            "type": "contour"
           }
          ],
          "contourcarpet": [
           {
            "colorbar": {
             "outlinewidth": 0,
             "ticks": ""
            },
            "type": "contourcarpet"
           }
          ],
          "heatmap": [
           {
            "colorbar": {
             "outlinewidth": 0,
             "ticks": ""
            },
            "colorscale": [
             [
              0,
              "#0d0887"
             ],
             [
              0.1111111111111111,
              "#46039f"
             ],
             [
              0.2222222222222222,
              "#7201a8"
             ],
             [
              0.3333333333333333,
              "#9c179e"
             ],
             [
              0.4444444444444444,
              "#bd3786"
             ],
             [
              0.5555555555555556,
              "#d8576b"
             ],
             [
              0.6666666666666666,
              "#ed7953"
             ],
             [
              0.7777777777777778,
              "#fb9f3a"
             ],
             [
              0.8888888888888888,
              "#fdca26"
             ],
             [
              1,
              "#f0f921"
             ]
            ],
            "type": "heatmap"
           }
          ],
          "heatmapgl": [
           {
            "colorbar": {
             "outlinewidth": 0,
             "ticks": ""
            },
            "colorscale": [
             [
              0,
              "#0d0887"
             ],
             [
              0.1111111111111111,
              "#46039f"
             ],
             [
              0.2222222222222222,
              "#7201a8"
             ],
             [
              0.3333333333333333,
              "#9c179e"
             ],
             [
              0.4444444444444444,
              "#bd3786"
             ],
             [
              0.5555555555555556,
              "#d8576b"
             ],
             [
              0.6666666666666666,
              "#ed7953"
             ],
             [
              0.7777777777777778,
              "#fb9f3a"
             ],
             [
              0.8888888888888888,
              "#fdca26"
             ],
             [
              1,
              "#f0f921"
             ]
            ],
            "type": "heatmapgl"
           }
          ],
          "histogram": [
           {
            "marker": {
             "pattern": {
              "fillmode": "overlay",
              "size": 10,
              "solidity": 0.2
             }
            },
            "type": "histogram"
           }
          ],
          "histogram2d": [
           {
            "colorbar": {
             "outlinewidth": 0,
             "ticks": ""
            },
            "colorscale": [
             [
              0,
              "#0d0887"
             ],
             [
              0.1111111111111111,
              "#46039f"
             ],
             [
              0.2222222222222222,
              "#7201a8"
             ],
             [
              0.3333333333333333,
              "#9c179e"
             ],
             [
              0.4444444444444444,
              "#bd3786"
             ],
             [
              0.5555555555555556,
              "#d8576b"
             ],
             [
              0.6666666666666666,
              "#ed7953"
             ],
             [
              0.7777777777777778,
              "#fb9f3a"
             ],
             [
              0.8888888888888888,
              "#fdca26"
             ],
             [
              1,
              "#f0f921"
             ]
            ],
            "type": "histogram2d"
           }
          ],
          "histogram2dcontour": [
           {
            "colorbar": {
             "outlinewidth": 0,
             "ticks": ""
            },
            "colorscale": [
             [
              0,
              "#0d0887"
             ],
             [
              0.1111111111111111,
              "#46039f"
             ],
             [
              0.2222222222222222,
              "#7201a8"
             ],
             [
              0.3333333333333333,
              "#9c179e"
             ],
             [
              0.4444444444444444,
              "#bd3786"
             ],
             [
              0.5555555555555556,
              "#d8576b"
             ],
             [
              0.6666666666666666,
              "#ed7953"
             ],
             [
              0.7777777777777778,
              "#fb9f3a"
             ],
             [
              0.8888888888888888,
              "#fdca26"
             ],
             [
              1,
              "#f0f921"
             ]
            ],
            "type": "histogram2dcontour"
           }
          ],
          "mesh3d": [
           {
            "colorbar": {
             "outlinewidth": 0,
             "ticks": ""
            },
            "type": "mesh3d"
           }
          ],
          "parcoords": [
           {
            "line": {
             "colorbar": {
              "outlinewidth": 0,
              "ticks": ""
             }
            },
            "type": "parcoords"
           }
          ],
          "pie": [
           {
            "automargin": true,
            "type": "pie"
           }
          ],
          "scatter": [
           {
            "fillpattern": {
             "fillmode": "overlay",
             "size": 10,
             "solidity": 0.2
            },
            "type": "scatter"
           }
          ],
          "scatter3d": [
           {
            "line": {
             "colorbar": {
              "outlinewidth": 0,
              "ticks": ""
             }
            },
            "marker": {
             "colorbar": {
              "outlinewidth": 0,
              "ticks": ""
             }
            },
            "type": "scatter3d"
           }
          ],
          "scattercarpet": [
           {
            "marker": {
             "colorbar": {
              "outlinewidth": 0,
              "ticks": ""
             }
            },
            "type": "scattercarpet"
           }
          ],
          "scattergeo": [
           {
            "marker": {
             "colorbar": {
              "outlinewidth": 0,
              "ticks": ""
             }
            },
            "type": "scattergeo"
           }
          ],
          "scattergl": [
           {
            "marker": {
             "colorbar": {
              "outlinewidth": 0,
              "ticks": ""
             }
            },
            "type": "scattergl"
           }
          ],
          "scattermapbox": [
           {
            "marker": {
             "colorbar": {
              "outlinewidth": 0,
              "ticks": ""
             }
            },
            "type": "scattermapbox"
           }
          ],
          "scatterpolar": [
           {
            "marker": {
             "colorbar": {
              "outlinewidth": 0,
              "ticks": ""
             }
            },
            "type": "scatterpolar"
           }
          ],
          "scatterpolargl": [
           {
            "marker": {
             "colorbar": {
              "outlinewidth": 0,
              "ticks": ""
             }
            },
            "type": "scatterpolargl"
           }
          ],
          "scatterternary": [
           {
            "marker": {
             "colorbar": {
              "outlinewidth": 0,
              "ticks": ""
             }
            },
            "type": "scatterternary"
           }
          ],
          "surface": [
           {
            "colorbar": {
             "outlinewidth": 0,
             "ticks": ""
            },
            "colorscale": [
             [
              0,
              "#0d0887"
             ],
             [
              0.1111111111111111,
              "#46039f"
             ],
             [
              0.2222222222222222,
              "#7201a8"
             ],
             [
              0.3333333333333333,
              "#9c179e"
             ],
             [
              0.4444444444444444,
              "#bd3786"
             ],
             [
              0.5555555555555556,
              "#d8576b"
             ],
             [
              0.6666666666666666,
              "#ed7953"
             ],
             [
              0.7777777777777778,
              "#fb9f3a"
             ],
             [
              0.8888888888888888,
              "#fdca26"
             ],
             [
              1,
              "#f0f921"
             ]
            ],
            "type": "surface"
           }
          ],
          "table": [
           {
            "cells": {
             "fill": {
              "color": "#EBF0F8"
             },
             "line": {
              "color": "white"
             }
            },
            "header": {
             "fill": {
              "color": "#C8D4E3"
             },
             "line": {
              "color": "white"
             }
            },
            "type": "table"
           }
          ]
         },
         "layout": {
          "annotationdefaults": {
           "arrowcolor": "#2a3f5f",
           "arrowhead": 0,
           "arrowwidth": 1
          },
          "autotypenumbers": "strict",
          "coloraxis": {
           "colorbar": {
            "outlinewidth": 0,
            "ticks": ""
           }
          },
          "colorscale": {
           "diverging": [
            [
             0,
             "#8e0152"
            ],
            [
             0.1,
             "#c51b7d"
            ],
            [
             0.2,
             "#de77ae"
            ],
            [
             0.3,
             "#f1b6da"
            ],
            [
             0.4,
             "#fde0ef"
            ],
            [
             0.5,
             "#f7f7f7"
            ],
            [
             0.6,
             "#e6f5d0"
            ],
            [
             0.7,
             "#b8e186"
            ],
            [
             0.8,
             "#7fbc41"
            ],
            [
             0.9,
             "#4d9221"
            ],
            [
             1,
             "#276419"
            ]
           ],
           "sequential": [
            [
             0,
             "#0d0887"
            ],
            [
             0.1111111111111111,
             "#46039f"
            ],
            [
             0.2222222222222222,
             "#7201a8"
            ],
            [
             0.3333333333333333,
             "#9c179e"
            ],
            [
             0.4444444444444444,
             "#bd3786"
            ],
            [
             0.5555555555555556,
             "#d8576b"
            ],
            [
             0.6666666666666666,
             "#ed7953"
            ],
            [
             0.7777777777777778,
             "#fb9f3a"
            ],
            [
             0.8888888888888888,
             "#fdca26"
            ],
            [
             1,
             "#f0f921"
            ]
           ],
           "sequentialminus": [
            [
             0,
             "#0d0887"
            ],
            [
             0.1111111111111111,
             "#46039f"
            ],
            [
             0.2222222222222222,
             "#7201a8"
            ],
            [
             0.3333333333333333,
             "#9c179e"
            ],
            [
             0.4444444444444444,
             "#bd3786"
            ],
            [
             0.5555555555555556,
             "#d8576b"
            ],
            [
             0.6666666666666666,
             "#ed7953"
            ],
            [
             0.7777777777777778,
             "#fb9f3a"
            ],
            [
             0.8888888888888888,
             "#fdca26"
            ],
            [
             1,
             "#f0f921"
            ]
           ]
          },
          "colorway": [
           "#636efa",
           "#EF553B",
           "#00cc96",
           "#ab63fa",
           "#FFA15A",
           "#19d3f3",
           "#FF6692",
           "#B6E880",
           "#FF97FF",
           "#FECB52"
          ],
          "font": {
           "color": "#2a3f5f"
          },
          "geo": {
           "bgcolor": "white",
           "lakecolor": "white",
           "landcolor": "#E5ECF6",
           "showlakes": true,
           "showland": true,
           "subunitcolor": "white"
          },
          "hoverlabel": {
           "align": "left"
          },
          "hovermode": "closest",
          "mapbox": {
           "style": "light"
          },
          "paper_bgcolor": "white",
          "plot_bgcolor": "#E5ECF6",
          "polar": {
           "angularaxis": {
            "gridcolor": "white",
            "linecolor": "white",
            "ticks": ""
           },
           "bgcolor": "#E5ECF6",
           "radialaxis": {
            "gridcolor": "white",
            "linecolor": "white",
            "ticks": ""
           }
          },
          "scene": {
           "xaxis": {
            "backgroundcolor": "#E5ECF6",
            "gridcolor": "white",
            "gridwidth": 2,
            "linecolor": "white",
            "showbackground": true,
            "ticks": "",
            "zerolinecolor": "white"
           },
           "yaxis": {
            "backgroundcolor": "#E5ECF6",
            "gridcolor": "white",
            "gridwidth": 2,
            "linecolor": "white",
            "showbackground": true,
            "ticks": "",
            "zerolinecolor": "white"
           },
           "zaxis": {
            "backgroundcolor": "#E5ECF6",
            "gridcolor": "white",
            "gridwidth": 2,
            "linecolor": "white",
            "showbackground": true,
            "ticks": "",
            "zerolinecolor": "white"
           }
          },
          "shapedefaults": {
           "line": {
            "color": "#2a3f5f"
           }
          },
          "ternary": {
           "aaxis": {
            "gridcolor": "white",
            "linecolor": "white",
            "ticks": ""
           },
           "baxis": {
            "gridcolor": "white",
            "linecolor": "white",
            "ticks": ""
           },
           "bgcolor": "#E5ECF6",
           "caxis": {
            "gridcolor": "white",
            "linecolor": "white",
            "ticks": ""
           }
          },
          "title": {
           "x": 0.05
          },
          "xaxis": {
           "automargin": true,
           "gridcolor": "white",
           "linecolor": "white",
           "ticks": "",
           "title": {
            "standoff": 15
           },
           "zerolinecolor": "white",
           "zerolinewidth": 2
          },
          "yaxis": {
           "automargin": true,
           "gridcolor": "white",
           "linecolor": "white",
           "ticks": "",
           "title": {
            "standoff": 15
           },
           "zerolinecolor": "white",
           "zerolinewidth": 2
          }
         }
        },
        "width": 900,
        "yaxis": {
         "range": [
          -2.5,
          2.7
         ]
        }
       }
      }
     },
     "metadata": {},
     "output_type": "display_data"
    }
   ],
   "source": [
    "category0 = df[df['y'] == 0]\n",
    "category1 = df[df['y'] == 1]\n",
    "\n",
    "fig = go.Figure()\n",
    "fig.add_trace(go.Scatter(x = category0['X1'], y = category0['X2'], name = '1st category', mode = 'markers', marker=dict(\n",
    "        color='red',\n",
    "    )))\n",
    "fig.add_trace(go.Scatter(x = category1['X1'], y = category1['X2'], name = '2st category', mode = 'markers', marker=dict(\n",
    "        color='blue',\n",
    "    )))\n",
    "fig.add_trace(go.Scatter(x = df['X1'], y = m*df['X1'] + b, mode = 'lines', name='Line of Classification'))\n",
    "fig.update_layout(width= 900, height= 500)\n",
    "\n",
    "fig.update_yaxes(range=[-2.5, 2.7])\n",
    "\n",
    "fig.show()"
   ]
  },
  {
   "cell_type": "code",
   "execution_count": 222,
   "metadata": {},
   "outputs": [
    {
     "name": "stderr",
     "output_type": "stream",
     "text": [
      "c:\\Users\\shrir\\AppData\\Local\\Programs\\Python\\Python312\\Lib\\site-packages\\sklearn\\linear_model\\_sag.py:350: ConvergenceWarning:\n",
      "\n",
      "The max_iter was reached which means the coef_ did not converge\n",
      "\n"
     ]
    },
    {
     "data": {
      "text/html": [
       "<style>#sk-container-id-6 {\n",
       "  /* Definition of color scheme common for light and dark mode */\n",
       "  --sklearn-color-text: black;\n",
       "  --sklearn-color-line: gray;\n",
       "  /* Definition of color scheme for unfitted estimators */\n",
       "  --sklearn-color-unfitted-level-0: #fff5e6;\n",
       "  --sklearn-color-unfitted-level-1: #f6e4d2;\n",
       "  --sklearn-color-unfitted-level-2: #ffe0b3;\n",
       "  --sklearn-color-unfitted-level-3: chocolate;\n",
       "  /* Definition of color scheme for fitted estimators */\n",
       "  --sklearn-color-fitted-level-0: #f0f8ff;\n",
       "  --sklearn-color-fitted-level-1: #d4ebff;\n",
       "  --sklearn-color-fitted-level-2: #b3dbfd;\n",
       "  --sklearn-color-fitted-level-3: cornflowerblue;\n",
       "\n",
       "  /* Specific color for light theme */\n",
       "  --sklearn-color-text-on-default-background: var(--sg-text-color, var(--theme-code-foreground, var(--jp-content-font-color1, black)));\n",
       "  --sklearn-color-background: var(--sg-background-color, var(--theme-background, var(--jp-layout-color0, white)));\n",
       "  --sklearn-color-border-box: var(--sg-text-color, var(--theme-code-foreground, var(--jp-content-font-color1, black)));\n",
       "  --sklearn-color-icon: #696969;\n",
       "\n",
       "  @media (prefers-color-scheme: dark) {\n",
       "    /* Redefinition of color scheme for dark theme */\n",
       "    --sklearn-color-text-on-default-background: var(--sg-text-color, var(--theme-code-foreground, var(--jp-content-font-color1, white)));\n",
       "    --sklearn-color-background: var(--sg-background-color, var(--theme-background, var(--jp-layout-color0, #111)));\n",
       "    --sklearn-color-border-box: var(--sg-text-color, var(--theme-code-foreground, var(--jp-content-font-color1, white)));\n",
       "    --sklearn-color-icon: #878787;\n",
       "  }\n",
       "}\n",
       "\n",
       "#sk-container-id-6 {\n",
       "  color: var(--sklearn-color-text);\n",
       "}\n",
       "\n",
       "#sk-container-id-6 pre {\n",
       "  padding: 0;\n",
       "}\n",
       "\n",
       "#sk-container-id-6 input.sk-hidden--visually {\n",
       "  border: 0;\n",
       "  clip: rect(1px 1px 1px 1px);\n",
       "  clip: rect(1px, 1px, 1px, 1px);\n",
       "  height: 1px;\n",
       "  margin: -1px;\n",
       "  overflow: hidden;\n",
       "  padding: 0;\n",
       "  position: absolute;\n",
       "  width: 1px;\n",
       "}\n",
       "\n",
       "#sk-container-id-6 div.sk-dashed-wrapped {\n",
       "  border: 1px dashed var(--sklearn-color-line);\n",
       "  margin: 0 0.4em 0.5em 0.4em;\n",
       "  box-sizing: border-box;\n",
       "  padding-bottom: 0.4em;\n",
       "  background-color: var(--sklearn-color-background);\n",
       "}\n",
       "\n",
       "#sk-container-id-6 div.sk-container {\n",
       "  /* jupyter's `normalize.less` sets `[hidden] { display: none; }`\n",
       "     but bootstrap.min.css set `[hidden] { display: none !important; }`\n",
       "     so we also need the `!important` here to be able to override the\n",
       "     default hidden behavior on the sphinx rendered scikit-learn.org.\n",
       "     See: https://github.com/scikit-learn/scikit-learn/issues/21755 */\n",
       "  display: inline-block !important;\n",
       "  position: relative;\n",
       "}\n",
       "\n",
       "#sk-container-id-6 div.sk-text-repr-fallback {\n",
       "  display: none;\n",
       "}\n",
       "\n",
       "div.sk-parallel-item,\n",
       "div.sk-serial,\n",
       "div.sk-item {\n",
       "  /* draw centered vertical line to link estimators */\n",
       "  background-image: linear-gradient(var(--sklearn-color-text-on-default-background), var(--sklearn-color-text-on-default-background));\n",
       "  background-size: 2px 100%;\n",
       "  background-repeat: no-repeat;\n",
       "  background-position: center center;\n",
       "}\n",
       "\n",
       "/* Parallel-specific style estimator block */\n",
       "\n",
       "#sk-container-id-6 div.sk-parallel-item::after {\n",
       "  content: \"\";\n",
       "  width: 100%;\n",
       "  border-bottom: 2px solid var(--sklearn-color-text-on-default-background);\n",
       "  flex-grow: 1;\n",
       "}\n",
       "\n",
       "#sk-container-id-6 div.sk-parallel {\n",
       "  display: flex;\n",
       "  align-items: stretch;\n",
       "  justify-content: center;\n",
       "  background-color: var(--sklearn-color-background);\n",
       "  position: relative;\n",
       "}\n",
       "\n",
       "#sk-container-id-6 div.sk-parallel-item {\n",
       "  display: flex;\n",
       "  flex-direction: column;\n",
       "}\n",
       "\n",
       "#sk-container-id-6 div.sk-parallel-item:first-child::after {\n",
       "  align-self: flex-end;\n",
       "  width: 50%;\n",
       "}\n",
       "\n",
       "#sk-container-id-6 div.sk-parallel-item:last-child::after {\n",
       "  align-self: flex-start;\n",
       "  width: 50%;\n",
       "}\n",
       "\n",
       "#sk-container-id-6 div.sk-parallel-item:only-child::after {\n",
       "  width: 0;\n",
       "}\n",
       "\n",
       "/* Serial-specific style estimator block */\n",
       "\n",
       "#sk-container-id-6 div.sk-serial {\n",
       "  display: flex;\n",
       "  flex-direction: column;\n",
       "  align-items: center;\n",
       "  background-color: var(--sklearn-color-background);\n",
       "  padding-right: 1em;\n",
       "  padding-left: 1em;\n",
       "}\n",
       "\n",
       "\n",
       "/* Toggleable style: style used for estimator/Pipeline/ColumnTransformer box that is\n",
       "clickable and can be expanded/collapsed.\n",
       "- Pipeline and ColumnTransformer use this feature and define the default style\n",
       "- Estimators will overwrite some part of the style using the `sk-estimator` class\n",
       "*/\n",
       "\n",
       "/* Pipeline and ColumnTransformer style (default) */\n",
       "\n",
       "#sk-container-id-6 div.sk-toggleable {\n",
       "  /* Default theme specific background. It is overwritten whether we have a\n",
       "  specific estimator or a Pipeline/ColumnTransformer */\n",
       "  background-color: var(--sklearn-color-background);\n",
       "}\n",
       "\n",
       "/* Toggleable label */\n",
       "#sk-container-id-6 label.sk-toggleable__label {\n",
       "  cursor: pointer;\n",
       "  display: block;\n",
       "  width: 100%;\n",
       "  margin-bottom: 0;\n",
       "  padding: 0.5em;\n",
       "  box-sizing: border-box;\n",
       "  text-align: center;\n",
       "}\n",
       "\n",
       "#sk-container-id-6 label.sk-toggleable__label-arrow:before {\n",
       "  /* Arrow on the left of the label */\n",
       "  content: \"▸\";\n",
       "  float: left;\n",
       "  margin-right: 0.25em;\n",
       "  color: var(--sklearn-color-icon);\n",
       "}\n",
       "\n",
       "#sk-container-id-6 label.sk-toggleable__label-arrow:hover:before {\n",
       "  color: var(--sklearn-color-text);\n",
       "}\n",
       "\n",
       "/* Toggleable content - dropdown */\n",
       "\n",
       "#sk-container-id-6 div.sk-toggleable__content {\n",
       "  max-height: 0;\n",
       "  max-width: 0;\n",
       "  overflow: hidden;\n",
       "  text-align: left;\n",
       "  /* unfitted */\n",
       "  background-color: var(--sklearn-color-unfitted-level-0);\n",
       "}\n",
       "\n",
       "#sk-container-id-6 div.sk-toggleable__content.fitted {\n",
       "  /* fitted */\n",
       "  background-color: var(--sklearn-color-fitted-level-0);\n",
       "}\n",
       "\n",
       "#sk-container-id-6 div.sk-toggleable__content pre {\n",
       "  margin: 0.2em;\n",
       "  border-radius: 0.25em;\n",
       "  color: var(--sklearn-color-text);\n",
       "  /* unfitted */\n",
       "  background-color: var(--sklearn-color-unfitted-level-0);\n",
       "}\n",
       "\n",
       "#sk-container-id-6 div.sk-toggleable__content.fitted pre {\n",
       "  /* unfitted */\n",
       "  background-color: var(--sklearn-color-fitted-level-0);\n",
       "}\n",
       "\n",
       "#sk-container-id-6 input.sk-toggleable__control:checked~div.sk-toggleable__content {\n",
       "  /* Expand drop-down */\n",
       "  max-height: 200px;\n",
       "  max-width: 100%;\n",
       "  overflow: auto;\n",
       "}\n",
       "\n",
       "#sk-container-id-6 input.sk-toggleable__control:checked~label.sk-toggleable__label-arrow:before {\n",
       "  content: \"▾\";\n",
       "}\n",
       "\n",
       "/* Pipeline/ColumnTransformer-specific style */\n",
       "\n",
       "#sk-container-id-6 div.sk-label input.sk-toggleable__control:checked~label.sk-toggleable__label {\n",
       "  color: var(--sklearn-color-text);\n",
       "  background-color: var(--sklearn-color-unfitted-level-2);\n",
       "}\n",
       "\n",
       "#sk-container-id-6 div.sk-label.fitted input.sk-toggleable__control:checked~label.sk-toggleable__label {\n",
       "  background-color: var(--sklearn-color-fitted-level-2);\n",
       "}\n",
       "\n",
       "/* Estimator-specific style */\n",
       "\n",
       "/* Colorize estimator box */\n",
       "#sk-container-id-6 div.sk-estimator input.sk-toggleable__control:checked~label.sk-toggleable__label {\n",
       "  /* unfitted */\n",
       "  background-color: var(--sklearn-color-unfitted-level-2);\n",
       "}\n",
       "\n",
       "#sk-container-id-6 div.sk-estimator.fitted input.sk-toggleable__control:checked~label.sk-toggleable__label {\n",
       "  /* fitted */\n",
       "  background-color: var(--sklearn-color-fitted-level-2);\n",
       "}\n",
       "\n",
       "#sk-container-id-6 div.sk-label label.sk-toggleable__label,\n",
       "#sk-container-id-6 div.sk-label label {\n",
       "  /* The background is the default theme color */\n",
       "  color: var(--sklearn-color-text-on-default-background);\n",
       "}\n",
       "\n",
       "/* On hover, darken the color of the background */\n",
       "#sk-container-id-6 div.sk-label:hover label.sk-toggleable__label {\n",
       "  color: var(--sklearn-color-text);\n",
       "  background-color: var(--sklearn-color-unfitted-level-2);\n",
       "}\n",
       "\n",
       "/* Label box, darken color on hover, fitted */\n",
       "#sk-container-id-6 div.sk-label.fitted:hover label.sk-toggleable__label.fitted {\n",
       "  color: var(--sklearn-color-text);\n",
       "  background-color: var(--sklearn-color-fitted-level-2);\n",
       "}\n",
       "\n",
       "/* Estimator label */\n",
       "\n",
       "#sk-container-id-6 div.sk-label label {\n",
       "  font-family: monospace;\n",
       "  font-weight: bold;\n",
       "  display: inline-block;\n",
       "  line-height: 1.2em;\n",
       "}\n",
       "\n",
       "#sk-container-id-6 div.sk-label-container {\n",
       "  text-align: center;\n",
       "}\n",
       "\n",
       "/* Estimator-specific */\n",
       "#sk-container-id-6 div.sk-estimator {\n",
       "  font-family: monospace;\n",
       "  border: 1px dotted var(--sklearn-color-border-box);\n",
       "  border-radius: 0.25em;\n",
       "  box-sizing: border-box;\n",
       "  margin-bottom: 0.5em;\n",
       "  /* unfitted */\n",
       "  background-color: var(--sklearn-color-unfitted-level-0);\n",
       "}\n",
       "\n",
       "#sk-container-id-6 div.sk-estimator.fitted {\n",
       "  /* fitted */\n",
       "  background-color: var(--sklearn-color-fitted-level-0);\n",
       "}\n",
       "\n",
       "/* on hover */\n",
       "#sk-container-id-6 div.sk-estimator:hover {\n",
       "  /* unfitted */\n",
       "  background-color: var(--sklearn-color-unfitted-level-2);\n",
       "}\n",
       "\n",
       "#sk-container-id-6 div.sk-estimator.fitted:hover {\n",
       "  /* fitted */\n",
       "  background-color: var(--sklearn-color-fitted-level-2);\n",
       "}\n",
       "\n",
       "/* Specification for estimator info (e.g. \"i\" and \"?\") */\n",
       "\n",
       "/* Common style for \"i\" and \"?\" */\n",
       "\n",
       ".sk-estimator-doc-link,\n",
       "a:link.sk-estimator-doc-link,\n",
       "a:visited.sk-estimator-doc-link {\n",
       "  float: right;\n",
       "  font-size: smaller;\n",
       "  line-height: 1em;\n",
       "  font-family: monospace;\n",
       "  background-color: var(--sklearn-color-background);\n",
       "  border-radius: 1em;\n",
       "  height: 1em;\n",
       "  width: 1em;\n",
       "  text-decoration: none !important;\n",
       "  margin-left: 1ex;\n",
       "  /* unfitted */\n",
       "  border: var(--sklearn-color-unfitted-level-1) 1pt solid;\n",
       "  color: var(--sklearn-color-unfitted-level-1);\n",
       "}\n",
       "\n",
       ".sk-estimator-doc-link.fitted,\n",
       "a:link.sk-estimator-doc-link.fitted,\n",
       "a:visited.sk-estimator-doc-link.fitted {\n",
       "  /* fitted */\n",
       "  border: var(--sklearn-color-fitted-level-1) 1pt solid;\n",
       "  color: var(--sklearn-color-fitted-level-1);\n",
       "}\n",
       "\n",
       "/* On hover */\n",
       "div.sk-estimator:hover .sk-estimator-doc-link:hover,\n",
       ".sk-estimator-doc-link:hover,\n",
       "div.sk-label-container:hover .sk-estimator-doc-link:hover,\n",
       ".sk-estimator-doc-link:hover {\n",
       "  /* unfitted */\n",
       "  background-color: var(--sklearn-color-unfitted-level-3);\n",
       "  color: var(--sklearn-color-background);\n",
       "  text-decoration: none;\n",
       "}\n",
       "\n",
       "div.sk-estimator.fitted:hover .sk-estimator-doc-link.fitted:hover,\n",
       ".sk-estimator-doc-link.fitted:hover,\n",
       "div.sk-label-container:hover .sk-estimator-doc-link.fitted:hover,\n",
       ".sk-estimator-doc-link.fitted:hover {\n",
       "  /* fitted */\n",
       "  background-color: var(--sklearn-color-fitted-level-3);\n",
       "  color: var(--sklearn-color-background);\n",
       "  text-decoration: none;\n",
       "}\n",
       "\n",
       "/* Span, style for the box shown on hovering the info icon */\n",
       ".sk-estimator-doc-link span {\n",
       "  display: none;\n",
       "  z-index: 9999;\n",
       "  position: relative;\n",
       "  font-weight: normal;\n",
       "  right: .2ex;\n",
       "  padding: .5ex;\n",
       "  margin: .5ex;\n",
       "  width: min-content;\n",
       "  min-width: 20ex;\n",
       "  max-width: 50ex;\n",
       "  color: var(--sklearn-color-text);\n",
       "  box-shadow: 2pt 2pt 4pt #999;\n",
       "  /* unfitted */\n",
       "  background: var(--sklearn-color-unfitted-level-0);\n",
       "  border: .5pt solid var(--sklearn-color-unfitted-level-3);\n",
       "}\n",
       "\n",
       ".sk-estimator-doc-link.fitted span {\n",
       "  /* fitted */\n",
       "  background: var(--sklearn-color-fitted-level-0);\n",
       "  border: var(--sklearn-color-fitted-level-3);\n",
       "}\n",
       "\n",
       ".sk-estimator-doc-link:hover span {\n",
       "  display: block;\n",
       "}\n",
       "\n",
       "/* \"?\"-specific style due to the `<a>` HTML tag */\n",
       "\n",
       "#sk-container-id-6 a.estimator_doc_link {\n",
       "  float: right;\n",
       "  font-size: 1rem;\n",
       "  line-height: 1em;\n",
       "  font-family: monospace;\n",
       "  background-color: var(--sklearn-color-background);\n",
       "  border-radius: 1rem;\n",
       "  height: 1rem;\n",
       "  width: 1rem;\n",
       "  text-decoration: none;\n",
       "  /* unfitted */\n",
       "  color: var(--sklearn-color-unfitted-level-1);\n",
       "  border: var(--sklearn-color-unfitted-level-1) 1pt solid;\n",
       "}\n",
       "\n",
       "#sk-container-id-6 a.estimator_doc_link.fitted {\n",
       "  /* fitted */\n",
       "  border: var(--sklearn-color-fitted-level-1) 1pt solid;\n",
       "  color: var(--sklearn-color-fitted-level-1);\n",
       "}\n",
       "\n",
       "/* On hover */\n",
       "#sk-container-id-6 a.estimator_doc_link:hover {\n",
       "  /* unfitted */\n",
       "  background-color: var(--sklearn-color-unfitted-level-3);\n",
       "  color: var(--sklearn-color-background);\n",
       "  text-decoration: none;\n",
       "}\n",
       "\n",
       "#sk-container-id-6 a.estimator_doc_link.fitted:hover {\n",
       "  /* fitted */\n",
       "  background-color: var(--sklearn-color-fitted-level-3);\n",
       "}\n",
       "</style><div id=\"sk-container-id-6\" class=\"sk-top-container\"><div class=\"sk-text-repr-fallback\"><pre>LogisticRegression(penalty=None, solver=&#x27;sag&#x27;)</pre><b>In a Jupyter environment, please rerun this cell to show the HTML representation or trust the notebook. <br />On GitHub, the HTML representation is unable to render, please try loading this page with nbviewer.org.</b></div><div class=\"sk-container\" hidden><div class=\"sk-item\"><div class=\"sk-estimator fitted sk-toggleable\"><input class=\"sk-toggleable__control sk-hidden--visually\" id=\"sk-estimator-id-6\" type=\"checkbox\" checked><label for=\"sk-estimator-id-6\" class=\"sk-toggleable__label fitted sk-toggleable__label-arrow fitted\">&nbsp;&nbsp;LogisticRegression<a class=\"sk-estimator-doc-link fitted\" rel=\"noreferrer\" target=\"_blank\" href=\"https://scikit-learn.org/1.4/modules/generated/sklearn.linear_model.LogisticRegression.html\">?<span>Documentation for LogisticRegression</span></a><span class=\"sk-estimator-doc-link fitted\">i<span>Fitted</span></span></label><div class=\"sk-toggleable__content fitted\"><pre>LogisticRegression(penalty=None, solver=&#x27;sag&#x27;)</pre></div> </div></div></div></div>"
      ],
      "text/plain": [
       "LogisticRegression(penalty=None, solver='sag')"
      ]
     },
     "execution_count": 222,
     "metadata": {},
     "output_type": "execute_result"
    }
   ],
   "source": [
    "model = LogisticRegression(penalty=None,solver='sag')\n",
    "model.fit(X_train, y_train)"
   ]
  },
  {
   "cell_type": "code",
   "execution_count": 223,
   "metadata": {},
   "outputs": [
    {
     "data": {
      "text/plain": [
       "array([0.11217206])"
      ]
     },
     "execution_count": 223,
     "metadata": {},
     "output_type": "execute_result"
    }
   ],
   "source": [
    "model.intercept_"
   ]
  },
  {
   "cell_type": "code",
   "execution_count": 224,
   "metadata": {},
   "outputs": [],
   "source": [
    "model_m = -model.coef_[0, 0]/model.coef_[0, 1]\n",
    "model_b = -model.intercept_[0]/model.coef_[0, 1]"
   ]
  },
  {
   "cell_type": "code",
   "execution_count": 225,
   "metadata": {},
   "outputs": [
    {
     "data": {
      "application/vnd.plotly.v1+json": {
       "config": {
        "plotlyServerURL": "https://plot.ly"
       },
       "data": [
        {
         "marker": {
          "color": "red"
         },
         "mode": "markers",
         "name": "1st category",
         "type": "scatter",
         "x": [
          -4.473950818706932,
          -3.9652347177807186,
          -3.904806028302793,
          -3.939983636977865,
          -3.6467364059335754,
          -3.6742017462398984,
          -4.019927853027462,
          -3.8661303182413507,
          -4.2327126329346,
          -3.627276138631691,
          -4.096585449857788,
          -3.9443180072560673,
          -3.814656852215078,
          -3.708672266711176,
          -4.238520062342493,
          -4.077082903893651,
          -3.9296228932932995,
          -3.7931556878654398,
          -3.8404316585274243,
          -3.389490862335562,
          -3.5764731546156048,
          -4.131713557869252,
          -4.023351936660406,
          -3.728379314150424,
          -3.7454471285714006,
          -3.7925693225964503,
          -4.012880687289253,
          -4.24392905707127,
          -3.7704979233987035,
          -3.968438169930999,
          -3.5856177491468113,
          -3.6632299949009757,
          -4.115206474633533,
          -3.8979798720975145,
          -3.9208165804396566,
          -4.063497827813139,
          -4.267504366357839,
          -3.7632380375681094,
          -4.160851231147507,
          -4.324574742086565,
          -3.8773003057945994,
          -4.105469011455109,
          -3.8305303841593155,
          -4.156132972512731,
          -4.0426947591030125,
          -3.9487804529648804,
          -3.8762052766594173,
          -3.81564658473913,
          -3.7499050008819883,
          -3.9903802316432655
         ],
         "y": [
          -1.4362810576419294,
          0.5156804817473838,
          0.4290050733022151,
          0.02088802349771661,
          0.09660158999278749,
          -0.7197030947413544,
          0.2101382570267372,
          0.457257840302902,
          1.3728599911843313,
          0.5398918062347919,
          0.5719732891664263,
          0.4488379366139757,
          -0.38714703793801747,
          -1.7699140975740906,
          0.175286493938826,
          0.05974315921352116,
          -1.4217302244793153,
          1.2986279314927573,
          -0.3470329434256442,
          -0.09871314785393477,
          -0.5817490016191535,
          -0.9076737965955878,
          0.3123351185195193,
          0.775196035625301,
          -0.920236208024311,
          0.06620883720815655,
          0.5861546572053165,
          -0.8386742941078525,
          1.2754465282431642,
          0.7139910824823139,
          -1.2902709060217914,
          -0.6425404490284055,
          0.6245511090187303,
          0.4505743234756899,
          -0.5308936134651363,
          0.26674875352817107,
          -0.6438646183715135,
          1.386507499322017,
          -1.8570652021217886,
          0.07609600371482775,
          0.43245164511574774,
          -0.7786372328690883,
          0.6348970471355517,
          1.4945854169329693,
          1.0385425449486094,
          -0.010496917377630293,
          -2.0355312820226352,
          -0.026742368421774177,
          -1.0547779002340232,
          0.7165141931004696
         ]
        },
        {
         "marker": {
          "color": "blue"
         },
         "mode": "markers",
         "name": "2st category",
         "type": "scatter",
         "x": [
          7.374443640137842,
          7.619470912079629,
          7.517230728386392,
          7.219482541699835,
          7.150458625693053,
          5.997199293175521,
          6.9477308864661,
          7.793089146567512,
          7.301662714701961,
          6.557994614749708,
          7.111296362281097,
          7.201192937544021,
          7.7706173456405905,
          6.752546580398205,
          7.285960932211534,
          7.063769291795044,
          7.972164510561191,
          7.32497450829736,
          7.573359588187986,
          6.949160224857126,
          7.113556565794822,
          6.953315549137534,
          6.70311117991166,
          7.656947240642544,
          7.559316288558008,
          6.9768829754807475,
          7.099545350324686,
          6.878787388615123,
          7.356521712995069,
          7.0877495981667265,
          7.2743891747807545,
          6.4063705250820915,
          7.175880270579661,
          6.927478620635624,
          7.401974736333505,
          7.495238565181811,
          7.321457949308562,
          6.643009593225825,
          7.518497872780225,
          6.583174934677271,
          7.320944767424635,
          7.716921520080983,
          7.420784616262897,
          7.682588144883164,
          7.6146376642270726,
          7.214888935110436,
          7.533149988680872,
          6.622468375051354,
          7.567489274980013,
          6.9095356502561005
         ],
         "y": [
          0.15969231797397235,
          1.196750234895554,
          0.12850392951259038,
          -0.3978735467737712,
          -2.1478839765693842,
          -0.7173332231420447,
          -0.11021000933532712,
          -0.48889836852756846,
          1.6157234935428848,
          1.1750864854060294,
          -1.559393530237361,
          -0.17618049779251288,
          -0.815590221265772,
          2.4625044427253813,
          0.3662350436126173,
          -1.6381154754447826,
          -0.37562198609444925,
          -0.46117474338929343,
          -0.2971409776920997,
          1.2266272588659437,
          0.5687106144618737,
          -0.2921726967709254,
          1.362182954043657,
          1.4119950237855337,
          0.04792825975688539,
          -0.264223254683583,
          -1.1920123738035948,
          -1.6179207930281099,
          0.41202055927326714,
          -0.15124266638594827,
          1.0096487184591802,
          -1.061434089881844,
          -1.087728110995788,
          0.9663572720485237,
          0.8329971244821274,
          -1.2936968897287056,
          1.0013687348955425,
          1.5207414785413933,
          -0.45800356638480844,
          0.3984318672099353,
          -0.23995572809665455,
          1.662359693997407,
          -0.36475393287763846,
          0.626625062757291,
          -1.7143966585533834,
          -0.7902679007121662,
          0.21304965354947047,
          0.4669186590775545,
          -0.6260395534862122,
          -0.2398529589731425
         ]
        },
        {
         "mode": "lines",
         "name": "my classifier",
         "type": "scatter",
         "x": [
          -4.473950818706932,
          -3.9652347177807186,
          -3.904806028302793,
          -3.939983636977865,
          7.374443640137842,
          -3.6467364059335754,
          7.619470912079629,
          -3.6742017462398984,
          -4.019927853027462,
          -3.8661303182413507,
          -4.2327126329346,
          7.517230728386392,
          -3.627276138631691,
          7.219482541699835,
          7.150458625693053,
          -4.096585449857788,
          -3.9443180072560673,
          5.997199293175521,
          6.9477308864661,
          7.793089146567512,
          -3.814656852215078,
          -3.708672266711176,
          7.301662714701961,
          -4.238520062342493,
          6.557994614749708,
          -4.077082903893651,
          7.111296362281097,
          7.201192937544021,
          -3.9296228932932995,
          7.7706173456405905,
          -3.7931556878654398,
          -3.8404316585274243,
          -3.389490862335562,
          -3.5764731546156048,
          -4.131713557869252,
          -4.023351936660406,
          6.752546580398205,
          -3.728379314150424,
          -3.7454471285714006,
          -3.7925693225964503,
          -4.012880687289253,
          7.285960932211534,
          7.063769291795044,
          7.972164510561191,
          7.32497450829736,
          -4.24392905707127,
          -3.7704979233987035,
          -3.968438169930999,
          -3.5856177491468113,
          7.573359588187986,
          6.949160224857126,
          7.113556565794822,
          -3.6632299949009757,
          6.953315549137534,
          -4.115206474633533,
          -3.8979798720975145,
          -3.9208165804396566,
          6.70311117991166,
          7.656947240642544,
          7.559316288558008,
          6.9768829754807475,
          -4.063497827813139,
          -4.267504366357839,
          7.099545350324686,
          6.878787388615123,
          7.356521712995069,
          7.0877495981667265,
          -3.7632380375681094,
          -4.160851231147507,
          -4.324574742086565,
          7.2743891747807545,
          -3.8773003057945994,
          6.4063705250820915,
          -4.105469011455109,
          7.175880270579661,
          6.927478620635624,
          7.401974736333505,
          7.495238565181811,
          -3.8305303841593155,
          -4.156132972512731,
          7.321457949308562,
          6.643009593225825,
          -4.0426947591030125,
          7.518497872780225,
          6.583174934677271,
          7.320944767424635,
          7.716921520080983,
          7.420784616262897,
          7.682588144883164,
          -3.9487804529648804,
          7.6146376642270726,
          7.214888935110436,
          -3.8762052766594173,
          -3.81564658473913,
          -3.7499050008819883,
          7.533149988680872,
          6.622468375051354,
          7.567489274980013,
          6.9095356502561005,
          -3.9903802316432655
         ],
         "y": [
          3.473950818706932,
          2.9652347177807186,
          2.904806028302793,
          2.939983636977865,
          -8.37444364013784,
          2.6467364059335754,
          -8.61947091207963,
          2.6742017462398984,
          3.019927853027462,
          2.8661303182413507,
          3.2327126329346,
          -8.51723072838639,
          2.627276138631691,
          -8.219482541699836,
          -8.150458625693053,
          3.0965854498577876,
          2.9443180072560673,
          -6.997199293175521,
          -7.9477308864661,
          -8.793089146567512,
          2.814656852215078,
          2.708672266711176,
          -8.301662714701962,
          3.2385200623424932,
          -7.557994614749708,
          3.0770829038936514,
          -8.111296362281097,
          -8.201192937544022,
          2.9296228932932995,
          -8.770617345640591,
          2.7931556878654398,
          2.8404316585274243,
          2.389490862335562,
          2.5764731546156048,
          3.1317135578692517,
          3.023351936660406,
          -7.752546580398205,
          2.728379314150424,
          2.7454471285714006,
          2.7925693225964503,
          3.012880687289253,
          -8.285960932211534,
          -8.063769291795044,
          -8.972164510561191,
          -8.324974508297359,
          3.24392905707127,
          2.7704979233987035,
          2.968438169930999,
          2.5856177491468113,
          -8.573359588187987,
          -7.949160224857126,
          -8.113556565794822,
          2.6632299949009757,
          -7.953315549137534,
          3.115206474633533,
          2.8979798720975145,
          2.9208165804396566,
          -7.70311117991166,
          -8.656947240642545,
          -8.559316288558009,
          -7.9768829754807475,
          3.063497827813139,
          3.267504366357839,
          -8.099545350324686,
          -7.878787388615123,
          -8.356521712995068,
          -8.087749598166727,
          2.7632380375681094,
          3.1608512311475074,
          3.324574742086565,
          -8.274389174780755,
          2.8773003057945994,
          -7.4063705250820915,
          3.105469011455109,
          -8.175880270579661,
          -7.927478620635624,
          -8.401974736333505,
          -8.495238565181811,
          2.8305303841593155,
          3.156132972512731,
          -8.321457949308563,
          -7.643009593225825,
          3.0426947591030125,
          -8.518497872780225,
          -7.583174934677271,
          -8.320944767424635,
          -8.716921520080984,
          -8.420784616262896,
          -8.682588144883164,
          2.9487804529648804,
          -8.614637664227072,
          -8.214888935110437,
          2.8762052766594173,
          2.81564658473913,
          2.7499050008819883,
          -8.533149988680872,
          -7.622468375051354,
          -8.567489274980012,
          -7.9095356502561005,
          2.9903802316432655
         ]
        },
        {
         "mode": "lines",
         "name": "sklearn classifier",
         "type": "scatter",
         "x": [
          -4.473950818706932,
          -3.9652347177807186,
          -3.904806028302793,
          -3.939983636977865,
          7.374443640137842,
          -3.6467364059335754,
          7.619470912079629,
          -3.6742017462398984,
          -4.019927853027462,
          -3.8661303182413507,
          -4.2327126329346,
          7.517230728386392,
          -3.627276138631691,
          7.219482541699835,
          7.150458625693053,
          -4.096585449857788,
          -3.9443180072560673,
          5.997199293175521,
          6.9477308864661,
          7.793089146567512,
          -3.814656852215078,
          -3.708672266711176,
          7.301662714701961,
          -4.238520062342493,
          6.557994614749708,
          -4.077082903893651,
          7.111296362281097,
          7.201192937544021,
          -3.9296228932932995,
          7.7706173456405905,
          -3.7931556878654398,
          -3.8404316585274243,
          -3.389490862335562,
          -3.5764731546156048,
          -4.131713557869252,
          -4.023351936660406,
          6.752546580398205,
          -3.728379314150424,
          -3.7454471285714006,
          -3.7925693225964503,
          -4.012880687289253,
          7.285960932211534,
          7.063769291795044,
          7.972164510561191,
          7.32497450829736,
          -4.24392905707127,
          -3.7704979233987035,
          -3.968438169930999,
          -3.5856177491468113,
          7.573359588187986,
          6.949160224857126,
          7.113556565794822,
          -3.6632299949009757,
          6.953315549137534,
          -4.115206474633533,
          -3.8979798720975145,
          -3.9208165804396566,
          6.70311117991166,
          7.656947240642544,
          7.559316288558008,
          6.9768829754807475,
          -4.063497827813139,
          -4.267504366357839,
          7.099545350324686,
          6.878787388615123,
          7.356521712995069,
          7.0877495981667265,
          -3.7632380375681094,
          -4.160851231147507,
          -4.324574742086565,
          7.2743891747807545,
          -3.8773003057945994,
          6.4063705250820915,
          -4.105469011455109,
          7.175880270579661,
          6.927478620635624,
          7.401974736333505,
          7.495238565181811,
          -3.8305303841593155,
          -4.156132972512731,
          7.321457949308562,
          6.643009593225825,
          -4.0426947591030125,
          7.518497872780225,
          6.583174934677271,
          7.320944767424635,
          7.716921520080983,
          7.420784616262897,
          7.682588144883164,
          -3.9487804529648804,
          7.6146376642270726,
          7.214888935110436,
          -3.8762052766594173,
          -3.81564658473913,
          -3.7499050008819883,
          7.533149988680872,
          6.622468375051354,
          7.567489274980013,
          6.9095356502561005,
          -3.9903802316432655
         ],
         "y": [
          -70.89285890245013,
          -62.74965654776397,
          -61.78235269095403,
          -62.34545337770941,
          118.76867034902864,
          -57.651339041643965,
          122.6909103846907,
          -58.09098666326926,
          -63.62514931655103,
          -61.16325663193785,
          -67.03127213756336,
          121.05431483939839,
          -57.33983151470113,
          116.28815208080863,
          115.1832613287119,
          -64.8522351545592,
          -62.41483520814741,
          96.7226226836561,
          111.93812519005333,
          125.47008016784496,
          -60.339302271173864,
          -58.642768733775576,
          117.6036397901243,
          -67.12423375749819,
          105.69947593210925,
          -64.5400508578004,
          114.55637683449113,
          115.99538378163992,
          -62.17960521167959,
          125.11036593452508,
          -59.995125368100254,
          -60.75188890460681,
          -53.53351671884765,
          -56.5266098016245,
          -65.41454346631463,
          -63.67995985990059,
          108.81373951034706,
          -58.95822655950395,
          -59.23143722912732,
          -59.98573920746872,
          -63.51234278943549,
          117.35229568696732,
          113.79559385241387,
          128.33660419388735,
          117.97680008945902,
          -67.21081748962631,
          -59.63243434923625,
          -62.800935363287586,
          -56.67299062893387,
          121.95278976965912,
          111.96100512589624,
          114.59255672842711,
          -57.91535787704552,
          112.02752090238354,
          -65.15030862328653,
          -61.67308394325158,
          -62.03863938135631,
          108.02240920074226,
          123.29080751089309,
          121.72799360062457,
          112.40477320743648,
          -64.3225896386135,
          -67.58819597980052,
          114.36827414212664,
          110.83452172042027,
          118.48178758859738,
          114.17945527719765,
          -59.51622273477622,
          -65.88096072579899,
          -68.50174209554335,
          117.16706238653391,
          -61.34205865683901,
          103.27237436846606,
          -64.99443753342159,
          115.59019477965577,
          111.6139398566263,
          119.20937054892292,
          120.70227834032528,
          -60.59339562986677,
          -65.80543385579276,
          117.92050925969005,
          107.06034139646128,
          -63.989587404564745,
          121.07459847735048,
          106.10254640727713,
          117.91229457193401,
          124.2508374620869,
          119.51046709030132,
          123.70125072550402,
          -62.48626718825872,
          122.61354284074612,
          116.21462056111191,
          -61.32453012999303,
          -60.355145277136714,
          -59.30279600120152,
          121.3091401883088,
          106.73153069850632,
          121.8588215460254,
          111.32672024950443,
          -63.15216986967863
         ]
        }
       ],
       "layout": {
        "height": 500,
        "template": {
         "data": {
          "bar": [
           {
            "error_x": {
             "color": "#2a3f5f"
            },
            "error_y": {
             "color": "#2a3f5f"
            },
            "marker": {
             "line": {
              "color": "#E5ECF6",
              "width": 0.5
             },
             "pattern": {
              "fillmode": "overlay",
              "size": 10,
              "solidity": 0.2
             }
            },
            "type": "bar"
           }
          ],
          "barpolar": [
           {
            "marker": {
             "line": {
              "color": "#E5ECF6",
              "width": 0.5
             },
             "pattern": {
              "fillmode": "overlay",
              "size": 10,
              "solidity": 0.2
             }
            },
            "type": "barpolar"
           }
          ],
          "carpet": [
           {
            "aaxis": {
             "endlinecolor": "#2a3f5f",
             "gridcolor": "white",
             "linecolor": "white",
             "minorgridcolor": "white",
             "startlinecolor": "#2a3f5f"
            },
            "baxis": {
             "endlinecolor": "#2a3f5f",
             "gridcolor": "white",
             "linecolor": "white",
             "minorgridcolor": "white",
             "startlinecolor": "#2a3f5f"
            },
            "type": "carpet"
           }
          ],
          "choropleth": [
           {
            "colorbar": {
             "outlinewidth": 0,
             "ticks": ""
            },
            "type": "choropleth"
           }
          ],
          "contour": [
           {
            "colorbar": {
             "outlinewidth": 0,
             "ticks": ""
            },
            "colorscale": [
             [
              0,
              "#0d0887"
             ],
             [
              0.1111111111111111,
              "#46039f"
             ],
             [
              0.2222222222222222,
              "#7201a8"
             ],
             [
              0.3333333333333333,
              "#9c179e"
             ],
             [
              0.4444444444444444,
              "#bd3786"
             ],
             [
              0.5555555555555556,
              "#d8576b"
             ],
             [
              0.6666666666666666,
              "#ed7953"
             ],
             [
              0.7777777777777778,
              "#fb9f3a"
             ],
             [
              0.8888888888888888,
              "#fdca26"
             ],
             [
              1,
              "#f0f921"
             ]
            ],
            "type": "contour"
           }
          ],
          "contourcarpet": [
           {
            "colorbar": {
             "outlinewidth": 0,
             "ticks": ""
            },
            "type": "contourcarpet"
           }
          ],
          "heatmap": [
           {
            "colorbar": {
             "outlinewidth": 0,
             "ticks": ""
            },
            "colorscale": [
             [
              0,
              "#0d0887"
             ],
             [
              0.1111111111111111,
              "#46039f"
             ],
             [
              0.2222222222222222,
              "#7201a8"
             ],
             [
              0.3333333333333333,
              "#9c179e"
             ],
             [
              0.4444444444444444,
              "#bd3786"
             ],
             [
              0.5555555555555556,
              "#d8576b"
             ],
             [
              0.6666666666666666,
              "#ed7953"
             ],
             [
              0.7777777777777778,
              "#fb9f3a"
             ],
             [
              0.8888888888888888,
              "#fdca26"
             ],
             [
              1,
              "#f0f921"
             ]
            ],
            "type": "heatmap"
           }
          ],
          "heatmapgl": [
           {
            "colorbar": {
             "outlinewidth": 0,
             "ticks": ""
            },
            "colorscale": [
             [
              0,
              "#0d0887"
             ],
             [
              0.1111111111111111,
              "#46039f"
             ],
             [
              0.2222222222222222,
              "#7201a8"
             ],
             [
              0.3333333333333333,
              "#9c179e"
             ],
             [
              0.4444444444444444,
              "#bd3786"
             ],
             [
              0.5555555555555556,
              "#d8576b"
             ],
             [
              0.6666666666666666,
              "#ed7953"
             ],
             [
              0.7777777777777778,
              "#fb9f3a"
             ],
             [
              0.8888888888888888,
              "#fdca26"
             ],
             [
              1,
              "#f0f921"
             ]
            ],
            "type": "heatmapgl"
           }
          ],
          "histogram": [
           {
            "marker": {
             "pattern": {
              "fillmode": "overlay",
              "size": 10,
              "solidity": 0.2
             }
            },
            "type": "histogram"
           }
          ],
          "histogram2d": [
           {
            "colorbar": {
             "outlinewidth": 0,
             "ticks": ""
            },
            "colorscale": [
             [
              0,
              "#0d0887"
             ],
             [
              0.1111111111111111,
              "#46039f"
             ],
             [
              0.2222222222222222,
              "#7201a8"
             ],
             [
              0.3333333333333333,
              "#9c179e"
             ],
             [
              0.4444444444444444,
              "#bd3786"
             ],
             [
              0.5555555555555556,
              "#d8576b"
             ],
             [
              0.6666666666666666,
              "#ed7953"
             ],
             [
              0.7777777777777778,
              "#fb9f3a"
             ],
             [
              0.8888888888888888,
              "#fdca26"
             ],
             [
              1,
              "#f0f921"
             ]
            ],
            "type": "histogram2d"
           }
          ],
          "histogram2dcontour": [
           {
            "colorbar": {
             "outlinewidth": 0,
             "ticks": ""
            },
            "colorscale": [
             [
              0,
              "#0d0887"
             ],
             [
              0.1111111111111111,
              "#46039f"
             ],
             [
              0.2222222222222222,
              "#7201a8"
             ],
             [
              0.3333333333333333,
              "#9c179e"
             ],
             [
              0.4444444444444444,
              "#bd3786"
             ],
             [
              0.5555555555555556,
              "#d8576b"
             ],
             [
              0.6666666666666666,
              "#ed7953"
             ],
             [
              0.7777777777777778,
              "#fb9f3a"
             ],
             [
              0.8888888888888888,
              "#fdca26"
             ],
             [
              1,
              "#f0f921"
             ]
            ],
            "type": "histogram2dcontour"
           }
          ],
          "mesh3d": [
           {
            "colorbar": {
             "outlinewidth": 0,
             "ticks": ""
            },
            "type": "mesh3d"
           }
          ],
          "parcoords": [
           {
            "line": {
             "colorbar": {
              "outlinewidth": 0,
              "ticks": ""
             }
            },
            "type": "parcoords"
           }
          ],
          "pie": [
           {
            "automargin": true,
            "type": "pie"
           }
          ],
          "scatter": [
           {
            "fillpattern": {
             "fillmode": "overlay",
             "size": 10,
             "solidity": 0.2
            },
            "type": "scatter"
           }
          ],
          "scatter3d": [
           {
            "line": {
             "colorbar": {
              "outlinewidth": 0,
              "ticks": ""
             }
            },
            "marker": {
             "colorbar": {
              "outlinewidth": 0,
              "ticks": ""
             }
            },
            "type": "scatter3d"
           }
          ],
          "scattercarpet": [
           {
            "marker": {
             "colorbar": {
              "outlinewidth": 0,
              "ticks": ""
             }
            },
            "type": "scattercarpet"
           }
          ],
          "scattergeo": [
           {
            "marker": {
             "colorbar": {
              "outlinewidth": 0,
              "ticks": ""
             }
            },
            "type": "scattergeo"
           }
          ],
          "scattergl": [
           {
            "marker": {
             "colorbar": {
              "outlinewidth": 0,
              "ticks": ""
             }
            },
            "type": "scattergl"
           }
          ],
          "scattermapbox": [
           {
            "marker": {
             "colorbar": {
              "outlinewidth": 0,
              "ticks": ""
             }
            },
            "type": "scattermapbox"
           }
          ],
          "scatterpolar": [
           {
            "marker": {
             "colorbar": {
              "outlinewidth": 0,
              "ticks": ""
             }
            },
            "type": "scatterpolar"
           }
          ],
          "scatterpolargl": [
           {
            "marker": {
             "colorbar": {
              "outlinewidth": 0,
              "ticks": ""
             }
            },
            "type": "scatterpolargl"
           }
          ],
          "scatterternary": [
           {
            "marker": {
             "colorbar": {
              "outlinewidth": 0,
              "ticks": ""
             }
            },
            "type": "scatterternary"
           }
          ],
          "surface": [
           {
            "colorbar": {
             "outlinewidth": 0,
             "ticks": ""
            },
            "colorscale": [
             [
              0,
              "#0d0887"
             ],
             [
              0.1111111111111111,
              "#46039f"
             ],
             [
              0.2222222222222222,
              "#7201a8"
             ],
             [
              0.3333333333333333,
              "#9c179e"
             ],
             [
              0.4444444444444444,
              "#bd3786"
             ],
             [
              0.5555555555555556,
              "#d8576b"
             ],
             [
              0.6666666666666666,
              "#ed7953"
             ],
             [
              0.7777777777777778,
              "#fb9f3a"
             ],
             [
              0.8888888888888888,
              "#fdca26"
             ],
             [
              1,
              "#f0f921"
             ]
            ],
            "type": "surface"
           }
          ],
          "table": [
           {
            "cells": {
             "fill": {
              "color": "#EBF0F8"
             },
             "line": {
              "color": "white"
             }
            },
            "header": {
             "fill": {
              "color": "#C8D4E3"
             },
             "line": {
              "color": "white"
             }
            },
            "type": "table"
           }
          ]
         },
         "layout": {
          "annotationdefaults": {
           "arrowcolor": "#2a3f5f",
           "arrowhead": 0,
           "arrowwidth": 1
          },
          "autotypenumbers": "strict",
          "coloraxis": {
           "colorbar": {
            "outlinewidth": 0,
            "ticks": ""
           }
          },
          "colorscale": {
           "diverging": [
            [
             0,
             "#8e0152"
            ],
            [
             0.1,
             "#c51b7d"
            ],
            [
             0.2,
             "#de77ae"
            ],
            [
             0.3,
             "#f1b6da"
            ],
            [
             0.4,
             "#fde0ef"
            ],
            [
             0.5,
             "#f7f7f7"
            ],
            [
             0.6,
             "#e6f5d0"
            ],
            [
             0.7,
             "#b8e186"
            ],
            [
             0.8,
             "#7fbc41"
            ],
            [
             0.9,
             "#4d9221"
            ],
            [
             1,
             "#276419"
            ]
           ],
           "sequential": [
            [
             0,
             "#0d0887"
            ],
            [
             0.1111111111111111,
             "#46039f"
            ],
            [
             0.2222222222222222,
             "#7201a8"
            ],
            [
             0.3333333333333333,
             "#9c179e"
            ],
            [
             0.4444444444444444,
             "#bd3786"
            ],
            [
             0.5555555555555556,
             "#d8576b"
            ],
            [
             0.6666666666666666,
             "#ed7953"
            ],
            [
             0.7777777777777778,
             "#fb9f3a"
            ],
            [
             0.8888888888888888,
             "#fdca26"
            ],
            [
             1,
             "#f0f921"
            ]
           ],
           "sequentialminus": [
            [
             0,
             "#0d0887"
            ],
            [
             0.1111111111111111,
             "#46039f"
            ],
            [
             0.2222222222222222,
             "#7201a8"
            ],
            [
             0.3333333333333333,
             "#9c179e"
            ],
            [
             0.4444444444444444,
             "#bd3786"
            ],
            [
             0.5555555555555556,
             "#d8576b"
            ],
            [
             0.6666666666666666,
             "#ed7953"
            ],
            [
             0.7777777777777778,
             "#fb9f3a"
            ],
            [
             0.8888888888888888,
             "#fdca26"
            ],
            [
             1,
             "#f0f921"
            ]
           ]
          },
          "colorway": [
           "#636efa",
           "#EF553B",
           "#00cc96",
           "#ab63fa",
           "#FFA15A",
           "#19d3f3",
           "#FF6692",
           "#B6E880",
           "#FF97FF",
           "#FECB52"
          ],
          "font": {
           "color": "#2a3f5f"
          },
          "geo": {
           "bgcolor": "white",
           "lakecolor": "white",
           "landcolor": "#E5ECF6",
           "showlakes": true,
           "showland": true,
           "subunitcolor": "white"
          },
          "hoverlabel": {
           "align": "left"
          },
          "hovermode": "closest",
          "mapbox": {
           "style": "light"
          },
          "paper_bgcolor": "white",
          "plot_bgcolor": "#E5ECF6",
          "polar": {
           "angularaxis": {
            "gridcolor": "white",
            "linecolor": "white",
            "ticks": ""
           },
           "bgcolor": "#E5ECF6",
           "radialaxis": {
            "gridcolor": "white",
            "linecolor": "white",
            "ticks": ""
           }
          },
          "scene": {
           "xaxis": {
            "backgroundcolor": "#E5ECF6",
            "gridcolor": "white",
            "gridwidth": 2,
            "linecolor": "white",
            "showbackground": true,
            "ticks": "",
            "zerolinecolor": "white"
           },
           "yaxis": {
            "backgroundcolor": "#E5ECF6",
            "gridcolor": "white",
            "gridwidth": 2,
            "linecolor": "white",
            "showbackground": true,
            "ticks": "",
            "zerolinecolor": "white"
           },
           "zaxis": {
            "backgroundcolor": "#E5ECF6",
            "gridcolor": "white",
            "gridwidth": 2,
            "linecolor": "white",
            "showbackground": true,
            "ticks": "",
            "zerolinecolor": "white"
           }
          },
          "shapedefaults": {
           "line": {
            "color": "#2a3f5f"
           }
          },
          "ternary": {
           "aaxis": {
            "gridcolor": "white",
            "linecolor": "white",
            "ticks": ""
           },
           "baxis": {
            "gridcolor": "white",
            "linecolor": "white",
            "ticks": ""
           },
           "bgcolor": "#E5ECF6",
           "caxis": {
            "gridcolor": "white",
            "linecolor": "white",
            "ticks": ""
           }
          },
          "title": {
           "x": 0.05
          },
          "xaxis": {
           "automargin": true,
           "gridcolor": "white",
           "linecolor": "white",
           "ticks": "",
           "title": {
            "standoff": 15
           },
           "zerolinecolor": "white",
           "zerolinewidth": 2
          },
          "yaxis": {
           "automargin": true,
           "gridcolor": "white",
           "linecolor": "white",
           "ticks": "",
           "title": {
            "standoff": 15
           },
           "zerolinecolor": "white",
           "zerolinewidth": 2
          }
         }
        },
        "width": 900,
        "yaxis": {
         "range": [
          -2.5,
          2.7
         ]
        }
       }
      }
     },
     "metadata": {},
     "output_type": "display_data"
    }
   ],
   "source": [
    "fig = go.Figure()\n",
    "fig.add_trace(go.Scatter(x = category0['X1'], y = category0['X2'], name = '1st category', mode = 'markers', marker=dict(\n",
    "        color='red',\n",
    "    )))\n",
    "fig.add_trace(go.Scatter(x = category1['X1'], y = category1['X2'], name = '2st category', mode = 'markers', marker=dict(\n",
    "        color='blue',\n",
    "    )))\n",
    "fig.add_trace(go.Scatter(x = df['X1'], y = m*df['X1'] + b, mode = 'lines', name='my classifier'))\n",
    "fig.add_trace(go.Scatter(x = df['X1'], y = model_m*df['X1'] + model_b, mode = 'lines', name='sklearn classifier'))\n",
    "fig.update_layout(width= 900, height= 500)\n",
    "\n",
    "fig.update_yaxes(range=[-2.5, 2.7])\n",
    "\n",
    "fig.show()"
   ]
  },
  {
   "cell_type": "markdown",
   "metadata": {},
   "source": [
    "#### Using Sigmoid Function"
   ]
  },
  {
   "cell_type": "code",
   "execution_count": 226,
   "metadata": {},
   "outputs": [],
   "source": [
    "def step(value):\n",
    "    return 1 / (1 + np.exp(-value))"
   ]
  },
  {
   "cell_type": "code",
   "execution_count": 227,
   "metadata": {},
   "outputs": [],
   "source": [
    "class perceptraon:\n",
    "    def __init__(self, lr, epochs) -> None:\n",
    "        self.coef_ = None\n",
    "        self.intercept_ = None\n",
    "        self.epochs = epochs\n",
    "        self.learning_rate = lr\n",
    "    \n",
    "    def fit(self, X_train, y_train):\n",
    "        X_train = np.array(X_train)\n",
    "        y_train = np.array(y_train).ravel()\n",
    "\n",
    "        X_train = np.insert(X_train, 0, 1, axis = 1)\n",
    "\n",
    "        beta = np.ones(X_train.shape[1])\n",
    "\n",
    "        for i in range(self.epochs):\n",
    "            idx = np.random.randint(0, X_train.shape[0]) # Data Point\n",
    "\n",
    "            y_hat = step(np.dot(X_train[idx], beta))\n",
    "\n",
    "            beta = beta + self.learning_rate * (y_train[idx] - y_hat)*X_train[idx]\n",
    "        \n",
    "        self.coef_ = beta[1:]\n",
    "        self.intercept_ = beta[0]"
   ]
  },
  {
   "cell_type": "code",
   "execution_count": 228,
   "metadata": {},
   "outputs": [],
   "source": [
    "model = perceptraon(0.01, 1000)\n",
    "model.fit(X_train, y_train)"
   ]
  },
  {
   "cell_type": "code",
   "execution_count": 229,
   "metadata": {},
   "outputs": [
    {
     "name": "stdout",
     "output_type": "stream",
     "text": [
      "[1.4558476  0.93719273] 0.8839371635497871\n"
     ]
    }
   ],
   "source": [
    "print(model.coef_, model.intercept_)"
   ]
  },
  {
   "cell_type": "code",
   "execution_count": 230,
   "metadata": {},
   "outputs": [],
   "source": [
    "sigma_m = -model.coef_[0]/model.coef_[1]\n",
    "sigma_b = -model.intercept_/model.coef_[1]"
   ]
  },
  {
   "cell_type": "code",
   "execution_count": 231,
   "metadata": {},
   "outputs": [
    {
     "data": {
      "application/vnd.plotly.v1+json": {
       "config": {
        "plotlyServerURL": "https://plot.ly"
       },
       "data": [
        {
         "marker": {
          "color": "red"
         },
         "mode": "markers",
         "name": "1st category",
         "type": "scatter",
         "x": [
          -4.473950818706932,
          -3.9652347177807186,
          -3.904806028302793,
          -3.939983636977865,
          -3.6467364059335754,
          -3.6742017462398984,
          -4.019927853027462,
          -3.8661303182413507,
          -4.2327126329346,
          -3.627276138631691,
          -4.096585449857788,
          -3.9443180072560673,
          -3.814656852215078,
          -3.708672266711176,
          -4.238520062342493,
          -4.077082903893651,
          -3.9296228932932995,
          -3.7931556878654398,
          -3.8404316585274243,
          -3.389490862335562,
          -3.5764731546156048,
          -4.131713557869252,
          -4.023351936660406,
          -3.728379314150424,
          -3.7454471285714006,
          -3.7925693225964503,
          -4.012880687289253,
          -4.24392905707127,
          -3.7704979233987035,
          -3.968438169930999,
          -3.5856177491468113,
          -3.6632299949009757,
          -4.115206474633533,
          -3.8979798720975145,
          -3.9208165804396566,
          -4.063497827813139,
          -4.267504366357839,
          -3.7632380375681094,
          -4.160851231147507,
          -4.324574742086565,
          -3.8773003057945994,
          -4.105469011455109,
          -3.8305303841593155,
          -4.156132972512731,
          -4.0426947591030125,
          -3.9487804529648804,
          -3.8762052766594173,
          -3.81564658473913,
          -3.7499050008819883,
          -3.9903802316432655
         ],
         "y": [
          -1.4362810576419294,
          0.5156804817473838,
          0.4290050733022151,
          0.02088802349771661,
          0.09660158999278749,
          -0.7197030947413544,
          0.2101382570267372,
          0.457257840302902,
          1.3728599911843313,
          0.5398918062347919,
          0.5719732891664263,
          0.4488379366139757,
          -0.38714703793801747,
          -1.7699140975740906,
          0.175286493938826,
          0.05974315921352116,
          -1.4217302244793153,
          1.2986279314927573,
          -0.3470329434256442,
          -0.09871314785393477,
          -0.5817490016191535,
          -0.9076737965955878,
          0.3123351185195193,
          0.775196035625301,
          -0.920236208024311,
          0.06620883720815655,
          0.5861546572053165,
          -0.8386742941078525,
          1.2754465282431642,
          0.7139910824823139,
          -1.2902709060217914,
          -0.6425404490284055,
          0.6245511090187303,
          0.4505743234756899,
          -0.5308936134651363,
          0.26674875352817107,
          -0.6438646183715135,
          1.386507499322017,
          -1.8570652021217886,
          0.07609600371482775,
          0.43245164511574774,
          -0.7786372328690883,
          0.6348970471355517,
          1.4945854169329693,
          1.0385425449486094,
          -0.010496917377630293,
          -2.0355312820226352,
          -0.026742368421774177,
          -1.0547779002340232,
          0.7165141931004696
         ]
        },
        {
         "marker": {
          "color": "blue"
         },
         "mode": "markers",
         "name": "2st category",
         "type": "scatter",
         "x": [
          7.374443640137842,
          7.619470912079629,
          7.517230728386392,
          7.219482541699835,
          7.150458625693053,
          5.997199293175521,
          6.9477308864661,
          7.793089146567512,
          7.301662714701961,
          6.557994614749708,
          7.111296362281097,
          7.201192937544021,
          7.7706173456405905,
          6.752546580398205,
          7.285960932211534,
          7.063769291795044,
          7.972164510561191,
          7.32497450829736,
          7.573359588187986,
          6.949160224857126,
          7.113556565794822,
          6.953315549137534,
          6.70311117991166,
          7.656947240642544,
          7.559316288558008,
          6.9768829754807475,
          7.099545350324686,
          6.878787388615123,
          7.356521712995069,
          7.0877495981667265,
          7.2743891747807545,
          6.4063705250820915,
          7.175880270579661,
          6.927478620635624,
          7.401974736333505,
          7.495238565181811,
          7.321457949308562,
          6.643009593225825,
          7.518497872780225,
          6.583174934677271,
          7.320944767424635,
          7.716921520080983,
          7.420784616262897,
          7.682588144883164,
          7.6146376642270726,
          7.214888935110436,
          7.533149988680872,
          6.622468375051354,
          7.567489274980013,
          6.9095356502561005
         ],
         "y": [
          0.15969231797397235,
          1.196750234895554,
          0.12850392951259038,
          -0.3978735467737712,
          -2.1478839765693842,
          -0.7173332231420447,
          -0.11021000933532712,
          -0.48889836852756846,
          1.6157234935428848,
          1.1750864854060294,
          -1.559393530237361,
          -0.17618049779251288,
          -0.815590221265772,
          2.4625044427253813,
          0.3662350436126173,
          -1.6381154754447826,
          -0.37562198609444925,
          -0.46117474338929343,
          -0.2971409776920997,
          1.2266272588659437,
          0.5687106144618737,
          -0.2921726967709254,
          1.362182954043657,
          1.4119950237855337,
          0.04792825975688539,
          -0.264223254683583,
          -1.1920123738035948,
          -1.6179207930281099,
          0.41202055927326714,
          -0.15124266638594827,
          1.0096487184591802,
          -1.061434089881844,
          -1.087728110995788,
          0.9663572720485237,
          0.8329971244821274,
          -1.2936968897287056,
          1.0013687348955425,
          1.5207414785413933,
          -0.45800356638480844,
          0.3984318672099353,
          -0.23995572809665455,
          1.662359693997407,
          -0.36475393287763846,
          0.626625062757291,
          -1.7143966585533834,
          -0.7902679007121662,
          0.21304965354947047,
          0.4669186590775545,
          -0.6260395534862122,
          -0.2398529589731425
         ]
        },
        {
         "mode": "lines",
         "name": "my classifier",
         "type": "scatter",
         "x": [
          -4.473950818706932,
          -3.9652347177807186,
          -3.904806028302793,
          -3.939983636977865,
          7.374443640137842,
          -3.6467364059335754,
          7.619470912079629,
          -3.6742017462398984,
          -4.019927853027462,
          -3.8661303182413507,
          -4.2327126329346,
          7.517230728386392,
          -3.627276138631691,
          7.219482541699835,
          7.150458625693053,
          -4.096585449857788,
          -3.9443180072560673,
          5.997199293175521,
          6.9477308864661,
          7.793089146567512,
          -3.814656852215078,
          -3.708672266711176,
          7.301662714701961,
          -4.238520062342493,
          6.557994614749708,
          -4.077082903893651,
          7.111296362281097,
          7.201192937544021,
          -3.9296228932932995,
          7.7706173456405905,
          -3.7931556878654398,
          -3.8404316585274243,
          -3.389490862335562,
          -3.5764731546156048,
          -4.131713557869252,
          -4.023351936660406,
          6.752546580398205,
          -3.728379314150424,
          -3.7454471285714006,
          -3.7925693225964503,
          -4.012880687289253,
          7.285960932211534,
          7.063769291795044,
          7.972164510561191,
          7.32497450829736,
          -4.24392905707127,
          -3.7704979233987035,
          -3.968438169930999,
          -3.5856177491468113,
          7.573359588187986,
          6.949160224857126,
          7.113556565794822,
          -3.6632299949009757,
          6.953315549137534,
          -4.115206474633533,
          -3.8979798720975145,
          -3.9208165804396566,
          6.70311117991166,
          7.656947240642544,
          7.559316288558008,
          6.9768829754807475,
          -4.063497827813139,
          -4.267504366357839,
          7.099545350324686,
          6.878787388615123,
          7.356521712995069,
          7.0877495981667265,
          -3.7632380375681094,
          -4.160851231147507,
          -4.324574742086565,
          7.2743891747807545,
          -3.8773003057945994,
          6.4063705250820915,
          -4.105469011455109,
          7.175880270579661,
          6.927478620635624,
          7.401974736333505,
          7.495238565181811,
          -3.8305303841593155,
          -4.156132972512731,
          7.321457949308562,
          6.643009593225825,
          -4.0426947591030125,
          7.518497872780225,
          6.583174934677271,
          7.320944767424635,
          7.716921520080983,
          7.420784616262897,
          7.682588144883164,
          -3.9487804529648804,
          7.6146376642270726,
          7.214888935110436,
          -3.8762052766594173,
          -3.81564658473913,
          -3.7499050008819883,
          7.533149988680872,
          6.622468375051354,
          7.567489274980013,
          6.9095356502561005,
          -3.9903802316432655
         ],
         "y": [
          3.473950818706932,
          2.9652347177807186,
          2.904806028302793,
          2.939983636977865,
          -8.37444364013784,
          2.6467364059335754,
          -8.61947091207963,
          2.6742017462398984,
          3.019927853027462,
          2.8661303182413507,
          3.2327126329346,
          -8.51723072838639,
          2.627276138631691,
          -8.219482541699836,
          -8.150458625693053,
          3.0965854498577876,
          2.9443180072560673,
          -6.997199293175521,
          -7.9477308864661,
          -8.793089146567512,
          2.814656852215078,
          2.708672266711176,
          -8.301662714701962,
          3.2385200623424932,
          -7.557994614749708,
          3.0770829038936514,
          -8.111296362281097,
          -8.201192937544022,
          2.9296228932932995,
          -8.770617345640591,
          2.7931556878654398,
          2.8404316585274243,
          2.389490862335562,
          2.5764731546156048,
          3.1317135578692517,
          3.023351936660406,
          -7.752546580398205,
          2.728379314150424,
          2.7454471285714006,
          2.7925693225964503,
          3.012880687289253,
          -8.285960932211534,
          -8.063769291795044,
          -8.972164510561191,
          -8.324974508297359,
          3.24392905707127,
          2.7704979233987035,
          2.968438169930999,
          2.5856177491468113,
          -8.573359588187987,
          -7.949160224857126,
          -8.113556565794822,
          2.6632299949009757,
          -7.953315549137534,
          3.115206474633533,
          2.8979798720975145,
          2.9208165804396566,
          -7.70311117991166,
          -8.656947240642545,
          -8.559316288558009,
          -7.9768829754807475,
          3.063497827813139,
          3.267504366357839,
          -8.099545350324686,
          -7.878787388615123,
          -8.356521712995068,
          -8.087749598166727,
          2.7632380375681094,
          3.1608512311475074,
          3.324574742086565,
          -8.274389174780755,
          2.8773003057945994,
          -7.4063705250820915,
          3.105469011455109,
          -8.175880270579661,
          -7.927478620635624,
          -8.401974736333505,
          -8.495238565181811,
          2.8305303841593155,
          3.156132972512731,
          -8.321457949308563,
          -7.643009593225825,
          3.0426947591030125,
          -8.518497872780225,
          -7.583174934677271,
          -8.320944767424635,
          -8.716921520080984,
          -8.420784616262896,
          -8.682588144883164,
          2.9487804529648804,
          -8.614637664227072,
          -8.214888935110437,
          2.8762052766594173,
          2.81564658473913,
          2.7499050008819883,
          -8.533149988680872,
          -7.622468375051354,
          -8.567489274980012,
          -7.9095356502561005,
          2.9903802316432655
         ]
        },
        {
         "mode": "lines",
         "name": "sklearn classifier",
         "type": "scatter",
         "x": [
          -4.473950818706932,
          -3.9652347177807186,
          -3.904806028302793,
          -3.939983636977865,
          7.374443640137842,
          -3.6467364059335754,
          7.619470912079629,
          -3.6742017462398984,
          -4.019927853027462,
          -3.8661303182413507,
          -4.2327126329346,
          7.517230728386392,
          -3.627276138631691,
          7.219482541699835,
          7.150458625693053,
          -4.096585449857788,
          -3.9443180072560673,
          5.997199293175521,
          6.9477308864661,
          7.793089146567512,
          -3.814656852215078,
          -3.708672266711176,
          7.301662714701961,
          -4.238520062342493,
          6.557994614749708,
          -4.077082903893651,
          7.111296362281097,
          7.201192937544021,
          -3.9296228932932995,
          7.7706173456405905,
          -3.7931556878654398,
          -3.8404316585274243,
          -3.389490862335562,
          -3.5764731546156048,
          -4.131713557869252,
          -4.023351936660406,
          6.752546580398205,
          -3.728379314150424,
          -3.7454471285714006,
          -3.7925693225964503,
          -4.012880687289253,
          7.285960932211534,
          7.063769291795044,
          7.972164510561191,
          7.32497450829736,
          -4.24392905707127,
          -3.7704979233987035,
          -3.968438169930999,
          -3.5856177491468113,
          7.573359588187986,
          6.949160224857126,
          7.113556565794822,
          -3.6632299949009757,
          6.953315549137534,
          -4.115206474633533,
          -3.8979798720975145,
          -3.9208165804396566,
          6.70311117991166,
          7.656947240642544,
          7.559316288558008,
          6.9768829754807475,
          -4.063497827813139,
          -4.267504366357839,
          7.099545350324686,
          6.878787388615123,
          7.356521712995069,
          7.0877495981667265,
          -3.7632380375681094,
          -4.160851231147507,
          -4.324574742086565,
          7.2743891747807545,
          -3.8773003057945994,
          6.4063705250820915,
          -4.105469011455109,
          7.175880270579661,
          6.927478620635624,
          7.401974736333505,
          7.495238565181811,
          -3.8305303841593155,
          -4.156132972512731,
          7.321457949308562,
          6.643009593225825,
          -4.0426947591030125,
          7.518497872780225,
          6.583174934677271,
          7.320944767424635,
          7.716921520080983,
          7.420784616262897,
          7.682588144883164,
          -3.9487804529648804,
          7.6146376642270726,
          7.214888935110436,
          -3.8762052766594173,
          -3.81564658473913,
          -3.7499050008819883,
          7.533149988680872,
          6.622468375051354,
          7.567489274980013,
          6.9095356502561005,
          -3.9903802316432655
         ],
         "y": [
          -70.89285890245013,
          -62.74965654776397,
          -61.78235269095403,
          -62.34545337770941,
          118.76867034902864,
          -57.651339041643965,
          122.6909103846907,
          -58.09098666326926,
          -63.62514931655103,
          -61.16325663193785,
          -67.03127213756336,
          121.05431483939839,
          -57.33983151470113,
          116.28815208080863,
          115.1832613287119,
          -64.8522351545592,
          -62.41483520814741,
          96.7226226836561,
          111.93812519005333,
          125.47008016784496,
          -60.339302271173864,
          -58.642768733775576,
          117.6036397901243,
          -67.12423375749819,
          105.69947593210925,
          -64.5400508578004,
          114.55637683449113,
          115.99538378163992,
          -62.17960521167959,
          125.11036593452508,
          -59.995125368100254,
          -60.75188890460681,
          -53.53351671884765,
          -56.5266098016245,
          -65.41454346631463,
          -63.67995985990059,
          108.81373951034706,
          -58.95822655950395,
          -59.23143722912732,
          -59.98573920746872,
          -63.51234278943549,
          117.35229568696732,
          113.79559385241387,
          128.33660419388735,
          117.97680008945902,
          -67.21081748962631,
          -59.63243434923625,
          -62.800935363287586,
          -56.67299062893387,
          121.95278976965912,
          111.96100512589624,
          114.59255672842711,
          -57.91535787704552,
          112.02752090238354,
          -65.15030862328653,
          -61.67308394325158,
          -62.03863938135631,
          108.02240920074226,
          123.29080751089309,
          121.72799360062457,
          112.40477320743648,
          -64.3225896386135,
          -67.58819597980052,
          114.36827414212664,
          110.83452172042027,
          118.48178758859738,
          114.17945527719765,
          -59.51622273477622,
          -65.88096072579899,
          -68.50174209554335,
          117.16706238653391,
          -61.34205865683901,
          103.27237436846606,
          -64.99443753342159,
          115.59019477965577,
          111.6139398566263,
          119.20937054892292,
          120.70227834032528,
          -60.59339562986677,
          -65.80543385579276,
          117.92050925969005,
          107.06034139646128,
          -63.989587404564745,
          121.07459847735048,
          106.10254640727713,
          117.91229457193401,
          124.2508374620869,
          119.51046709030132,
          123.70125072550402,
          -62.48626718825872,
          122.61354284074612,
          116.21462056111191,
          -61.32453012999303,
          -60.355145277136714,
          -59.30279600120152,
          121.3091401883088,
          106.73153069850632,
          121.8588215460254,
          111.32672024950443,
          -63.15216986967863
         ]
        },
        {
         "mode": "lines",
         "name": "sigmoid classifier",
         "type": "scatter",
         "x": [
          -4.473950818706932,
          -3.9652347177807186,
          -3.904806028302793,
          -3.939983636977865,
          7.374443640137842,
          -3.6467364059335754,
          7.619470912079629,
          -3.6742017462398984,
          -4.019927853027462,
          -3.8661303182413507,
          -4.2327126329346,
          7.517230728386392,
          -3.627276138631691,
          7.219482541699835,
          7.150458625693053,
          -4.096585449857788,
          -3.9443180072560673,
          5.997199293175521,
          6.9477308864661,
          7.793089146567512,
          -3.814656852215078,
          -3.708672266711176,
          7.301662714701961,
          -4.238520062342493,
          6.557994614749708,
          -4.077082903893651,
          7.111296362281097,
          7.201192937544021,
          -3.9296228932932995,
          7.7706173456405905,
          -3.7931556878654398,
          -3.8404316585274243,
          -3.389490862335562,
          -3.5764731546156048,
          -4.131713557869252,
          -4.023351936660406,
          6.752546580398205,
          -3.728379314150424,
          -3.7454471285714006,
          -3.7925693225964503,
          -4.012880687289253,
          7.285960932211534,
          7.063769291795044,
          7.972164510561191,
          7.32497450829736,
          -4.24392905707127,
          -3.7704979233987035,
          -3.968438169930999,
          -3.5856177491468113,
          7.573359588187986,
          6.949160224857126,
          7.113556565794822,
          -3.6632299949009757,
          6.953315549137534,
          -4.115206474633533,
          -3.8979798720975145,
          -3.9208165804396566,
          6.70311117991166,
          7.656947240642544,
          7.559316288558008,
          6.9768829754807475,
          -4.063497827813139,
          -4.267504366357839,
          7.099545350324686,
          6.878787388615123,
          7.356521712995069,
          7.0877495981667265,
          -3.7632380375681094,
          -4.160851231147507,
          -4.324574742086565,
          7.2743891747807545,
          -3.8773003057945994,
          6.4063705250820915,
          -4.105469011455109,
          7.175880270579661,
          6.927478620635624,
          7.401974736333505,
          7.495238565181811,
          -3.8305303841593155,
          -4.156132972512731,
          7.321457949308562,
          6.643009593225825,
          -4.0426947591030125,
          7.518497872780225,
          6.583174934677271,
          7.320944767424635,
          7.716921520080983,
          7.420784616262897,
          7.682588144883164,
          -3.9487804529648804,
          7.6146376642270726,
          7.214888935110436,
          -3.8762052766594173,
          -3.81564658473913,
          -3.7499050008819883,
          7.533149988680872,
          6.622468375051354,
          7.567489274980013,
          6.9095356502561005,
          -3.9903802316432655
         ],
         "y": [
          6.006719025544317,
          5.2164726959266625,
          5.1226019692549665,
          5.177247332532418,
          -12.398733870318154,
          4.721713199483811,
          -12.77936248017674,
          4.7643782229207625,
          5.301433736682654,
          5.062522608948176,
          5.6319764323314905,
          -12.620541224557124,
          4.691483362486922,
          -12.158015247394292,
          -12.050792581980545,
          5.4205146630032095,
          5.183980400735522,
          -10.259304258807788,
          -11.73587262653958,
          -13.04906334537237,
          4.98256304500691,
          4.81792518601637,
          -12.285675016692007,
          5.640997770098755,
          -11.130451139619865,
          5.3902191497723555,
          -11.989957403254195,
          -12.129603934035078,
          5.161152816054701,
          -13.014155352151658,
          4.9491628515023764,
          5.022601970544853,
          4.3221045645915686,
          4.612565334181465,
          5.475083131294128,
          5.306752753553383,
          -11.432670740087994,
          4.848538374547483,
          4.875051743548808,
          4.94825198392655,
          5.290486576078365,
          -12.261283659786017,
          -11.916128222418948,
          -13.327241387827282,
          -12.32188786565045,
          5.649400174157826,
          4.91396598005565,
          5.221448980929743,
          4.626770668455278,
          -12.707732538854188,
          -11.738092979729174,
          -11.993468433331007,
          4.747334559059377,
          -11.744547915507667,
          5.449440809543412,
          5.1119981277866176,
          5.147472973019684,
          -11.3558771341523,
          -12.837578705376744,
          -12.685917491191836,
          -11.781157867762667,
          5.36911591264136,
          5.686022371881452,
          -11.97170322562754,
          -11.628774883754279,
          -12.370893711301239,
          -11.95337954797917,
          4.902688377242166,
          5.520345978921355,
          5.774676249491014,
          -12.243307938513878,
          5.079874215570727,
          -10.894916270321849,
          5.4343145052598905,
          -12.09028290188178,
          -11.704412488537585,
          -12.441501039824608,
          -12.586378306927568,
          5.007221199789437,
          5.513016573460175,
          -12.316425196337011,
          -11.26251453329063,
          5.336800150150198,
          -12.622509623443063,
          -11.169566582133138,
          -12.315628012800925,
          -12.930743545474,
          -12.470720556462055,
          -12.877409625662805,
          5.19091242300902,
          -12.771854448941516,
          -12.150879478071538,
          5.078173182807411,
          4.984100508619742,
          4.881976661444924,
          -12.645270414364635,
          -11.23060553289002,
          -12.698613516558922,
          -11.676539640677964,
          5.2555340702374975
         ]
        }
       ],
       "layout": {
        "height": 500,
        "template": {
         "data": {
          "bar": [
           {
            "error_x": {
             "color": "#2a3f5f"
            },
            "error_y": {
             "color": "#2a3f5f"
            },
            "marker": {
             "line": {
              "color": "#E5ECF6",
              "width": 0.5
             },
             "pattern": {
              "fillmode": "overlay",
              "size": 10,
              "solidity": 0.2
             }
            },
            "type": "bar"
           }
          ],
          "barpolar": [
           {
            "marker": {
             "line": {
              "color": "#E5ECF6",
              "width": 0.5
             },
             "pattern": {
              "fillmode": "overlay",
              "size": 10,
              "solidity": 0.2
             }
            },
            "type": "barpolar"
           }
          ],
          "carpet": [
           {
            "aaxis": {
             "endlinecolor": "#2a3f5f",
             "gridcolor": "white",
             "linecolor": "white",
             "minorgridcolor": "white",
             "startlinecolor": "#2a3f5f"
            },
            "baxis": {
             "endlinecolor": "#2a3f5f",
             "gridcolor": "white",
             "linecolor": "white",
             "minorgridcolor": "white",
             "startlinecolor": "#2a3f5f"
            },
            "type": "carpet"
           }
          ],
          "choropleth": [
           {
            "colorbar": {
             "outlinewidth": 0,
             "ticks": ""
            },
            "type": "choropleth"
           }
          ],
          "contour": [
           {
            "colorbar": {
             "outlinewidth": 0,
             "ticks": ""
            },
            "colorscale": [
             [
              0,
              "#0d0887"
             ],
             [
              0.1111111111111111,
              "#46039f"
             ],
             [
              0.2222222222222222,
              "#7201a8"
             ],
             [
              0.3333333333333333,
              "#9c179e"
             ],
             [
              0.4444444444444444,
              "#bd3786"
             ],
             [
              0.5555555555555556,
              "#d8576b"
             ],
             [
              0.6666666666666666,
              "#ed7953"
             ],
             [
              0.7777777777777778,
              "#fb9f3a"
             ],
             [
              0.8888888888888888,
              "#fdca26"
             ],
             [
              1,
              "#f0f921"
             ]
            ],
            "type": "contour"
           }
          ],
          "contourcarpet": [
           {
            "colorbar": {
             "outlinewidth": 0,
             "ticks": ""
            },
            "type": "contourcarpet"
           }
          ],
          "heatmap": [
           {
            "colorbar": {
             "outlinewidth": 0,
             "ticks": ""
            },
            "colorscale": [
             [
              0,
              "#0d0887"
             ],
             [
              0.1111111111111111,
              "#46039f"
             ],
             [
              0.2222222222222222,
              "#7201a8"
             ],
             [
              0.3333333333333333,
              "#9c179e"
             ],
             [
              0.4444444444444444,
              "#bd3786"
             ],
             [
              0.5555555555555556,
              "#d8576b"
             ],
             [
              0.6666666666666666,
              "#ed7953"
             ],
             [
              0.7777777777777778,
              "#fb9f3a"
             ],
             [
              0.8888888888888888,
              "#fdca26"
             ],
             [
              1,
              "#f0f921"
             ]
            ],
            "type": "heatmap"
           }
          ],
          "heatmapgl": [
           {
            "colorbar": {
             "outlinewidth": 0,
             "ticks": ""
            },
            "colorscale": [
             [
              0,
              "#0d0887"
             ],
             [
              0.1111111111111111,
              "#46039f"
             ],
             [
              0.2222222222222222,
              "#7201a8"
             ],
             [
              0.3333333333333333,
              "#9c179e"
             ],
             [
              0.4444444444444444,
              "#bd3786"
             ],
             [
              0.5555555555555556,
              "#d8576b"
             ],
             [
              0.6666666666666666,
              "#ed7953"
             ],
             [
              0.7777777777777778,
              "#fb9f3a"
             ],
             [
              0.8888888888888888,
              "#fdca26"
             ],
             [
              1,
              "#f0f921"
             ]
            ],
            "type": "heatmapgl"
           }
          ],
          "histogram": [
           {
            "marker": {
             "pattern": {
              "fillmode": "overlay",
              "size": 10,
              "solidity": 0.2
             }
            },
            "type": "histogram"
           }
          ],
          "histogram2d": [
           {
            "colorbar": {
             "outlinewidth": 0,
             "ticks": ""
            },
            "colorscale": [
             [
              0,
              "#0d0887"
             ],
             [
              0.1111111111111111,
              "#46039f"
             ],
             [
              0.2222222222222222,
              "#7201a8"
             ],
             [
              0.3333333333333333,
              "#9c179e"
             ],
             [
              0.4444444444444444,
              "#bd3786"
             ],
             [
              0.5555555555555556,
              "#d8576b"
             ],
             [
              0.6666666666666666,
              "#ed7953"
             ],
             [
              0.7777777777777778,
              "#fb9f3a"
             ],
             [
              0.8888888888888888,
              "#fdca26"
             ],
             [
              1,
              "#f0f921"
             ]
            ],
            "type": "histogram2d"
           }
          ],
          "histogram2dcontour": [
           {
            "colorbar": {
             "outlinewidth": 0,
             "ticks": ""
            },
            "colorscale": [
             [
              0,
              "#0d0887"
             ],
             [
              0.1111111111111111,
              "#46039f"
             ],
             [
              0.2222222222222222,
              "#7201a8"
             ],
             [
              0.3333333333333333,
              "#9c179e"
             ],
             [
              0.4444444444444444,
              "#bd3786"
             ],
             [
              0.5555555555555556,
              "#d8576b"
             ],
             [
              0.6666666666666666,
              "#ed7953"
             ],
             [
              0.7777777777777778,
              "#fb9f3a"
             ],
             [
              0.8888888888888888,
              "#fdca26"
             ],
             [
              1,
              "#f0f921"
             ]
            ],
            "type": "histogram2dcontour"
           }
          ],
          "mesh3d": [
           {
            "colorbar": {
             "outlinewidth": 0,
             "ticks": ""
            },
            "type": "mesh3d"
           }
          ],
          "parcoords": [
           {
            "line": {
             "colorbar": {
              "outlinewidth": 0,
              "ticks": ""
             }
            },
            "type": "parcoords"
           }
          ],
          "pie": [
           {
            "automargin": true,
            "type": "pie"
           }
          ],
          "scatter": [
           {
            "fillpattern": {
             "fillmode": "overlay",
             "size": 10,
             "solidity": 0.2
            },
            "type": "scatter"
           }
          ],
          "scatter3d": [
           {
            "line": {
             "colorbar": {
              "outlinewidth": 0,
              "ticks": ""
             }
            },
            "marker": {
             "colorbar": {
              "outlinewidth": 0,
              "ticks": ""
             }
            },
            "type": "scatter3d"
           }
          ],
          "scattercarpet": [
           {
            "marker": {
             "colorbar": {
              "outlinewidth": 0,
              "ticks": ""
             }
            },
            "type": "scattercarpet"
           }
          ],
          "scattergeo": [
           {
            "marker": {
             "colorbar": {
              "outlinewidth": 0,
              "ticks": ""
             }
            },
            "type": "scattergeo"
           }
          ],
          "scattergl": [
           {
            "marker": {
             "colorbar": {
              "outlinewidth": 0,
              "ticks": ""
             }
            },
            "type": "scattergl"
           }
          ],
          "scattermapbox": [
           {
            "marker": {
             "colorbar": {
              "outlinewidth": 0,
              "ticks": ""
             }
            },
            "type": "scattermapbox"
           }
          ],
          "scatterpolar": [
           {
            "marker": {
             "colorbar": {
              "outlinewidth": 0,
              "ticks": ""
             }
            },
            "type": "scatterpolar"
           }
          ],
          "scatterpolargl": [
           {
            "marker": {
             "colorbar": {
              "outlinewidth": 0,
              "ticks": ""
             }
            },
            "type": "scatterpolargl"
           }
          ],
          "scatterternary": [
           {
            "marker": {
             "colorbar": {
              "outlinewidth": 0,
              "ticks": ""
             }
            },
            "type": "scatterternary"
           }
          ],
          "surface": [
           {
            "colorbar": {
             "outlinewidth": 0,
             "ticks": ""
            },
            "colorscale": [
             [
              0,
              "#0d0887"
             ],
             [
              0.1111111111111111,
              "#46039f"
             ],
             [
              0.2222222222222222,
              "#7201a8"
             ],
             [
              0.3333333333333333,
              "#9c179e"
             ],
             [
              0.4444444444444444,
              "#bd3786"
             ],
             [
              0.5555555555555556,
              "#d8576b"
             ],
             [
              0.6666666666666666,
              "#ed7953"
             ],
             [
              0.7777777777777778,
              "#fb9f3a"
             ],
             [
              0.8888888888888888,
              "#fdca26"
             ],
             [
              1,
              "#f0f921"
             ]
            ],
            "type": "surface"
           }
          ],
          "table": [
           {
            "cells": {
             "fill": {
              "color": "#EBF0F8"
             },
             "line": {
              "color": "white"
             }
            },
            "header": {
             "fill": {
              "color": "#C8D4E3"
             },
             "line": {
              "color": "white"
             }
            },
            "type": "table"
           }
          ]
         },
         "layout": {
          "annotationdefaults": {
           "arrowcolor": "#2a3f5f",
           "arrowhead": 0,
           "arrowwidth": 1
          },
          "autotypenumbers": "strict",
          "coloraxis": {
           "colorbar": {
            "outlinewidth": 0,
            "ticks": ""
           }
          },
          "colorscale": {
           "diverging": [
            [
             0,
             "#8e0152"
            ],
            [
             0.1,
             "#c51b7d"
            ],
            [
             0.2,
             "#de77ae"
            ],
            [
             0.3,
             "#f1b6da"
            ],
            [
             0.4,
             "#fde0ef"
            ],
            [
             0.5,
             "#f7f7f7"
            ],
            [
             0.6,
             "#e6f5d0"
            ],
            [
             0.7,
             "#b8e186"
            ],
            [
             0.8,
             "#7fbc41"
            ],
            [
             0.9,
             "#4d9221"
            ],
            [
             1,
             "#276419"
            ]
           ],
           "sequential": [
            [
             0,
             "#0d0887"
            ],
            [
             0.1111111111111111,
             "#46039f"
            ],
            [
             0.2222222222222222,
             "#7201a8"
            ],
            [
             0.3333333333333333,
             "#9c179e"
            ],
            [
             0.4444444444444444,
             "#bd3786"
            ],
            [
             0.5555555555555556,
             "#d8576b"
            ],
            [
             0.6666666666666666,
             "#ed7953"
            ],
            [
             0.7777777777777778,
             "#fb9f3a"
            ],
            [
             0.8888888888888888,
             "#fdca26"
            ],
            [
             1,
             "#f0f921"
            ]
           ],
           "sequentialminus": [
            [
             0,
             "#0d0887"
            ],
            [
             0.1111111111111111,
             "#46039f"
            ],
            [
             0.2222222222222222,
             "#7201a8"
            ],
            [
             0.3333333333333333,
             "#9c179e"
            ],
            [
             0.4444444444444444,
             "#bd3786"
            ],
            [
             0.5555555555555556,
             "#d8576b"
            ],
            [
             0.6666666666666666,
             "#ed7953"
            ],
            [
             0.7777777777777778,
             "#fb9f3a"
            ],
            [
             0.8888888888888888,
             "#fdca26"
            ],
            [
             1,
             "#f0f921"
            ]
           ]
          },
          "colorway": [
           "#636efa",
           "#EF553B",
           "#00cc96",
           "#ab63fa",
           "#FFA15A",
           "#19d3f3",
           "#FF6692",
           "#B6E880",
           "#FF97FF",
           "#FECB52"
          ],
          "font": {
           "color": "#2a3f5f"
          },
          "geo": {
           "bgcolor": "white",
           "lakecolor": "white",
           "landcolor": "#E5ECF6",
           "showlakes": true,
           "showland": true,
           "subunitcolor": "white"
          },
          "hoverlabel": {
           "align": "left"
          },
          "hovermode": "closest",
          "mapbox": {
           "style": "light"
          },
          "paper_bgcolor": "white",
          "plot_bgcolor": "#E5ECF6",
          "polar": {
           "angularaxis": {
            "gridcolor": "white",
            "linecolor": "white",
            "ticks": ""
           },
           "bgcolor": "#E5ECF6",
           "radialaxis": {
            "gridcolor": "white",
            "linecolor": "white",
            "ticks": ""
           }
          },
          "scene": {
           "xaxis": {
            "backgroundcolor": "#E5ECF6",
            "gridcolor": "white",
            "gridwidth": 2,
            "linecolor": "white",
            "showbackground": true,
            "ticks": "",
            "zerolinecolor": "white"
           },
           "yaxis": {
            "backgroundcolor": "#E5ECF6",
            "gridcolor": "white",
            "gridwidth": 2,
            "linecolor": "white",
            "showbackground": true,
            "ticks": "",
            "zerolinecolor": "white"
           },
           "zaxis": {
            "backgroundcolor": "#E5ECF6",
            "gridcolor": "white",
            "gridwidth": 2,
            "linecolor": "white",
            "showbackground": true,
            "ticks": "",
            "zerolinecolor": "white"
           }
          },
          "shapedefaults": {
           "line": {
            "color": "#2a3f5f"
           }
          },
          "ternary": {
           "aaxis": {
            "gridcolor": "white",
            "linecolor": "white",
            "ticks": ""
           },
           "baxis": {
            "gridcolor": "white",
            "linecolor": "white",
            "ticks": ""
           },
           "bgcolor": "#E5ECF6",
           "caxis": {
            "gridcolor": "white",
            "linecolor": "white",
            "ticks": ""
           }
          },
          "title": {
           "x": 0.05
          },
          "xaxis": {
           "automargin": true,
           "gridcolor": "white",
           "linecolor": "white",
           "ticks": "",
           "title": {
            "standoff": 15
           },
           "zerolinecolor": "white",
           "zerolinewidth": 2
          },
          "yaxis": {
           "automargin": true,
           "gridcolor": "white",
           "linecolor": "white",
           "ticks": "",
           "title": {
            "standoff": 15
           },
           "zerolinecolor": "white",
           "zerolinewidth": 2
          }
         }
        },
        "width": 900,
        "yaxis": {
         "range": [
          -2.5,
          2.7
         ]
        }
       }
      }
     },
     "metadata": {},
     "output_type": "display_data"
    }
   ],
   "source": [
    "fig = go.Figure()\n",
    "fig.add_trace(go.Scatter(x = category0['X1'], y = category0['X2'], name = '1st category', mode = 'markers', marker=dict(\n",
    "        color='red',\n",
    "    )))\n",
    "fig.add_trace(go.Scatter(x = category1['X1'], y = category1['X2'], name = '2st category', mode = 'markers', marker=dict(\n",
    "        color='blue',\n",
    "    )))\n",
    "fig.add_trace(go.Scatter(x = df['X1'], y = m*df['X1'] + b, mode = 'lines', name='my classifier'))\n",
    "fig.add_trace(go.Scatter(x = df['X1'], y = model_m*df['X1'] + model_b, mode = 'lines', name='sklearn classifier'))\n",
    "fig.add_trace(go.Scatter(x = df['X1'], y = sigma_m*df['X1'] + sigma_b, mode = 'lines', name='sigmoid classifier'))\n",
    "fig.update_layout(width= 900, height= 500)\n",
    "\n",
    "fig.update_yaxes(range=[-2.5, 2.7])\n",
    "\n",
    "fig.show()"
   ]
  },
  {
   "cell_type": "markdown",
   "metadata": {},
   "source": [
    "#### Gradient Descent"
   ]
  },
  {
   "cell_type": "code",
   "execution_count": 232,
   "metadata": {},
   "outputs": [],
   "source": [
    "def sigmoid(value):\n",
    "    return 1 / (1 + np.exp(-value))"
   ]
  },
  {
   "cell_type": "code",
   "execution_count": 233,
   "metadata": {},
   "outputs": [],
   "source": [
    "# Define the sigmoid function\n",
    "def sigmoid(z):\n",
    "    return 1 / (1 + np.exp(-z))\n",
    "\n",
    "class GradientDescent:\n",
    "    def __init__(self, lr=0.01, epochs=1000) -> None:\n",
    "        self.coef_ = None\n",
    "        self.intercept_ = None\n",
    "        self.epochs = epochs\n",
    "        self.learning_rate = lr\n",
    "    \n",
    "    def fit(self, X_train, y_train):\n",
    "        # Convert inputs to numpy arrays\n",
    "        X_train = np.array(X_train)\n",
    "        y_train = np.array(y_train).ravel()  # Ensure y_train is a 1D array\n",
    "        \n",
    "        # Add intercept term to X_train\n",
    "        X_train = np.insert(X_train, 0, 1, axis=1)\n",
    "        \n",
    "        # Initialize beta with ones\n",
    "        beta = np.zeros(X_train.shape[1])  # Better to initialize with zeros\n",
    "\n",
    "        for epoch in range(self.epochs):\n",
    "            # Compute the predicted values\n",
    "            y_hat = sigmoid(np.dot(X_train, beta)) \n",
    "\n",
    "            # Compute the gradient\n",
    "            gradient = np.dot((y_train - y_hat), X_train) / X_train.shape[0]\n",
    "\n",
    "            # Update beta\n",
    "            beta += self.learning_rate * gradient\n",
    "        \n",
    "        # Extract coefficients and intercept\n",
    "        self.coef_ = beta[1:]\n",
    "        self.intercept_ = beta[0]\n",
    "\n",
    "    def predict(self, X):\n",
    "        X = np.array(X)\n",
    "        X = np.insert(X, 0, 1, axis=1)  # Add intercept term\n",
    "        return sigmoid(np.dot(X, np.concatenate(([self.intercept_], self.coef_))))\n",
    "    \n",
    "    def score(self, X, y):\n",
    "        y_pred = self.predict(X)\n",
    "        y_pred_class = (y_pred >= 0.5).astype(int)\n",
    "        return np.mean(y_pred_class == y)"
   ]
  },
  {
   "cell_type": "code",
   "execution_count": 234,
   "metadata": {},
   "outputs": [],
   "source": [
    "model = GradientDescent(0.001, 10000)\n",
    "model.fit(X_train, y_train)"
   ]
  },
  {
   "cell_type": "code",
   "execution_count": 235,
   "metadata": {},
   "outputs": [
    {
     "name": "stdout",
     "output_type": "stream",
     "text": [
      "[1.11801297 0.00621458] -0.1555918678717654\n"
     ]
    }
   ],
   "source": [
    "print(model.coef_, model.intercept_)"
   ]
  },
  {
   "cell_type": "code",
   "execution_count": 236,
   "metadata": {},
   "outputs": [],
   "source": [
    "gd_m = -model.coef_[0]/model.coef_[1]\n",
    "gd_b = -model.intercept_/model.coef_[1]"
   ]
  },
  {
   "cell_type": "code",
   "execution_count": 239,
   "metadata": {},
   "outputs": [
    {
     "data": {
      "application/vnd.plotly.v1+json": {
       "config": {
        "plotlyServerURL": "https://plot.ly"
       },
       "data": [
        {
         "marker": {
          "color": "red"
         },
         "mode": "markers",
         "name": "1st category",
         "type": "scatter",
         "x": [
          -4.473950818706932,
          -3.9652347177807186,
          -3.904806028302793,
          -3.939983636977865,
          -3.6467364059335754,
          -3.6742017462398984,
          -4.019927853027462,
          -3.8661303182413507,
          -4.2327126329346,
          -3.627276138631691,
          -4.096585449857788,
          -3.9443180072560673,
          -3.814656852215078,
          -3.708672266711176,
          -4.238520062342493,
          -4.077082903893651,
          -3.9296228932932995,
          -3.7931556878654398,
          -3.8404316585274243,
          -3.389490862335562,
          -3.5764731546156048,
          -4.131713557869252,
          -4.023351936660406,
          -3.728379314150424,
          -3.7454471285714006,
          -3.7925693225964503,
          -4.012880687289253,
          -4.24392905707127,
          -3.7704979233987035,
          -3.968438169930999,
          -3.5856177491468113,
          -3.6632299949009757,
          -4.115206474633533,
          -3.8979798720975145,
          -3.9208165804396566,
          -4.063497827813139,
          -4.267504366357839,
          -3.7632380375681094,
          -4.160851231147507,
          -4.324574742086565,
          -3.8773003057945994,
          -4.105469011455109,
          -3.8305303841593155,
          -4.156132972512731,
          -4.0426947591030125,
          -3.9487804529648804,
          -3.8762052766594173,
          -3.81564658473913,
          -3.7499050008819883,
          -3.9903802316432655
         ],
         "y": [
          -1.4362810576419294,
          0.5156804817473838,
          0.4290050733022151,
          0.02088802349771661,
          0.09660158999278749,
          -0.7197030947413544,
          0.2101382570267372,
          0.457257840302902,
          1.3728599911843313,
          0.5398918062347919,
          0.5719732891664263,
          0.4488379366139757,
          -0.38714703793801747,
          -1.7699140975740906,
          0.175286493938826,
          0.05974315921352116,
          -1.4217302244793153,
          1.2986279314927573,
          -0.3470329434256442,
          -0.09871314785393477,
          -0.5817490016191535,
          -0.9076737965955878,
          0.3123351185195193,
          0.775196035625301,
          -0.920236208024311,
          0.06620883720815655,
          0.5861546572053165,
          -0.8386742941078525,
          1.2754465282431642,
          0.7139910824823139,
          -1.2902709060217914,
          -0.6425404490284055,
          0.6245511090187303,
          0.4505743234756899,
          -0.5308936134651363,
          0.26674875352817107,
          -0.6438646183715135,
          1.386507499322017,
          -1.8570652021217886,
          0.07609600371482775,
          0.43245164511574774,
          -0.7786372328690883,
          0.6348970471355517,
          1.4945854169329693,
          1.0385425449486094,
          -0.010496917377630293,
          -2.0355312820226352,
          -0.026742368421774177,
          -1.0547779002340232,
          0.7165141931004696
         ]
        },
        {
         "marker": {
          "color": "blue"
         },
         "mode": "markers",
         "name": "2st category",
         "type": "scatter",
         "x": [
          7.374443640137842,
          7.619470912079629,
          7.517230728386392,
          7.219482541699835,
          7.150458625693053,
          5.997199293175521,
          6.9477308864661,
          7.793089146567512,
          7.301662714701961,
          6.557994614749708,
          7.111296362281097,
          7.201192937544021,
          7.7706173456405905,
          6.752546580398205,
          7.285960932211534,
          7.063769291795044,
          7.972164510561191,
          7.32497450829736,
          7.573359588187986,
          6.949160224857126,
          7.113556565794822,
          6.953315549137534,
          6.70311117991166,
          7.656947240642544,
          7.559316288558008,
          6.9768829754807475,
          7.099545350324686,
          6.878787388615123,
          7.356521712995069,
          7.0877495981667265,
          7.2743891747807545,
          6.4063705250820915,
          7.175880270579661,
          6.927478620635624,
          7.401974736333505,
          7.495238565181811,
          7.321457949308562,
          6.643009593225825,
          7.518497872780225,
          6.583174934677271,
          7.320944767424635,
          7.716921520080983,
          7.420784616262897,
          7.682588144883164,
          7.6146376642270726,
          7.214888935110436,
          7.533149988680872,
          6.622468375051354,
          7.567489274980013,
          6.9095356502561005
         ],
         "y": [
          0.15969231797397235,
          1.196750234895554,
          0.12850392951259038,
          -0.3978735467737712,
          -2.1478839765693842,
          -0.7173332231420447,
          -0.11021000933532712,
          -0.48889836852756846,
          1.6157234935428848,
          1.1750864854060294,
          -1.559393530237361,
          -0.17618049779251288,
          -0.815590221265772,
          2.4625044427253813,
          0.3662350436126173,
          -1.6381154754447826,
          -0.37562198609444925,
          -0.46117474338929343,
          -0.2971409776920997,
          1.2266272588659437,
          0.5687106144618737,
          -0.2921726967709254,
          1.362182954043657,
          1.4119950237855337,
          0.04792825975688539,
          -0.264223254683583,
          -1.1920123738035948,
          -1.6179207930281099,
          0.41202055927326714,
          -0.15124266638594827,
          1.0096487184591802,
          -1.061434089881844,
          -1.087728110995788,
          0.9663572720485237,
          0.8329971244821274,
          -1.2936968897287056,
          1.0013687348955425,
          1.5207414785413933,
          -0.45800356638480844,
          0.3984318672099353,
          -0.23995572809665455,
          1.662359693997407,
          -0.36475393287763846,
          0.626625062757291,
          -1.7143966585533834,
          -0.7902679007121662,
          0.21304965354947047,
          0.4669186590775545,
          -0.6260395534862122,
          -0.2398529589731425
         ]
        },
        {
         "mode": "lines",
         "name": "my classifier",
         "type": "scatter",
         "x": [
          -4.473950818706932,
          -3.9652347177807186,
          -3.904806028302793,
          -3.939983636977865,
          7.374443640137842,
          -3.6467364059335754,
          7.619470912079629,
          -3.6742017462398984,
          -4.019927853027462,
          -3.8661303182413507,
          -4.2327126329346,
          7.517230728386392,
          -3.627276138631691,
          7.219482541699835,
          7.150458625693053,
          -4.096585449857788,
          -3.9443180072560673,
          5.997199293175521,
          6.9477308864661,
          7.793089146567512,
          -3.814656852215078,
          -3.708672266711176,
          7.301662714701961,
          -4.238520062342493,
          6.557994614749708,
          -4.077082903893651,
          7.111296362281097,
          7.201192937544021,
          -3.9296228932932995,
          7.7706173456405905,
          -3.7931556878654398,
          -3.8404316585274243,
          -3.389490862335562,
          -3.5764731546156048,
          -4.131713557869252,
          -4.023351936660406,
          6.752546580398205,
          -3.728379314150424,
          -3.7454471285714006,
          -3.7925693225964503,
          -4.012880687289253,
          7.285960932211534,
          7.063769291795044,
          7.972164510561191,
          7.32497450829736,
          -4.24392905707127,
          -3.7704979233987035,
          -3.968438169930999,
          -3.5856177491468113,
          7.573359588187986,
          6.949160224857126,
          7.113556565794822,
          -3.6632299949009757,
          6.953315549137534,
          -4.115206474633533,
          -3.8979798720975145,
          -3.9208165804396566,
          6.70311117991166,
          7.656947240642544,
          7.559316288558008,
          6.9768829754807475,
          -4.063497827813139,
          -4.267504366357839,
          7.099545350324686,
          6.878787388615123,
          7.356521712995069,
          7.0877495981667265,
          -3.7632380375681094,
          -4.160851231147507,
          -4.324574742086565,
          7.2743891747807545,
          -3.8773003057945994,
          6.4063705250820915,
          -4.105469011455109,
          7.175880270579661,
          6.927478620635624,
          7.401974736333505,
          7.495238565181811,
          -3.8305303841593155,
          -4.156132972512731,
          7.321457949308562,
          6.643009593225825,
          -4.0426947591030125,
          7.518497872780225,
          6.583174934677271,
          7.320944767424635,
          7.716921520080983,
          7.420784616262897,
          7.682588144883164,
          -3.9487804529648804,
          7.6146376642270726,
          7.214888935110436,
          -3.8762052766594173,
          -3.81564658473913,
          -3.7499050008819883,
          7.533149988680872,
          6.622468375051354,
          7.567489274980013,
          6.9095356502561005,
          -3.9903802316432655
         ],
         "y": [
          3.473950818706932,
          2.9652347177807186,
          2.904806028302793,
          2.939983636977865,
          -8.37444364013784,
          2.6467364059335754,
          -8.61947091207963,
          2.6742017462398984,
          3.019927853027462,
          2.8661303182413507,
          3.2327126329346,
          -8.51723072838639,
          2.627276138631691,
          -8.219482541699836,
          -8.150458625693053,
          3.0965854498577876,
          2.9443180072560673,
          -6.997199293175521,
          -7.9477308864661,
          -8.793089146567512,
          2.814656852215078,
          2.708672266711176,
          -8.301662714701962,
          3.2385200623424932,
          -7.557994614749708,
          3.0770829038936514,
          -8.111296362281097,
          -8.201192937544022,
          2.9296228932932995,
          -8.770617345640591,
          2.7931556878654398,
          2.8404316585274243,
          2.389490862335562,
          2.5764731546156048,
          3.1317135578692517,
          3.023351936660406,
          -7.752546580398205,
          2.728379314150424,
          2.7454471285714006,
          2.7925693225964503,
          3.012880687289253,
          -8.285960932211534,
          -8.063769291795044,
          -8.972164510561191,
          -8.324974508297359,
          3.24392905707127,
          2.7704979233987035,
          2.968438169930999,
          2.5856177491468113,
          -8.573359588187987,
          -7.949160224857126,
          -8.113556565794822,
          2.6632299949009757,
          -7.953315549137534,
          3.115206474633533,
          2.8979798720975145,
          2.9208165804396566,
          -7.70311117991166,
          -8.656947240642545,
          -8.559316288558009,
          -7.9768829754807475,
          3.063497827813139,
          3.267504366357839,
          -8.099545350324686,
          -7.878787388615123,
          -8.356521712995068,
          -8.087749598166727,
          2.7632380375681094,
          3.1608512311475074,
          3.324574742086565,
          -8.274389174780755,
          2.8773003057945994,
          -7.4063705250820915,
          3.105469011455109,
          -8.175880270579661,
          -7.927478620635624,
          -8.401974736333505,
          -8.495238565181811,
          2.8305303841593155,
          3.156132972512731,
          -8.321457949308563,
          -7.643009593225825,
          3.0426947591030125,
          -8.518497872780225,
          -7.583174934677271,
          -8.320944767424635,
          -8.716921520080984,
          -8.420784616262896,
          -8.682588144883164,
          2.9487804529648804,
          -8.614637664227072,
          -8.214888935110437,
          2.8762052766594173,
          2.81564658473913,
          2.7499050008819883,
          -8.533149988680872,
          -7.622468375051354,
          -8.567489274980012,
          -7.9095356502561005,
          2.9903802316432655
         ]
        },
        {
         "mode": "lines",
         "name": "sklearn classifier",
         "type": "scatter",
         "x": [
          -4.473950818706932,
          -3.9652347177807186,
          -3.904806028302793,
          -3.939983636977865,
          7.374443640137842,
          -3.6467364059335754,
          7.619470912079629,
          -3.6742017462398984,
          -4.019927853027462,
          -3.8661303182413507,
          -4.2327126329346,
          7.517230728386392,
          -3.627276138631691,
          7.219482541699835,
          7.150458625693053,
          -4.096585449857788,
          -3.9443180072560673,
          5.997199293175521,
          6.9477308864661,
          7.793089146567512,
          -3.814656852215078,
          -3.708672266711176,
          7.301662714701961,
          -4.238520062342493,
          6.557994614749708,
          -4.077082903893651,
          7.111296362281097,
          7.201192937544021,
          -3.9296228932932995,
          7.7706173456405905,
          -3.7931556878654398,
          -3.8404316585274243,
          -3.389490862335562,
          -3.5764731546156048,
          -4.131713557869252,
          -4.023351936660406,
          6.752546580398205,
          -3.728379314150424,
          -3.7454471285714006,
          -3.7925693225964503,
          -4.012880687289253,
          7.285960932211534,
          7.063769291795044,
          7.972164510561191,
          7.32497450829736,
          -4.24392905707127,
          -3.7704979233987035,
          -3.968438169930999,
          -3.5856177491468113,
          7.573359588187986,
          6.949160224857126,
          7.113556565794822,
          -3.6632299949009757,
          6.953315549137534,
          -4.115206474633533,
          -3.8979798720975145,
          -3.9208165804396566,
          6.70311117991166,
          7.656947240642544,
          7.559316288558008,
          6.9768829754807475,
          -4.063497827813139,
          -4.267504366357839,
          7.099545350324686,
          6.878787388615123,
          7.356521712995069,
          7.0877495981667265,
          -3.7632380375681094,
          -4.160851231147507,
          -4.324574742086565,
          7.2743891747807545,
          -3.8773003057945994,
          6.4063705250820915,
          -4.105469011455109,
          7.175880270579661,
          6.927478620635624,
          7.401974736333505,
          7.495238565181811,
          -3.8305303841593155,
          -4.156132972512731,
          7.321457949308562,
          6.643009593225825,
          -4.0426947591030125,
          7.518497872780225,
          6.583174934677271,
          7.320944767424635,
          7.716921520080983,
          7.420784616262897,
          7.682588144883164,
          -3.9487804529648804,
          7.6146376642270726,
          7.214888935110436,
          -3.8762052766594173,
          -3.81564658473913,
          -3.7499050008819883,
          7.533149988680872,
          6.622468375051354,
          7.567489274980013,
          6.9095356502561005,
          -3.9903802316432655
         ],
         "y": [
          -70.89285890245013,
          -62.74965654776397,
          -61.78235269095403,
          -62.34545337770941,
          118.76867034902864,
          -57.651339041643965,
          122.6909103846907,
          -58.09098666326926,
          -63.62514931655103,
          -61.16325663193785,
          -67.03127213756336,
          121.05431483939839,
          -57.33983151470113,
          116.28815208080863,
          115.1832613287119,
          -64.8522351545592,
          -62.41483520814741,
          96.7226226836561,
          111.93812519005333,
          125.47008016784496,
          -60.339302271173864,
          -58.642768733775576,
          117.6036397901243,
          -67.12423375749819,
          105.69947593210925,
          -64.5400508578004,
          114.55637683449113,
          115.99538378163992,
          -62.17960521167959,
          125.11036593452508,
          -59.995125368100254,
          -60.75188890460681,
          -53.53351671884765,
          -56.5266098016245,
          -65.41454346631463,
          -63.67995985990059,
          108.81373951034706,
          -58.95822655950395,
          -59.23143722912732,
          -59.98573920746872,
          -63.51234278943549,
          117.35229568696732,
          113.79559385241387,
          128.33660419388735,
          117.97680008945902,
          -67.21081748962631,
          -59.63243434923625,
          -62.800935363287586,
          -56.67299062893387,
          121.95278976965912,
          111.96100512589624,
          114.59255672842711,
          -57.91535787704552,
          112.02752090238354,
          -65.15030862328653,
          -61.67308394325158,
          -62.03863938135631,
          108.02240920074226,
          123.29080751089309,
          121.72799360062457,
          112.40477320743648,
          -64.3225896386135,
          -67.58819597980052,
          114.36827414212664,
          110.83452172042027,
          118.48178758859738,
          114.17945527719765,
          -59.51622273477622,
          -65.88096072579899,
          -68.50174209554335,
          117.16706238653391,
          -61.34205865683901,
          103.27237436846606,
          -64.99443753342159,
          115.59019477965577,
          111.6139398566263,
          119.20937054892292,
          120.70227834032528,
          -60.59339562986677,
          -65.80543385579276,
          117.92050925969005,
          107.06034139646128,
          -63.989587404564745,
          121.07459847735048,
          106.10254640727713,
          117.91229457193401,
          124.2508374620869,
          119.51046709030132,
          123.70125072550402,
          -62.48626718825872,
          122.61354284074612,
          116.21462056111191,
          -61.32453012999303,
          -60.355145277136714,
          -59.30279600120152,
          121.3091401883088,
          106.73153069850632,
          121.8588215460254,
          111.32672024950443,
          -63.15216986967863
         ]
        },
        {
         "mode": "lines",
         "name": "sigmoid classifier",
         "type": "scatter",
         "x": [
          -4.473950818706932,
          -3.9652347177807186,
          -3.904806028302793,
          -3.939983636977865,
          7.374443640137842,
          -3.6467364059335754,
          7.619470912079629,
          -3.6742017462398984,
          -4.019927853027462,
          -3.8661303182413507,
          -4.2327126329346,
          7.517230728386392,
          -3.627276138631691,
          7.219482541699835,
          7.150458625693053,
          -4.096585449857788,
          -3.9443180072560673,
          5.997199293175521,
          6.9477308864661,
          7.793089146567512,
          -3.814656852215078,
          -3.708672266711176,
          7.301662714701961,
          -4.238520062342493,
          6.557994614749708,
          -4.077082903893651,
          7.111296362281097,
          7.201192937544021,
          -3.9296228932932995,
          7.7706173456405905,
          -3.7931556878654398,
          -3.8404316585274243,
          -3.389490862335562,
          -3.5764731546156048,
          -4.131713557869252,
          -4.023351936660406,
          6.752546580398205,
          -3.728379314150424,
          -3.7454471285714006,
          -3.7925693225964503,
          -4.012880687289253,
          7.285960932211534,
          7.063769291795044,
          7.972164510561191,
          7.32497450829736,
          -4.24392905707127,
          -3.7704979233987035,
          -3.968438169930999,
          -3.5856177491468113,
          7.573359588187986,
          6.949160224857126,
          7.113556565794822,
          -3.6632299949009757,
          6.953315549137534,
          -4.115206474633533,
          -3.8979798720975145,
          -3.9208165804396566,
          6.70311117991166,
          7.656947240642544,
          7.559316288558008,
          6.9768829754807475,
          -4.063497827813139,
          -4.267504366357839,
          7.099545350324686,
          6.878787388615123,
          7.356521712995069,
          7.0877495981667265,
          -3.7632380375681094,
          -4.160851231147507,
          -4.324574742086565,
          7.2743891747807545,
          -3.8773003057945994,
          6.4063705250820915,
          -4.105469011455109,
          7.175880270579661,
          6.927478620635624,
          7.401974736333505,
          7.495238565181811,
          -3.8305303841593155,
          -4.156132972512731,
          7.321457949308562,
          6.643009593225825,
          -4.0426947591030125,
          7.518497872780225,
          6.583174934677271,
          7.320944767424635,
          7.716921520080983,
          7.420784616262897,
          7.682588144883164,
          -3.9487804529648804,
          7.6146376642270726,
          7.214888935110436,
          -3.8762052766594173,
          -3.81564658473913,
          -3.7499050008819883,
          7.533149988680872,
          6.622468375051354,
          7.567489274980013,
          6.9095356502561005,
          -3.9903802316432655
         ],
         "y": [
          6.006719025544317,
          5.2164726959266625,
          5.1226019692549665,
          5.177247332532418,
          -12.398733870318154,
          4.721713199483811,
          -12.77936248017674,
          4.7643782229207625,
          5.301433736682654,
          5.062522608948176,
          5.6319764323314905,
          -12.620541224557124,
          4.691483362486922,
          -12.158015247394292,
          -12.050792581980545,
          5.4205146630032095,
          5.183980400735522,
          -10.259304258807788,
          -11.73587262653958,
          -13.04906334537237,
          4.98256304500691,
          4.81792518601637,
          -12.285675016692007,
          5.640997770098755,
          -11.130451139619865,
          5.3902191497723555,
          -11.989957403254195,
          -12.129603934035078,
          5.161152816054701,
          -13.014155352151658,
          4.9491628515023764,
          5.022601970544853,
          4.3221045645915686,
          4.612565334181465,
          5.475083131294128,
          5.306752753553383,
          -11.432670740087994,
          4.848538374547483,
          4.875051743548808,
          4.94825198392655,
          5.290486576078365,
          -12.261283659786017,
          -11.916128222418948,
          -13.327241387827282,
          -12.32188786565045,
          5.649400174157826,
          4.91396598005565,
          5.221448980929743,
          4.626770668455278,
          -12.707732538854188,
          -11.738092979729174,
          -11.993468433331007,
          4.747334559059377,
          -11.744547915507667,
          5.449440809543412,
          5.1119981277866176,
          5.147472973019684,
          -11.3558771341523,
          -12.837578705376744,
          -12.685917491191836,
          -11.781157867762667,
          5.36911591264136,
          5.686022371881452,
          -11.97170322562754,
          -11.628774883754279,
          -12.370893711301239,
          -11.95337954797917,
          4.902688377242166,
          5.520345978921355,
          5.774676249491014,
          -12.243307938513878,
          5.079874215570727,
          -10.894916270321849,
          5.4343145052598905,
          -12.09028290188178,
          -11.704412488537585,
          -12.441501039824608,
          -12.586378306927568,
          5.007221199789437,
          5.513016573460175,
          -12.316425196337011,
          -11.26251453329063,
          5.336800150150198,
          -12.622509623443063,
          -11.169566582133138,
          -12.315628012800925,
          -12.930743545474,
          -12.470720556462055,
          -12.877409625662805,
          5.19091242300902,
          -12.771854448941516,
          -12.150879478071538,
          5.078173182807411,
          4.984100508619742,
          4.881976661444924,
          -12.645270414364635,
          -11.23060553289002,
          -12.698613516558922,
          -11.676539640677964,
          5.2555340702374975
         ]
        },
        {
         "mode": "lines",
         "name": "gd classifier",
         "type": "scatter",
         "x": [
          -4.473950818706932,
          -3.9652347177807186,
          -3.904806028302793,
          -3.939983636977865,
          7.374443640137842,
          -3.6467364059335754,
          7.619470912079629,
          -3.6742017462398984,
          -4.019927853027462,
          -3.8661303182413507,
          -4.2327126329346,
          7.517230728386392,
          -3.627276138631691,
          7.219482541699835,
          7.150458625693053,
          -4.096585449857788,
          -3.9443180072560673,
          5.997199293175521,
          6.9477308864661,
          7.793089146567512,
          -3.814656852215078,
          -3.708672266711176,
          7.301662714701961,
          -4.238520062342493,
          6.557994614749708,
          -4.077082903893651,
          7.111296362281097,
          7.201192937544021,
          -3.9296228932932995,
          7.7706173456405905,
          -3.7931556878654398,
          -3.8404316585274243,
          -3.389490862335562,
          -3.5764731546156048,
          -4.131713557869252,
          -4.023351936660406,
          6.752546580398205,
          -3.728379314150424,
          -3.7454471285714006,
          -3.7925693225964503,
          -4.012880687289253,
          7.285960932211534,
          7.063769291795044,
          7.972164510561191,
          7.32497450829736,
          -4.24392905707127,
          -3.7704979233987035,
          -3.968438169930999,
          -3.5856177491468113,
          7.573359588187986,
          6.949160224857126,
          7.113556565794822,
          -3.6632299949009757,
          6.953315549137534,
          -4.115206474633533,
          -3.8979798720975145,
          -3.9208165804396566,
          6.70311117991166,
          7.656947240642544,
          7.559316288558008,
          6.9768829754807475,
          -4.063497827813139,
          -4.267504366357839,
          7.099545350324686,
          6.878787388615123,
          7.356521712995069,
          7.0877495981667265,
          -3.7632380375681094,
          -4.160851231147507,
          -4.324574742086565,
          7.2743891747807545,
          -3.8773003057945994,
          6.4063705250820915,
          -4.105469011455109,
          7.175880270579661,
          6.927478620635624,
          7.401974736333505,
          7.495238565181811,
          -3.8305303841593155,
          -4.156132972512731,
          7.321457949308562,
          6.643009593225825,
          -4.0426947591030125,
          7.518497872780225,
          6.583174934677271,
          7.320944767424635,
          7.716921520080983,
          7.420784616262897,
          7.682588144883164,
          -3.9487804529648804,
          7.6146376642270726,
          7.214888935110436,
          -3.8762052766594173,
          -3.81564658473913,
          -3.7499050008819883,
          7.533149988680872,
          6.622468375051354,
          7.567489274980013,
          6.9095356502561005,
          -3.9903802316432655
         ],
         "y": [
          829.90772841671,
          738.3888621722123,
          727.5176411914109,
          733.8461510562915,
          -1301.6379917144145,
          681.0904901569241,
          -1345.7188023792755,
          686.0315502123805,
          748.2282474797062,
          720.5598171131486,
          786.508580608008,
          -1327.3256245749985,
          677.5895559481569,
          -1273.7602343263004,
          -1261.3427179056587,
          762.0190756806732,
          734.6259114236609,
          -1053.8694604134616,
          -1224.8716629958947,
          -1376.9530093382705,
          711.2996556128102,
          692.2328537422773,
          -1288.5445830961503,
          787.5533467442432,
          -1154.7574644146014,
          758.5105354707814,
          -1254.2973620765329,
          -1270.4699043498101,
          731.9822361659728,
          -1372.9102952595151,
          707.4315606564429,
          715.9365858123512,
          634.8115922536033,
          668.4500152681501,
          768.3386802944649,
          748.8442457770725,
          -1189.757684162652,
          695.7781841050921,
          698.8487120915964,
          707.326072576696,
          746.9604507313356,
          -1285.719806508727,
          -1245.747163647809,
          -1409.1689629029079,
          -1292.7384132424584,
          788.5264338240482,
          703.3553914299232,
          738.9651685016727,
          670.0951429184012,
          -1337.4232990997202,
          -1225.1288033317092,
          -1254.7039764193487,
          684.0577140365123,
          -1225.8763530285416,
          765.3690287737327,
          726.2896044228133,
          730.3979659478838,
          -1180.864174016946,
          -1352.460855746251,
          -1334.8968863163868,
          -1230.1161719281295,
          756.066557860342,
          792.7676708781574,
          -1252.1833356293293,
          -1212.4686139342207,
          -1298.4138074394589,
          -1250.061260346019,
          702.0493259858164,
          773.5805958119282,
          803.0347256722381,
          -1283.6380282465625,
          722.5693163111831,
          -1127.4800404123541,
          763.6172430752569,
          -1265.9161137817803,
          -1221.2282469445593,
          -1306.5908813629,
          -1323.3691981141835,
          714.155330210464,
          772.7317732955643,
          -1292.105778475934,
          -1170.0517993683582,
          752.324051461801,
          -1327.5535859430004,
          -1159.2874455322594,
          -1292.0134562079563,
          -1363.2503276108987,
          -1309.9748098098253,
          -1357.0736967420694,
          735.4287127723987,
          -1344.8492931128314,
          -1272.933836918651,
          722.3723187623063,
          711.4777101275417,
          699.6506906784447,
          -1330.1895257783403,
          -1166.3564003133927,
          -1336.3672200640544,
          -1218.000276956578,
          742.9125816213228
         ]
        }
       ],
       "layout": {
        "height": 500,
        "template": {
         "data": {
          "bar": [
           {
            "error_x": {
             "color": "#2a3f5f"
            },
            "error_y": {
             "color": "#2a3f5f"
            },
            "marker": {
             "line": {
              "color": "#E5ECF6",
              "width": 0.5
             },
             "pattern": {
              "fillmode": "overlay",
              "size": 10,
              "solidity": 0.2
             }
            },
            "type": "bar"
           }
          ],
          "barpolar": [
           {
            "marker": {
             "line": {
              "color": "#E5ECF6",
              "width": 0.5
             },
             "pattern": {
              "fillmode": "overlay",
              "size": 10,
              "solidity": 0.2
             }
            },
            "type": "barpolar"
           }
          ],
          "carpet": [
           {
            "aaxis": {
             "endlinecolor": "#2a3f5f",
             "gridcolor": "white",
             "linecolor": "white",
             "minorgridcolor": "white",
             "startlinecolor": "#2a3f5f"
            },
            "baxis": {
             "endlinecolor": "#2a3f5f",
             "gridcolor": "white",
             "linecolor": "white",
             "minorgridcolor": "white",
             "startlinecolor": "#2a3f5f"
            },
            "type": "carpet"
           }
          ],
          "choropleth": [
           {
            "colorbar": {
             "outlinewidth": 0,
             "ticks": ""
            },
            "type": "choropleth"
           }
          ],
          "contour": [
           {
            "colorbar": {
             "outlinewidth": 0,
             "ticks": ""
            },
            "colorscale": [
             [
              0,
              "#0d0887"
             ],
             [
              0.1111111111111111,
              "#46039f"
             ],
             [
              0.2222222222222222,
              "#7201a8"
             ],
             [
              0.3333333333333333,
              "#9c179e"
             ],
             [
              0.4444444444444444,
              "#bd3786"
             ],
             [
              0.5555555555555556,
              "#d8576b"
             ],
             [
              0.6666666666666666,
              "#ed7953"
             ],
             [
              0.7777777777777778,
              "#fb9f3a"
             ],
             [
              0.8888888888888888,
              "#fdca26"
             ],
             [
              1,
              "#f0f921"
             ]
            ],
            "type": "contour"
           }
          ],
          "contourcarpet": [
           {
            "colorbar": {
             "outlinewidth": 0,
             "ticks": ""
            },
            "type": "contourcarpet"
           }
          ],
          "heatmap": [
           {
            "colorbar": {
             "outlinewidth": 0,
             "ticks": ""
            },
            "colorscale": [
             [
              0,
              "#0d0887"
             ],
             [
              0.1111111111111111,
              "#46039f"
             ],
             [
              0.2222222222222222,
              "#7201a8"
             ],
             [
              0.3333333333333333,
              "#9c179e"
             ],
             [
              0.4444444444444444,
              "#bd3786"
             ],
             [
              0.5555555555555556,
              "#d8576b"
             ],
             [
              0.6666666666666666,
              "#ed7953"
             ],
             [
              0.7777777777777778,
              "#fb9f3a"
             ],
             [
              0.8888888888888888,
              "#fdca26"
             ],
             [
              1,
              "#f0f921"
             ]
            ],
            "type": "heatmap"
           }
          ],
          "heatmapgl": [
           {
            "colorbar": {
             "outlinewidth": 0,
             "ticks": ""
            },
            "colorscale": [
             [
              0,
              "#0d0887"
             ],
             [
              0.1111111111111111,
              "#46039f"
             ],
             [
              0.2222222222222222,
              "#7201a8"
             ],
             [
              0.3333333333333333,
              "#9c179e"
             ],
             [
              0.4444444444444444,
              "#bd3786"
             ],
             [
              0.5555555555555556,
              "#d8576b"
             ],
             [
              0.6666666666666666,
              "#ed7953"
             ],
             [
              0.7777777777777778,
              "#fb9f3a"
             ],
             [
              0.8888888888888888,
              "#fdca26"
             ],
             [
              1,
              "#f0f921"
             ]
            ],
            "type": "heatmapgl"
           }
          ],
          "histogram": [
           {
            "marker": {
             "pattern": {
              "fillmode": "overlay",
              "size": 10,
              "solidity": 0.2
             }
            },
            "type": "histogram"
           }
          ],
          "histogram2d": [
           {
            "colorbar": {
             "outlinewidth": 0,
             "ticks": ""
            },
            "colorscale": [
             [
              0,
              "#0d0887"
             ],
             [
              0.1111111111111111,
              "#46039f"
             ],
             [
              0.2222222222222222,
              "#7201a8"
             ],
             [
              0.3333333333333333,
              "#9c179e"
             ],
             [
              0.4444444444444444,
              "#bd3786"
             ],
             [
              0.5555555555555556,
              "#d8576b"
             ],
             [
              0.6666666666666666,
              "#ed7953"
             ],
             [
              0.7777777777777778,
              "#fb9f3a"
             ],
             [
              0.8888888888888888,
              "#fdca26"
             ],
             [
              1,
              "#f0f921"
             ]
            ],
            "type": "histogram2d"
           }
          ],
          "histogram2dcontour": [
           {
            "colorbar": {
             "outlinewidth": 0,
             "ticks": ""
            },
            "colorscale": [
             [
              0,
              "#0d0887"
             ],
             [
              0.1111111111111111,
              "#46039f"
             ],
             [
              0.2222222222222222,
              "#7201a8"
             ],
             [
              0.3333333333333333,
              "#9c179e"
             ],
             [
              0.4444444444444444,
              "#bd3786"
             ],
             [
              0.5555555555555556,
              "#d8576b"
             ],
             [
              0.6666666666666666,
              "#ed7953"
             ],
             [
              0.7777777777777778,
              "#fb9f3a"
             ],
             [
              0.8888888888888888,
              "#fdca26"
             ],
             [
              1,
              "#f0f921"
             ]
            ],
            "type": "histogram2dcontour"
           }
          ],
          "mesh3d": [
           {
            "colorbar": {
             "outlinewidth": 0,
             "ticks": ""
            },
            "type": "mesh3d"
           }
          ],
          "parcoords": [
           {
            "line": {
             "colorbar": {
              "outlinewidth": 0,
              "ticks": ""
             }
            },
            "type": "parcoords"
           }
          ],
          "pie": [
           {
            "automargin": true,
            "type": "pie"
           }
          ],
          "scatter": [
           {
            "fillpattern": {
             "fillmode": "overlay",
             "size": 10,
             "solidity": 0.2
            },
            "type": "scatter"
           }
          ],
          "scatter3d": [
           {
            "line": {
             "colorbar": {
              "outlinewidth": 0,
              "ticks": ""
             }
            },
            "marker": {
             "colorbar": {
              "outlinewidth": 0,
              "ticks": ""
             }
            },
            "type": "scatter3d"
           }
          ],
          "scattercarpet": [
           {
            "marker": {
             "colorbar": {
              "outlinewidth": 0,
              "ticks": ""
             }
            },
            "type": "scattercarpet"
           }
          ],
          "scattergeo": [
           {
            "marker": {
             "colorbar": {
              "outlinewidth": 0,
              "ticks": ""
             }
            },
            "type": "scattergeo"
           }
          ],
          "scattergl": [
           {
            "marker": {
             "colorbar": {
              "outlinewidth": 0,
              "ticks": ""
             }
            },
            "type": "scattergl"
           }
          ],
          "scattermapbox": [
           {
            "marker": {
             "colorbar": {
              "outlinewidth": 0,
              "ticks": ""
             }
            },
            "type": "scattermapbox"
           }
          ],
          "scatterpolar": [
           {
            "marker": {
             "colorbar": {
              "outlinewidth": 0,
              "ticks": ""
             }
            },
            "type": "scatterpolar"
           }
          ],
          "scatterpolargl": [
           {
            "marker": {
             "colorbar": {
              "outlinewidth": 0,
              "ticks": ""
             }
            },
            "type": "scatterpolargl"
           }
          ],
          "scatterternary": [
           {
            "marker": {
             "colorbar": {
              "outlinewidth": 0,
              "ticks": ""
             }
            },
            "type": "scatterternary"
           }
          ],
          "surface": [
           {
            "colorbar": {
             "outlinewidth": 0,
             "ticks": ""
            },
            "colorscale": [
             [
              0,
              "#0d0887"
             ],
             [
              0.1111111111111111,
              "#46039f"
             ],
             [
              0.2222222222222222,
              "#7201a8"
             ],
             [
              0.3333333333333333,
              "#9c179e"
             ],
             [
              0.4444444444444444,
              "#bd3786"
             ],
             [
              0.5555555555555556,
              "#d8576b"
             ],
             [
              0.6666666666666666,
              "#ed7953"
             ],
             [
              0.7777777777777778,
              "#fb9f3a"
             ],
             [
              0.8888888888888888,
              "#fdca26"
             ],
             [
              1,
              "#f0f921"
             ]
            ],
            "type": "surface"
           }
          ],
          "table": [
           {
            "cells": {
             "fill": {
              "color": "#EBF0F8"
             },
             "line": {
              "color": "white"
             }
            },
            "header": {
             "fill": {
              "color": "#C8D4E3"
             },
             "line": {
              "color": "white"
             }
            },
            "type": "table"
           }
          ]
         },
         "layout": {
          "annotationdefaults": {
           "arrowcolor": "#2a3f5f",
           "arrowhead": 0,
           "arrowwidth": 1
          },
          "autotypenumbers": "strict",
          "coloraxis": {
           "colorbar": {
            "outlinewidth": 0,
            "ticks": ""
           }
          },
          "colorscale": {
           "diverging": [
            [
             0,
             "#8e0152"
            ],
            [
             0.1,
             "#c51b7d"
            ],
            [
             0.2,
             "#de77ae"
            ],
            [
             0.3,
             "#f1b6da"
            ],
            [
             0.4,
             "#fde0ef"
            ],
            [
             0.5,
             "#f7f7f7"
            ],
            [
             0.6,
             "#e6f5d0"
            ],
            [
             0.7,
             "#b8e186"
            ],
            [
             0.8,
             "#7fbc41"
            ],
            [
             0.9,
             "#4d9221"
            ],
            [
             1,
             "#276419"
            ]
           ],
           "sequential": [
            [
             0,
             "#0d0887"
            ],
            [
             0.1111111111111111,
             "#46039f"
            ],
            [
             0.2222222222222222,
             "#7201a8"
            ],
            [
             0.3333333333333333,
             "#9c179e"
            ],
            [
             0.4444444444444444,
             "#bd3786"
            ],
            [
             0.5555555555555556,
             "#d8576b"
            ],
            [
             0.6666666666666666,
             "#ed7953"
            ],
            [
             0.7777777777777778,
             "#fb9f3a"
            ],
            [
             0.8888888888888888,
             "#fdca26"
            ],
            [
             1,
             "#f0f921"
            ]
           ],
           "sequentialminus": [
            [
             0,
             "#0d0887"
            ],
            [
             0.1111111111111111,
             "#46039f"
            ],
            [
             0.2222222222222222,
             "#7201a8"
            ],
            [
             0.3333333333333333,
             "#9c179e"
            ],
            [
             0.4444444444444444,
             "#bd3786"
            ],
            [
             0.5555555555555556,
             "#d8576b"
            ],
            [
             0.6666666666666666,
             "#ed7953"
            ],
            [
             0.7777777777777778,
             "#fb9f3a"
            ],
            [
             0.8888888888888888,
             "#fdca26"
            ],
            [
             1,
             "#f0f921"
            ]
           ]
          },
          "colorway": [
           "#636efa",
           "#EF553B",
           "#00cc96",
           "#ab63fa",
           "#FFA15A",
           "#19d3f3",
           "#FF6692",
           "#B6E880",
           "#FF97FF",
           "#FECB52"
          ],
          "font": {
           "color": "#2a3f5f"
          },
          "geo": {
           "bgcolor": "white",
           "lakecolor": "white",
           "landcolor": "#E5ECF6",
           "showlakes": true,
           "showland": true,
           "subunitcolor": "white"
          },
          "hoverlabel": {
           "align": "left"
          },
          "hovermode": "closest",
          "mapbox": {
           "style": "light"
          },
          "paper_bgcolor": "white",
          "plot_bgcolor": "#E5ECF6",
          "polar": {
           "angularaxis": {
            "gridcolor": "white",
            "linecolor": "white",
            "ticks": ""
           },
           "bgcolor": "#E5ECF6",
           "radialaxis": {
            "gridcolor": "white",
            "linecolor": "white",
            "ticks": ""
           }
          },
          "scene": {
           "xaxis": {
            "backgroundcolor": "#E5ECF6",
            "gridcolor": "white",
            "gridwidth": 2,
            "linecolor": "white",
            "showbackground": true,
            "ticks": "",
            "zerolinecolor": "white"
           },
           "yaxis": {
            "backgroundcolor": "#E5ECF6",
            "gridcolor": "white",
            "gridwidth": 2,
            "linecolor": "white",
            "showbackground": true,
            "ticks": "",
            "zerolinecolor": "white"
           },
           "zaxis": {
            "backgroundcolor": "#E5ECF6",
            "gridcolor": "white",
            "gridwidth": 2,
            "linecolor": "white",
            "showbackground": true,
            "ticks": "",
            "zerolinecolor": "white"
           }
          },
          "shapedefaults": {
           "line": {
            "color": "#2a3f5f"
           }
          },
          "ternary": {
           "aaxis": {
            "gridcolor": "white",
            "linecolor": "white",
            "ticks": ""
           },
           "baxis": {
            "gridcolor": "white",
            "linecolor": "white",
            "ticks": ""
           },
           "bgcolor": "#E5ECF6",
           "caxis": {
            "gridcolor": "white",
            "linecolor": "white",
            "ticks": ""
           }
          },
          "title": {
           "x": 0.05
          },
          "xaxis": {
           "automargin": true,
           "gridcolor": "white",
           "linecolor": "white",
           "ticks": "",
           "title": {
            "standoff": 15
           },
           "zerolinecolor": "white",
           "zerolinewidth": 2
          },
          "yaxis": {
           "automargin": true,
           "gridcolor": "white",
           "linecolor": "white",
           "ticks": "",
           "title": {
            "standoff": 15
           },
           "zerolinecolor": "white",
           "zerolinewidth": 2
          }
         }
        },
        "width": 900,
        "yaxis": {
         "range": [
          -2.5,
          2.7
         ]
        }
       }
      }
     },
     "metadata": {},
     "output_type": "display_data"
    }
   ],
   "source": [
    "fig = go.Figure()\n",
    "fig.add_trace(go.Scatter(x = category0['X1'], y = category0['X2'], name = '1st category', mode = 'markers', marker=dict(\n",
    "        color='red',\n",
    "    )))\n",
    "fig.add_trace(go.Scatter(x = category1['X1'], y = category1['X2'], name = '2st category', mode = 'markers', marker=dict(\n",
    "        color='blue',\n",
    "    )))\n",
    "fig.add_trace(go.Scatter(x = df['X1'], y = m*df['X1'] + b, mode = 'lines', name='my classifier'))\n",
    "fig.add_trace(go.Scatter(x = df['X1'], y = model_m*df['X1'] + model_b, mode = 'lines', name='sklearn classifier'))\n",
    "fig.add_trace(go.Scatter(x = df['X1'], y = sigma_m*df['X1'] + sigma_b, mode = 'lines', name='sigmoid classifier'))\n",
    "fig.add_trace(go.Scatter(x = df['X1'], y = gd_m*df['X1'] + gd_b, mode = 'lines', name='gd classifier'))\n",
    "fig.update_layout(width= 900, height= 500)\n",
    "\n",
    "fig.update_yaxes(range=[-2.5, 2.7])\n",
    "\n",
    "fig.show()"
   ]
  }
 ],
 "metadata": {
  "kernelspec": {
   "display_name": "Python 3",
   "language": "python",
   "name": "python3"
  },
  "language_info": {
   "codemirror_mode": {
    "name": "ipython",
    "version": 3
   },
   "file_extension": ".py",
   "mimetype": "text/x-python",
   "name": "python",
   "nbconvert_exporter": "python",
   "pygments_lexer": "ipython3",
   "version": "3.12.2"
  }
 },
 "nbformat": 4,
 "nbformat_minor": 2
}
