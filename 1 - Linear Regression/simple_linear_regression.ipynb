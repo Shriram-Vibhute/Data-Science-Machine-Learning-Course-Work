{
 "cells": [
  {
   "cell_type": "markdown",
   "id": "8317f4df",
   "metadata": {
    "_cell_guid": "b1076dfc-b9ad-4769-8c92-a6c4dae69d19",
    "_uuid": "8f2839f25d086af736a60e9eeb907d3b93b6e0e5",
    "execution": {
     "iopub.execute_input": "2024-07-02T17:56:45.493083Z",
     "iopub.status.busy": "2024-07-02T17:56:45.492713Z",
     "iopub.status.idle": "2024-07-02T17:56:47.565733Z",
     "shell.execute_reply": "2024-07-02T17:56:47.564545Z",
     "shell.execute_reply.started": "2024-07-02T17:56:45.493051Z"
    },
    "papermill": {
     "duration": 0.015739,
     "end_time": "2024-07-17T09:23:28.707152",
     "exception": false,
     "start_time": "2024-07-17T09:23:28.691413",
     "status": "completed"
    },
    "tags": []
   },
   "source": [
    "> # **Simple Linear Regression**\n",
    "> - Simple Linear Regression is a statistical method that allows us to summarize and study relationships between two (quantitative) variables.\n",
    "<br><br>\n",
    "> - Assumptions: SLR assumes that there is a linear relationship between X and Y, meaning Y can be expressed as a linear combination of X with some noise or error\n",
    "<br><br>\n",
    "> - Equation of the Line : `y = (m * x) + b`"
   ]
  },
  {
   "cell_type": "code",
   "execution_count": 1,
   "id": "c29f986a",
   "metadata": {
    "execution": {
     "iopub.execute_input": "2024-07-17T09:23:28.771147Z",
     "iopub.status.busy": "2024-07-17T09:23:28.770722Z",
     "iopub.status.idle": "2024-07-17T09:23:32.249350Z",
     "shell.execute_reply": "2024-07-17T09:23:32.248091Z"
    },
    "papermill": {
     "duration": 3.497891,
     "end_time": "2024-07-17T09:23:32.251909",
     "exception": false,
     "start_time": "2024-07-17T09:23:28.754018",
     "status": "completed"
    },
    "tags": []
   },
   "outputs": [],
   "source": [
    "import numpy as np\n",
    "import pandas as pd\n",
    "\n",
    "import matplotlib.pyplot as plt\n",
    "\n",
    "from sklearn.model_selection import train_test_split\n",
    "from sklearn.datasets import load_diabetes\n",
    "from sklearn.linear_model import LinearRegression\n",
    "from sklearn.metrics import mean_absolute_error, mean_squared_error, r2_score"
   ]
  },
  {
   "cell_type": "code",
   "execution_count": 2,
   "id": "ae7807f9",
   "metadata": {
    "execution": {
     "iopub.execute_input": "2024-07-17T09:23:32.316471Z",
     "iopub.status.busy": "2024-07-17T09:23:32.315241Z",
     "iopub.status.idle": "2024-07-17T09:23:32.366283Z",
     "shell.execute_reply": "2024-07-17T09:23:32.365159Z"
    },
    "papermill": {
     "duration": 0.070255,
     "end_time": "2024-07-17T09:23:32.368786",
     "exception": false,
     "start_time": "2024-07-17T09:23:32.298531",
     "status": "completed"
    },
    "tags": []
   },
   "outputs": [
    {
     "data": {
      "text/html": [
       "<div>\n",
       "<style scoped>\n",
       "    .dataframe tbody tr th:only-of-type {\n",
       "        vertical-align: middle;\n",
       "    }\n",
       "\n",
       "    .dataframe tbody tr th {\n",
       "        vertical-align: top;\n",
       "    }\n",
       "\n",
       "    .dataframe thead th {\n",
       "        text-align: right;\n",
       "    }\n",
       "</style>\n",
       "<table border=\"1\" class=\"dataframe\">\n",
       "  <thead>\n",
       "    <tr style=\"text-align: right;\">\n",
       "      <th></th>\n",
       "      <th>s1</th>\n",
       "      <th>s2</th>\n",
       "      <th>s3</th>\n",
       "      <th>s4</th>\n",
       "      <th>s5</th>\n",
       "      <th>target</th>\n",
       "    </tr>\n",
       "  </thead>\n",
       "  <tbody>\n",
       "    <tr>\n",
       "      <th>0</th>\n",
       "      <td>-0.044223</td>\n",
       "      <td>-0.034821</td>\n",
       "      <td>-0.043401</td>\n",
       "      <td>-0.002592</td>\n",
       "      <td>0.019907</td>\n",
       "      <td>151.0</td>\n",
       "    </tr>\n",
       "    <tr>\n",
       "      <th>1</th>\n",
       "      <td>-0.008449</td>\n",
       "      <td>-0.019163</td>\n",
       "      <td>0.074412</td>\n",
       "      <td>-0.039493</td>\n",
       "      <td>-0.068332</td>\n",
       "      <td>75.0</td>\n",
       "    </tr>\n",
       "    <tr>\n",
       "      <th>2</th>\n",
       "      <td>-0.045599</td>\n",
       "      <td>-0.034194</td>\n",
       "      <td>-0.032356</td>\n",
       "      <td>-0.002592</td>\n",
       "      <td>0.002861</td>\n",
       "      <td>141.0</td>\n",
       "    </tr>\n",
       "    <tr>\n",
       "      <th>3</th>\n",
       "      <td>0.012191</td>\n",
       "      <td>0.024991</td>\n",
       "      <td>-0.036038</td>\n",
       "      <td>0.034309</td>\n",
       "      <td>0.022688</td>\n",
       "      <td>206.0</td>\n",
       "    </tr>\n",
       "    <tr>\n",
       "      <th>4</th>\n",
       "      <td>0.003935</td>\n",
       "      <td>0.015596</td>\n",
       "      <td>0.008142</td>\n",
       "      <td>-0.002592</td>\n",
       "      <td>-0.031988</td>\n",
       "      <td>135.0</td>\n",
       "    </tr>\n",
       "  </tbody>\n",
       "</table>\n",
       "</div>"
      ],
      "text/plain": [
       "         s1        s2        s3        s4        s5  target\n",
       "0 -0.044223 -0.034821 -0.043401 -0.002592  0.019907   151.0\n",
       "1 -0.008449 -0.019163  0.074412 -0.039493 -0.068332    75.0\n",
       "2 -0.045599 -0.034194 -0.032356 -0.002592  0.002861   141.0\n",
       "3  0.012191  0.024991 -0.036038  0.034309  0.022688   206.0\n",
       "4  0.003935  0.015596  0.008142 -0.002592 -0.031988   135.0"
      ]
     },
     "execution_count": 2,
     "metadata": {},
     "output_type": "execute_result"
    }
   ],
   "source": [
    "dataset = load_diabetes(as_frame = True)\n",
    "df = dataset['data'].loc[:, ['s1',\t's2', 's3', 's4', 's5']]\n",
    "df['target'] = dataset['target']\n",
    "df.head()"
   ]
  },
  {
   "cell_type": "code",
   "execution_count": 4,
   "id": "39c0b0bf",
   "metadata": {
    "execution": {
     "iopub.execute_input": "2024-07-17T09:23:32.492760Z",
     "iopub.status.busy": "2024-07-17T09:23:32.491697Z",
     "iopub.status.idle": "2024-07-17T09:23:32.497789Z",
     "shell.execute_reply": "2024-07-17T09:23:32.496621Z"
    },
    "papermill": {
     "duration": 0.026037,
     "end_time": "2024-07-17T09:23:32.500193",
     "exception": false,
     "start_time": "2024-07-17T09:23:32.474156",
     "status": "completed"
    },
    "tags": []
   },
   "outputs": [],
   "source": [
    "X = np.array(df.loc[:,'s5']).reshape(-1, 1)\n",
    "y = np.array(df['target'])\n",
    "\n",
    "X_train, X_test, y_train, y_test = train_test_split(X, y, test_size = 0.2, random_state = 2)"
   ]
  },
  {
   "cell_type": "markdown",
   "id": "f3ca8bf5",
   "metadata": {
    "papermill": {
     "duration": 0.015371,
     "end_time": "2024-07-17T09:23:32.608009",
     "exception": false,
     "start_time": "2024-07-17T09:23:32.592638",
     "status": "completed"
    },
    "tags": []
   },
   "source": [
    "> # **LinearRegression - sklearn class**\n",
    "> `Hyperparameters` - \n",
    "> - fit_intercept : If set to False, no intercept will be used in calculations\n",
    "> - n_jobs : no. of CPU cores\n",
    "> - copy_X : If True, X will be copied; else, it may be overwritten.\n",
    "> - positive : When set to True, forces the coefficients to be positive. This option is only supported for dense arrays."
   ]
  },
  {
   "cell_type": "code",
   "execution_count": 5,
   "id": "97bb7a79",
   "metadata": {
    "execution": {
     "iopub.execute_input": "2024-07-17T09:23:32.641609Z",
     "iopub.status.busy": "2024-07-17T09:23:32.640597Z",
     "iopub.status.idle": "2024-07-17T09:23:32.646150Z",
     "shell.execute_reply": "2024-07-17T09:23:32.645024Z"
    },
    "papermill": {
     "duration": 0.024877,
     "end_time": "2024-07-17T09:23:32.648531",
     "exception": false,
     "start_time": "2024-07-17T09:23:32.623654",
     "status": "completed"
    },
    "tags": []
   },
   "outputs": [
    {
     "data": {
      "text/html": [
       "<style>#sk-container-id-1 {\n",
       "  /* Definition of color scheme common for light and dark mode */\n",
       "  --sklearn-color-text: black;\n",
       "  --sklearn-color-line: gray;\n",
       "  /* Definition of color scheme for unfitted estimators */\n",
       "  --sklearn-color-unfitted-level-0: #fff5e6;\n",
       "  --sklearn-color-unfitted-level-1: #f6e4d2;\n",
       "  --sklearn-color-unfitted-level-2: #ffe0b3;\n",
       "  --sklearn-color-unfitted-level-3: chocolate;\n",
       "  /* Definition of color scheme for fitted estimators */\n",
       "  --sklearn-color-fitted-level-0: #f0f8ff;\n",
       "  --sklearn-color-fitted-level-1: #d4ebff;\n",
       "  --sklearn-color-fitted-level-2: #b3dbfd;\n",
       "  --sklearn-color-fitted-level-3: cornflowerblue;\n",
       "\n",
       "  /* Specific color for light theme */\n",
       "  --sklearn-color-text-on-default-background: var(--sg-text-color, var(--theme-code-foreground, var(--jp-content-font-color1, black)));\n",
       "  --sklearn-color-background: var(--sg-background-color, var(--theme-background, var(--jp-layout-color0, white)));\n",
       "  --sklearn-color-border-box: var(--sg-text-color, var(--theme-code-foreground, var(--jp-content-font-color1, black)));\n",
       "  --sklearn-color-icon: #696969;\n",
       "\n",
       "  @media (prefers-color-scheme: dark) {\n",
       "    /* Redefinition of color scheme for dark theme */\n",
       "    --sklearn-color-text-on-default-background: var(--sg-text-color, var(--theme-code-foreground, var(--jp-content-font-color1, white)));\n",
       "    --sklearn-color-background: var(--sg-background-color, var(--theme-background, var(--jp-layout-color0, #111)));\n",
       "    --sklearn-color-border-box: var(--sg-text-color, var(--theme-code-foreground, var(--jp-content-font-color1, white)));\n",
       "    --sklearn-color-icon: #878787;\n",
       "  }\n",
       "}\n",
       "\n",
       "#sk-container-id-1 {\n",
       "  color: var(--sklearn-color-text);\n",
       "}\n",
       "\n",
       "#sk-container-id-1 pre {\n",
       "  padding: 0;\n",
       "}\n",
       "\n",
       "#sk-container-id-1 input.sk-hidden--visually {\n",
       "  border: 0;\n",
       "  clip: rect(1px 1px 1px 1px);\n",
       "  clip: rect(1px, 1px, 1px, 1px);\n",
       "  height: 1px;\n",
       "  margin: -1px;\n",
       "  overflow: hidden;\n",
       "  padding: 0;\n",
       "  position: absolute;\n",
       "  width: 1px;\n",
       "}\n",
       "\n",
       "#sk-container-id-1 div.sk-dashed-wrapped {\n",
       "  border: 1px dashed var(--sklearn-color-line);\n",
       "  margin: 0 0.4em 0.5em 0.4em;\n",
       "  box-sizing: border-box;\n",
       "  padding-bottom: 0.4em;\n",
       "  background-color: var(--sklearn-color-background);\n",
       "}\n",
       "\n",
       "#sk-container-id-1 div.sk-container {\n",
       "  /* jupyter's `normalize.less` sets `[hidden] { display: none; }`\n",
       "     but bootstrap.min.css set `[hidden] { display: none !important; }`\n",
       "     so we also need the `!important` here to be able to override the\n",
       "     default hidden behavior on the sphinx rendered scikit-learn.org.\n",
       "     See: https://github.com/scikit-learn/scikit-learn/issues/21755 */\n",
       "  display: inline-block !important;\n",
       "  position: relative;\n",
       "}\n",
       "\n",
       "#sk-container-id-1 div.sk-text-repr-fallback {\n",
       "  display: none;\n",
       "}\n",
       "\n",
       "div.sk-parallel-item,\n",
       "div.sk-serial,\n",
       "div.sk-item {\n",
       "  /* draw centered vertical line to link estimators */\n",
       "  background-image: linear-gradient(var(--sklearn-color-text-on-default-background), var(--sklearn-color-text-on-default-background));\n",
       "  background-size: 2px 100%;\n",
       "  background-repeat: no-repeat;\n",
       "  background-position: center center;\n",
       "}\n",
       "\n",
       "/* Parallel-specific style estimator block */\n",
       "\n",
       "#sk-container-id-1 div.sk-parallel-item::after {\n",
       "  content: \"\";\n",
       "  width: 100%;\n",
       "  border-bottom: 2px solid var(--sklearn-color-text-on-default-background);\n",
       "  flex-grow: 1;\n",
       "}\n",
       "\n",
       "#sk-container-id-1 div.sk-parallel {\n",
       "  display: flex;\n",
       "  align-items: stretch;\n",
       "  justify-content: center;\n",
       "  background-color: var(--sklearn-color-background);\n",
       "  position: relative;\n",
       "}\n",
       "\n",
       "#sk-container-id-1 div.sk-parallel-item {\n",
       "  display: flex;\n",
       "  flex-direction: column;\n",
       "}\n",
       "\n",
       "#sk-container-id-1 div.sk-parallel-item:first-child::after {\n",
       "  align-self: flex-end;\n",
       "  width: 50%;\n",
       "}\n",
       "\n",
       "#sk-container-id-1 div.sk-parallel-item:last-child::after {\n",
       "  align-self: flex-start;\n",
       "  width: 50%;\n",
       "}\n",
       "\n",
       "#sk-container-id-1 div.sk-parallel-item:only-child::after {\n",
       "  width: 0;\n",
       "}\n",
       "\n",
       "/* Serial-specific style estimator block */\n",
       "\n",
       "#sk-container-id-1 div.sk-serial {\n",
       "  display: flex;\n",
       "  flex-direction: column;\n",
       "  align-items: center;\n",
       "  background-color: var(--sklearn-color-background);\n",
       "  padding-right: 1em;\n",
       "  padding-left: 1em;\n",
       "}\n",
       "\n",
       "\n",
       "/* Toggleable style: style used for estimator/Pipeline/ColumnTransformer box that is\n",
       "clickable and can be expanded/collapsed.\n",
       "- Pipeline and ColumnTransformer use this feature and define the default style\n",
       "- Estimators will overwrite some part of the style using the `sk-estimator` class\n",
       "*/\n",
       "\n",
       "/* Pipeline and ColumnTransformer style (default) */\n",
       "\n",
       "#sk-container-id-1 div.sk-toggleable {\n",
       "  /* Default theme specific background. It is overwritten whether we have a\n",
       "  specific estimator or a Pipeline/ColumnTransformer */\n",
       "  background-color: var(--sklearn-color-background);\n",
       "}\n",
       "\n",
       "/* Toggleable label */\n",
       "#sk-container-id-1 label.sk-toggleable__label {\n",
       "  cursor: pointer;\n",
       "  display: block;\n",
       "  width: 100%;\n",
       "  margin-bottom: 0;\n",
       "  padding: 0.5em;\n",
       "  box-sizing: border-box;\n",
       "  text-align: center;\n",
       "}\n",
       "\n",
       "#sk-container-id-1 label.sk-toggleable__label-arrow:before {\n",
       "  /* Arrow on the left of the label */\n",
       "  content: \"▸\";\n",
       "  float: left;\n",
       "  margin-right: 0.25em;\n",
       "  color: var(--sklearn-color-icon);\n",
       "}\n",
       "\n",
       "#sk-container-id-1 label.sk-toggleable__label-arrow:hover:before {\n",
       "  color: var(--sklearn-color-text);\n",
       "}\n",
       "\n",
       "/* Toggleable content - dropdown */\n",
       "\n",
       "#sk-container-id-1 div.sk-toggleable__content {\n",
       "  max-height: 0;\n",
       "  max-width: 0;\n",
       "  overflow: hidden;\n",
       "  text-align: left;\n",
       "  /* unfitted */\n",
       "  background-color: var(--sklearn-color-unfitted-level-0);\n",
       "}\n",
       "\n",
       "#sk-container-id-1 div.sk-toggleable__content.fitted {\n",
       "  /* fitted */\n",
       "  background-color: var(--sklearn-color-fitted-level-0);\n",
       "}\n",
       "\n",
       "#sk-container-id-1 div.sk-toggleable__content pre {\n",
       "  margin: 0.2em;\n",
       "  border-radius: 0.25em;\n",
       "  color: var(--sklearn-color-text);\n",
       "  /* unfitted */\n",
       "  background-color: var(--sklearn-color-unfitted-level-0);\n",
       "}\n",
       "\n",
       "#sk-container-id-1 div.sk-toggleable__content.fitted pre {\n",
       "  /* unfitted */\n",
       "  background-color: var(--sklearn-color-fitted-level-0);\n",
       "}\n",
       "\n",
       "#sk-container-id-1 input.sk-toggleable__control:checked~div.sk-toggleable__content {\n",
       "  /* Expand drop-down */\n",
       "  max-height: 200px;\n",
       "  max-width: 100%;\n",
       "  overflow: auto;\n",
       "}\n",
       "\n",
       "#sk-container-id-1 input.sk-toggleable__control:checked~label.sk-toggleable__label-arrow:before {\n",
       "  content: \"▾\";\n",
       "}\n",
       "\n",
       "/* Pipeline/ColumnTransformer-specific style */\n",
       "\n",
       "#sk-container-id-1 div.sk-label input.sk-toggleable__control:checked~label.sk-toggleable__label {\n",
       "  color: var(--sklearn-color-text);\n",
       "  background-color: var(--sklearn-color-unfitted-level-2);\n",
       "}\n",
       "\n",
       "#sk-container-id-1 div.sk-label.fitted input.sk-toggleable__control:checked~label.sk-toggleable__label {\n",
       "  background-color: var(--sklearn-color-fitted-level-2);\n",
       "}\n",
       "\n",
       "/* Estimator-specific style */\n",
       "\n",
       "/* Colorize estimator box */\n",
       "#sk-container-id-1 div.sk-estimator input.sk-toggleable__control:checked~label.sk-toggleable__label {\n",
       "  /* unfitted */\n",
       "  background-color: var(--sklearn-color-unfitted-level-2);\n",
       "}\n",
       "\n",
       "#sk-container-id-1 div.sk-estimator.fitted input.sk-toggleable__control:checked~label.sk-toggleable__label {\n",
       "  /* fitted */\n",
       "  background-color: var(--sklearn-color-fitted-level-2);\n",
       "}\n",
       "\n",
       "#sk-container-id-1 div.sk-label label.sk-toggleable__label,\n",
       "#sk-container-id-1 div.sk-label label {\n",
       "  /* The background is the default theme color */\n",
       "  color: var(--sklearn-color-text-on-default-background);\n",
       "}\n",
       "\n",
       "/* On hover, darken the color of the background */\n",
       "#sk-container-id-1 div.sk-label:hover label.sk-toggleable__label {\n",
       "  color: var(--sklearn-color-text);\n",
       "  background-color: var(--sklearn-color-unfitted-level-2);\n",
       "}\n",
       "\n",
       "/* Label box, darken color on hover, fitted */\n",
       "#sk-container-id-1 div.sk-label.fitted:hover label.sk-toggleable__label.fitted {\n",
       "  color: var(--sklearn-color-text);\n",
       "  background-color: var(--sklearn-color-fitted-level-2);\n",
       "}\n",
       "\n",
       "/* Estimator label */\n",
       "\n",
       "#sk-container-id-1 div.sk-label label {\n",
       "  font-family: monospace;\n",
       "  font-weight: bold;\n",
       "  display: inline-block;\n",
       "  line-height: 1.2em;\n",
       "}\n",
       "\n",
       "#sk-container-id-1 div.sk-label-container {\n",
       "  text-align: center;\n",
       "}\n",
       "\n",
       "/* Estimator-specific */\n",
       "#sk-container-id-1 div.sk-estimator {\n",
       "  font-family: monospace;\n",
       "  border: 1px dotted var(--sklearn-color-border-box);\n",
       "  border-radius: 0.25em;\n",
       "  box-sizing: border-box;\n",
       "  margin-bottom: 0.5em;\n",
       "  /* unfitted */\n",
       "  background-color: var(--sklearn-color-unfitted-level-0);\n",
       "}\n",
       "\n",
       "#sk-container-id-1 div.sk-estimator.fitted {\n",
       "  /* fitted */\n",
       "  background-color: var(--sklearn-color-fitted-level-0);\n",
       "}\n",
       "\n",
       "/* on hover */\n",
       "#sk-container-id-1 div.sk-estimator:hover {\n",
       "  /* unfitted */\n",
       "  background-color: var(--sklearn-color-unfitted-level-2);\n",
       "}\n",
       "\n",
       "#sk-container-id-1 div.sk-estimator.fitted:hover {\n",
       "  /* fitted */\n",
       "  background-color: var(--sklearn-color-fitted-level-2);\n",
       "}\n",
       "\n",
       "/* Specification for estimator info (e.g. \"i\" and \"?\") */\n",
       "\n",
       "/* Common style for \"i\" and \"?\" */\n",
       "\n",
       ".sk-estimator-doc-link,\n",
       "a:link.sk-estimator-doc-link,\n",
       "a:visited.sk-estimator-doc-link {\n",
       "  float: right;\n",
       "  font-size: smaller;\n",
       "  line-height: 1em;\n",
       "  font-family: monospace;\n",
       "  background-color: var(--sklearn-color-background);\n",
       "  border-radius: 1em;\n",
       "  height: 1em;\n",
       "  width: 1em;\n",
       "  text-decoration: none !important;\n",
       "  margin-left: 1ex;\n",
       "  /* unfitted */\n",
       "  border: var(--sklearn-color-unfitted-level-1) 1pt solid;\n",
       "  color: var(--sklearn-color-unfitted-level-1);\n",
       "}\n",
       "\n",
       ".sk-estimator-doc-link.fitted,\n",
       "a:link.sk-estimator-doc-link.fitted,\n",
       "a:visited.sk-estimator-doc-link.fitted {\n",
       "  /* fitted */\n",
       "  border: var(--sklearn-color-fitted-level-1) 1pt solid;\n",
       "  color: var(--sklearn-color-fitted-level-1);\n",
       "}\n",
       "\n",
       "/* On hover */\n",
       "div.sk-estimator:hover .sk-estimator-doc-link:hover,\n",
       ".sk-estimator-doc-link:hover,\n",
       "div.sk-label-container:hover .sk-estimator-doc-link:hover,\n",
       ".sk-estimator-doc-link:hover {\n",
       "  /* unfitted */\n",
       "  background-color: var(--sklearn-color-unfitted-level-3);\n",
       "  color: var(--sklearn-color-background);\n",
       "  text-decoration: none;\n",
       "}\n",
       "\n",
       "div.sk-estimator.fitted:hover .sk-estimator-doc-link.fitted:hover,\n",
       ".sk-estimator-doc-link.fitted:hover,\n",
       "div.sk-label-container:hover .sk-estimator-doc-link.fitted:hover,\n",
       ".sk-estimator-doc-link.fitted:hover {\n",
       "  /* fitted */\n",
       "  background-color: var(--sklearn-color-fitted-level-3);\n",
       "  color: var(--sklearn-color-background);\n",
       "  text-decoration: none;\n",
       "}\n",
       "\n",
       "/* Span, style for the box shown on hovering the info icon */\n",
       ".sk-estimator-doc-link span {\n",
       "  display: none;\n",
       "  z-index: 9999;\n",
       "  position: relative;\n",
       "  font-weight: normal;\n",
       "  right: .2ex;\n",
       "  padding: .5ex;\n",
       "  margin: .5ex;\n",
       "  width: min-content;\n",
       "  min-width: 20ex;\n",
       "  max-width: 50ex;\n",
       "  color: var(--sklearn-color-text);\n",
       "  box-shadow: 2pt 2pt 4pt #999;\n",
       "  /* unfitted */\n",
       "  background: var(--sklearn-color-unfitted-level-0);\n",
       "  border: .5pt solid var(--sklearn-color-unfitted-level-3);\n",
       "}\n",
       "\n",
       ".sk-estimator-doc-link.fitted span {\n",
       "  /* fitted */\n",
       "  background: var(--sklearn-color-fitted-level-0);\n",
       "  border: var(--sklearn-color-fitted-level-3);\n",
       "}\n",
       "\n",
       ".sk-estimator-doc-link:hover span {\n",
       "  display: block;\n",
       "}\n",
       "\n",
       "/* \"?\"-specific style due to the `<a>` HTML tag */\n",
       "\n",
       "#sk-container-id-1 a.estimator_doc_link {\n",
       "  float: right;\n",
       "  font-size: 1rem;\n",
       "  line-height: 1em;\n",
       "  font-family: monospace;\n",
       "  background-color: var(--sklearn-color-background);\n",
       "  border-radius: 1rem;\n",
       "  height: 1rem;\n",
       "  width: 1rem;\n",
       "  text-decoration: none;\n",
       "  /* unfitted */\n",
       "  color: var(--sklearn-color-unfitted-level-1);\n",
       "  border: var(--sklearn-color-unfitted-level-1) 1pt solid;\n",
       "}\n",
       "\n",
       "#sk-container-id-1 a.estimator_doc_link.fitted {\n",
       "  /* fitted */\n",
       "  border: var(--sklearn-color-fitted-level-1) 1pt solid;\n",
       "  color: var(--sklearn-color-fitted-level-1);\n",
       "}\n",
       "\n",
       "/* On hover */\n",
       "#sk-container-id-1 a.estimator_doc_link:hover {\n",
       "  /* unfitted */\n",
       "  background-color: var(--sklearn-color-unfitted-level-3);\n",
       "  color: var(--sklearn-color-background);\n",
       "  text-decoration: none;\n",
       "}\n",
       "\n",
       "#sk-container-id-1 a.estimator_doc_link.fitted:hover {\n",
       "  /* fitted */\n",
       "  background-color: var(--sklearn-color-fitted-level-3);\n",
       "}\n",
       "</style><div id=\"sk-container-id-1\" class=\"sk-top-container\"><div class=\"sk-text-repr-fallback\"><pre>LinearRegression(copy_X=False, n_jobs=5)</pre><b>In a Jupyter environment, please rerun this cell to show the HTML representation or trust the notebook. <br />On GitHub, the HTML representation is unable to render, please try loading this page with nbviewer.org.</b></div><div class=\"sk-container\" hidden><div class=\"sk-item\"><div class=\"sk-estimator fitted sk-toggleable\"><input class=\"sk-toggleable__control sk-hidden--visually\" id=\"sk-estimator-id-1\" type=\"checkbox\" checked><label for=\"sk-estimator-id-1\" class=\"sk-toggleable__label fitted sk-toggleable__label-arrow fitted\">&nbsp;&nbsp;LinearRegression<a class=\"sk-estimator-doc-link fitted\" rel=\"noreferrer\" target=\"_blank\" href=\"https://scikit-learn.org/1.4/modules/generated/sklearn.linear_model.LinearRegression.html\">?<span>Documentation for LinearRegression</span></a><span class=\"sk-estimator-doc-link fitted\">i<span>Fitted</span></span></label><div class=\"sk-toggleable__content fitted\"><pre>LinearRegression(copy_X=False, n_jobs=5)</pre></div> </div></div></div></div>"
      ],
      "text/plain": [
       "LinearRegression(copy_X=False, n_jobs=5)"
      ]
     },
     "execution_count": 5,
     "metadata": {},
     "output_type": "execute_result"
    }
   ],
   "source": [
    "lr = LinearRegression(fit_intercept = True, n_jobs = 5, copy_X = False, positive = False)\n",
    "lr.fit(X_train, y_train)"
   ]
  },
  {
   "cell_type": "code",
   "execution_count": 6,
   "id": "d8c5ce80",
   "metadata": {
    "execution": {
     "iopub.execute_input": "2024-07-17T09:23:32.770866Z",
     "iopub.status.busy": "2024-07-17T09:23:32.770458Z",
     "iopub.status.idle": "2024-07-17T09:23:32.776311Z",
     "shell.execute_reply": "2024-07-17T09:23:32.775160Z"
    },
    "papermill": {
     "duration": 0.02679,
     "end_time": "2024-07-17T09:23:32.779145",
     "exception": false,
     "start_time": "2024-07-17T09:23:32.752355",
     "status": "completed"
    },
    "tags": []
   },
   "outputs": [
    {
     "name": "stdout",
     "output_type": "stream",
     "text": [
      "[945.61313607]\n",
      "150.73681754198003\n"
     ]
    }
   ],
   "source": [
    "print(lr.coef_)\n",
    "print(lr.intercept_)"
   ]
  },
  {
   "cell_type": "code",
   "execution_count": 8,
   "id": "c2c899d6",
   "metadata": {
    "execution": {
     "iopub.execute_input": "2024-07-17T09:23:32.846946Z",
     "iopub.status.busy": "2024-07-17T09:23:32.846546Z",
     "iopub.status.idle": "2024-07-17T09:23:33.202410Z",
     "shell.execute_reply": "2024-07-17T09:23:33.200097Z"
    },
    "papermill": {
     "duration": 0.378956,
     "end_time": "2024-07-17T09:23:33.207709",
     "exception": false,
     "start_time": "2024-07-17T09:23:32.828753",
     "status": "completed"
    },
    "tags": []
   },
   "outputs": [
    {
     "data": {
      "image/png": "[encoded data removed]",
      "text/plain": [
       "<Figure size 1300x700 with 1 Axes>"
      ]
     },
     "metadata": {},
     "output_type": "display_data"
    }
   ],
   "source": [
    "plt.figure(figsize = (13,7))\n",
    "plt.scatter(X_train, y_train, alpha = 0.6)\n",
    "plt.plot(X_train, lr.coef_[0] * X_train + lr.intercept_, color = 'red', label = 'Best Fit Line')\n",
    "plt.legend(loc = 'upper left')\n",
    "plt.title(\"Linear Regression using sklearn class\")\n",
    "plt.xlabel('Input')\n",
    "plt.ylabel('Target')\n",
    "plt.show()"
   ]
  },
  {
   "cell_type": "code",
   "execution_count": 9,
   "id": "24c0f780",
   "metadata": {
    "execution": {
     "iopub.execute_input": "2024-07-17T09:23:33.285604Z",
     "iopub.status.busy": "2024-07-17T09:23:33.285189Z",
     "iopub.status.idle": "2024-07-17T09:23:33.290582Z",
     "shell.execute_reply": "2024-07-17T09:23:33.289457Z"
    },
    "papermill": {
     "duration": 0.026028,
     "end_time": "2024-07-17T09:23:33.292896",
     "exception": false,
     "start_time": "2024-07-17T09:23:33.266868",
     "status": "completed"
    },
    "tags": []
   },
   "outputs": [
    {
     "data": {
      "text/plain": [
       "0.22527786743609446"
      ]
     },
     "execution_count": 9,
     "metadata": {},
     "output_type": "execute_result"
    }
   ],
   "source": [
    "y_pred = lr.predict(X_test)\n",
    "r2_score(y_test, y_pred)"
   ]
  },
  {
   "cell_type": "markdown",
   "id": "75c724a8",
   "metadata": {},
   "source": [
    "<hr>"
   ]
  },
  {
   "cell_type": "markdown",
   "id": "6a72bf02",
   "metadata": {
    "papermill": {
     "duration": 0.017062,
     "end_time": "2024-07-17T09:23:33.379468",
     "exception": false,
     "start_time": "2024-07-17T09:23:33.362406",
     "status": "completed"
    },
    "tags": []
   },
   "source": [
    "> # **Creating LinearRegression Class**"
   ]
  },
  {
   "cell_type": "code",
   "execution_count": 10,
   "id": "f70d3de7",
   "metadata": {
    "execution": {
     "iopub.execute_input": "2024-07-17T09:23:33.418312Z",
     "iopub.status.busy": "2024-07-17T09:23:33.417571Z",
     "iopub.status.idle": "2024-07-17T09:23:33.426992Z",
     "shell.execute_reply": "2024-07-17T09:23:33.425865Z"
    },
    "papermill": {
     "duration": 0.030631,
     "end_time": "2024-07-17T09:23:33.429452",
     "exception": false,
     "start_time": "2024-07-17T09:23:33.398821",
     "status": "completed"
    },
    "tags": []
   },
   "outputs": [],
   "source": [
    "class LinearRegression:\n",
    "    def __init__(self) -> None:\n",
    "        self.m = None\n",
    "        self.b = None\n",
    "\n",
    "    def fit(self, X_train, y_train):\n",
    "        X_train = X_train.ravel()\n",
    "        # slope(m) calculation - OLS\n",
    "        self.m = ((X_train - X_train.mean()) * (y_train - y_train.mean())).sum() / ((X_train - X_train.mean()) ** 2).sum()\n",
    "\n",
    "        # y-intercept(b) calculation - OLS\n",
    "        self.b = y_train.mean() - (self.m * X_train.mean())\n",
    "\n",
    "    def predict(self, X_test):\n",
    "        predicted_values = (self.m * X_test) + self.b\n",
    "        return predicted_values"
   ]
  },
  {
   "cell_type": "code",
   "execution_count": 11,
   "id": "c0967244",
   "metadata": {
    "execution": {
     "iopub.execute_input": "2024-07-17T09:23:33.466277Z",
     "iopub.status.busy": "2024-07-17T09:23:33.465452Z",
     "iopub.status.idle": "2024-07-17T09:23:33.470699Z",
     "shell.execute_reply": "2024-07-17T09:23:33.469535Z"
    },
    "papermill": {
     "duration": 0.026328,
     "end_time": "2024-07-17T09:23:33.473010",
     "exception": false,
     "start_time": "2024-07-17T09:23:33.446682",
     "status": "completed"
    },
    "tags": []
   },
   "outputs": [],
   "source": [
    "slr = LinearRegression()\n",
    "slr.fit(X_train, y_train)"
   ]
  },
  {
   "cell_type": "code",
   "execution_count": 12,
   "id": "2d5acb4e",
   "metadata": {
    "execution": {
     "iopub.execute_input": "2024-07-17T09:23:33.544690Z",
     "iopub.status.busy": "2024-07-17T09:23:33.543624Z",
     "iopub.status.idle": "2024-07-17T09:23:33.549603Z",
     "shell.execute_reply": "2024-07-17T09:23:33.548475Z"
    },
    "papermill": {
     "duration": 0.02704,
     "end_time": "2024-07-17T09:23:33.551863",
     "exception": false,
     "start_time": "2024-07-17T09:23:33.524823",
     "status": "completed"
    },
    "tags": []
   },
   "outputs": [
    {
     "name": "stdout",
     "output_type": "stream",
     "text": [
      "945.6131360690342\n",
      "150.45892351274787\n"
     ]
    }
   ],
   "source": [
    "print(slr.m)\n",
    "print(slr.b)"
   ]
  },
  {
   "cell_type": "code",
   "execution_count": 13,
   "id": "de2fda2a",
   "metadata": {
    "execution": {
     "iopub.execute_input": "2024-07-17T09:23:33.623440Z",
     "iopub.status.busy": "2024-07-17T09:23:33.622604Z",
     "iopub.status.idle": "2024-07-17T09:23:33.895025Z",
     "shell.execute_reply": "2024-07-17T09:23:33.893901Z"
    },
    "papermill": {
     "duration": 0.293964,
     "end_time": "2024-07-17T09:23:33.897478",
     "exception": false,
     "start_time": "2024-07-17T09:23:33.603514",
     "status": "completed"
    },
    "tags": []
   },
   "outputs": [
    {
     "data": {
      "image/png": "[encoded data removed]",
      "text/plain": [
       "<Figure size 1300x500 with 1 Axes>"
      ]
     },
     "metadata": {},
     "output_type": "display_data"
    }
   ],
   "source": [
    "plt.figure(figsize = (13,5))\n",
    "plt.scatter(X_train, y_train, alpha = 0.6)\n",
    "plt.plot(X_train, slr.m * X_train + slr.b, color = 'red', label = 'Best Fit Line')\n",
    "plt.legend(loc = 'upper left')\n",
    "plt.title(\"Linear Regression using our own class\")\n",
    "plt.xlabel('Input')\n",
    "plt.ylabel('Target')\n",
    "plt.show()"
   ]
  },
  {
   "cell_type": "code",
   "execution_count": 14,
   "id": "7ce11a8d",
   "metadata": {
    "execution": {
     "iopub.execute_input": "2024-07-17T09:23:33.936635Z",
     "iopub.status.busy": "2024-07-17T09:23:33.936233Z",
     "iopub.status.idle": "2024-07-17T09:23:33.941803Z",
     "shell.execute_reply": "2024-07-17T09:23:33.940505Z"
    },
    "papermill": {
     "duration": 0.028138,
     "end_time": "2024-07-17T09:23:33.944042",
     "exception": false,
     "start_time": "2024-07-17T09:23:33.915904",
     "status": "completed"
    },
    "tags": []
   },
   "outputs": [],
   "source": [
    "y_pred = slr.predict(X_test)"
   ]
  },
  {
   "cell_type": "markdown",
   "id": "3fc7b1f6",
   "metadata": {},
   "source": [
    "<hr>"
   ]
  },
  {
   "cell_type": "markdown",
   "id": "ddcfaf0e",
   "metadata": {
    "papermill": {
     "duration": 0.020324,
     "end_time": "2024-07-17T09:23:33.983646",
     "exception": false,
     "start_time": "2024-07-17T09:23:33.963322",
     "status": "completed"
    },
    "tags": []
   },
   "source": [
    "> # **Regression Metrics**\n",
    "> - mean_absolute_error\n",
    "> - mean_squared_error\n",
    "> - root_mean_squared_error\n",
    "> - r2_score\n",
    "> - adjusted_r2_score = 1 - [(1 - r2_score) * (n - 1) / (n - 1 - k)] where (n = no.rows, k = no. input columns)"
   ]
  },
  {
   "cell_type": "code",
   "execution_count": 15,
   "id": "5e552675",
   "metadata": {
    "execution": {
     "iopub.execute_input": "2024-07-17T09:23:34.023045Z",
     "iopub.status.busy": "2024-07-17T09:23:34.022642Z",
     "iopub.status.idle": "2024-07-17T09:23:34.032701Z",
     "shell.execute_reply": "2024-07-17T09:23:34.031364Z"
    },
    "papermill": {
     "duration": 0.032262,
     "end_time": "2024-07-17T09:23:34.034845",
     "exception": false,
     "start_time": "2024-07-17T09:23:34.002583",
     "status": "completed"
    },
    "tags": []
   },
   "outputs": [
    {
     "name": "stdout",
     "output_type": "stream",
     "text": [
      "53.71962384600614\n",
      "4284.398362580762\n",
      "65.45531577023185\n",
      "0.22456615766413313\n",
      "0.2156531249936059\n"
     ]
    }
   ],
   "source": [
    "mae = mean_absolute_error(y_test, y_pred)\n",
    "mse = mean_squared_error(y_test, y_pred)\n",
    "rmse = np.sqrt(mean_squared_error(y_test, y_pred))\n",
    "r2 = r2_score(y_test, y_pred)\n",
    "adj_r2 = 1 - (((1 - r2) * (y_test.shape[0] - 1)) / (y_test.shape[0] - 1 - 1))\n",
    "\n",
    "print(mae, mse, rmse, r2, adj_r2, sep = '\\n')"
   ]
  }
 ],
 "metadata": {
  "kaggle": {
   "accelerator": "none",
   "dataSources": [],
   "dockerImageVersionId": 30732,
   "isGpuEnabled": false,
   "isInternetEnabled": true,
   "language": "python",
   "sourceType": "notebook"
  },
  "kernelspec": {
   "display_name": "Python 3",
   "language": "python",
   "name": "python3"
  },
  "language_info": {
   "codemirror_mode": {
    "name": "ipython",
    "version": 3
   },
   "file_extension": ".py",
   "mimetype": "text/x-python",
   "name": "python",
   "nbconvert_exporter": "python",
   "pygments_lexer": "ipython3",
   "version": "3.12.2"
  },
  "papermill": {
   "default_parameters": {},
   "duration": 9.830187,
   "end_time": "2024-07-17T09:23:35.576619",
   "environment_variables": {},
   "exception": null,
   "input_path": "__notebook__.ipynb",
   "output_path": "__notebook__.ipynb",
   "parameters": {},
   "start_time": "2024-07-17T09:23:25.746432",
   "version": "2.5.0"
  }
 },
 "nbformat": 4,
 "nbformat_minor": 5
}
