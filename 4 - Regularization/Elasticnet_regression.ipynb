{
 "cells": [
  {
   "cell_type": "markdown",
   "metadata": {},
   "source": [
    "> # **ElasticNet Regression**\n",
    "> `Elastic Net Regression` is a regularized linear regression technique that combines the benefits of Lasso (L1 penalty) and Ridge (L2 penalty) regression. It addresses the limitations of both methods and is particularly useful for `high-dimensional datasets`.\n",
    "> - `Penalty terms`: Elastic Net Regression adds two penalty terms to the standard least-squares objective function: L1 (Lasso) and L2 (Ridge) norms of the coefficient vector. These penalties are controlled by hyperparameters alpha (L1) and lambda (L2).\n",
    "> - `Feature selection and shrinkage`: The L1 term performs feature selection by setting coefficients to zero (sparse solution), while the L2 term performs feature shrinkage by pulling coefficients toward zero.\n",
    "> - `Combination of Lasso and Ridge`: Elastic Net Regression combines the strengths of both Lasso and Ridge regression, `allowing it to handle multicollinearity and overfitting`."
   ]
  },
  {
   "cell_type": "code",
   "execution_count": 4,
   "metadata": {},
   "outputs": [],
   "source": [
    "import numpy as np\n",
    "from sklearn.datasets import load_diabetes\n",
    "from sklearn.metrics import r2_score\n",
    "from sklearn.model_selection import train_test_split"
   ]
  },
  {
   "cell_type": "code",
   "execution_count": 3,
   "metadata": {},
   "outputs": [],
   "source": [
    "X, y = load_diabetes(return_X_y=True)\n",
    "X_train, X_test, y_train, y_test = train_test_split(X, y, test_size=0.2, random_state=42)"
   ]
  },
  {
   "attachments": {
    "image.png": {
     "image/png": "[encoded data removed]"
    }
   },
   "cell_type": "markdown",
   "metadata": {},
   "source": [
    "> ### ElasticNet Regression using `Gradient Descent`\n",
    "> ![image.png](attachment:image.png)"
   ]
  },
  {
   "cell_type": "code",
   "execution_count": 17,
   "metadata": {},
   "outputs": [],
   "source": [
    "class ElasticNet:\n",
    "    def __init__(self, lr, epochs, alpha, r) -> None:\n",
    "        self.coef_ = None\n",
    "        self.intercept_ = None\n",
    "        self.lr = lr\n",
    "        self.epochs = epochs\n",
    "        self.alpha = alpha\n",
    "        self.r = r\n",
    "    \n",
    "    def fit(self, X_train, y_train):\n",
    "        # Convert to numpy arrays\n",
    "        X_train, y_train = np.array(X_train), np.array(y_train).reshape(-1, 1)\n",
    "\n",
    "        # Initialize parameters\n",
    "        self.coef_ = np.zeros((X_train.shape[1], 1))\n",
    "        self.intercept_ = 0\n",
    "\n",
    "        # Gradient Descent\n",
    "        m = X_train.shape[0]  # Number of samples\n",
    "\n",
    "        for _ in range(self.epochs):\n",
    "            # Compute predictions - (n * 1)\n",
    "            y_hat = np.dot(X_train, self.coef_) + self.intercept_\n",
    "\n",
    "            # Compute gradients\n",
    "            gradient_coefficients = ((-2/m) * np.dot(X_train.T,  y_train - y_hat)) + (self.r * self.alpha * np.sign(self.coef_)) + ((1-self.r) * (2 * self.alpha) * (self.coef_))\n",
    "            gradient_intercept = (-2/m) * np.sum(y_train - y_hat)\n",
    "\n",
    "            # Update coefficients\n",
    "            self.coef_ -= self.lr * gradient_coefficients\n",
    "            self.intercept_ -= self.lr * gradient_intercept\n",
    "\n",
    "    def predict(self, X_train):\n",
    "        return np.dot(X_train, self.coef_) + self.intercept_"
   ]
  },
  {
   "cell_type": "code",
   "execution_count": 25,
   "metadata": {},
   "outputs": [
    {
     "data": {
      "text/plain": [
       "0.45479016666038985"
      ]
     },
     "execution_count": 25,
     "metadata": {},
     "output_type": "execute_result"
    }
   ],
   "source": [
    "model = ElasticNet(lr = 0.1, epochs = 5000, alpha = 0.01, r = 0.9)\n",
    "model.fit(X_train, y_train)\n",
    "y_pred = model.predict(X_test)\n",
    "r2_score(y_test, y_pred)"
   ]
  },
  {
   "cell_type": "markdown",
   "metadata": {},
   "source": [
    "<hr>"
   ]
  },
  {
   "cell_type": "markdown",
   "metadata": {},
   "source": [
    "> ### ElasticNet Regression - `sklearn`\n",
    "> Hyperpapameters\n",
    "> - `alpha`: a + b\n",
    "> - `l1_ratio`: a / a + b : if this greater than 0.5 then ridge dominates, if less than 0.5 Lasso dominates"
   ]
  },
  {
   "cell_type": "code",
   "execution_count": 28,
   "metadata": {},
   "outputs": [
    {
     "data": {
      "text/plain": [
       "0.4614452306964123"
      ]
     },
     "execution_count": 28,
     "metadata": {},
     "output_type": "execute_result"
    }
   ],
   "source": [
    "from sklearn.linear_model import ElasticNet\n",
    "\n",
    "model = ElasticNet(alpha= 0.001, l1_ratio=0.5, max_iter=5000)\n",
    "model.fit(X_train, y_train)\n",
    "y_pred = model.predict(X_test)\n",
    "r2_score(y_test, y_pred)"
   ]
  },
  {
   "cell_type": "code",
   "execution_count": 35,
   "metadata": {},
   "outputs": [
    {
     "data": {
      "text/plain": [
       "0.4390301802173915"
      ]
     },
     "execution_count": 35,
     "metadata": {},
     "output_type": "execute_result"
    }
   ],
   "source": [
    "from sklearn.linear_model import SGDRegressor\n",
    "\n",
    "model = SGDRegressor(penalty='elasticnet', alpha=0.01,  eta0 = 0.1, l1_ratio=0.9, max_iter=5000)\n",
    "model.fit(X_train, y_train)\n",
    "y_pred = model.predict(X_test)\n",
    "r2_score(y_test, y_pred)"
   ]
  },
  {
   "cell_type": "markdown",
   "metadata": {},
   "source": [
    "> Use `GridSearchCV()` for hyperparameter tuning"
   ]
  }
 ],
 "metadata": {
  "kernelspec": {
   "display_name": "Python 3",
   "language": "python",
   "name": "python3"
  },
  "language_info": {
   "codemirror_mode": {
    "name": "ipython",
    "version": 3
   },
   "file_extension": ".py",
   "mimetype": "text/x-python",
   "name": "python",
   "nbconvert_exporter": "python",
   "pygments_lexer": "ipython3",
   "version": "3.12.2"
  }
 },
 "nbformat": 4,
 "nbformat_minor": 2
}
