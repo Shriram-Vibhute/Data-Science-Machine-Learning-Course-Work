{
 "cells": [
  {
   "cell_type": "markdown",
   "metadata": {},
   "source": [
    "# Feature Scalling"
   ]
  },
  {
   "cell_type": "code",
   "execution_count": 1,
   "metadata": {},
   "outputs": [
    {
     "name": "stdout",
     "output_type": "stream",
     "text": [
      "[[-1.18321596 -1.18321596]\n",
      " [-0.50709255 -0.50709255]\n",
      " [ 0.16903085  0.16903085]\n",
      " [ 1.52127766  1.52127766]]\n"
     ]
    }
   ],
   "source": [
    "from sklearn.preprocessing import StandardScaler\n",
    "\n",
    "# Sample data\n",
    "data = [[-1, 2], [-0.5, 6], [0, 10], [1, 18]]\n",
    "# Initialize the StandardScaler\n",
    "scaler = StandardScaler()\n",
    "# Fit and transform the data\n",
    "scaled_data = scaler.fit_transform(data) # Provide the answer in the form of numpy array\n",
    "# Print the scaled data\n",
    "print(scaled_data)"
   ]
  },
  {
   "cell_type": "code",
   "execution_count": 6,
   "metadata": {},
   "outputs": [
    {
     "data": {
      "text/html": [
       "<div>\n",
       "<style scoped>\n",
       "    .dataframe tbody tr th:only-of-type {\n",
       "        vertical-align: middle;\n",
       "    }\n",
       "\n",
       "    .dataframe tbody tr th {\n",
       "        vertical-align: top;\n",
       "    }\n",
       "\n",
       "    .dataframe thead th {\n",
       "        text-align: right;\n",
       "    }\n",
       "</style>\n",
       "<table border=\"1\" class=\"dataframe\">\n",
       "  <thead>\n",
       "    <tr style=\"text-align: right;\">\n",
       "      <th></th>\n",
       "      <th>A</th>\n",
       "      <th>B</th>\n",
       "      <th>C</th>\n",
       "    </tr>\n",
       "  </thead>\n",
       "  <tbody>\n",
       "    <tr>\n",
       "      <th>0</th>\n",
       "      <td>-1.414214</td>\n",
       "      <td>-1.414214</td>\n",
       "      <td>-1.414214</td>\n",
       "    </tr>\n",
       "    <tr>\n",
       "      <th>1</th>\n",
       "      <td>-0.707107</td>\n",
       "      <td>-0.707107</td>\n",
       "      <td>-0.707107</td>\n",
       "    </tr>\n",
       "    <tr>\n",
       "      <th>2</th>\n",
       "      <td>0.000000</td>\n",
       "      <td>0.000000</td>\n",
       "      <td>0.000000</td>\n",
       "    </tr>\n",
       "    <tr>\n",
       "      <th>3</th>\n",
       "      <td>0.707107</td>\n",
       "      <td>0.707107</td>\n",
       "      <td>0.707107</td>\n",
       "    </tr>\n",
       "    <tr>\n",
       "      <th>4</th>\n",
       "      <td>1.414214</td>\n",
       "      <td>1.414214</td>\n",
       "      <td>1.414214</td>\n",
       "    </tr>\n",
       "  </tbody>\n",
       "</table>\n",
       "</div>"
      ],
      "text/plain": [
       "          A         B         C\n",
       "0 -1.414214 -1.414214 -1.414214\n",
       "1 -0.707107 -0.707107 -0.707107\n",
       "2  0.000000  0.000000  0.000000\n",
       "3  0.707107  0.707107  0.707107\n",
       "4  1.414214  1.414214  1.414214"
      ]
     },
     "execution_count": 6,
     "metadata": {},
     "output_type": "execute_result"
    }
   ],
   "source": [
    "import pandas as pd\n",
    "df = pd.DataFrame(\n",
    "    {\n",
    "        \"A\": [1, 2, 3, 4, 5],\n",
    "        \"B\": [6, 7, 8, 9, 10],\n",
    "        \"C\": [11, 12, 13, 14, 15],\n",
    "    }\n",
    ")\n",
    "scaler = StandardScaler()\n",
    "pd.DataFrame(scaler.fit_transform(df), columns=df.columns)"
   ]
  },
  {
   "cell_type": "code",
   "execution_count": 10,
   "metadata": {},
   "outputs": [
    {
     "data": {
      "text/plain": [
       "array([[0.  , 0.  , 0.  ],\n",
       "       [0.25, 0.25, 0.25],\n",
       "       [0.5 , 0.5 , 0.5 ],\n",
       "       [0.75, 0.75, 0.75],\n",
       "       [1.  , 1.  , 1.  ]])"
      ]
     },
     "execution_count": 10,
     "metadata": {},
     "output_type": "execute_result"
    }
   ],
   "source": [
    "from sklearn.preprocessing import MinMaxScaler\n",
    "\n",
    "scaler = MinMaxScaler()\n",
    "from sklearn.pipeline import Pipeline\n",
    "\n",
    "plp = Pipeline([\n",
    "    ('scaler', scaler),\n",
    "])\n",
    "plp.fit_transform(df).round(decimals = 2)"
   ]
  },
  {
   "cell_type": "code",
   "execution_count": 16,
   "metadata": {},
   "outputs": [
    {
     "data": {
      "text/html": [
       "<div>\n",
       "<style scoped>\n",
       "    .dataframe tbody tr th:only-of-type {\n",
       "        vertical-align: middle;\n",
       "    }\n",
       "\n",
       "    .dataframe tbody tr th {\n",
       "        vertical-align: top;\n",
       "    }\n",
       "\n",
       "    .dataframe thead th {\n",
       "        text-align: right;\n",
       "    }\n",
       "</style>\n",
       "<table border=\"1\" class=\"dataframe\">\n",
       "  <thead>\n",
       "    <tr style=\"text-align: right;\">\n",
       "      <th></th>\n",
       "      <th>A</th>\n",
       "      <th>B</th>\n",
       "      <th>C</th>\n",
       "    </tr>\n",
       "  </thead>\n",
       "  <tbody>\n",
       "    <tr>\n",
       "      <th>0</th>\n",
       "      <td>-0.50</td>\n",
       "      <td>-0.50</td>\n",
       "      <td>-0.50</td>\n",
       "    </tr>\n",
       "    <tr>\n",
       "      <th>1</th>\n",
       "      <td>-0.25</td>\n",
       "      <td>-0.25</td>\n",
       "      <td>-0.25</td>\n",
       "    </tr>\n",
       "    <tr>\n",
       "      <th>2</th>\n",
       "      <td>0.00</td>\n",
       "      <td>0.00</td>\n",
       "      <td>0.00</td>\n",
       "    </tr>\n",
       "    <tr>\n",
       "      <th>3</th>\n",
       "      <td>0.25</td>\n",
       "      <td>0.25</td>\n",
       "      <td>0.25</td>\n",
       "    </tr>\n",
       "    <tr>\n",
       "      <th>4</th>\n",
       "      <td>0.50</td>\n",
       "      <td>0.50</td>\n",
       "      <td>0.50</td>\n",
       "    </tr>\n",
       "  </tbody>\n",
       "</table>\n",
       "</div>"
      ],
      "text/plain": [
       "      A     B     C\n",
       "0 -0.50 -0.50 -0.50\n",
       "1 -0.25 -0.25 -0.25\n",
       "2  0.00  0.00  0.00\n",
       "3  0.25  0.25  0.25\n",
       "4  0.50  0.50  0.50"
      ]
     },
     "execution_count": 16,
     "metadata": {},
     "output_type": "execute_result"
    }
   ],
   "source": [
    "from sklearn.preprocessing import FunctionTransformer\n",
    "import numpy as np\n",
    "\n",
    "def mean_normalization(X):\n",
    "    return (X - np.mean(X, axis=0)) / (np.max(X, axis=0) - np.min(X, axis=0))\n",
    "\n",
    "mean_normalizer = FunctionTransformer(mean_normalization)\n",
    "# Custom transformer to normalize the data using the mean normalization method as there is no such direct method in scikit-learn library.\n",
    "\n",
    "# Apply mean normalization\n",
    "mean_normalizer.fit_transform(df) # The output is in the form of dataform only"
   ]
  },
  {
   "cell_type": "code",
   "execution_count": 17,
   "metadata": {},
   "outputs": [
    {
     "data": {
      "text/html": [
       "<div>\n",
       "<style scoped>\n",
       "    .dataframe tbody tr th:only-of-type {\n",
       "        vertical-align: middle;\n",
       "    }\n",
       "\n",
       "    .dataframe tbody tr th {\n",
       "        vertical-align: top;\n",
       "    }\n",
       "\n",
       "    .dataframe thead th {\n",
       "        text-align: right;\n",
       "    }\n",
       "</style>\n",
       "<table border=\"1\" class=\"dataframe\">\n",
       "  <thead>\n",
       "    <tr style=\"text-align: right;\">\n",
       "      <th></th>\n",
       "      <th>A</th>\n",
       "      <th>B</th>\n",
       "      <th>C</th>\n",
       "    </tr>\n",
       "  </thead>\n",
       "  <tbody>\n",
       "    <tr>\n",
       "      <th>0</th>\n",
       "      <td>0.2</td>\n",
       "      <td>0.6</td>\n",
       "      <td>0.733333</td>\n",
       "    </tr>\n",
       "    <tr>\n",
       "      <th>1</th>\n",
       "      <td>0.4</td>\n",
       "      <td>0.7</td>\n",
       "      <td>0.800000</td>\n",
       "    </tr>\n",
       "    <tr>\n",
       "      <th>2</th>\n",
       "      <td>0.6</td>\n",
       "      <td>0.8</td>\n",
       "      <td>0.866667</td>\n",
       "    </tr>\n",
       "    <tr>\n",
       "      <th>3</th>\n",
       "      <td>0.8</td>\n",
       "      <td>0.9</td>\n",
       "      <td>0.933333</td>\n",
       "    </tr>\n",
       "    <tr>\n",
       "      <th>4</th>\n",
       "      <td>1.0</td>\n",
       "      <td>1.0</td>\n",
       "      <td>1.000000</td>\n",
       "    </tr>\n",
       "  </tbody>\n",
       "</table>\n",
       "</div>"
      ],
      "text/plain": [
       "     A    B         C\n",
       "0  0.2  0.6  0.733333\n",
       "1  0.4  0.7  0.800000\n",
       "2  0.6  0.8  0.866667\n",
       "3  0.8  0.9  0.933333\n",
       "4  1.0  1.0  1.000000"
      ]
     },
     "execution_count": 17,
     "metadata": {},
     "output_type": "execute_result"
    }
   ],
   "source": [
    "from sklearn.preprocessing import MaxAbsScaler\n",
    "\n",
    "scaler = MaxAbsScaler()\n",
    "max_abs_scaled_data = scaler.fit_transform(df)\n",
    "pd.DataFrame(max_abs_scaled_data, columns=df.columns)"
   ]
  },
  {
   "cell_type": "code",
   "execution_count": 19,
   "metadata": {},
   "outputs": [
    {
     "data": {
      "text/html": [
       "<div>\n",
       "<style scoped>\n",
       "    .dataframe tbody tr th:only-of-type {\n",
       "        vertical-align: middle;\n",
       "    }\n",
       "\n",
       "    .dataframe tbody tr th {\n",
       "        vertical-align: top;\n",
       "    }\n",
       "\n",
       "    .dataframe thead th {\n",
       "        text-align: right;\n",
       "    }\n",
       "</style>\n",
       "<table border=\"1\" class=\"dataframe\">\n",
       "  <thead>\n",
       "    <tr style=\"text-align: right;\">\n",
       "      <th></th>\n",
       "      <th>A</th>\n",
       "      <th>B</th>\n",
       "      <th>C</th>\n",
       "    </tr>\n",
       "  </thead>\n",
       "  <tbody>\n",
       "    <tr>\n",
       "      <th>0</th>\n",
       "      <td>-1.0</td>\n",
       "      <td>-1.0</td>\n",
       "      <td>-1.0</td>\n",
       "    </tr>\n",
       "    <tr>\n",
       "      <th>1</th>\n",
       "      <td>-0.5</td>\n",
       "      <td>-0.5</td>\n",
       "      <td>-0.5</td>\n",
       "    </tr>\n",
       "    <tr>\n",
       "      <th>2</th>\n",
       "      <td>0.0</td>\n",
       "      <td>0.0</td>\n",
       "      <td>0.0</td>\n",
       "    </tr>\n",
       "    <tr>\n",
       "      <th>3</th>\n",
       "      <td>0.5</td>\n",
       "      <td>0.5</td>\n",
       "      <td>0.5</td>\n",
       "    </tr>\n",
       "    <tr>\n",
       "      <th>4</th>\n",
       "      <td>1.0</td>\n",
       "      <td>1.0</td>\n",
       "      <td>1.0</td>\n",
       "    </tr>\n",
       "  </tbody>\n",
       "</table>\n",
       "</div>"
      ],
      "text/plain": [
       "     A    B    C\n",
       "0 -1.0 -1.0 -1.0\n",
       "1 -0.5 -0.5 -0.5\n",
       "2  0.0  0.0  0.0\n",
       "3  0.5  0.5  0.5\n",
       "4  1.0  1.0  1.0"
      ]
     },
     "execution_count": 19,
     "metadata": {},
     "output_type": "execute_result"
    }
   ],
   "source": [
    "from sklearn.preprocessing import RobustScaler\n",
    "scaler = RobustScaler()\n",
    "pd.DataFrame(scaler.fit_transform(df), columns=df.columns)"
   ]
  },
  {
   "cell_type": "markdown",
   "metadata": {},
   "source": [
    "---"
   ]
  },
  {
   "cell_type": "markdown",
   "metadata": {},
   "source": [
    "# Feature Encoding"
   ]
  },
  {
   "cell_type": "code",
   "execution_count": 56,
   "metadata": {},
   "outputs": [],
   "source": [
    "from sklearn.preprocessing import OneHotEncoder\n",
    "import pandas as pd\n",
    "\n",
    "data = {\n",
    "    'multiclass_feature': ['A', 'B', 'C', 'A', 'B'],\n",
    "    'binary_feature': [0, 1, 0, 1, 0],\n",
    "    'numerical_feature_1': [3.0, 2.3, 3.1, 4.8, 5.6],\n",
    "    'numerical_feature_2': [7.1, 8.2, 9.3, 10.4, 11.5],\n",
    "    'output_multiclass': ['X', 'Y', 'X', 'Y', 'X'],\n",
    "    'output_for_OAT': [0, 1, 0, 1, 0],\n",
    "    'new_column': ['a', 'b', 'c', 'd', 'e']\n",
    "}\n",
    "\n",
    "df = pd.DataFrame(data)"
   ]
  },
  {
   "cell_type": "code",
   "execution_count": 34,
   "metadata": {},
   "outputs": [
    {
     "data": {
      "text/plain": [
       "array([[0., 0.],\n",
       "       [1., 0.],\n",
       "       [0., 1.],\n",
       "       [0., 0.],\n",
       "       [1., 0.]])"
      ]
     },
     "execution_count": 34,
     "metadata": {},
     "output_type": "execute_result"
    }
   ],
   "source": [
    "from sklearn.pipeline import make_pipeline\n",
    "\n",
    "encoder_pipeline = make_pipeline(\n",
    "    OneHotEncoder(max_categories = 3, drop='first')\n",
    ")\n",
    "\n",
    "encoder_pipeline.fit_transform(df[['multiclass_feature']]).toarray()\n",
    "# Return a numpy array and must pass 2D input in the from of dataframe"
   ]
  },
  {
   "cell_type": "code",
   "execution_count": 42,
   "metadata": {},
   "outputs": [
    {
     "data": {
      "text/plain": [
       "array([0, 1, 0, 1, 0])"
      ]
     },
     "execution_count": 42,
     "metadata": {},
     "output_type": "execute_result"
    }
   ],
   "source": [
    "from sklearn.preprocessing import LabelEncoder\n",
    "\n",
    "encoder = LabelEncoder()\n",
    "encoder.fit_transform(df['output_multiclass'])\n",
    "\n",
    "# Notes\n",
    "# This transformer should be used to encode target values, *i.e.* y, and not the input X.\n",
    "# The LabelEncoder does not work as a transformer in a pipeline because it expects a single array-like input, not a DataFrame. Instead, you should use it directly on the target values."
   ]
  },
  {
   "cell_type": "code",
   "execution_count": 46,
   "metadata": {},
   "outputs": [
    {
     "data": {
      "text/plain": [
       "array([[0.],\n",
       "       [1.],\n",
       "       [2.],\n",
       "       [0.],\n",
       "       [1.]])"
      ]
     },
     "execution_count": 46,
     "metadata": {},
     "output_type": "execute_result"
    }
   ],
   "source": [
    "from sklearn.preprocessing import OrdinalEncoder\n",
    "\n",
    "encoder_pipeline = make_pipeline(\n",
    "    OrdinalEncoder()\n",
    ")\n",
    "encoder_pipeline.fit_transform(df[['multiclass_feature']])"
   ]
  },
  {
   "cell_type": "code",
   "execution_count": 54,
   "metadata": {},
   "outputs": [
    {
     "data": {
      "text/html": [
       "<div>\n",
       "<style scoped>\n",
       "    .dataframe tbody tr th:only-of-type {\n",
       "        vertical-align: middle;\n",
       "    }\n",
       "\n",
       "    .dataframe tbody tr th {\n",
       "        vertical-align: top;\n",
       "    }\n",
       "\n",
       "    .dataframe thead th {\n",
       "        text-align: right;\n",
       "    }\n",
       "</style>\n",
       "<table border=\"1\" class=\"dataframe\">\n",
       "  <thead>\n",
       "    <tr style=\"text-align: right;\">\n",
       "      <th></th>\n",
       "      <th>multiclass_feature</th>\n",
       "    </tr>\n",
       "  </thead>\n",
       "  <tbody>\n",
       "    <tr>\n",
       "      <th>0</th>\n",
       "      <td>0.414185</td>\n",
       "    </tr>\n",
       "    <tr>\n",
       "      <th>1</th>\n",
       "      <td>0.414185</td>\n",
       "    </tr>\n",
       "    <tr>\n",
       "      <th>2</th>\n",
       "      <td>0.347957</td>\n",
       "    </tr>\n",
       "    <tr>\n",
       "      <th>3</th>\n",
       "      <td>0.414185</td>\n",
       "    </tr>\n",
       "    <tr>\n",
       "      <th>4</th>\n",
       "      <td>0.414185</td>\n",
       "    </tr>\n",
       "  </tbody>\n",
       "</table>\n",
       "</div>"
      ],
      "text/plain": [
       "   multiclass_feature\n",
       "0            0.414185\n",
       "1            0.414185\n",
       "2            0.347957\n",
       "3            0.414185\n",
       "4            0.414185"
      ]
     },
     "execution_count": 54,
     "metadata": {},
     "output_type": "execute_result"
    }
   ],
   "source": [
    "# The TargetEncoder is part of the category_encoders library, which provides various encoding techniques for categorical features.\n",
    "from category_encoders import TargetEncoder\n",
    "\n",
    "# Initialize the TargetEncoder\n",
    "target_encoder = TargetEncoder()\n",
    "\n",
    "# Fit and transform the multiclass feature using the target variable\n",
    "target_encoder.fit_transform(df['multiclass_feature'], df['output_for_OAT'])\n",
    "# The outputs are in the dataframe"
   ]
  },
  {
   "cell_type": "code",
   "execution_count": 65,
   "metadata": {},
   "outputs": [
    {
     "data": {
      "text/html": [
       "<div>\n",
       "<style scoped>\n",
       "    .dataframe tbody tr th:only-of-type {\n",
       "        vertical-align: middle;\n",
       "    }\n",
       "\n",
       "    .dataframe tbody tr th {\n",
       "        vertical-align: top;\n",
       "    }\n",
       "\n",
       "    .dataframe thead th {\n",
       "        text-align: right;\n",
       "    }\n",
       "</style>\n",
       "<table border=\"1\" class=\"dataframe\">\n",
       "  <thead>\n",
       "    <tr style=\"text-align: right;\">\n",
       "      <th></th>\n",
       "      <th>new_column_0</th>\n",
       "      <th>new_column_1</th>\n",
       "      <th>new_column_2</th>\n",
       "    </tr>\n",
       "  </thead>\n",
       "  <tbody>\n",
       "    <tr>\n",
       "      <th>0</th>\n",
       "      <td>0</td>\n",
       "      <td>0</td>\n",
       "      <td>1</td>\n",
       "    </tr>\n",
       "    <tr>\n",
       "      <th>1</th>\n",
       "      <td>0</td>\n",
       "      <td>1</td>\n",
       "      <td>0</td>\n",
       "    </tr>\n",
       "    <tr>\n",
       "      <th>2</th>\n",
       "      <td>0</td>\n",
       "      <td>1</td>\n",
       "      <td>1</td>\n",
       "    </tr>\n",
       "    <tr>\n",
       "      <th>3</th>\n",
       "      <td>1</td>\n",
       "      <td>0</td>\n",
       "      <td>0</td>\n",
       "    </tr>\n",
       "    <tr>\n",
       "      <th>4</th>\n",
       "      <td>1</td>\n",
       "      <td>0</td>\n",
       "      <td>1</td>\n",
       "    </tr>\n",
       "  </tbody>\n",
       "</table>\n",
       "</div>"
      ],
      "text/plain": [
       "   new_column_0  new_column_1  new_column_2\n",
       "0             0             0             1\n",
       "1             0             1             0\n",
       "2             0             1             1\n",
       "3             1             0             0\n",
       "4             1             0             1"
      ]
     },
     "execution_count": 65,
     "metadata": {},
     "output_type": "execute_result"
    }
   ],
   "source": [
    "from category_encoders import BinaryEncoder\n",
    "\n",
    "# Initialize the BinaryEncoder\n",
    "binary_encoder = BinaryEncoder()\n",
    "\n",
    "# Fit and transform the multiclass feature\n",
    "binary_encoder.fit_transform(df['new_column'])\n",
    "\n",
    "# If your contains N columns then it will abel to handle 2^N categories\n",
    "# The outputs are in the dataframe"
   ]
  },
  {
   "cell_type": "markdown",
   "metadata": {},
   "source": [
    "`category_encoders` contains all types of encoders which returns Dataframe as result"
   ]
  },
  {
   "cell_type": "markdown",
   "metadata": {},
   "source": [
    "---"
   ]
  },
  {
   "cell_type": "markdown",
   "metadata": {},
   "source": [
    "# Transformers"
   ]
  },
  {
   "cell_type": "code",
   "execution_count": 2,
   "metadata": {},
   "outputs": [
    {
     "data": {
      "text/html": [
       "<div>\n",
       "<style scoped>\n",
       "    .dataframe tbody tr th:only-of-type {\n",
       "        vertical-align: middle;\n",
       "    }\n",
       "\n",
       "    .dataframe tbody tr th {\n",
       "        vertical-align: top;\n",
       "    }\n",
       "\n",
       "    .dataframe thead th {\n",
       "        text-align: right;\n",
       "    }\n",
       "</style>\n",
       "<table border=\"1\" class=\"dataframe\">\n",
       "  <thead>\n",
       "    <tr style=\"text-align: right;\">\n",
       "      <th></th>\n",
       "      <th>multiclass_feature</th>\n",
       "      <th>binary_feature</th>\n",
       "      <th>numerical_feature_1</th>\n",
       "      <th>numerical_feature_2</th>\n",
       "      <th>output_multiclass</th>\n",
       "      <th>output_for_OAT</th>\n",
       "      <th>new_column</th>\n",
       "    </tr>\n",
       "  </thead>\n",
       "  <tbody>\n",
       "    <tr>\n",
       "      <th>0</th>\n",
       "      <td>A</td>\n",
       "      <td>0</td>\n",
       "      <td>1.2</td>\n",
       "      <td>7.1</td>\n",
       "      <td>X</td>\n",
       "      <td>0</td>\n",
       "      <td>a</td>\n",
       "    </tr>\n",
       "    <tr>\n",
       "      <th>1</th>\n",
       "      <td>B</td>\n",
       "      <td>1</td>\n",
       "      <td>2.3</td>\n",
       "      <td>8.2</td>\n",
       "      <td>Y</td>\n",
       "      <td>1</td>\n",
       "      <td>b</td>\n",
       "    </tr>\n",
       "    <tr>\n",
       "      <th>2</th>\n",
       "      <td>C</td>\n",
       "      <td>0</td>\n",
       "      <td>3.1</td>\n",
       "      <td>9.3</td>\n",
       "      <td>X</td>\n",
       "      <td>0</td>\n",
       "      <td>c</td>\n",
       "    </tr>\n",
       "    <tr>\n",
       "      <th>3</th>\n",
       "      <td>A</td>\n",
       "      <td>1</td>\n",
       "      <td>4.8</td>\n",
       "      <td>10.4</td>\n",
       "      <td>Y</td>\n",
       "      <td>1</td>\n",
       "      <td>d</td>\n",
       "    </tr>\n",
       "    <tr>\n",
       "      <th>4</th>\n",
       "      <td>B</td>\n",
       "      <td>0</td>\n",
       "      <td>5.6</td>\n",
       "      <td>11.5</td>\n",
       "      <td>X</td>\n",
       "      <td>0</td>\n",
       "      <td>e</td>\n",
       "    </tr>\n",
       "  </tbody>\n",
       "</table>\n",
       "</div>"
      ],
      "text/plain": [
       "  multiclass_feature  binary_feature  numerical_feature_1  \\\n",
       "0                  A               0                  1.2   \n",
       "1                  B               1                  2.3   \n",
       "2                  C               0                  3.1   \n",
       "3                  A               1                  4.8   \n",
       "4                  B               0                  5.6   \n",
       "\n",
       "   numerical_feature_2 output_multiclass  output_for_OAT new_column  \n",
       "0                  7.1                 X               0          a  \n",
       "1                  8.2                 Y               1          b  \n",
       "2                  9.3                 X               0          c  \n",
       "3                 10.4                 Y               1          d  \n",
       "4                 11.5                 X               0          e  "
      ]
     },
     "execution_count": 2,
     "metadata": {},
     "output_type": "execute_result"
    }
   ],
   "source": [
    "df"
   ]
  },
  {
   "cell_type": "code",
   "execution_count": 4,
   "metadata": {},
   "outputs": [
    {
     "data": {
      "text/plain": [
       "array([[0.78845736],\n",
       "       [1.19392247],\n",
       "       [1.41098697],\n",
       "       [1.75785792],\n",
       "       [1.88706965]])"
      ]
     },
     "execution_count": 4,
     "metadata": {},
     "output_type": "execute_result"
    }
   ],
   "source": [
    "from sklearn.preprocessing import FunctionTransformer\n",
    "import numpy as np\n",
    "\n",
    "# Initialize the FunctionTransformer for log transformation\n",
    "log_transformer = FunctionTransformer(np.log1p, validate=True)\n",
    "\n",
    "# Fit and transform the specified column in the dataframe\n",
    "log_transformer.fit_transform(df[['numerical_feature_1']])\n",
    "\n",
    "# When to use\n",
    "# --> When the data is positively skewed (i.e., has a long right tail). | When you want to reduce the impact of outliers. | Commonly used for count data or data that grows exponentially.\n",
    "# Cannot work if the data contains zeros and negative values.\n",
    "# Use np.log1p() instead of np.log() to avoid taking the log of zero"
   ]
  },
  {
   "cell_type": "code",
   "execution_count": 7,
   "metadata": {},
   "outputs": [
    {
     "data": {
      "text/plain": [
       "array([[1.09544512],\n",
       "       [1.51657509],\n",
       "       [1.76068169],\n",
       "       [2.19089023],\n",
       "       [2.36643191]])"
      ]
     },
     "execution_count": 7,
     "metadata": {},
     "output_type": "execute_result"
    }
   ],
   "source": [
    "from sklearn.pipeline import make_pipeline\n",
    "transformation_pipeline = make_pipeline(\n",
    "    FunctionTransformer(func = np.sqrt, validate = True) # np.sqare for square transformer\n",
    ")\n",
    "transformation_pipeline.fit_transform(df[['numerical_feature_1']])\n",
    "\n",
    "# When to use\n",
    "# --> When dealing with count data, especially when the counts are small | It can help stabilize variance when the data is moderately skewed.\n",
    "# Applied on left skewed data\n",
    "# Cannot work with negative data"
   ]
  },
  {
   "cell_type": "code",
   "execution_count": 8,
   "metadata": {},
   "outputs": [
    {
     "data": {
      "text/plain": [
       "array([[1.09544512],\n",
       "       [1.51657509],\n",
       "       [1.76068169],\n",
       "       [2.19089023],\n",
       "       [2.36643191]])"
      ]
     },
     "execution_count": 8,
     "metadata": {},
     "output_type": "execute_result"
    }
   ],
   "source": [
    "transformer_pipeline = make_pipeline(\n",
    "    FunctionTransformer(lambda x: 1 / x, validate = True)\n",
    ")\n",
    "transformation_pipeline.fit_transform(df[['numerical_feature_1']])\n",
    "# Smaller values are now larger, and vice versa so some times used"
   ]
  },
  {
   "cell_type": "code",
   "execution_count": 9,
   "metadata": {},
   "outputs": [
    {
     "data": {
      "text/plain": [
       "array([[-1.48671567],\n",
       "       [-0.60305384],\n",
       "       [-0.0740965 ],\n",
       "       [ 0.88274187],\n",
       "       [ 1.28112414]])"
      ]
     },
     "execution_count": 9,
     "metadata": {},
     "output_type": "execute_result"
    }
   ],
   "source": [
    "from sklearn.preprocessing import PowerTransformer\n",
    "\n",
    "# Initialize the PowerTransformer for Box-Cox transformation\n",
    "box_cox_transformer = PowerTransformer(method='box-cox', standardize=True)\n",
    "\n",
    "# Fit and transform the specified column in the dataframe\n",
    "box_cox_transformer.fit_transform(df[['numerical_feature_1']])\n",
    "\n",
    "# When to use\n",
    "# --> When the data is positively skewed and you want to stabilize variance and make the data more Gaussian-like.\n",
    "# Note: Box-Cox transformation requires input data to be positive.\n",
    "\n",
    "# Basically in this method the all the combinations from -5 to 5 are tried as power of column and the best one is selected which give most accurate normal distribution"
   ]
  },
  {
   "cell_type": "code",
   "execution_count": 10,
   "metadata": {},
   "outputs": [
    {
     "data": {
      "text/plain": [
       "array([[1.09544512],\n",
       "       [1.51657509],\n",
       "       [1.76068169],\n",
       "       [2.19089023],\n",
       "       [2.36643191]])"
      ]
     },
     "execution_count": 10,
     "metadata": {},
     "output_type": "execute_result"
    }
   ],
   "source": [
    "transformer_pipeline = make_pipeline(\n",
    "    PowerTransformer(method = 'yeo-johnson', standardize = True)\n",
    ")\n",
    "transformation_pipeline.fit_transform(df[['numerical_feature_1']])\n",
    "# This transformation specially made to sork with -ve and 0 data as well"
   ]
  },
  {
   "cell_type": "code",
   "execution_count": 23,
   "metadata": {},
   "outputs": [
    {
     "name": "stdout",
     "output_type": "stream",
     "text": [
      "[[ 0.67448975]\n",
      " [-5.19933758]\n",
      " [-0.67448975]\n",
      " [ 5.19933758]\n",
      " [ 0.        ]]\n"
     ]
    }
   ],
   "source": [
    "   from sklearn.preprocessing import QuantileTransformer\n",
    "   import numpy as np\n",
    "\n",
    "   # Sample data\n",
    "   data = np.array([[10], [2], [3], [40], [5]])\n",
    "\n",
    "   # Initialize the QuantileTransformer\n",
    "   transformer = QuantileTransformer(n_quantiles = 5, output_distribution='normal')\n",
    "\n",
    "   # Fit and transform the data\n",
    "   transformed_data = transformer.fit_transform(data)\n",
    "\n",
    "   print(transformed_data)"
   ]
  },
  {
   "cell_type": "markdown",
   "metadata": {},
   "source": [
    "---"
   ]
  },
  {
   "cell_type": "markdown",
   "metadata": {},
   "source": [
    "# Feature Encoding - Numerical to Categorical"
   ]
  },
  {
   "cell_type": "code",
   "execution_count": 39,
   "metadata": {},
   "outputs": [
    {
     "data": {
      "text/plain": [
       "array([[1., 0., 0., 0., 0.],\n",
       "       [0., 1., 0., 0., 0.],\n",
       "       [0., 0., 1., 0., 0.],\n",
       "       [0., 0., 0., 0., 1.],\n",
       "       [0., 0., 0., 0., 1.]])"
      ]
     },
     "execution_count": 39,
     "metadata": {},
     "output_type": "execute_result"
    }
   ],
   "source": [
    "from sklearn.preprocessing import KBinsDiscretizer\n",
    "\n",
    "# Initialize the KBinsDiscretizer\n",
    "kbin_transformer = KBinsDiscretizer(n_bins=5, encode='onehot-dense', strategy='uniform', subsample=None)\n",
    "\n",
    "# Fit and transform the data\n",
    "kbin_transformer.fit_transform(df[['numerical_feature_1']])"
   ]
  },
  {
   "cell_type": "code",
   "execution_count": 41,
   "metadata": {},
   "outputs": [
    {
     "data": {
      "text/plain": [
       "array([[0.],\n",
       "       [1.],\n",
       "       [2.],\n",
       "       [3.],\n",
       "       [4.]])"
      ]
     },
     "execution_count": 41,
     "metadata": {},
     "output_type": "execute_result"
    }
   ],
   "source": [
    "# Initialize the KBinsDiscretizer\n",
    "kbin_transformer = KBinsDiscretizer(n_bins=5, encode='ordinal', strategy='quantile', subsample=None)\n",
    "\n",
    "# Fit and transform the data\n",
    "kbin_transformer.fit_transform(df[['numerical_feature_1']])"
   ]
  },
  {
   "cell_type": "code",
   "execution_count": 43,
   "metadata": {},
   "outputs": [
    {
     "data": {
      "text/plain": [
       "array([[0.],\n",
       "       [1.],\n",
       "       [2.],\n",
       "       [3.],\n",
       "       [4.]])"
      ]
     },
     "execution_count": 43,
     "metadata": {},
     "output_type": "execute_result"
    }
   ],
   "source": [
    "# Initialize the KBinsDiscretizer\n",
    "kbin_transformer = KBinsDiscretizer(n_bins=5, encode='ordinal', strategy='kmeans', subsample=None)\n",
    "\n",
    "# Fit and transform the data\n",
    "kbin_transformer.fit_transform(df[['numerical_feature_1']])\n",
    "\n",
    "# K-Means binning is perticullarly used when the groups/bins are far away for each other"
   ]
  },
  {
   "cell_type": "code",
   "execution_count": 48,
   "metadata": {},
   "outputs": [
    {
     "data": {
      "text/plain": [
       "array([5, 6, 3, 7, 8], dtype=int64)"
      ]
     },
     "execution_count": 48,
     "metadata": {},
     "output_type": "execute_result"
    }
   ],
   "source": [
    "from sklearn.tree import DecisionTreeRegressor\n",
    "import numpy as np\n",
    "\n",
    "# Prepare the data for decision tree binning\n",
    "X = df[['numerical_feature_1']].values\n",
    "y = np.arange(len(X))  # Create a target variable for fitting\n",
    "\n",
    "# Initialize the DecisionTreeRegressor\n",
    "tree_regressor = DecisionTreeRegressor(max_leaf_nodes=5)\n",
    "\n",
    "# Fit the model\n",
    "tree_regressor.fit(X, y)\n",
    "\n",
    "# Predict the bin indices\n",
    "tree_regressor.apply(X)\n",
    "# The apply function in DecisionTreeRegressor returns the indices of the leaf nodes \n",
    "# that each sample is predicted to fall into. It essentially tells you which leaf \n",
    "# node of the tree each input sample ends up in after the decision tree has been \n",
    "# fitted. This is different from the predict function, which returns the predicted \n",
    "# target values for the input samples based on the fitted model. In summary, \n",
    "# apply gives you the structure of the tree (the leaf node indices), while predict \n",
    "# gives you the output values based on those leaf nodes.\n"
   ]
  },
  {
   "cell_type": "code",
   "execution_count": 54,
   "metadata": {},
   "outputs": [
    {
     "data": {
      "text/plain": [
       "0    1\n",
       "1    2\n",
       "2    2\n",
       "3    3\n",
       "4    3\n",
       "Name: numerical_feature_1, dtype: category\n",
       "Categories (5, int64): [1 < 2 < 3 < 4 < 5]"
      ]
     },
     "execution_count": 54,
     "metadata": {},
     "output_type": "execute_result"
    }
   ],
   "source": [
    "import pandas as pd\n",
    "\n",
    "# Define custom bin edges\n",
    "bin_edges = [0, 2, 4, 6, 8, 10]\n",
    "# Create custom bins using pd.cut\n",
    "pd.cut(df['numerical_feature_1'], bins=bin_edges, labels=[1,2,3,4,5], right=False)"
   ]
  },
  {
   "cell_type": "code",
   "execution_count": 57,
   "metadata": {},
   "outputs": [
    {
     "data": {
      "text/plain": [
       "array([[0.],\n",
       "       [0.],\n",
       "       [1.],\n",
       "       [1.],\n",
       "       [1.]])"
      ]
     },
     "execution_count": 57,
     "metadata": {},
     "output_type": "execute_result"
    }
   ],
   "source": [
    "from sklearn.preprocessing import Binarizer\n",
    "\n",
    "encoding = Binarizer(threshold = 3, copy = False) # 0 -> range(-np.inf, 3) | 1 -> (3.1 , np.inf)\n",
    "encoding.fit_transform(df[['numerical_feature_1']])"
   ]
  },
  {
   "cell_type": "code",
   "execution_count": null,
   "metadata": {},
   "outputs": [],
   "source": [
    "# ColumnTransformer is used to apply different preprocessing steps to different columns of a dataset. \n",
    "# It allows for the combination of multiple transformers, such as scaling, encoding, or imputation, \n",
    "# into a single object that can be used in a pipeline. This is particularly useful when dealing \n",
    "# with datasets that contain both numerical and categorical features, as it enables the application \n",
    "# of appropriate transformations to each type of feature simultaneously.\n",
    "\n",
    "from sklearn.compose import ColumnTransformer\n",
    "from sklearn.preprocessing import OneHotEncoder, StandardScaler\n",
    "\n",
    "# Example usage of ColumnTransformer\n",
    "preprocessor = ColumnTransformer(\n",
    "    transformers=[\n",
    "        ('num', StandardScaler(), ['numerical_feature_1', 'numerical_feature_2']),  # Scale numerical features\n",
    "        ('cat', OneHotEncoder(), ['multiclass_feature'])  # One-hot encode categorical features\n",
    "    ]\n",
    ")\n",
    "\n",
    "# Fit and transform the data\n",
    "X_transformed = preprocessor.fit_transform(df)\n"
   ]
  },
  {
   "cell_type": "markdown",
   "metadata": {},
   "source": [
    "---"
   ]
  },
  {
   "cell_type": "markdown",
   "metadata": {},
   "source": [
    "# Handling Missing Data"
   ]
  },
  {
   "cell_type": "code",
   "execution_count": 85,
   "metadata": {},
   "outputs": [
    {
     "data": {
      "text/html": [
       "<div>\n",
       "<style scoped>\n",
       "    .dataframe tbody tr th:only-of-type {\n",
       "        vertical-align: middle;\n",
       "    }\n",
       "\n",
       "    .dataframe tbody tr th {\n",
       "        vertical-align: top;\n",
       "    }\n",
       "\n",
       "    .dataframe thead th {\n",
       "        text-align: right;\n",
       "    }\n",
       "</style>\n",
       "<table border=\"1\" class=\"dataframe\">\n",
       "  <thead>\n",
       "    <tr style=\"text-align: right;\">\n",
       "      <th></th>\n",
       "      <th>multiclass_feature</th>\n",
       "      <th>binary_feature</th>\n",
       "      <th>numerical_feature_1</th>\n",
       "      <th>numerical_feature_2</th>\n",
       "      <th>output_multiclass</th>\n",
       "      <th>output_for_OAT</th>\n",
       "      <th>new_column</th>\n",
       "    </tr>\n",
       "  </thead>\n",
       "  <tbody>\n",
       "    <tr>\n",
       "      <th>0</th>\n",
       "      <td>A</td>\n",
       "      <td>0.0</td>\n",
       "      <td>3.0</td>\n",
       "      <td>7.1</td>\n",
       "      <td>X</td>\n",
       "      <td>0.0</td>\n",
       "      <td>a</td>\n",
       "    </tr>\n",
       "    <tr>\n",
       "      <th>1</th>\n",
       "      <td>B</td>\n",
       "      <td>NaN</td>\n",
       "      <td>2.3</td>\n",
       "      <td>8.2</td>\n",
       "      <td>Y</td>\n",
       "      <td>1.0</td>\n",
       "      <td>None</td>\n",
       "    </tr>\n",
       "    <tr>\n",
       "      <th>2</th>\n",
       "      <td>C</td>\n",
       "      <td>0.0</td>\n",
       "      <td>3.1</td>\n",
       "      <td>NaN</td>\n",
       "      <td>X</td>\n",
       "      <td>NaN</td>\n",
       "      <td>c</td>\n",
       "    </tr>\n",
       "    <tr>\n",
       "      <th>3</th>\n",
       "      <td>A</td>\n",
       "      <td>1.0</td>\n",
       "      <td>4.8</td>\n",
       "      <td>10.4</td>\n",
       "      <td>None</td>\n",
       "      <td>1.0</td>\n",
       "      <td>d</td>\n",
       "    </tr>\n",
       "    <tr>\n",
       "      <th>4</th>\n",
       "      <td>B</td>\n",
       "      <td>0.0</td>\n",
       "      <td>5.6</td>\n",
       "      <td>11.5</td>\n",
       "      <td>X</td>\n",
       "      <td>0.0</td>\n",
       "      <td>e</td>\n",
       "    </tr>\n",
       "  </tbody>\n",
       "</table>\n",
       "</div>"
      ],
      "text/plain": [
       "  multiclass_feature  binary_feature  numerical_feature_1  \\\n",
       "0                  A             0.0                  3.0   \n",
       "1                  B             NaN                  2.3   \n",
       "2                  C             0.0                  3.1   \n",
       "3                  A             1.0                  4.8   \n",
       "4                  B             0.0                  5.6   \n",
       "\n",
       "   numerical_feature_2 output_multiclass  output_for_OAT new_column  \n",
       "0                  7.1                 X             0.0          a  \n",
       "1                  8.2                 Y             1.0       None  \n",
       "2                  NaN                 X             NaN          c  \n",
       "3                 10.4              None             1.0          d  \n",
       "4                 11.5                 X             0.0          e  "
      ]
     },
     "execution_count": 85,
     "metadata": {},
     "output_type": "execute_result"
    }
   ],
   "source": [
    "data = {\n",
    "    'multiclass_feature': ['A', 'B', 'C', 'A', 'B'],\n",
    "    'binary_feature': [0, np.nan, 0, 1, 0],\n",
    "    'numerical_feature_1': [3, 2.3, 3.1, 4.8, 5.6],\n",
    "    'numerical_feature_2': [7.1, 8.2, np.nan, 10.4, 11.5],\n",
    "    'output_multiclass': ['X', 'Y', 'X', None, 'X'],\n",
    "    'output_for_OAT': [0, 1, None, 1, 0],\n",
    "    'new_column': ['a', None, 'c', 'd', 'e']\n",
    "}\n",
    "\n",
    "df = pd.DataFrame(data)\n",
    "df.head()"
   ]
  },
  {
   "cell_type": "code",
   "execution_count": 63,
   "metadata": {},
   "outputs": [
    {
     "data": {
      "text/plain": [
       "multiclass_feature     0\n",
       "binary_feature         1\n",
       "numerical_feature_1    0\n",
       "numerical_feature_2    1\n",
       "output_multiclass      1\n",
       "output_for_OAT         1\n",
       "new_column             1\n",
       "dtype: int64"
      ]
     },
     "execution_count": 63,
     "metadata": {},
     "output_type": "execute_result"
    }
   ],
   "source": [
    "df.isnull().sum()"
   ]
  },
  {
   "cell_type": "code",
   "execution_count": 68,
   "metadata": {},
   "outputs": [
    {
     "data": {
      "text/plain": [
       "array([[0.  ],\n",
       "       [0.25],\n",
       "       [0.  ],\n",
       "       [1.  ],\n",
       "       [0.  ]])"
      ]
     },
     "execution_count": 68,
     "metadata": {},
     "output_type": "execute_result"
    }
   ],
   "source": [
    "from sklearn.impute import SimpleImputer\n",
    "\n",
    "imputer = SimpleImputer(\n",
    "    missing_values = np.nan,\n",
    "    strategy = 'mean' # mean, median, most_frequent, constant\n",
    ")\n",
    "imputer.fit_transform(df[['binary_feature']])"
   ]
  },
  {
   "cell_type": "code",
   "execution_count": 70,
   "metadata": {},
   "outputs": [
    {
     "data": {
      "text/plain": [
       "array([[0.  ],\n",
       "       [0.25],\n",
       "       [0.  ],\n",
       "       [1.  ],\n",
       "       [0.  ]])"
      ]
     },
     "execution_count": 70,
     "metadata": {},
     "output_type": "execute_result"
    }
   ],
   "source": [
    "from sklearn.impute import KNNImputer\n",
    "\n",
    "imputer = KNNImputer(\n",
    "    n_neighbors = 2,\n",
    "    weights = 'uniform', # or `distance` - most nearest columns become most important\n",
    "    missing_values = np.nan,\n",
    "    # add_indicator = True\n",
    ")\n",
    "\n",
    "imputer.fit_transform(df[['binary_feature']])"
   ]
  },
  {
   "cell_type": "code",
   "execution_count": 74,
   "metadata": {},
   "outputs": [
    {
     "name": "stdout",
     "output_type": "stream",
     "text": [
      "[IterativeImputer] Completing matrix with shape (5, 3)\n",
      "[IterativeImputer] Change: 2.200000000000001, scaled tolerance: 0.0115 \n",
      "[IterativeImputer] Change: 0.0, scaled tolerance: 0.0115 \n",
      "[IterativeImputer] Early stopping criterion reached.\n"
     ]
    },
    {
     "data": {
      "text/plain": [
       "array([[ 7.1,  3. ,  0. ],\n",
       "       [ 8.2,  2.3,  0. ],\n",
       "       [ 7.1,  3.1,  0. ],\n",
       "       [10.4,  4.8,  1. ],\n",
       "       [11.5,  5.6,  0. ]])"
      ]
     },
     "execution_count": 74,
     "metadata": {},
     "output_type": "execute_result"
    }
   ],
   "source": [
    "from sklearn.experimental import enable_iterative_imputer  # noqa\n",
    "from sklearn.impute import IterativeImputer\n",
    "from sklearn.tree import DecisionTreeRegressor\n",
    "\n",
    "# Create an instance of the IterativeImputer\n",
    "mice_imputer = IterativeImputer(\n",
    "    estimator = DecisionTreeRegressor(max_depth=10),\n",
    "    missing_values = np.nan,\n",
    "    max_iter = 10,\n",
    "    tol = 0.001,\n",
    "    n_nearest_features = 5,\n",
    "    initial_strategy = \"mean\",\n",
    "    verbose = 1,\n",
    "    random_state = 42\n",
    ")\n",
    "\n",
    "# Fit the imputer on the DataFrame and transform it\n",
    "mice_imputer.fit_transform(df[['numerical_feature_2', 'numerical_feature_1', 'binary_feature']])"
   ]
  },
  {
   "cell_type": "markdown",
   "metadata": {},
   "source": [
    "---"
   ]
  },
  {
   "cell_type": "markdown",
   "metadata": {},
   "source": [
    "# Outliers Handling"
   ]
  },
  {
   "cell_type": "code",
   "execution_count": 76,
   "metadata": {},
   "outputs": [
    {
     "data": {
      "text/plain": [
       "0   -0.615955\n",
       "1   -1.183283\n",
       "2   -0.534909\n",
       "3    0.842886\n",
       "4    1.491260\n",
       "Name: numerical_feature_1, dtype: float64"
      ]
     },
     "execution_count": 76,
     "metadata": {},
     "output_type": "execute_result"
    }
   ],
   "source": [
    "from scipy.stats import zscore\n",
    "\n",
    "# Calculate the z-scores for the specified column\n",
    "zscore(df['numerical_feature_1'])"
   ]
  },
  {
   "cell_type": "code",
   "execution_count": 79,
   "metadata": {},
   "outputs": [
    {
     "data": {
      "text/plain": [
       "0   -0.615955\n",
       "1   -1.183283\n",
       "2   -0.534909\n",
       "3    0.842886\n",
       "4    1.491260\n",
       "Name: numerical_feature_1, dtype: float64"
      ]
     },
     "execution_count": 79,
     "metadata": {},
     "output_type": "execute_result"
    }
   ],
   "source": [
    "(df['numerical_feature_1'] - np.mean(df['numerical_feature_1'])) / np.std(df['numerical_feature_1'])"
   ]
  },
  {
   "cell_type": "code",
   "execution_count": 83,
   "metadata": {},
   "outputs": [
    {
     "data": {
      "text/html": [
       "<div>\n",
       "<style scoped>\n",
       "    .dataframe tbody tr th:only-of-type {\n",
       "        vertical-align: middle;\n",
       "    }\n",
       "\n",
       "    .dataframe tbody tr th {\n",
       "        vertical-align: top;\n",
       "    }\n",
       "\n",
       "    .dataframe thead th {\n",
       "        text-align: right;\n",
       "    }\n",
       "</style>\n",
       "<table border=\"1\" class=\"dataframe\">\n",
       "  <thead>\n",
       "    <tr style=\"text-align: right;\">\n",
       "      <th></th>\n",
       "      <th>multiclass_feature</th>\n",
       "      <th>binary_feature</th>\n",
       "      <th>numerical_feature_1</th>\n",
       "      <th>numerical_feature_2</th>\n",
       "      <th>output_multiclass</th>\n",
       "      <th>output_for_OAT</th>\n",
       "      <th>new_column</th>\n",
       "      <th>z_scores</th>\n",
       "    </tr>\n",
       "  </thead>\n",
       "  <tbody>\n",
       "    <tr>\n",
       "      <th>0</th>\n",
       "      <td>A</td>\n",
       "      <td>0.0</td>\n",
       "      <td>3.0</td>\n",
       "      <td>7.1</td>\n",
       "      <td>X</td>\n",
       "      <td>0.0</td>\n",
       "      <td>a</td>\n",
       "      <td>-0.615955</td>\n",
       "    </tr>\n",
       "    <tr>\n",
       "      <th>1</th>\n",
       "      <td>B</td>\n",
       "      <td>NaN</td>\n",
       "      <td>2.3</td>\n",
       "      <td>8.2</td>\n",
       "      <td>Y</td>\n",
       "      <td>1.0</td>\n",
       "      <td>None</td>\n",
       "      <td>-1.183283</td>\n",
       "    </tr>\n",
       "    <tr>\n",
       "      <th>2</th>\n",
       "      <td>C</td>\n",
       "      <td>0.0</td>\n",
       "      <td>3.1</td>\n",
       "      <td>NaN</td>\n",
       "      <td>X</td>\n",
       "      <td>NaN</td>\n",
       "      <td>c</td>\n",
       "      <td>-0.534909</td>\n",
       "    </tr>\n",
       "    <tr>\n",
       "      <th>3</th>\n",
       "      <td>A</td>\n",
       "      <td>1.0</td>\n",
       "      <td>4.8</td>\n",
       "      <td>10.4</td>\n",
       "      <td>None</td>\n",
       "      <td>1.0</td>\n",
       "      <td>d</td>\n",
       "      <td>0.842886</td>\n",
       "    </tr>\n",
       "    <tr>\n",
       "      <th>4</th>\n",
       "      <td>B</td>\n",
       "      <td>0.0</td>\n",
       "      <td>5.6</td>\n",
       "      <td>11.5</td>\n",
       "      <td>X</td>\n",
       "      <td>0.0</td>\n",
       "      <td>e</td>\n",
       "      <td>1.491260</td>\n",
       "    </tr>\n",
       "  </tbody>\n",
       "</table>\n",
       "</div>"
      ],
      "text/plain": [
       "  multiclass_feature  binary_feature  numerical_feature_1  \\\n",
       "0                  A             0.0                  3.0   \n",
       "1                  B             NaN                  2.3   \n",
       "2                  C             0.0                  3.1   \n",
       "3                  A             1.0                  4.8   \n",
       "4                  B             0.0                  5.6   \n",
       "\n",
       "   numerical_feature_2 output_multiclass  output_for_OAT new_column  z_scores  \n",
       "0                  7.1                 X             0.0          a -0.615955  \n",
       "1                  8.2                 Y             1.0       None -1.183283  \n",
       "2                  NaN                 X             NaN          c -0.534909  \n",
       "3                 10.4              None             1.0          d  0.842886  \n",
       "4                 11.5                 X             0.0          e  1.491260  "
      ]
     },
     "execution_count": 83,
     "metadata": {},
     "output_type": "execute_result"
    }
   ],
   "source": [
    "right_outlier = np.mean(df['numerical_feature_1']) + (3 * np.std(df['numerical_feature_1']))\n",
    "left_outlier = np.mean(df['numerical_feature_1']) - (3 * np.std(df['numerical_feature_1']))\n",
    "\n",
    "df[(df['numerical_feature_1'] < right_outlier) & (df['numerical_feature_1'] > left_outlier)]"
   ]
  },
  {
   "cell_type": "code",
   "execution_count": 87,
   "metadata": {},
   "outputs": [
    {
     "data": {
      "image/png": "[encoded data removed]",
      "text/plain": [
       "<Figure size 640x480 with 1 Axes>"
      ]
     },
     "metadata": {},
     "output_type": "display_data"
    }
   ],
   "source": [
    "import matplotlib.pyplot as plt\n",
    "\n",
    "plt.boxplot(df['numerical_feature_1'])\n",
    "plt.show()"
   ]
  },
  {
   "cell_type": "code",
   "execution_count": 94,
   "metadata": {},
   "outputs": [
    {
     "data": {
      "text/html": [
       "<div>\n",
       "<style scoped>\n",
       "    .dataframe tbody tr th:only-of-type {\n",
       "        vertical-align: middle;\n",
       "    }\n",
       "\n",
       "    .dataframe tbody tr th {\n",
       "        vertical-align: top;\n",
       "    }\n",
       "\n",
       "    .dataframe thead th {\n",
       "        text-align: right;\n",
       "    }\n",
       "</style>\n",
       "<table border=\"1\" class=\"dataframe\">\n",
       "  <thead>\n",
       "    <tr style=\"text-align: right;\">\n",
       "      <th></th>\n",
       "      <th>multiclass_feature</th>\n",
       "      <th>binary_feature</th>\n",
       "      <th>numerical_feature_1</th>\n",
       "      <th>numerical_feature_2</th>\n",
       "      <th>output_multiclass</th>\n",
       "      <th>output_for_OAT</th>\n",
       "      <th>new_column</th>\n",
       "    </tr>\n",
       "  </thead>\n",
       "  <tbody>\n",
       "    <tr>\n",
       "      <th>0</th>\n",
       "      <td>A</td>\n",
       "      <td>0.0</td>\n",
       "      <td>3.0</td>\n",
       "      <td>7.1</td>\n",
       "      <td>X</td>\n",
       "      <td>0.0</td>\n",
       "      <td>a</td>\n",
       "    </tr>\n",
       "    <tr>\n",
       "      <th>1</th>\n",
       "      <td>B</td>\n",
       "      <td>NaN</td>\n",
       "      <td>2.3</td>\n",
       "      <td>8.2</td>\n",
       "      <td>Y</td>\n",
       "      <td>1.0</td>\n",
       "      <td>None</td>\n",
       "    </tr>\n",
       "    <tr>\n",
       "      <th>2</th>\n",
       "      <td>C</td>\n",
       "      <td>0.0</td>\n",
       "      <td>3.1</td>\n",
       "      <td>NaN</td>\n",
       "      <td>X</td>\n",
       "      <td>NaN</td>\n",
       "      <td>c</td>\n",
       "    </tr>\n",
       "    <tr>\n",
       "      <th>3</th>\n",
       "      <td>A</td>\n",
       "      <td>1.0</td>\n",
       "      <td>4.8</td>\n",
       "      <td>10.4</td>\n",
       "      <td>None</td>\n",
       "      <td>1.0</td>\n",
       "      <td>d</td>\n",
       "    </tr>\n",
       "    <tr>\n",
       "      <th>4</th>\n",
       "      <td>B</td>\n",
       "      <td>0.0</td>\n",
       "      <td>5.6</td>\n",
       "      <td>11.5</td>\n",
       "      <td>X</td>\n",
       "      <td>0.0</td>\n",
       "      <td>e</td>\n",
       "    </tr>\n",
       "  </tbody>\n",
       "</table>\n",
       "</div>"
      ],
      "text/plain": [
       "  multiclass_feature  binary_feature  numerical_feature_1  \\\n",
       "0                  A             0.0                  3.0   \n",
       "1                  B             NaN                  2.3   \n",
       "2                  C             0.0                  3.1   \n",
       "3                  A             1.0                  4.8   \n",
       "4                  B             0.0                  5.6   \n",
       "\n",
       "   numerical_feature_2 output_multiclass  output_for_OAT new_column  \n",
       "0                  7.1                 X             0.0          a  \n",
       "1                  8.2                 Y             1.0       None  \n",
       "2                  NaN                 X             NaN          c  \n",
       "3                 10.4              None             1.0          d  \n",
       "4                 11.5                 X             0.0          e  "
      ]
     },
     "execution_count": 94,
     "metadata": {},
     "output_type": "execute_result"
    }
   ],
   "source": [
    "Q1 = df['numerical_feature_1'].quantile(0.25)\n",
    "Q3 = df['numerical_feature_1'].quantile(0.75)\n",
    "IQR = Q3 - Q1\n",
    "\n",
    "df[(df['numerical_feature_1'] > Q1 - (1.5*IQR)) & (df['numerical_feature_1'] < Q3 + (1.5*IQR))]"
   ]
  },
  {
   "cell_type": "code",
   "execution_count": 95,
   "metadata": {},
   "outputs": [
    {
     "data": {
      "text/plain": [
       "array([11, 14, 17])"
      ]
     },
     "execution_count": 95,
     "metadata": {},
     "output_type": "execute_result"
    }
   ],
   "source": [
    "arr = np.random.randint(0, 100, size=5)\n",
    "arr[(arr > np.percentile(arr, 1)) & (arr < np.percentile(arr, 99))]"
   ]
  }
 ],
 "metadata": {
  "kernelspec": {
   "display_name": "Python 3",
   "language": "python",
   "name": "python3"
  },
  "language_info": {
   "codemirror_mode": {
    "name": "ipython",
    "version": 3
   },
   "file_extension": ".py",
   "mimetype": "text/x-python",
   "name": "python",
   "nbconvert_exporter": "python",
   "pygments_lexer": "ipython3",
   "version": "3.12.2"
  }
 },
 "nbformat": 4,
 "nbformat_minor": 2
}
